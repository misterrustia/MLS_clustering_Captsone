{
 "cells": [
  {
   "cell_type": "markdown",
   "metadata": {
    "id": "FuhR8B-rC5HE"
   },
   "source": [
    "## Objective - Use pandas to collect and clean clean salary data to be saved in csv for later merging to other features.\n"
   ]
  },
  {
   "cell_type": "code",
   "execution_count": 9,
   "metadata": {
    "id": "Jnbp6CV7_uCO"
   },
   "outputs": [],
   "source": [
    "import pandas as pd \n",
    "\n",
    "\n",
    "\n",
    "df = pd.read_html('https://mlsplayers.org/resources/salary-guide')\n"
   ]
  },
  {
   "cell_type": "code",
   "execution_count": 10,
   "metadata": {
    "colab": {
     "base_uri": "https://localhost:8080/",
     "height": 206
    },
    "id": "d5octMWOF2_U",
    "outputId": "d2682a9d-7770-4670-9605-d25b7fb5dc99"
   },
   "outputs": [
    {
     "data": {
      "text/html": [
       "<div>\n",
       "<style scoped>\n",
       "    .dataframe tbody tr th:only-of-type {\n",
       "        vertical-align: middle;\n",
       "    }\n",
       "\n",
       "    .dataframe tbody tr th {\n",
       "        vertical-align: top;\n",
       "    }\n",
       "\n",
       "    .dataframe thead th {\n",
       "        text-align: right;\n",
       "    }\n",
       "</style>\n",
       "<table border=\"1\" class=\"dataframe\">\n",
       "  <thead>\n",
       "    <tr style=\"text-align: right;\">\n",
       "      <th></th>\n",
       "      <th>First Name</th>\n",
       "      <th>Last Name</th>\n",
       "      <th>Club</th>\n",
       "      <th>Position(s)</th>\n",
       "      <th>Base Salary</th>\n",
       "      <th>Guaranteed Compensation</th>\n",
       "    </tr>\n",
       "  </thead>\n",
       "  <tbody>\n",
       "    <tr>\n",
       "      <th>0</th>\n",
       "      <td>Ilsinho</td>\n",
       "      <td>NaN</td>\n",
       "      <td>Philadelphia Union</td>\n",
       "      <td>M</td>\n",
       "      <td>$450,000.00</td>\n",
       "      <td>$501,250.00</td>\n",
       "    </tr>\n",
       "    <tr>\n",
       "      <th>1</th>\n",
       "      <td>Judson</td>\n",
       "      <td>NaN</td>\n",
       "      <td>San Jose Earthquakes</td>\n",
       "      <td>M</td>\n",
       "      <td>$360,000.00</td>\n",
       "      <td>$365,000.00</td>\n",
       "    </tr>\n",
       "    <tr>\n",
       "      <th>2</th>\n",
       "      <td>Auro</td>\n",
       "      <td>NaN</td>\n",
       "      <td>Toronto FC</td>\n",
       "      <td>D</td>\n",
       "      <td>$360,000.00</td>\n",
       "      <td>$388,750.00</td>\n",
       "    </tr>\n",
       "    <tr>\n",
       "      <th>3</th>\n",
       "      <td>Paxten</td>\n",
       "      <td>Aaronson</td>\n",
       "      <td>Philadelphia Union</td>\n",
       "      <td>M</td>\n",
       "      <td>$87,500.00</td>\n",
       "      <td>$91,500.00</td>\n",
       "    </tr>\n",
       "    <tr>\n",
       "      <th>4</th>\n",
       "      <td>Saad</td>\n",
       "      <td>Abdul-Salaam</td>\n",
       "      <td>Columbus Crew</td>\n",
       "      <td>D</td>\n",
       "      <td>$125,000.00</td>\n",
       "      <td>$133,667.00</td>\n",
       "    </tr>\n",
       "  </tbody>\n",
       "</table>\n",
       "</div>"
      ],
      "text/plain": [
       "  First Name     Last Name                  Club Position(s)  Base Salary  \\\n",
       "0    Ilsinho           NaN    Philadelphia Union           M  $450,000.00   \n",
       "1     Judson           NaN  San Jose Earthquakes           M  $360,000.00   \n",
       "2       Auro           NaN            Toronto FC           D  $360,000.00   \n",
       "3     Paxten      Aaronson    Philadelphia Union           M   $87,500.00   \n",
       "4       Saad  Abdul-Salaam         Columbus Crew           D  $125,000.00   \n",
       "\n",
       "  Guaranteed Compensation  \n",
       "0             $501,250.00  \n",
       "1             $365,000.00  \n",
       "2             $388,750.00  \n",
       "3              $91,500.00  \n",
       "4             $133,667.00  "
      ]
     },
     "execution_count": 10,
     "metadata": {},
     "output_type": "execute_result"
    }
   ],
   "source": [
    "salary = df[0]\n",
    "salary.head()"
   ]
  },
  {
   "cell_type": "code",
   "execution_count": 11,
   "metadata": {
    "colab": {
     "base_uri": "https://localhost:8080/"
    },
    "id": "zSlTou7_GAvT",
    "outputId": "be8152e5-4120-46b5-cd7d-98cd30f027e2"
   },
   "outputs": [
    {
     "name": "stdout",
     "output_type": "stream",
     "text": [
      "<class 'pandas.core.frame.DataFrame'>\n",
      "RangeIndex: 871 entries, 0 to 870\n",
      "Data columns (total 6 columns):\n",
      " #   Column                   Non-Null Count  Dtype \n",
      "---  ------                   --------------  ----- \n",
      " 0   First Name               871 non-null    object\n",
      " 1   Last Name                868 non-null    object\n",
      " 2   Club                     871 non-null    object\n",
      " 3   Position(s)              863 non-null    object\n",
      " 4   Base Salary              871 non-null    object\n",
      " 5   Guaranteed Compensation  871 non-null    object\n",
      "dtypes: object(6)\n",
      "memory usage: 41.0+ KB\n"
     ]
    }
   ],
   "source": [
    "salary.info()"
   ]
  },
  {
   "cell_type": "code",
   "execution_count": 12,
   "metadata": {
    "colab": {
     "base_uri": "https://localhost:8080/"
    },
    "id": "INYr4yaPJ4ev",
    "outputId": "704a1843-4312-487f-8996-9a2d693f0c33"
   },
   "outputs": [
    {
     "data": {
      "text/plain": [
       "False    868\n",
       "True       3\n",
       "Name: Last Name, dtype: int64"
      ]
     },
     "execution_count": 12,
     "metadata": {},
     "output_type": "execute_result"
    }
   ],
   "source": [
    "salary['Last Name'].isna().value_counts()"
   ]
  },
  {
   "cell_type": "code",
   "execution_count": 13,
   "metadata": {
    "colab": {
     "base_uri": "https://localhost:8080/",
     "height": 131
    },
    "id": "07qkyw_IKJbj",
    "outputId": "c9f4a015-f63e-4619-9009-f2d340ac3589"
   },
   "outputs": [],
   "source": [
    "salary['Last Name']= salary['Last Name'].fillna('')"
   ]
  },
  {
   "cell_type": "code",
   "execution_count": 14,
   "metadata": {
    "colab": {
     "base_uri": "https://localhost:8080/"
    },
    "id": "ZKGmffUcGKqn",
    "outputId": "fb93327f-1485-4bd4-b8fb-0b683472fee5"
   },
   "outputs": [
    {
     "data": {
      "text/plain": [
       "0           Ilsinho \n",
       "1            Judson \n",
       "2              Auro \n",
       "3    Paxten Aaronson\n",
       "Name: name, dtype: object"
      ]
     },
     "execution_count": 14,
     "metadata": {},
     "output_type": "execute_result"
    }
   ],
   "source": [
    "salary['name'] = salary['First Name']+ ' '+salary['Last Name']\n",
    "salary['name'][:4]"
   ]
  },
  {
   "cell_type": "code",
   "execution_count": 16,
   "metadata": {
    "colab": {
     "base_uri": "https://localhost:8080/"
    },
    "id": "G6MtGpcrGi3A",
    "outputId": "a3e18e95-26a8-4bfd-c84d-4217b4718f41"
   },
   "outputs": [
    {
     "name": "stdout",
     "output_type": "stream",
     "text": [
      "<class 'pandas.core.frame.DataFrame'>\n",
      "RangeIndex: 871 entries, 0 to 870\n",
      "Data columns (total 7 columns):\n",
      " #   Column                   Non-Null Count  Dtype \n",
      "---  ------                   --------------  ----- \n",
      " 0   First Name               871 non-null    object\n",
      " 1   Last Name                871 non-null    object\n",
      " 2   Club                     871 non-null    object\n",
      " 3   Position(s)              863 non-null    object\n",
      " 4   Base Salary              871 non-null    object\n",
      " 5   Guaranteed Compensation  871 non-null    object\n",
      " 6   name                     871 non-null    object\n",
      "dtypes: object(7)\n",
      "memory usage: 47.8+ KB\n"
     ]
    }
   ],
   "source": [
    "\n",
    "salary.info()"
   ]
  },
  {
   "cell_type": "code",
   "execution_count": 19,
   "metadata": {
    "colab": {
     "base_uri": "https://localhost:8080/"
    },
    "id": "_suw1jK-H8f_",
    "outputId": "4859b22c-905e-4338-dd0f-9ebc7ea63f0c"
   },
   "outputs": [],
   "source": [
    "\n",
    "salary.to_csv('../data/player_salary.csv')\n"
   ]
  },
  {
   "cell_type": "code",
   "execution_count": null,
   "metadata": {
    "id": "mvBDlT96ICHL"
   },
   "outputs": [],
   "source": []
  }
 ],
 "metadata": {
  "colab": {
   "collapsed_sections": [],
   "name": "clean_player_salary_data.ipynb",
   "provenance": []
  },
  "kernelspec": {
   "display_name": "Python 3 (ipykernel)",
   "language": "python",
   "name": "python3"
  },
  "language_info": {
   "codemirror_mode": {
    "name": "ipython",
    "version": 3
   },
   "file_extension": ".py",
   "mimetype": "text/x-python",
   "name": "python",
   "nbconvert_exporter": "python",
   "pygments_lexer": "ipython3",
   "version": "3.7.11"
  }
 },
 "nbformat": 4,
 "nbformat_minor": 4
}
