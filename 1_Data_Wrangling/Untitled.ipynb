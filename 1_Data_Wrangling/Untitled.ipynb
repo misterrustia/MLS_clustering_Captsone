{
 "cells": [
  {
   "cell_type": "code",
   "execution_count": 2,
   "id": "8441f901-8801-4831-95e9-2e83b049aee0",
   "metadata": {},
   "outputs": [],
   "source": [
    "import pandas as pd\n",
    "\n",
    "\n",
    "import matplotlib.pyplot as plt\n",
    "from sklearn.decomposition import NMF \n",
    "from sklearn.preprocessing import Normalizer ,MaxAbsScaler\n",
    "from sklearn.pipeline import make_pipeline"
   ]
  },
  {
   "cell_type": "code",
   "execution_count": 3,
   "id": "3ae08d6d-2129-4776-9778-fda8eaa456e0",
   "metadata": {},
   "outputs": [],
   "source": [
    "df = pd.read_csv('../data/final_per_90_and_pAdj.csv')"
   ]
  },
  {
   "cell_type": "code",
   "execution_count": 4,
   "id": "3450359e-d3b2-448b-a061-e6fa0165fbaf",
   "metadata": {},
   "outputs": [],
   "source": [
    "# ## dont need club for NMF \n",
    "\n",
    "df.drop(columns=['Unnamed: 0_y', 'First Name', 'Last Name', 'name', '_merge','Club','Guaranteed Compensation'],inplace=True)"
   ]
  },
  {
   "cell_type": "code",
   "execution_count": 6,
   "id": "628f43bc-b282-41b1-b8c1-af8c9cba228f",
   "metadata": {},
   "outputs": [
    {
     "name": "stdout",
     "output_type": "stream",
     "text": [
      "0.009939746728555306\n",
      "0.027277585423982696\n",
      "30.38505942275043\n",
      "0.013745106122472362\n",
      "2.395677172663176\n",
      "381115.9694656489\n"
     ]
    },
    {
     "data": {
      "text/html": [
       "<div>\n",
       "<style scoped>\n",
       "    .dataframe tbody tr th:only-of-type {\n",
       "        vertical-align: middle;\n",
       "    }\n",
       "\n",
       "    .dataframe tbody tr th {\n",
       "        vertical-align: top;\n",
       "    }\n",
       "\n",
       "    .dataframe thead th {\n",
       "        text-align: right;\n",
       "    }\n",
       "</style>\n",
       "<table border=\"1\" class=\"dataframe\">\n",
       "  <thead>\n",
       "    <tr style=\"text-align: right;\">\n",
       "      <th></th>\n",
       "      <th>count</th>\n",
       "      <th>%</th>\n",
       "    </tr>\n",
       "  </thead>\n",
       "  <tbody>\n",
       "    <tr>\n",
       "      <th>fb_id</th>\n",
       "      <td>0.0</td>\n",
       "      <td>0.0</td>\n",
       "    </tr>\n",
       "    <tr>\n",
       "      <th>carries_att_3rd</th>\n",
       "      <td>0.0</td>\n",
       "      <td>0.0</td>\n",
       "    </tr>\n",
       "    <tr>\n",
       "      <th>G/Sh</th>\n",
       "      <td>0.0</td>\n",
       "      <td>0.0</td>\n",
       "    </tr>\n",
       "    <tr>\n",
       "      <th>SoT/90</th>\n",
       "      <td>0.0</td>\n",
       "      <td>0.0</td>\n",
       "    </tr>\n",
       "    <tr>\n",
       "      <th>Sh/90</th>\n",
       "      <td>0.0</td>\n",
       "      <td>0.0</td>\n",
       "    </tr>\n",
       "  </tbody>\n",
       "</table>\n",
       "</div>"
      ],
      "text/plain": [
       "                 count    %\n",
       "fb_id              0.0  0.0\n",
       "carries_att_3rd    0.0  0.0\n",
       "G/Sh               0.0  0.0\n",
       "SoT/90             0.0  0.0\n",
       "Sh/90              0.0  0.0"
      ]
     },
     "execution_count": 6,
     "metadata": {},
     "output_type": "execute_result"
    }
   ],
   "source": [
    "cols = ['G/Sh','G/SoT','SoT%','npxG/Sh','Dist','Base Salary']\n",
    "for col in cols:\n",
    "    print(df[col].mean())\n",
    "    df[col] = df[col].fillna(df[col].mean())\n",
    "\n",
    "missing = [df.isnull().sum(),100*df.isnull().mean()]\n",
    "m = pd.DataFrame(missing)\n",
    "m = m.T\n",
    "m.columns=['count', '%']\n",
    "m = m.sort_values(by='count',ascending=False)\n",
    "m.head()"
   ]
  },
  {
   "cell_type": "code",
   "execution_count": 7,
   "id": "523645c4-7ee3-473a-a020-5b7a80a5ce67",
   "metadata": {},
   "outputs": [
    {
     "data": {
      "text/plain": [
       "(705, 74)"
      ]
     },
     "execution_count": 7,
     "metadata": {},
     "output_type": "execute_result"
    }
   ],
   "source": [
    "mini_df = df[['player_name','Position', 'Nineties', 'xA', 'Key_pass',\n",
    "       'Comp_prog', 'Total_Cmp', 'Total_Att', 'Total_Cmp_pct',\n",
    "       'Total_Tot_Dist', 'Total_Prg_Dist',\n",
    "              'Short_Cmp', 'Short_Att',\n",
    "       'Short_Cmp_pct', 'Medium_Cmp', 'Medium_Att', 'Medium_Cmp_pct',\n",
    "       'Long_Cmp', 'Long_Att', 'Long_Cmp_pct', 'touches', 'touches_def_box',\n",
    "       'touches_def_3rd', 'touches_mid_3rd', 'touches_att_3rd',\n",
    "       'touches_att_box', 'touch_live', 'dribble_Succ', 'dribble_Att',\n",
    "       'dribble_Succ_pct',\n",
    "              'num_dribble_past', 'dribble_megs', 'carries',\n",
    "       'carries_dist', 'carries_prog_dist', 'carries_prog', 'carries_att_3rd',\n",
    "       'carries_att_box', 'miss_control', 'dispossed', 'recep_targ',\n",
    "       'recep_succ', 'recept_pct', 'Fouls_drawn', 'Offsides', 'Crosses',\n",
    "       'PK_won', 'Aerial_win_pct', \n",
    "              'Gls', 'Sh', 'SoT', 'SoT%', 'Sh/90',\n",
    "       'SoT/90', 'G/Sh', 'G/SoT', 'Dist', 'FK',\n",
    "              'PK', 'PKatt', 'xG', 'npxG',\n",
    "       'npxG/Sh', \n",
    "              \n",
    "              # cant use negatives\n",
    "              # 'G-xG',\n",
    "              # 'np:G-xG',\n",
    "              \n",
    "             \n",
    "             ]]\n",
    "\n",
    "mini_df.shape"
   ]
  },
  {
   "cell_type": "code",
   "execution_count": null,
   "id": "f33c8cbf-e259-4dec-8d58-bafbdaacb8c0",
   "metadata": {},
   "outputs": [],
   "source": []
  },
  {
   "cell_type": "code",
   "execution_count": null,
   "id": "9f8a5cb1-f87a-47db-8886-14fe1ed0bf6a",
   "metadata": {},
   "outputs": [],
   "source": []
  },
  {
   "cell_type": "code",
   "execution_count": 76,
   "id": "2e5a08f3-7709-4c6f-b262-c80d685b0be4",
   "metadata": {},
   "outputs": [],
   "source": [
    "test = df[[\n",
    "    \n",
    "    # 'Nineties', 'xA', 'Key_pass',\n",
    "    #    'Comp_prog', 'Total_Cmp', 'Total_Att', 'Total_Cmp_pct',\n",
    "    #    'Total_Tot_Dist', 'Total_Prg_Dist',\n",
    "    #           'Short_Cmp', 'Short_Att',\n",
    "    #    'Short_Cmp_pct', 'Medium_Cmp', 'Medium_Att', 'Medium_Cmp_pct',\n",
    "    #    'Long_Cmp', 'Long_Att', 'Long_Cmp_pct', 'touches', 'touches_def_box',\n",
    "    #    'touches_def_3rd', 'touches_mid_3rd', 'touches_att_3rd',\n",
    "    #    'touches_att_box', 'touch_live', 'dribble_Succ', 'dribble_Att',\n",
    "    #    'dribble_Succ_pct',\n",
    "    #           'num_dribble_past', 'dribble_megs', 'carries',\n",
    "    #    'carries_dist', 'carries_prog_dist', 'carries_prog', 'carries_att_3rd',\n",
    "    #    'carries_att_box', 'miss_control', 'dispossed', 'recep_targ',\n",
    "    #    'recep_succ', 'recept_pct', 'Fouls_drawn', 'Offsides', 'Crosses',\n",
    "    #    'PK_won', 'Aerial_win_pct', \n",
    "        \n",
    "           'PK_won', 'Aerial_win_pct', \n",
    "              'Gls',  'SoT', 'SoT%', 'Sh/90',\n",
    "       'SoT/90', 'G/Sh', 'G/SoT', 'Dist', 'FK',\n",
    "              'PK', 'PKatt', 'xG', 'npxG',\n",
    "       'npxG/Sh']]"
   ]
  },
  {
   "cell_type": "code",
   "execution_count": 49,
   "id": "dc875133-f267-4f81-b863-d4d00142850e",
   "metadata": {},
   "outputs": [
    {
     "data": {
      "text/plain": [
       "array([[ 0.5, -1. ,  1. ],\n",
       "       [ 1. ,  0. ,  0. ],\n",
       "       [ 0. ,  1. , -0.5]])"
      ]
     },
     "execution_count": 49,
     "metadata": {},
     "output_type": "execute_result"
    }
   ],
   "source": [
    ">>> from sklearn.preprocessing import MaxAbsScaler\n",
    ">>> X = [[ 1., -1.,  2.],\n",
    "...      [ 2.,  0.,  0.],\n",
    "...      [ 0.,  1., -1.]]\n",
    ">>> transformer = MaxAbsScaler().fit(X)\n",
    ">>> transformer\n",
    "MaxAbsScaler()\n",
    ">>> transformer.transform(X)\n",
    "# array([[ 0.5, -1. ,  1. ],\n",
    "#        [ 1. ,  0. ,  0. ],\n",
    "#        [ 0. ,  1. , -0.5]])"
   ]
  },
  {
   "cell_type": "code",
   "execution_count": null,
   "id": "11bfc33b-bb22-45eb-8529-18ee7cb38bdc",
   "metadata": {},
   "outputs": [],
   "source": [
    ">>> from sklearn.preprocessing import Normalizer\n",
    ">>> X = [[4, 1, 2, 2],\n",
    "...      [1, 3, 9, 3],\n",
    "...      [5, 7, 5, 1]]\n",
    ">>> transformer = Normalizer().fit(X)  # fit does nothing.\n",
    ">>> transformer\n",
    "Normalizer()\n",
    ">>> transformer.transform(X)\n",
    "array([[0.8, 0.2, 0.4, 0.4],\n",
    "       [0.1, 0.3, 0.9, 0.3],\n",
    "       [0.5, 0.7, 0.5, 0.1]])"
   ]
  },
  {
   "cell_type": "code",
   "execution_count": 153,
   "id": "e462e20d-859b-4852-a14b-23eaeca1e540",
   "metadata": {},
   "outputs": [
    {
     "name": "stdout",
     "output_type": "stream",
     "text": [
      "6.288812097362449\n"
     ]
    }
   ],
   "source": [
    "\n",
    "X = mini_df  # reading the score data\n",
    "c = 6\n",
    "X_float = X.select_dtypes(float)\n",
    "# Create a MaxAbsScaler: scaler\n",
    "transformer = MaxAbsScaler().fit(test)\n",
    "\n",
    "\n",
    "scaled_X= transformer.transform(test)\n",
    "transformer = Normalizer().fit(scaled_X)\n",
    "normed_X= transformer.transform(scaled_X)\n",
    "# Create an NMF model: nmf\n",
    " \n",
    "    \n",
    "nmf = NMF(n_components=4 ,max_iter=1000,init='nndsvda', random_state=0)\n",
    "\n",
    "\n",
    "W = nmf.fit_transform(normed_X)\n",
    "H = nmf.components_\n",
    "err = model.reconstruction_err_\n",
    "print(err)"
   ]
  },
  {
   "cell_type": "code",
   "execution_count": 154,
   "id": "2c2690aa-57d5-42b0-9a82-fb5c23f7f5bb",
   "metadata": {},
   "outputs": [
    {
     "data": {
      "text/plain": [
       "(4, 16)"
      ]
     },
     "execution_count": 154,
     "metadata": {},
     "output_type": "execute_result"
    }
   ],
   "source": [
    "H.shape"
   ]
  },
  {
   "cell_type": "code",
   "execution_count": 155,
   "id": "a2699d99-9493-45e8-9b80-ea86a9522c83",
   "metadata": {},
   "outputs": [
    {
     "data": {
      "text/plain": [
       "(705, 4)"
      ]
     },
     "execution_count": 155,
     "metadata": {},
     "output_type": "execute_result"
    }
   ],
   "source": [
    "W.shape"
   ]
  },
  {
   "cell_type": "code",
   "execution_count": 156,
   "id": "6336b846-9b28-468b-8f65-3a568e74c9c8",
   "metadata": {},
   "outputs": [
    {
     "data": {
      "text/plain": [
       "6.288812097362449"
      ]
     },
     "execution_count": 156,
     "metadata": {},
     "output_type": "execute_result"
    }
   ],
   "source": [
    "err"
   ]
  },
  {
   "cell_type": "code",
   "execution_count": 157,
   "id": "83371858-02d4-4613-b72d-3ee6a58eb06c",
   "metadata": {},
   "outputs": [
    {
     "name": "stdout",
     "output_type": "stream",
     "text": [
      "(4, 16)\n",
      "Dist       2.228989\n",
      "Sh/90      0.708892\n",
      "npxG/Sh    0.613582\n",
      "npxG       0.353268\n",
      "xG         0.334608\n",
      "Name: 3, dtype: float64\n"
     ]
    }
   ],
   "source": [
    "# Create a DataFrame: components_df\n",
    "components_df = pd.DataFrame(nmf.components_,columns=test.columns)\n",
    "\n",
    "# Print the shape of the DataFrame\n",
    "print(components_df.shape)\n",
    "\n",
    "# Select row 3: component\n",
    "component = components_df.iloc[3]\n",
    "\n",
    "# Print result of nlargest\n",
    "print(component.nlargest())"
   ]
  },
  {
   "cell_type": "code",
   "execution_count": 161,
   "id": "bcb6625a-5148-418e-b4e0-5bc4500c17bc",
   "metadata": {},
   "outputs": [
    {
     "name": "stdout",
     "output_type": "stream",
     "text": [
      "Aerial_win_pct    6.081475\n",
      "Dist              0.221036\n",
      "G/SoT             0.157426\n",
      "npxG              0.016341\n",
      "FK                0.013705\n",
      "Name: 0, dtype: float64\n",
      "Gls       2.032533\n",
      "xG        1.754855\n",
      "npxG      1.650883\n",
      "SoT       1.261480\n",
      "PK_won    0.601026\n",
      "Name: 1, dtype: float64\n",
      "SoT%       3.794964\n",
      "SoT        0.264608\n",
      "G/Sh       0.131340\n",
      "npxG/Sh    0.124355\n",
      "Dist       0.117369\n",
      "Name: 2, dtype: float64\n",
      "Dist       2.228989\n",
      "Sh/90      0.708892\n",
      "npxG/Sh    0.613582\n",
      "npxG       0.353268\n",
      "xG         0.334608\n",
      "Name: 3, dtype: float64\n"
     ]
    }
   ],
   "source": [
    "for i in range(len(components_df)):\n",
    "    component = components_df.iloc[i]\n",
    "    print(component.nlargest())"
   ]
  },
  {
   "cell_type": "code",
   "execution_count": 135,
   "id": "86ab7659-7e9f-4792-baab-beeb4df0824f",
   "metadata": {},
   "outputs": [
    {
     "data": {
      "text/html": [
       "<div>\n",
       "<style scoped>\n",
       "    .dataframe tbody tr th:only-of-type {\n",
       "        vertical-align: middle;\n",
       "    }\n",
       "\n",
       "    .dataframe tbody tr th {\n",
       "        vertical-align: top;\n",
       "    }\n",
       "\n",
       "    .dataframe thead th {\n",
       "        text-align: right;\n",
       "    }\n",
       "</style>\n",
       "<table border=\"1\" class=\"dataframe\">\n",
       "  <thead>\n",
       "    <tr style=\"text-align: right;\">\n",
       "      <th></th>\n",
       "      <th>PK_won</th>\n",
       "      <th>Aerial_win_pct</th>\n",
       "      <th>Gls</th>\n",
       "      <th>SoT</th>\n",
       "      <th>SoT%</th>\n",
       "      <th>Sh/90</th>\n",
       "      <th>SoT/90</th>\n",
       "      <th>G/Sh</th>\n",
       "      <th>G/SoT</th>\n",
       "      <th>Dist</th>\n",
       "      <th>FK</th>\n",
       "      <th>PK</th>\n",
       "      <th>PKatt</th>\n",
       "      <th>xG</th>\n",
       "      <th>npxG</th>\n",
       "      <th>npxG/Sh</th>\n",
       "    </tr>\n",
       "  </thead>\n",
       "  <tbody>\n",
       "    <tr>\n",
       "      <th>0</th>\n",
       "      <td>0.00000</td>\n",
       "      <td>0.000000</td>\n",
       "      <td>0.000000</td>\n",
       "      <td>0.102266</td>\n",
       "      <td>1.455660</td>\n",
       "      <td>0.000000</td>\n",
       "      <td>0.007368</td>\n",
       "      <td>0.050424</td>\n",
       "      <td>0.003588</td>\n",
       "      <td>0.033342</td>\n",
       "      <td>0.000873</td>\n",
       "      <td>0.000000</td>\n",
       "      <td>0.000000</td>\n",
       "      <td>0.000000</td>\n",
       "      <td>0.000000</td>\n",
       "      <td>0.046112</td>\n",
       "    </tr>\n",
       "    <tr>\n",
       "      <th>1</th>\n",
       "      <td>0.00000</td>\n",
       "      <td>0.000000</td>\n",
       "      <td>0.000000</td>\n",
       "      <td>0.059656</td>\n",
       "      <td>0.000000</td>\n",
       "      <td>0.312015</td>\n",
       "      <td>0.087929</td>\n",
       "      <td>0.023510</td>\n",
       "      <td>0.078036</td>\n",
       "      <td>0.984500</td>\n",
       "      <td>0.000000</td>\n",
       "      <td>0.000000</td>\n",
       "      <td>0.000000</td>\n",
       "      <td>0.146910</td>\n",
       "      <td>0.155241</td>\n",
       "      <td>0.271433</td>\n",
       "    </tr>\n",
       "    <tr>\n",
       "      <th>2</th>\n",
       "      <td>0.00000</td>\n",
       "      <td>1.711045</td>\n",
       "      <td>0.000000</td>\n",
       "      <td>0.000000</td>\n",
       "      <td>0.008206</td>\n",
       "      <td>0.000000</td>\n",
       "      <td>0.000000</td>\n",
       "      <td>0.000000</td>\n",
       "      <td>0.044578</td>\n",
       "      <td>0.067796</td>\n",
       "      <td>0.003869</td>\n",
       "      <td>0.000000</td>\n",
       "      <td>0.000000</td>\n",
       "      <td>0.001465</td>\n",
       "      <td>0.004542</td>\n",
       "      <td>0.000000</td>\n",
       "    </tr>\n",
       "    <tr>\n",
       "      <th>3</th>\n",
       "      <td>0.47562</td>\n",
       "      <td>0.078150</td>\n",
       "      <td>1.608191</td>\n",
       "      <td>0.976330</td>\n",
       "      <td>0.050898</td>\n",
       "      <td>0.099581</td>\n",
       "      <td>0.112710</td>\n",
       "      <td>0.067544</td>\n",
       "      <td>0.116809</td>\n",
       "      <td>0.000000</td>\n",
       "      <td>0.462872</td>\n",
       "      <td>0.214276</td>\n",
       "      <td>0.253318</td>\n",
       "      <td>1.388685</td>\n",
       "      <td>1.306416</td>\n",
       "      <td>0.069530</td>\n",
       "    </tr>\n",
       "  </tbody>\n",
       "</table>\n",
       "</div>"
      ],
      "text/plain": [
       "    PK_won  Aerial_win_pct       Gls       SoT      SoT%     Sh/90    SoT/90  \\\n",
       "0  0.00000        0.000000  0.000000  0.102266  1.455660  0.000000  0.007368   \n",
       "1  0.00000        0.000000  0.000000  0.059656  0.000000  0.312015  0.087929   \n",
       "2  0.00000        1.711045  0.000000  0.000000  0.008206  0.000000  0.000000   \n",
       "3  0.47562        0.078150  1.608191  0.976330  0.050898  0.099581  0.112710   \n",
       "\n",
       "       G/Sh     G/SoT      Dist        FK        PK     PKatt        xG  \\\n",
       "0  0.050424  0.003588  0.033342  0.000873  0.000000  0.000000  0.000000   \n",
       "1  0.023510  0.078036  0.984500  0.000000  0.000000  0.000000  0.146910   \n",
       "2  0.000000  0.044578  0.067796  0.003869  0.000000  0.000000  0.001465   \n",
       "3  0.067544  0.116809  0.000000  0.462872  0.214276  0.253318  1.388685   \n",
       "\n",
       "       npxG   npxG/Sh  \n",
       "0  0.000000  0.046112  \n",
       "1  0.155241  0.271433  \n",
       "2  0.004542  0.000000  \n",
       "3  1.306416  0.069530  "
      ]
     },
     "execution_count": 135,
     "metadata": {},
     "output_type": "execute_result"
    }
   ],
   "source": [
    "components_df"
   ]
  },
  {
   "cell_type": "code",
   "execution_count": 136,
   "id": "6b7bcb5d-af43-4970-942f-95d0672bed79",
   "metadata": {},
   "outputs": [
    {
     "data": {
      "text/plain": [
       "6.452761548384023"
      ]
     },
     "execution_count": 136,
     "metadata": {},
     "output_type": "execute_result"
    }
   ],
   "source": [
    "err"
   ]
  },
  {
   "cell_type": "code",
   "execution_count": 137,
   "id": "96f25c9c-ca06-42cf-8293-52482c7d497b",
   "metadata": {},
   "outputs": [
    {
     "data": {
      "text/plain": [
       "array([[0.00000000e+00, 0.00000000e+00, 0.00000000e+00, 1.02266427e-01,\n",
       "        1.45566011e+00, 0.00000000e+00, 7.36785867e-03, 5.04242562e-02,\n",
       "        3.58815291e-03, 3.33416634e-02, 8.72678844e-04, 0.00000000e+00,\n",
       "        0.00000000e+00, 0.00000000e+00, 0.00000000e+00, 4.61123925e-02],\n",
       "       [0.00000000e+00, 0.00000000e+00, 0.00000000e+00, 5.96563546e-02,\n",
       "        0.00000000e+00, 3.12014574e-01, 8.79286350e-02, 2.35099933e-02,\n",
       "        7.80359491e-02, 9.84499562e-01, 0.00000000e+00, 0.00000000e+00,\n",
       "        0.00000000e+00, 1.46910263e-01, 1.55241299e-01, 2.71433181e-01],\n",
       "       [0.00000000e+00, 1.71104543e+00, 0.00000000e+00, 0.00000000e+00,\n",
       "        8.20601497e-03, 0.00000000e+00, 0.00000000e+00, 0.00000000e+00,\n",
       "        4.45784649e-02, 6.77959291e-02, 3.86899204e-03, 0.00000000e+00,\n",
       "        0.00000000e+00, 1.46507110e-03, 4.54226925e-03, 0.00000000e+00],\n",
       "       [4.75619547e-01, 7.81499248e-02, 1.60819123e+00, 9.76329578e-01,\n",
       "        5.08982986e-02, 9.95814009e-02, 1.12710302e-01, 6.75440827e-02,\n",
       "        1.16809350e-01, 0.00000000e+00, 4.62872358e-01, 2.14275792e-01,\n",
       "        2.53317894e-01, 1.38868507e+00, 1.30641644e+00, 6.95299691e-02]])"
      ]
     },
     "execution_count": 137,
     "metadata": {},
     "output_type": "execute_result"
    }
   ],
   "source": [
    "H"
   ]
  },
  {
   "cell_type": "code",
   "execution_count": 145,
   "id": "757b651a-8221-4e9d-bb79-d2ae986f5650",
   "metadata": {},
   "outputs": [
    {
     "name": "stdout",
     "output_type": "stream",
     "text": [
      "NMF(init='nndsvda', max_iter=100000, n_components=1, random_state=0)\n",
      "NMF(init='nndsvda', max_iter=100000, n_components=2, random_state=0)\n",
      "NMF(init='nndsvda', max_iter=100000, n_components=3, random_state=0)\n",
      "NMF(init='nndsvda', max_iter=100000, n_components=4, random_state=0)\n",
      "NMF(init='nndsvda', max_iter=100000, n_components=5, random_state=0)\n",
      "NMF(init='nndsvda', max_iter=100000, n_components=6, random_state=0)\n",
      "NMF(init='nndsvda', max_iter=100000, n_components=7, random_state=0)\n",
      "NMF(init='nndsvda', max_iter=100000, n_components=8, random_state=0)\n",
      "NMF(init='nndsvda', max_iter=100000, n_components=9, random_state=0)\n"
     ]
    },
    {
     "name": "stderr",
     "output_type": "stream",
     "text": [
      "/Users/robertrustia/opt/anaconda3/lib/python3.8/site-packages/sklearn/decomposition/_nmf.py:1090: ConvergenceWarning: Maximum number of iterations 100000 reached. Increase it to improve convergence.\n",
      "  warnings.warn(\"Maximum number of iterations %d reached. Increase it to\"\n"
     ]
    }
   ],
   "source": [
    "\n",
    "errors = {}\n",
    "for c in range(1,10):\n",
    "    X = mini_df  # reading the score data\n",
    "    \n",
    "    c = c\n",
    "    # Create a MaxAbsScaler: scaler\n",
    "    transformer = MaxAbsScaler().fit(test)\n",
    "\n",
    "\n",
    "    scaled_X= transformer.transform(test)\n",
    "    # Create an NMF model: nmf\n",
    "    normed_X= transformer.transform(scaled_X)\n",
    "    nmf = NMF(n_components=c,max_iter=100000,init='nndsvda', random_state=0)\n",
    "    print(nmf)\n",
    "\n",
    "\n",
    "    W = nmf.fit_transform(normed_X)\n",
    "    H = nmf.components_\n",
    "    err = model.reconstruction_err_\n",
    "    errors[c]=err\n",
    "\n",
    "    \n"
   ]
  },
  {
   "cell_type": "code",
   "execution_count": 146,
   "id": "7bf67c2a-31ca-45b0-a983-b3c75cc64454",
   "metadata": {},
   "outputs": [
    {
     "data": {
      "text/plain": [
       "{1: 6.288812097362449,\n",
       " 2: 6.288812097362449,\n",
       " 3: 6.288812097362449,\n",
       " 4: 6.288812097362449,\n",
       " 5: 6.288812097362449,\n",
       " 6: 6.288812097362449,\n",
       " 7: 6.288812097362449,\n",
       " 8: 6.288812097362449,\n",
       " 9: 6.288812097362449}"
      ]
     },
     "execution_count": 146,
     "metadata": {},
     "output_type": "execute_result"
    }
   ],
   "source": [
    "errors"
   ]
  },
  {
   "cell_type": "code",
   "execution_count": null,
   "id": "0eb0fb53-1432-4c50-894d-e4c44b6440b1",
   "metadata": {},
   "outputs": [],
   "source": []
  },
  {
   "cell_type": "code",
   "execution_count": null,
   "id": "b27197a9-0bae-4e47-8dc1-06d875e86b77",
   "metadata": {},
   "outputs": [],
   "source": []
  }
 ],
 "metadata": {
  "kernelspec": {
   "display_name": "PythonData",
   "language": "python",
   "name": "pythondata"
  },
  "language_info": {
   "codemirror_mode": {
    "name": "ipython",
    "version": 3
   },
   "file_extension": ".py",
   "mimetype": "text/x-python",
   "name": "python",
   "nbconvert_exporter": "python",
   "pygments_lexer": "ipython3",
   "version": "3.8.8"
  }
 },
 "nbformat": 4,
 "nbformat_minor": 5
}
