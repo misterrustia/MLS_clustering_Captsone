{
 "cells": [
  {
   "cell_type": "code",
   "execution_count": 1,
   "metadata": {
    "colab": {
     "base_uri": "https://localhost:8080/"
    },
    "id": "CpmA6XFtv4Nd",
    "outputId": "ff1ad994-4cbf-4178-eddc-0587873a2c0f"
   },
   "outputs": [],
   "source": [
    "import pandas as pd\n",
    "import numpy as np\n",
    "import seaborn as sns\n",
    "import matplotlib.pyplot as plt\n",
    "\n",
    "\n",
    "\n",
    "# import warnings\n",
    "# warnings.filterwarnings('ignore')"
   ]
  },
  {
   "cell_type": "code",
   "execution_count": 2,
   "metadata": {
    "colab": {
     "base_uri": "https://localhost:8080/"
    },
    "id": "Pux4IYZy_srX",
    "outputId": "cd2fbffe-4e37-47c9-c049-3b8e5d72962c"
   },
   "outputs": [
    {
     "data": {
      "text/plain": [
       "(705, 103)"
      ]
     },
     "execution_count": 2,
     "metadata": {},
     "output_type": "execute_result"
    }
   ],
   "source": [
    "path = \"../data/all_salary_stats.csv\"\n",
    "df= pd.read_csv(path)\n",
    "df.drop(columns=['Position(s)','Unnamed: 0','Unnamed: 0.1',\n",
    "                 'First Name', 'Last Name', 'name', '_merge',\n",
    "                 'Guaranteed Compensation'],inplace=True)\n",
    "df.shape"
   ]
  },
  {
   "cell_type": "code",
   "execution_count": 9,
   "metadata": {},
   "outputs": [],
   "source": [
    "## start with df corr of key features !!! "
   ]
  },
  {
   "cell_type": "markdown",
   "metadata": {},
   "source": [
    "3. IDENTIFYING AND CREATING FEATURES\n",
    "Variables and features are almost synonymous. The primary difference tends to be the context in which they are used; in machine learning, it is common practice to identify predictive features in your data whereas in parametric statistics, features are often referred to as variables and variables can include the response variable which you predict with your model.\n",
    "\n",
    "The goal of identifying features is to use your exploratory work to isolate features that will be most helpful in constructing a predictive model. In addition to recognizing those features, it often behooves one to create additional features for inclusion in your predictive modeling work.\n",
    "Once you have identified the critical features for your model development, you may realize you need to create additional features to augment your original data. You can do this through the development of combining features or revaluing them to emphasize specific relationships. Additional features can also be created through Principal Components Analysis or Clustering.\n",
    "\n",
    "Building a Principle Components Analysis (PCA) is a useful way to apply a dimension reduction application to identify which features contain the most amount of variation within your development dataset. The predictive model can be constructed on the principal components themselves as features, resulting in feature reduction. Feature reduction is helpful when your data set has too many features to choose from, and you need a more automated way to reduce the number of input features for modeling. There are different flavors of dimension reduction methods based on multi-dimensional scaling, such as Principal Coordinate Analysis. Lasso regression is another tool for a semi-automated feature selection approach. Review these methods to determine the best strategy for your project.\n",
    "\n",
    "\n",
    "Clustering (e.g. K-means clustering) is an excellent exploratory analysis method for creating additional features which in this case would be the clusters themselves. The clusters can be used in conjunction with additional features if you find them to be valid after review."
   ]
  },
  {
   "cell_type": "markdown",
   "metadata": {
    "id": "97-haYCcF_yo"
   },
   "source": [
    "# Feature engineering \n",
    "\n",
    "\n",
    "### 1-convert player season data to per 90 stats to adjust for different amounts of games played per player.\n",
    "\n",
    "### 2- create possesion adjusted stats for defensive KPIs to better show defenders metrics "
   ]
  },
  {
   "cell_type": "markdown",
   "metadata": {
    "id": "OZ8YwaPPX4NG",
    "tags": []
   },
   "source": [
    "## objective -1 Adjust season stats to per ninety stats for accurate stat comparison."
   ]
  },
  {
   "cell_type": "code",
   "execution_count": 12,
   "metadata": {},
   "outputs": [
    {
     "data": {
      "text/plain": [
       "35"
      ]
     },
     "execution_count": 12,
     "metadata": {},
     "output_type": "execute_result"
    }
   ],
   "source": [
    "# players to deal with playing less than 1 game for calculations\n",
    "len(df[df['Nineties']<1])"
   ]
  },
  {
   "cell_type": "code",
   "execution_count": 4,
   "metadata": {},
   "outputs": [],
   "source": [
    "def per_90(cols,df):\n",
    "    # create list of games played values and map anything less than 1 to one \n",
    "    nines=[i if i >1 else 1 for i in df['Nineties'] ]\n",
    "    # use new list to do calc so not dividing by value less than 1 \n",
    "    for col in cols:\n",
    "        df[col] = df[col]/nines\n",
    "    return df\n"
   ]
  },
  {
   "cell_type": "code",
   "execution_count": 5,
   "metadata": {},
   "outputs": [
    {
     "data": {
      "text/plain": [
       "array(['fb_id', 'player_name', 'Squad_from_op', 'Opposing_Poss',\n",
       "       'Opposing_Touches', 'Player', 'Nation', 'Position',\n",
       "       'Total_tackles', 'Tackles_Won', 'Tackles_Def_3rd',\n",
       "       'Tackles_Mid_3rd', 'Tackles_Att_3rd', 'Num_Dribblers_tackled',\n",
       "       'Num_Dribbled_past', 'total_pressing', 'Won_ball_5_sec',\n",
       "       'Tackle_pct_won', 'pres_Def_3rd', 'pres_Mid_3rd', 'pres_Att_3rd',\n",
       "       'Blocks', 'Blocked_shots', 'Blocked_SOT', 'Blocked_pass',\n",
       "       'Interceptions', 'Tackles_and_Ints', 'Clearences', 'Nineties',\n",
       "       'xA', 'Key_pass', 'Comp_prog', 'Total_Cmp', 'Total_Att',\n",
       "       'Total_Cmp_pct', 'Total_Tot_Dist', 'Total_Prg_Dist', 'Short_Cmp',\n",
       "       'Short_Att', 'Short_Cmp_pct', 'Medium_Cmp', 'Medium_Att',\n",
       "       'Medium_Cmp_pct', 'Long_Cmp', 'Long_Att', 'Long_Cmp_pct',\n",
       "       'touches', 'touches_def_box', 'touches_def_3rd', 'touches_mid_3rd',\n",
       "       'touches_att_3rd', 'touches_att_box', 'touch_live', 'dribble_Succ',\n",
       "       'dribble_Att', 'dribble_Succ_pct', 'num_dribble_past',\n",
       "       'dribble_megs', 'carries', 'carries_dist', 'carries_prog_dist',\n",
       "       'carries_prog', 'carries_att_3rd', 'carries_att_box',\n",
       "       'miss_control', 'dispossed', 'recep_targ', 'recep_succ',\n",
       "       'recept_pct', 'Yellow_cards', 'Red_cards', 'Second_yellow',\n",
       "       'Fouls', 'Fouls_drawn', 'Offsides', 'Crosses', 'def_interceptions',\n",
       "       'from_mish_tackles_won', 'PK_won', 'PK_conceded', 'OG',\n",
       "       'Recoveries', 'Aerial_Duels_lost', 'Aerial_win_pct', 'Gls', 'Sh',\n",
       "       'SoT', 'SoT%', 'Sh/90', 'SoT/90', 'G/Sh', 'G/SoT', 'Dist', 'FK',\n",
       "       'PK', 'PKatt', 'xG', 'npxG', 'npxG/Sh', 'G-xG', 'np:G-xG', 'Club',\n",
       "       'Base Salary'], dtype=object)"
      ]
     },
     "execution_count": 5,
     "metadata": {},
     "output_type": "execute_result"
    }
   ],
   "source": [
    "df.columns.values"
   ]
  },
  {
   "cell_type": "code",
   "execution_count": 6,
   "metadata": {
    "id": "VrzhdYk4G3ie"
   },
   "outputs": [],
   "source": [
    "## create list of columns to be adjusted to per 90 stats\n",
    "cols =  [\n",
    "         # this needs to be done on by teams 90's 'Opposing_Touches',\n",
    "    'Opposing_Touches',\n",
    "    # def stats\n",
    "    'Total_tackles', 'Tackles_Won', 'Tackles_Def_3rd',\n",
    "       'Tackles_Mid_3rd', 'Tackles_Att_3rd', 'Num_Dribblers_tackled',\n",
    "       'Num_Dribbled_past', 'total_pressing', 'Won_ball_5_sec',\n",
    "       'Tackle_pct_won', 'pres_Def_3rd', 'pres_Mid_3rd', 'pres_Att_3rd',\n",
    "       'Blocks', 'Blocked_shots', 'Blocked_SOT', 'Blocked_pass',\n",
    "       'Interceptions', 'Tackles_and_Ints', 'Clearences',\n",
    "    # passing stats\n",
    "'xA','Key_pass','Comp_prog','Total_Cmp','Total_Att','Total_Tot_Dist','Total_Prg_Dist','Short_Cmp','Short_Att','Medium_Cmp','Medium_Att','Long_Cmp','Long_Att',\n",
    "'touches','touches_def_box','touches_def_3rd','touches_mid_3rd','touches_att_3rd','touches_att_box','touch_live',\n",
    "    # attacking stats\n",
    "    'dribble_Succ','dribble_Att','num_dribble_past','dribble_megs','carries','carries_dist','carries_prog_dist','carries_prog','carries_att_3rd','carries_att_box','miss_control','dispossed','recep_targ',\n",
    "'recep_succ','Yellow_cards','Red_cards','Second_yellow','Fouls','Fouls_drawn','Offsides','Crosses','def_interceptions',\n",
    "    # mish stats \n",
    "    'from_mish_tackles_won','PK_won','PK_conceded','OG',\n",
    "'Recoveries','Aerial_Duels_lost','Gls','Sh','SoT','Sh/90','SoT/90','G/Sh','G/SoT','Dist','FK','PK','PKatt', 'xG','npxG','npxG/Sh','G-xG','np:G-xG'\n",
    "\n",
    "\n",
    "]"
   ]
  },
  {
   "cell_type": "code",
   "execution_count": 8,
   "metadata": {
    "colab": {
     "base_uri": "https://localhost:8080/",
     "height": 143
    },
    "id": "ZgirwmhGWqgj",
    "outputId": "786d9001-5d87-4411-b26f-ee4c3dfaacc1"
   },
   "outputs": [
    {
     "data": {
      "text/html": [
       "<div>\n",
       "<style scoped>\n",
       "    .dataframe tbody tr th:only-of-type {\n",
       "        vertical-align: middle;\n",
       "    }\n",
       "\n",
       "    .dataframe tbody tr th {\n",
       "        vertical-align: top;\n",
       "    }\n",
       "\n",
       "    .dataframe thead th {\n",
       "        text-align: right;\n",
       "    }\n",
       "</style>\n",
       "<table border=\"1\" class=\"dataframe\">\n",
       "  <thead>\n",
       "    <tr style=\"text-align: right;\">\n",
       "      <th></th>\n",
       "      <th>player_name</th>\n",
       "      <th>Opposing_Touches</th>\n",
       "      <th>Total_tackles</th>\n",
       "      <th>Key_pass</th>\n",
       "      <th>from_mish_tackles_won</th>\n",
       "      <th>Total_Cmp</th>\n",
       "      <th>Total_Att</th>\n",
       "    </tr>\n",
       "  </thead>\n",
       "  <tbody>\n",
       "    <tr>\n",
       "      <th>0</th>\n",
       "      <td>Carles Gil</td>\n",
       "      <td>788.346457</td>\n",
       "      <td>0.393701</td>\n",
       "      <td>5.275591</td>\n",
       "      <td>0.157480</td>\n",
       "      <td>48.818898</td>\n",
       "      <td>65.708661</td>\n",
       "    </tr>\n",
       "    <tr>\n",
       "      <th>1</th>\n",
       "      <td>Julian Gressel</td>\n",
       "      <td>686.488294</td>\n",
       "      <td>1.538462</td>\n",
       "      <td>3.210702</td>\n",
       "      <td>0.635452</td>\n",
       "      <td>37.324415</td>\n",
       "      <td>57.926421</td>\n",
       "    </tr>\n",
       "    <tr>\n",
       "      <th>2</th>\n",
       "      <td>Emanuel Reynoso</td>\n",
       "      <td>788.188679</td>\n",
       "      <td>2.226415</td>\n",
       "      <td>3.433962</td>\n",
       "      <td>1.622642</td>\n",
       "      <td>42.113208</td>\n",
       "      <td>61.056604</td>\n",
       "    </tr>\n",
       "  </tbody>\n",
       "</table>\n",
       "</div>"
      ],
      "text/plain": [
       "       player_name  Opposing_Touches  Total_tackles  Key_pass  \\\n",
       "0       Carles Gil        788.346457       0.393701  5.275591   \n",
       "1   Julian Gressel        686.488294       1.538462  3.210702   \n",
       "2  Emanuel Reynoso        788.188679       2.226415  3.433962   \n",
       "\n",
       "   from_mish_tackles_won  Total_Cmp  Total_Att  \n",
       "0               0.157480  48.818898  65.708661  \n",
       "1               0.635452  37.324415  57.926421  \n",
       "2               1.622642  42.113208  61.056604  "
      ]
     },
     "execution_count": 8,
     "metadata": {},
     "output_type": "execute_result"
    }
   ],
   "source": [
    "\n",
    "df =  per_90(cols,df)\n",
    "df[['player_name','Opposing_Touches','Total_tackles','Key_pass','from_mish_tackles_won','Total_Cmp','Total_Att']].head(3)"
   ]
  },
  {
   "cell_type": "code",
   "execution_count": 13,
   "metadata": {
    "colab": {
     "base_uri": "https://localhost:8080/",
     "height": 765
    },
    "id": "IaWqOesQMuPS",
    "outputId": "f34e8d3a-c535-459d-f427-277d3cdb1dc2"
   },
   "outputs": [
    {
     "data": {
      "image/png": "[encoded data removed]",
      "text/plain": [
       "<Figure size 1332x756 with 1 Axes>"
      ]
     },
     "metadata": {},
     "output_type": "display_data"
    }
   ],
   "source": [
    "graph = df.loc[(df['Position']!='GK')&(df['Aerial_win_pct']<100)&\n",
    "               (df['Aerial_win_pct']>0)&(df['Nineties']>5)]\n",
    "\n",
    "#& other to add above (df['int_tackl_recover']<35)\n",
    "sns.set_style('ticks')\n",
    "fig, ax = plt.subplots()\n",
    "fig.set_size_inches(18.5, 10.5)\n",
    "g = sns.scatterplot(data=graph, x ='xG', y='xA',hue='Position', ax=ax).set(title='MLS 2021 xA. Vs xG per 90')\n"
   ]
  },
  {
   "cell_type": "code",
   "execution_count": 14,
   "metadata": {},
   "outputs": [
    {
     "data": {
      "text/html": [
       "<div>\n",
       "<style scoped>\n",
       "    .dataframe tbody tr th:only-of-type {\n",
       "        vertical-align: middle;\n",
       "    }\n",
       "\n",
       "    .dataframe tbody tr th {\n",
       "        vertical-align: top;\n",
       "    }\n",
       "\n",
       "    .dataframe thead th {\n",
       "        text-align: right;\n",
       "    }\n",
       "</style>\n",
       "<table border=\"1\" class=\"dataframe\">\n",
       "  <thead>\n",
       "    <tr style=\"text-align: right;\">\n",
       "      <th></th>\n",
       "      <th>xG</th>\n",
       "      <th>xA</th>\n",
       "      <th>player_name</th>\n",
       "      <th>Squad_from_op</th>\n",
       "      <th>Nineties</th>\n",
       "      <th>Gls</th>\n",
       "    </tr>\n",
       "  </thead>\n",
       "  <tbody>\n",
       "    <tr>\n",
       "      <th>470</th>\n",
       "      <td>1.272727</td>\n",
       "      <td>0.090909</td>\n",
       "      <td>Abu Danladi</td>\n",
       "      <td>Nashville</td>\n",
       "      <td>1.1</td>\n",
       "      <td>0.909091</td>\n",
       "    </tr>\n",
       "  </tbody>\n",
       "</table>\n",
       "</div>"
      ],
      "text/plain": [
       "           xG        xA  player_name Squad_from_op  Nineties       Gls\n",
       "470  1.272727  0.090909  Abu Danladi     Nashville       1.1  0.909091"
      ]
     },
     "execution_count": 14,
     "metadata": {},
     "output_type": "execute_result"
    }
   ],
   "source": [
    "df.loc[df['xG']>1][['xG','xA','player_name', 'Squad_from_op','Nineties','Gls']]"
   ]
  },
  {
   "cell_type": "code",
   "execution_count": 15,
   "metadata": {},
   "outputs": [
    {
     "data": {
      "text/html": [
       "<div>\n",
       "<style scoped>\n",
       "    .dataframe tbody tr th:only-of-type {\n",
       "        vertical-align: middle;\n",
       "    }\n",
       "\n",
       "    .dataframe tbody tr th {\n",
       "        vertical-align: top;\n",
       "    }\n",
       "\n",
       "    .dataframe thead th {\n",
       "        text-align: right;\n",
       "    }\n",
       "</style>\n",
       "<table border=\"1\" class=\"dataframe\">\n",
       "  <thead>\n",
       "    <tr style=\"text-align: right;\">\n",
       "      <th></th>\n",
       "      <th>xG</th>\n",
       "      <th>xA</th>\n",
       "      <th>player_name</th>\n",
       "      <th>Squad_from_op</th>\n",
       "      <th>Nineties</th>\n",
       "      <th>Gls</th>\n",
       "    </tr>\n",
       "  </thead>\n",
       "  <tbody>\n",
       "    <tr>\n",
       "      <th>471</th>\n",
       "      <td>0.352941</td>\n",
       "      <td>0.764706</td>\n",
       "      <td>Léo Chú</td>\n",
       "      <td>Seattle</td>\n",
       "      <td>1.7</td>\n",
       "      <td>0.588235</td>\n",
       "    </tr>\n",
       "  </tbody>\n",
       "</table>\n",
       "</div>"
      ],
      "text/plain": [
       "           xG        xA player_name Squad_from_op  Nineties       Gls\n",
       "471  0.352941  0.764706     Léo Chú       Seattle       1.7  0.588235"
      ]
     },
     "execution_count": 15,
     "metadata": {},
     "output_type": "execute_result"
    }
   ],
   "source": [
    "df.loc[df['xA']>.7][['xG','xA','player_name', 'Squad_from_op','Nineties','Gls']]"
   ]
  },
  {
   "cell_type": "markdown",
   "metadata": {},
   "source": [
    "## Insight \n",
    "- feature engineering gives players who have not played to many games some edge and can be filtered out for models if needed. \n",
    "- The expected trends of forwards haivng the most xG by the green points to the right side of the graph.\n",
    "- Midfielders having the most xA or a mix of both can be seen  and the blue ones towards the top half of the graph around 5 to 10 xG. \n",
    "- There is only two defenders with xA above 6 and no defenders above 4 xG, the majority are clusterd in the bottom left of the graph. "
   ]
  },
  {
   "cell_type": "code",
   "execution_count": 11,
   "metadata": {},
   "outputs": [
    {
     "data": {
      "text/html": [
       "<div>\n",
       "<style scoped>\n",
       "    .dataframe tbody tr th:only-of-type {\n",
       "        vertical-align: middle;\n",
       "    }\n",
       "\n",
       "    .dataframe tbody tr th {\n",
       "        vertical-align: top;\n",
       "    }\n",
       "\n",
       "    .dataframe thead th {\n",
       "        text-align: right;\n",
       "    }\n",
       "</style>\n",
       "<table border=\"1\" class=\"dataframe\">\n",
       "  <thead>\n",
       "    <tr style=\"text-align: right;\">\n",
       "      <th></th>\n",
       "      <th>player_name</th>\n",
       "      <th>Squad_from_op</th>\n",
       "      <th>Long_Att</th>\n",
       "      <th>Long_Cmp</th>\n",
       "      <th>Long_Cmp_pct</th>\n",
       "      <th>Nation</th>\n",
       "      <th>Position</th>\n",
       "      <th>Nineties</th>\n",
       "      <th>xA</th>\n",
       "      <th>Key_pass</th>\n",
       "    </tr>\n",
       "  </thead>\n",
       "  <tbody>\n",
       "    <tr>\n",
       "      <th>605</th>\n",
       "      <td>Jason Pendant</td>\n",
       "      <td>NY Red Bulls</td>\n",
       "      <td>4.0</td>\n",
       "      <td>3.0</td>\n",
       "      <td>75.0</td>\n",
       "      <td>fr FRA</td>\n",
       "      <td>DF</td>\n",
       "      <td>0.1</td>\n",
       "      <td>0.0</td>\n",
       "      <td>0.0</td>\n",
       "    </tr>\n",
       "    <tr>\n",
       "      <th>609</th>\n",
       "      <td>Jordan Harvey</td>\n",
       "      <td>Los Angeles FC</td>\n",
       "      <td>5.0</td>\n",
       "      <td>5.0</td>\n",
       "      <td>100.0</td>\n",
       "      <td>us USA</td>\n",
       "      <td>DF</td>\n",
       "      <td>0.1</td>\n",
       "      <td>0.0</td>\n",
       "      <td>0.0</td>\n",
       "    </tr>\n",
       "  </tbody>\n",
       "</table>\n",
       "</div>"
      ],
      "text/plain": [
       "       player_name   Squad_from_op  Long_Att  Long_Cmp  Long_Cmp_pct  Nation  \\\n",
       "605  Jason Pendant    NY Red Bulls       4.0       3.0          75.0  fr FRA   \n",
       "609  Jordan Harvey  Los Angeles FC       5.0       5.0         100.0  us USA   \n",
       "\n",
       "    Position  Nineties   xA  Key_pass  \n",
       "605       DF       0.1  0.0       0.0  \n",
       "609       DF       0.1  0.0       0.0  "
      ]
     },
     "execution_count": 11,
     "metadata": {},
     "output_type": "execute_result"
    }
   ],
   "source": [
    "## check players who played less than 1 game no not have increased features\n",
    "\n",
    "df.loc[(df['player_name']=='Jason Pendant') | (df['player_name']=='Jordan Harvey') ][['player_name', 'Squad_from_op',\n",
    "       'Long_Att','Long_Cmp','Long_Cmp_pct', 'Nation', 'Position', 'Nineties',\n",
    "       'xA', 'Key_pass']]"
   ]
  },
  {
   "cell_type": "markdown",
   "metadata": {
    "id": "FKzXvNEhXFjq"
   },
   "source": [
    "check to confirm the new df has per 90 stats instead of season totals "
   ]
  },
  {
   "cell_type": "markdown",
   "metadata": {
    "id": "huFi1B_GXQj4"
   },
   "source": [
    "## Objective - 2  Create possesion adjusted metrics , \" pAdj \"\n",
    "\n",
    "using stat per 1000 opponent touches as scale to create pAdj stat \n",
    "ex: tackles per 1000 opponent touches instead of just tackles per 90 "
   ]
  },
  {
   "cell_type": "code",
   "execution_count": 23,
   "metadata": {
    "colab": {
     "base_uri": "https://localhost:8080/"
    },
    "id": "iYc1owywNHbp",
    "outputId": "7e01f77f-9726-496d-ea04-57b1ea585d4b"
   },
   "outputs": [
    {
     "data": {
      "text/plain": [
       "17.734429    5\n",
       "17.788062    3\n",
       "2.156327     3\n",
       "18.493080    3\n",
       "16.284602    3\n",
       "Name: Opposing_Touches, dtype: int64"
      ]
     },
     "execution_count": 23,
     "metadata": {},
     "output_type": "execute_result"
    }
   ],
   "source": [
    "df['Opposing_Touches'].value_counts().head()"
   ]
  },
  {
   "cell_type": "code",
   "execution_count": null,
   "metadata": {},
   "outputs": [],
   "source": [
    "# broken here \n",
    "\n",
    "\n",
    "\n",
    "\n",
    "\n"
   ]
  },
  {
   "cell_type": "code",
   "execution_count": 22,
   "metadata": {
    "colab": {
     "base_uri": "https://localhost:8080/"
    },
    "id": "OLxCT7tFI1zb",
    "outputId": "74b9811b-0df8-45db-fda6-c4b66eadd1ae"
   },
   "outputs": [
    {
     "data": {
      "text/plain": [
       "count    705.000000\n",
       "mean       3.376845\n",
       "std        4.747305\n",
       "min        0.488649\n",
       "25%        0.803569\n",
       "50%        1.262471\n",
       "75%        3.057814\n",
       "max       19.391003\n",
       "Name: Opposing_Touches, dtype: float64"
      ]
     },
     "execution_count": 22,
     "metadata": {},
     "output_type": "execute_result"
    }
   ],
   "source": [
    "# each team played 34 games so to get opposing touches per 90 divide by 34\n",
    "\n",
    "df['Opposing_Touches'] = df['Opposing_Touches']/34\n",
    "df['Opposing_Touches'].describe()"
   ]
  },
  {
   "cell_type": "code",
   "execution_count": 18,
   "metadata": {
    "id": "4WhAL7jJJXRw"
   },
   "outputs": [],
   "source": [
    "\n",
    "cols=[\n",
    "      # defensive stats to be adjusted by possesion \n",
    "    'Yellow_cards','Red_cards','Second_yellow','Fouls','def_interceptions',\n",
    "    'from_mish_tackles_won','PK_conceded','OG','Recoveries','Aerial_Duels_lost']"
   ]
  },
  {
   "cell_type": "code",
   "execution_count": 19,
   "metadata": {},
   "outputs": [
    {
     "data": {
      "text/plain": [
       "count    705.000000\n",
       "mean       1.325073\n",
       "std        0.962239\n",
       "min        0.000000\n",
       "25%        0.510949\n",
       "50%        1.323529\n",
       "75%        1.959459\n",
       "max        5.000000\n",
       "Name: def_interceptions, dtype: float64"
      ]
     },
     "execution_count": 19,
     "metadata": {},
     "output_type": "execute_result"
    }
   ],
   "source": [
    "df['def_interceptions'].describe()"
   ]
  },
  {
   "cell_type": "code",
   "execution_count": 20,
   "metadata": {
    "id": "y-BheqGLJh9_"
   },
   "outputs": [],
   "source": [
    "def pAdj(df,cols):\n",
    "  \"\"\" create possesion adjusted defensive stats and remove orignial\"\"\"\n",
    "  for col in cols:\n",
    "    label = 'pAdj_'+col\n",
    "  \n",
    "    df[label] = (df[col]/df['Opposing_Touches']) * 1000\n",
    "    df.drop(columns=[col],inplace=True)\n",
    "  \n",
    "  return df"
   ]
  },
  {
   "cell_type": "code",
   "execution_count": 21,
   "metadata": {
    "colab": {
     "base_uri": "https://localhost:8080/",
     "height": 206
    },
    "id": "xkXOF4IxJpEH",
    "outputId": "991ebf0e-f28e-4514-a8a0-641fa73eebb3"
   },
   "outputs": [
    {
     "data": {
      "text/html": [
       "<div>\n",
       "<style scoped>\n",
       "    .dataframe tbody tr th:only-of-type {\n",
       "        vertical-align: middle;\n",
       "    }\n",
       "\n",
       "    .dataframe tbody tr th {\n",
       "        vertical-align: top;\n",
       "    }\n",
       "\n",
       "    .dataframe thead th {\n",
       "        text-align: right;\n",
       "    }\n",
       "</style>\n",
       "<table border=\"1\" class=\"dataframe\">\n",
       "  <thead>\n",
       "    <tr style=\"text-align: right;\">\n",
       "      <th></th>\n",
       "      <th>player_name</th>\n",
       "      <th>pAdj_def_interceptions</th>\n",
       "      <th>pAdj_from_mish_tackles_won</th>\n",
       "      <th>pAdj_PK_conceded</th>\n",
       "      <th>pAdj_OG</th>\n",
       "      <th>pAdj_Recoveries</th>\n",
       "      <th>pAdj_Aerial_Duels_lost</th>\n",
       "    </tr>\n",
       "  </thead>\n",
       "  <tbody>\n",
       "    <tr>\n",
       "      <th>0</th>\n",
       "      <td>Carles Gil</td>\n",
       "      <td>39.053136</td>\n",
       "      <td>6.791850</td>\n",
       "      <td>0.0</td>\n",
       "      <td>0.0</td>\n",
       "      <td>278.465841</td>\n",
       "      <td>6.791850</td>\n",
       "    </tr>\n",
       "    <tr>\n",
       "      <th>1</th>\n",
       "      <td>Julian Gressel</td>\n",
       "      <td>112.637630</td>\n",
       "      <td>31.472279</td>\n",
       "      <td>0.0</td>\n",
       "      <td>0.0</td>\n",
       "      <td>415.765371</td>\n",
       "      <td>49.693072</td>\n",
       "    </tr>\n",
       "    <tr>\n",
       "      <th>2</th>\n",
       "      <td>Emanuel Reynoso</td>\n",
       "      <td>43.950783</td>\n",
       "      <td>69.995691</td>\n",
       "      <td>0.0</td>\n",
       "      <td>0.0</td>\n",
       "      <td>322.305740</td>\n",
       "      <td>29.300522</td>\n",
       "    </tr>\n",
       "    <tr>\n",
       "      <th>3</th>\n",
       "      <td>Albert Rusnák</td>\n",
       "      <td>44.089424</td>\n",
       "      <td>28.217231</td>\n",
       "      <td>0.0</td>\n",
       "      <td>0.0</td>\n",
       "      <td>358.006121</td>\n",
       "      <td>7.054308</td>\n",
       "    </tr>\n",
       "    <tr>\n",
       "      <th>4</th>\n",
       "      <td>Maximiliano Moralez</td>\n",
       "      <td>40.451066</td>\n",
       "      <td>45.727292</td>\n",
       "      <td>0.0</td>\n",
       "      <td>0.0</td>\n",
       "      <td>293.709911</td>\n",
       "      <td>17.587420</td>\n",
       "    </tr>\n",
       "  </tbody>\n",
       "</table>\n",
       "</div>"
      ],
      "text/plain": [
       "           player_name  pAdj_def_interceptions  pAdj_from_mish_tackles_won  \\\n",
       "0           Carles Gil               39.053136                    6.791850   \n",
       "1       Julian Gressel              112.637630                   31.472279   \n",
       "2      Emanuel Reynoso               43.950783                   69.995691   \n",
       "3        Albert Rusnák               44.089424                   28.217231   \n",
       "4  Maximiliano Moralez               40.451066                   45.727292   \n",
       "\n",
       "   pAdj_PK_conceded  pAdj_OG  pAdj_Recoveries  pAdj_Aerial_Duels_lost  \n",
       "0               0.0      0.0       278.465841                6.791850  \n",
       "1               0.0      0.0       415.765371               49.693072  \n",
       "2               0.0      0.0       322.305740               29.300522  \n",
       "3               0.0      0.0       358.006121                7.054308  \n",
       "4               0.0      0.0       293.709911               17.587420  "
      ]
     },
     "execution_count": 21,
     "metadata": {},
     "output_type": "execute_result"
    }
   ],
   "source": [
    "df=pAdj(df,cols)\n",
    "df[[ 'player_name','pAdj_def_interceptions','pAdj_from_mish_tackles_won','pAdj_PK_conceded','pAdj_OG','pAdj_Recoveries','pAdj_Aerial_Duels_lost']].head()"
   ]
  },
  {
   "cell_type": "code",
   "execution_count": 27,
   "metadata": {},
   "outputs": [
    {
     "data": {
      "text/plain": [
       "count    705.000000\n",
       "mean       2.231026\n",
       "std        1.625044\n",
       "min        0.000000\n",
       "25%        0.847926\n",
       "50%        2.225200\n",
       "75%        3.271473\n",
       "max        8.502551\n",
       "Name: pAdj_def_interceptions, dtype: float64"
      ]
     },
     "execution_count": 27,
     "metadata": {},
     "output_type": "execute_result"
    }
   ],
   "source": [
    "df['pAdj_def_interceptions'].describe()"
   ]
  },
  {
   "cell_type": "code",
   "execution_count": null,
   "metadata": {},
   "outputs": [],
   "source": [
    "df['int_tackl_blocks'] = df['pAdj_def_interceptions']+df['pAdj_from_mish_tackles_won']+df['pAdj_Recoveries']\n"
   ]
  },
  {
   "cell_type": "code",
   "execution_count": 28,
   "metadata": {
    "colab": {
     "base_uri": "https://localhost:8080/"
    },
    "id": "K9jH0I_gKWqF",
    "outputId": "52e35c73-9f8f-486b-88ec-00d75614e1d1"
   },
   "outputs": [],
   "source": [
    "# save df with adjusted features for further steps\n",
    "\n",
    "df.to_csv('../data/final_per_90_and_pAdj.csv', encoding='utf-8', index=False)\n",
    "\n"
   ]
  },
  {
   "cell_type": "code",
   "execution_count": 29,
   "metadata": {
    "colab": {
     "base_uri": "https://localhost:8080/",
     "height": 322
    },
    "id": "FR_fKKgGIwsd",
    "outputId": "5d34982d-28a1-4409-cd7c-aa212f876d7d"
   },
   "outputs": [
    {
     "data": {
      "text/html": [
       "<div>\n",
       "<style scoped>\n",
       "    .dataframe tbody tr th:only-of-type {\n",
       "        vertical-align: middle;\n",
       "    }\n",
       "\n",
       "    .dataframe tbody tr th {\n",
       "        vertical-align: top;\n",
       "    }\n",
       "\n",
       "    .dataframe thead th {\n",
       "        text-align: right;\n",
       "    }\n",
       "</style>\n",
       "<table border=\"1\" class=\"dataframe\">\n",
       "  <thead>\n",
       "    <tr style=\"text-align: right;\">\n",
       "      <th></th>\n",
       "      <th>fb_id</th>\n",
       "      <th>player_name</th>\n",
       "      <th>Squad_from_op</th>\n",
       "      <th>Opposing_Poss</th>\n",
       "      <th>Opposing_Touches</th>\n",
       "      <th>Nation</th>\n",
       "      <th>Position</th>\n",
       "      <th>Nineties</th>\n",
       "      <th>xA</th>\n",
       "      <th>Key_pass</th>\n",
       "      <th>...</th>\n",
       "      <th>pAdj_Yellow_cards</th>\n",
       "      <th>pAdj_Red_cards</th>\n",
       "      <th>pAdj_Second_yellow</th>\n",
       "      <th>pAdj_Fouls</th>\n",
       "      <th>pAdj_def_interceptions</th>\n",
       "      <th>pAdj_from_mish_tackles_won</th>\n",
       "      <th>pAdj_PK_conceded</th>\n",
       "      <th>pAdj_OG</th>\n",
       "      <th>pAdj_Recoveries</th>\n",
       "      <th>pAdj_Aerial_Duels_lost</th>\n",
       "    </tr>\n",
       "  </thead>\n",
       "  <tbody>\n",
       "    <tr>\n",
       "      <th>0</th>\n",
       "      <td>11c30a46</td>\n",
       "      <td>Carles Gil</td>\n",
       "      <td>New England</td>\n",
       "      <td>49.1</td>\n",
       "      <td>588.941176</td>\n",
       "      <td>es ESP</td>\n",
       "      <td>MF</td>\n",
       "      <td>25.4</td>\n",
       "      <td>0.472441</td>\n",
       "      <td>5.275591</td>\n",
       "      <td>...</td>\n",
       "      <td>11.230618</td>\n",
       "      <td>0.000000</td>\n",
       "      <td>0.0</td>\n",
       "      <td>0.467942</td>\n",
       "      <td>1.537525</td>\n",
       "      <td>0.267396</td>\n",
       "      <td>0.0</td>\n",
       "      <td>0.0</td>\n",
       "      <td>10.963222</td>\n",
       "      <td>0.267396</td>\n",
       "    </tr>\n",
       "    <tr>\n",
       "      <th>1</th>\n",
       "      <td>acd47bc0</td>\n",
       "      <td>Julian Gressel</td>\n",
       "      <td>D.C. United</td>\n",
       "      <td>54.0</td>\n",
       "      <td>603.705882</td>\n",
       "      <td>de GER</td>\n",
       "      <td>DF</td>\n",
       "      <td>29.9</td>\n",
       "      <td>0.408027</td>\n",
       "      <td>3.210702</td>\n",
       "      <td>...</td>\n",
       "      <td>6.260108</td>\n",
       "      <td>0.000000</td>\n",
       "      <td>0.0</td>\n",
       "      <td>1.938972</td>\n",
       "      <td>3.767145</td>\n",
       "      <td>1.052585</td>\n",
       "      <td>0.0</td>\n",
       "      <td>0.0</td>\n",
       "      <td>13.905196</td>\n",
       "      <td>1.661976</td>\n",
       "    </tr>\n",
       "    <tr>\n",
       "      <th>2</th>\n",
       "      <td>614b26e3</td>\n",
       "      <td>Emanuel Reynoso</td>\n",
       "      <td>Minnesota Utd</td>\n",
       "      <td>49.9</td>\n",
       "      <td>614.323529</td>\n",
       "      <td>ar ARG</td>\n",
       "      <td>MF</td>\n",
       "      <td>26.5</td>\n",
       "      <td>0.332075</td>\n",
       "      <td>3.433962</td>\n",
       "      <td>...</td>\n",
       "      <td>13.821001</td>\n",
       "      <td>0.061427</td>\n",
       "      <td>0.0</td>\n",
       "      <td>3.562747</td>\n",
       "      <td>1.658520</td>\n",
       "      <td>2.641347</td>\n",
       "      <td>0.0</td>\n",
       "      <td>0.0</td>\n",
       "      <td>12.162481</td>\n",
       "      <td>1.105680</td>\n",
       "    </tr>\n",
       "    <tr>\n",
       "      <th>3</th>\n",
       "      <td>0adeafaa</td>\n",
       "      <td>Albert Rusnák</td>\n",
       "      <td>Real Salt Lake</td>\n",
       "      <td>49.1</td>\n",
       "      <td>567.029412</td>\n",
       "      <td>sk SVK</td>\n",
       "      <td>MF</td>\n",
       "      <td>33.8</td>\n",
       "      <td>0.213018</td>\n",
       "      <td>2.573964</td>\n",
       "      <td>...</td>\n",
       "      <td>8.191763</td>\n",
       "      <td>0.000000</td>\n",
       "      <td>0.0</td>\n",
       "      <td>1.200067</td>\n",
       "      <td>1.304421</td>\n",
       "      <td>0.834829</td>\n",
       "      <td>0.0</td>\n",
       "      <td>0.0</td>\n",
       "      <td>10.591897</td>\n",
       "      <td>0.208707</td>\n",
       "    </tr>\n",
       "    <tr>\n",
       "      <th>4</th>\n",
       "      <td>f99f37fc</td>\n",
       "      <td>Maximiliano Moralez</td>\n",
       "      <td>NYCFC</td>\n",
       "      <td>46.5</td>\n",
       "      <td>568.588235</td>\n",
       "      <td>ar ARG</td>\n",
       "      <td>MF</td>\n",
       "      <td>26.5</td>\n",
       "      <td>0.362264</td>\n",
       "      <td>3.132075</td>\n",
       "      <td>...</td>\n",
       "      <td>14.932715</td>\n",
       "      <td>0.066368</td>\n",
       "      <td>0.0</td>\n",
       "      <td>2.986543</td>\n",
       "      <td>1.526455</td>\n",
       "      <td>1.725558</td>\n",
       "      <td>0.0</td>\n",
       "      <td>0.0</td>\n",
       "      <td>11.083393</td>\n",
       "      <td>0.663676</td>\n",
       "    </tr>\n",
       "  </tbody>\n",
       "</table>\n",
       "<p>5 rows × 88 columns</p>\n",
       "</div>"
      ],
      "text/plain": [
       "      fb_id          player_name   Squad_from_op  Opposing_Poss  \\\n",
       "0  11c30a46           Carles Gil     New England           49.1   \n",
       "1  acd47bc0       Julian Gressel     D.C. United           54.0   \n",
       "2  614b26e3      Emanuel Reynoso   Minnesota Utd           49.9   \n",
       "3  0adeafaa        Albert Rusnák  Real Salt Lake           49.1   \n",
       "4  f99f37fc  Maximiliano Moralez           NYCFC           46.5   \n",
       "\n",
       "   Opposing_Touches  Nation Position  Nineties        xA  Key_pass  ...  \\\n",
       "0        588.941176  es ESP       MF      25.4  0.472441  5.275591  ...   \n",
       "1        603.705882  de GER       DF      29.9  0.408027  3.210702  ...   \n",
       "2        614.323529  ar ARG       MF      26.5  0.332075  3.433962  ...   \n",
       "3        567.029412  sk SVK       MF      33.8  0.213018  2.573964  ...   \n",
       "4        568.588235  ar ARG       MF      26.5  0.362264  3.132075  ...   \n",
       "\n",
       "   pAdj_Yellow_cards  pAdj_Red_cards  pAdj_Second_yellow  pAdj_Fouls  \\\n",
       "0          11.230618        0.000000                 0.0    0.467942   \n",
       "1           6.260108        0.000000                 0.0    1.938972   \n",
       "2          13.821001        0.061427                 0.0    3.562747   \n",
       "3           8.191763        0.000000                 0.0    1.200067   \n",
       "4          14.932715        0.066368                 0.0    2.986543   \n",
       "\n",
       "   pAdj_def_interceptions  pAdj_from_mish_tackles_won  pAdj_PK_conceded  \\\n",
       "0                1.537525                    0.267396               0.0   \n",
       "1                3.767145                    1.052585               0.0   \n",
       "2                1.658520                    2.641347               0.0   \n",
       "3                1.304421                    0.834829               0.0   \n",
       "4                1.526455                    1.725558               0.0   \n",
       "\n",
       "   pAdj_OG  pAdj_Recoveries  pAdj_Aerial_Duels_lost  \n",
       "0      0.0        10.963222                0.267396  \n",
       "1      0.0        13.905196                1.661976  \n",
       "2      0.0        12.162481                1.105680  \n",
       "3      0.0        10.591897                0.208707  \n",
       "4      0.0        11.083393                0.663676  \n",
       "\n",
       "[5 rows x 88 columns]"
      ]
     },
     "execution_count": 29,
     "metadata": {},
     "output_type": "execute_result"
    }
   ],
   "source": [
    "df.head()"
   ]
  },
  {
   "cell_type": "markdown",
   "metadata": {},
   "source": [
    "## Feature vizual exploration \n",
    "\n",
    "- with the data now scaled to per 90 and possesion adjusted key features are to be visualised and observed below to looks for trends. "
   ]
  },
  {
   "cell_type": "code",
   "execution_count": 33,
   "metadata": {},
   "outputs": [],
   "source": [
    "# create defender only df \n",
    "defenders = df.loc[(df['Position']=='DF')&( df['Nineties'] >.9)]"
   ]
  },
  {
   "cell_type": "code",
   "execution_count": 34,
   "metadata": {
    "colab": {
     "base_uri": "https://localhost:8080/",
     "height": 1000
    },
    "id": "XWoL5_ifVG79",
    "outputId": "f6452a0c-820a-493f-de46-b78d14b2f40f"
   },
   "outputs": [
    {
     "data": {
      "text/html": [
       "<div>\n",
       "<style scoped>\n",
       "    .dataframe tbody tr th:only-of-type {\n",
       "        vertical-align: middle;\n",
       "    }\n",
       "\n",
       "    .dataframe tbody tr th {\n",
       "        vertical-align: top;\n",
       "    }\n",
       "\n",
       "    .dataframe thead th {\n",
       "        text-align: right;\n",
       "    }\n",
       "</style>\n",
       "<table border=\"1\" class=\"dataframe\">\n",
       "  <thead>\n",
       "    <tr style=\"text-align: right;\">\n",
       "      <th></th>\n",
       "      <th>count</th>\n",
       "      <th>mean</th>\n",
       "      <th>std</th>\n",
       "      <th>min</th>\n",
       "      <th>25%</th>\n",
       "      <th>50%</th>\n",
       "      <th>75%</th>\n",
       "      <th>max</th>\n",
       "    </tr>\n",
       "  </thead>\n",
       "  <tbody>\n",
       "    <tr>\n",
       "      <th>Opposing_Poss</th>\n",
       "      <td>216.0</td>\n",
       "      <td>49.991667</td>\n",
       "      <td>3.215475</td>\n",
       "      <td>42.600000</td>\n",
       "      <td>47.400000</td>\n",
       "      <td>50.200000</td>\n",
       "      <td>51.900000</td>\n",
       "      <td>55.100000</td>\n",
       "    </tr>\n",
       "    <tr>\n",
       "      <th>Opposing_Touches</th>\n",
       "      <td>216.0</td>\n",
       "      <td>594.614379</td>\n",
       "      <td>29.964880</td>\n",
       "      <td>513.205882</td>\n",
       "      <td>577.647059</td>\n",
       "      <td>593.529412</td>\n",
       "      <td>620.470588</td>\n",
       "      <td>659.294118</td>\n",
       "    </tr>\n",
       "    <tr>\n",
       "      <th>Nineties</th>\n",
       "      <td>216.0</td>\n",
       "      <td>16.545370</td>\n",
       "      <td>9.163085</td>\n",
       "      <td>1.000000</td>\n",
       "      <td>8.900000</td>\n",
       "      <td>17.150000</td>\n",
       "      <td>23.325000</td>\n",
       "      <td>34.000000</td>\n",
       "    </tr>\n",
       "    <tr>\n",
       "      <th>xA</th>\n",
       "      <td>216.0</td>\n",
       "      <td>0.052368</td>\n",
       "      <td>0.062253</td>\n",
       "      <td>0.000000</td>\n",
       "      <td>0.008474</td>\n",
       "      <td>0.030152</td>\n",
       "      <td>0.078985</td>\n",
       "      <td>0.408027</td>\n",
       "    </tr>\n",
       "    <tr>\n",
       "      <th>Key_pass</th>\n",
       "      <td>216.0</td>\n",
       "      <td>0.535475</td>\n",
       "      <td>0.561490</td>\n",
       "      <td>0.000000</td>\n",
       "      <td>0.125590</td>\n",
       "      <td>0.312500</td>\n",
       "      <td>0.825563</td>\n",
       "      <td>3.210702</td>\n",
       "    </tr>\n",
       "    <tr>\n",
       "      <th>...</th>\n",
       "      <td>...</td>\n",
       "      <td>...</td>\n",
       "      <td>...</td>\n",
       "      <td>...</td>\n",
       "      <td>...</td>\n",
       "      <td>...</td>\n",
       "      <td>...</td>\n",
       "      <td>...</td>\n",
       "    </tr>\n",
       "    <tr>\n",
       "      <th>pAdj_from_mish_tackles_won</th>\n",
       "      <td>216.0</td>\n",
       "      <td>1.816016</td>\n",
       "      <td>0.868210</td>\n",
       "      <td>0.000000</td>\n",
       "      <td>1.258789</td>\n",
       "      <td>1.783555</td>\n",
       "      <td>2.291729</td>\n",
       "      <td>6.174785</td>\n",
       "    </tr>\n",
       "    <tr>\n",
       "      <th>pAdj_PK_conceded</th>\n",
       "      <td>216.0</td>\n",
       "      <td>0.033753</td>\n",
       "      <td>0.086475</td>\n",
       "      <td>0.000000</td>\n",
       "      <td>0.000000</td>\n",
       "      <td>0.000000</td>\n",
       "      <td>0.054912</td>\n",
       "      <td>0.972621</td>\n",
       "    </tr>\n",
       "    <tr>\n",
       "      <th>pAdj_OG</th>\n",
       "      <td>216.0</td>\n",
       "      <td>0.020748</td>\n",
       "      <td>0.114465</td>\n",
       "      <td>0.000000</td>\n",
       "      <td>0.000000</td>\n",
       "      <td>0.000000</td>\n",
       "      <td>0.000000</td>\n",
       "      <td>1.598856</td>\n",
       "    </tr>\n",
       "    <tr>\n",
       "      <th>pAdj_Recoveries</th>\n",
       "      <td>216.0</td>\n",
       "      <td>12.555701</td>\n",
       "      <td>2.660552</td>\n",
       "      <td>3.714538</td>\n",
       "      <td>10.968225</td>\n",
       "      <td>12.165533</td>\n",
       "      <td>14.247242</td>\n",
       "      <td>22.106632</td>\n",
       "    </tr>\n",
       "    <tr>\n",
       "      <th>pAdj_Aerial_Duels_lost</th>\n",
       "      <td>216.0</td>\n",
       "      <td>3.037721</td>\n",
       "      <td>1.814484</td>\n",
       "      <td>0.000000</td>\n",
       "      <td>1.709210</td>\n",
       "      <td>2.709367</td>\n",
       "      <td>3.880811</td>\n",
       "      <td>9.862959</td>\n",
       "    </tr>\n",
       "  </tbody>\n",
       "</table>\n",
       "<p>77 rows × 8 columns</p>\n",
       "</div>"
      ],
      "text/plain": [
       "                            count        mean        std         min  \\\n",
       "Opposing_Poss               216.0   49.991667   3.215475   42.600000   \n",
       "Opposing_Touches            216.0  594.614379  29.964880  513.205882   \n",
       "Nineties                    216.0   16.545370   9.163085    1.000000   \n",
       "xA                          216.0    0.052368   0.062253    0.000000   \n",
       "Key_pass                    216.0    0.535475   0.561490    0.000000   \n",
       "...                           ...         ...        ...         ...   \n",
       "pAdj_from_mish_tackles_won  216.0    1.816016   0.868210    0.000000   \n",
       "pAdj_PK_conceded            216.0    0.033753   0.086475    0.000000   \n",
       "pAdj_OG                     216.0    0.020748   0.114465    0.000000   \n",
       "pAdj_Recoveries             216.0   12.555701   2.660552    3.714538   \n",
       "pAdj_Aerial_Duels_lost      216.0    3.037721   1.814484    0.000000   \n",
       "\n",
       "                                   25%         50%         75%         max  \n",
       "Opposing_Poss                47.400000   50.200000   51.900000   55.100000  \n",
       "Opposing_Touches            577.647059  593.529412  620.470588  659.294118  \n",
       "Nineties                      8.900000   17.150000   23.325000   34.000000  \n",
       "xA                            0.008474    0.030152    0.078985    0.408027  \n",
       "Key_pass                      0.125590    0.312500    0.825563    3.210702  \n",
       "...                                ...         ...         ...         ...  \n",
       "pAdj_from_mish_tackles_won    1.258789    1.783555    2.291729    6.174785  \n",
       "pAdj_PK_conceded              0.000000    0.000000    0.054912    0.972621  \n",
       "pAdj_OG                       0.000000    0.000000    0.000000    1.598856  \n",
       "pAdj_Recoveries              10.968225   12.165533   14.247242   22.106632  \n",
       "pAdj_Aerial_Duels_lost        1.709210    2.709367    3.880811    9.862959  \n",
       "\n",
       "[77 rows x 8 columns]"
      ]
     },
     "execution_count": 34,
     "metadata": {},
     "output_type": "execute_result"
    }
   ],
   "source": [
    "#summary stats table transposed for df\n",
    "\n",
    "# put higher up and show key features \n",
    "defenders.describe().T"
   ]
  },
  {
   "cell_type": "markdown",
   "metadata": {},
   "source": [
    "# Passing features "
   ]
  }
 ],
 "metadata": {
  "colab": {
   "collapsed_sections": [],
   "name": "Player_exploratory_data_analysis.ipynb",
   "provenance": []
  },
  "kernelspec": {
   "display_name": "PythonData",
   "language": "python",
   "name": "pythondata"
  },
  "language_info": {
   "codemirror_mode": {
    "name": "ipython",
    "version": 3
   },
   "file_extension": ".py",
   "mimetype": "text/x-python",
   "name": "python",
   "nbconvert_exporter": "python",
   "pygments_lexer": "ipython3",
   "version": "3.8.8"
  }
 },
 "nbformat": 4,
 "nbformat_minor": 4
}
