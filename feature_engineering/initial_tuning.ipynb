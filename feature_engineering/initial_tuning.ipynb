{
 "cells": [
  {
   "cell_type": "code",
   "execution_count": 57,
   "id": "8441f901-8801-4831-95e9-2e83b049aee0",
   "metadata": {},
   "outputs": [],
   "source": [
    "import pandas as pd\n",
    "\n",
    "\n",
    "import matplotlib.pyplot as plt\n",
    "from sklearn.decomposition import NMF \n",
    "from sklearn.preprocessing import Normalizer ,MaxAbsScaler\n",
    "from sklearn.pipeline import make_pipeline"
   ]
  },
  {
   "cell_type": "code",
   "execution_count": 2,
   "id": "3ae08d6d-2129-4776-9778-fda8eaa456e0",
   "metadata": {},
   "outputs": [],
   "source": [
    "df = pd.read_csv('../data/final_per_90_and_pAdj.csv')"
   ]
  },
  {
   "cell_type": "code",
   "execution_count": 5,
   "id": "3450359e-d3b2-448b-a061-e6fa0165fbaf",
   "metadata": {},
   "outputs": [],
   "source": [
    "# ## dont need club for NMF \n",
    "\n",
    "clubs = df['Club']\n",
    "df.drop(columns=['Club'],inplace=True)"
   ]
  },
  {
   "cell_type": "code",
   "execution_count": 6,
   "id": "d0f31222-189a-4c89-a138-78cd48ebc21f",
   "metadata": {},
   "outputs": [
    {
     "data": {
      "text/html": [
       "<div>\n",
       "<style scoped>\n",
       "    .dataframe tbody tr th:only-of-type {\n",
       "        vertical-align: middle;\n",
       "    }\n",
       "\n",
       "    .dataframe tbody tr th {\n",
       "        vertical-align: top;\n",
       "    }\n",
       "\n",
       "    .dataframe thead th {\n",
       "        text-align: right;\n",
       "    }\n",
       "</style>\n",
       "<table border=\"1\" class=\"dataframe\">\n",
       "  <thead>\n",
       "    <tr style=\"text-align: right;\">\n",
       "      <th></th>\n",
       "      <th>count</th>\n",
       "      <th>%</th>\n",
       "    </tr>\n",
       "  </thead>\n",
       "  <tbody>\n",
       "    <tr>\n",
       "      <th>Base Salary</th>\n",
       "      <td>184.0</td>\n",
       "      <td>26.099291</td>\n",
       "    </tr>\n",
       "    <tr>\n",
       "      <th>True_tackle_pct</th>\n",
       "      <td>33.0</td>\n",
       "      <td>4.680851</td>\n",
       "    </tr>\n",
       "    <tr>\n",
       "      <th>fb_id</th>\n",
       "      <td>0.0</td>\n",
       "      <td>0.000000</td>\n",
       "    </tr>\n",
       "    <tr>\n",
       "      <th>PKatt</th>\n",
       "      <td>0.0</td>\n",
       "      <td>0.000000</td>\n",
       "    </tr>\n",
       "    <tr>\n",
       "      <th>pAdj_Tackles_Mid_3rd</th>\n",
       "      <td>0.0</td>\n",
       "      <td>0.000000</td>\n",
       "    </tr>\n",
       "  </tbody>\n",
       "</table>\n",
       "</div>"
      ],
      "text/plain": [
       "                      count          %\n",
       "Base Salary           184.0  26.099291\n",
       "True_tackle_pct        33.0   4.680851\n",
       "fb_id                   0.0   0.000000\n",
       "PKatt                   0.0   0.000000\n",
       "pAdj_Tackles_Mid_3rd    0.0   0.000000"
      ]
     },
     "execution_count": 6,
     "metadata": {},
     "output_type": "execute_result"
    }
   ],
   "source": [
    "# ## dont need club for NMF \n",
    "\n",
    "clubs = df['Club']\n",
    "df.drop(columns=['Club'],inplace=True)\n",
    "missing = [df.isnull().sum(),100*df.isnull().mean()]\n",
    "m = pd.DataFrame(missing)\n",
    "m = m.T\n",
    "m.columns=['count', '%']\n",
    "m = m.sort_values(by='count',ascending=False)\n",
    "m.head()"
   ]
  },
  {
   "cell_type": "code",
   "execution_count": 8,
   "id": "628f43bc-b282-41b1-b8c1-af8c9cba228f",
   "metadata": {},
   "outputs": [
    {
     "name": "stdout",
     "output_type": "stream",
     "text": [
      "<class 'pandas.core.frame.DataFrame'>\n",
      "RangeIndex: 705 entries, 0 to 704\n",
      "Data columns (total 1 columns):\n",
      " #   Column       Non-Null Count  Dtype  \n",
      "---  ------       --------------  -----  \n",
      " 0   Base Salary  521 non-null    float64\n",
      "dtypes: float64(1)\n",
      "memory usage: 5.6 KB\n",
      "381064.81381957774\n"
     ]
    },
    {
     "name": "stderr",
     "output_type": "stream",
     "text": [
      "<ipython-input-8-3be890ae56c0>:1: FutureWarning: The default value of regex will change from True to False in a future version. In addition, single character regular expressions will*not* be treated as literal strings when regex=True.\n",
      "  df['Base Salary'] = df['Base Salary'].str.replace('$','')\n"
     ]
    },
    {
     "data": {
      "text/html": [
       "<div>\n",
       "<style scoped>\n",
       "    .dataframe tbody tr th:only-of-type {\n",
       "        vertical-align: middle;\n",
       "    }\n",
       "\n",
       "    .dataframe tbody tr th {\n",
       "        vertical-align: top;\n",
       "    }\n",
       "\n",
       "    .dataframe thead th {\n",
       "        text-align: right;\n",
       "    }\n",
       "</style>\n",
       "<table border=\"1\" class=\"dataframe\">\n",
       "  <thead>\n",
       "    <tr style=\"text-align: right;\">\n",
       "      <th></th>\n",
       "      <th>count</th>\n",
       "      <th>%</th>\n",
       "    </tr>\n",
       "  </thead>\n",
       "  <tbody>\n",
       "    <tr>\n",
       "      <th>True_tackle_pct</th>\n",
       "      <td>33.0</td>\n",
       "      <td>4.680851</td>\n",
       "    </tr>\n",
       "    <tr>\n",
       "      <th>fb_id</th>\n",
       "      <td>0.0</td>\n",
       "      <td>0.000000</td>\n",
       "    </tr>\n",
       "    <tr>\n",
       "      <th>PKatt</th>\n",
       "      <td>0.0</td>\n",
       "      <td>0.000000</td>\n",
       "    </tr>\n",
       "    <tr>\n",
       "      <th>pAdj_Tackles_Mid_3rd</th>\n",
       "      <td>0.0</td>\n",
       "      <td>0.000000</td>\n",
       "    </tr>\n",
       "    <tr>\n",
       "      <th>pAdj_Tackles_Def_3rd</th>\n",
       "      <td>0.0</td>\n",
       "      <td>0.000000</td>\n",
       "    </tr>\n",
       "  </tbody>\n",
       "</table>\n",
       "</div>"
      ],
      "text/plain": [
       "                      count         %\n",
       "True_tackle_pct        33.0  4.680851\n",
       "fb_id                   0.0  0.000000\n",
       "PKatt                   0.0  0.000000\n",
       "pAdj_Tackles_Mid_3rd    0.0  0.000000\n",
       "pAdj_Tackles_Def_3rd    0.0  0.000000"
      ]
     },
     "execution_count": 8,
     "metadata": {},
     "output_type": "execute_result"
    }
   ],
   "source": [
    "df['Base Salary'] = df['Base Salary'].str.replace('$','')\n",
    "df['Base Salary'] = df['Base Salary'].str.replace(',','')\n",
    "df['Base Salary'] = pd.to_numeric(df['Base Salary'])\n",
    "df[['Base Salary']].info()\n",
    "cols = ['Base Salary']\n",
    "for col in cols:\n",
    "    print(df[col].mean())\n",
    "    df[col] = df[col].fillna(df[col].mean())\n",
    "\n",
    "missing = [df.isnull().sum(),100*df.isnull().mean()]\n",
    "m = pd.DataFrame(missing)\n",
    "m = m.T\n",
    "m.columns=['count', '%']\n",
    "m = m.sort_values(by='count',ascending=False)\n",
    "m.head()"
   ]
  },
  {
   "cell_type": "code",
   "execution_count": 9,
   "id": "74ad9750-3856-4fc8-be21-71f13b46fe82",
   "metadata": {},
   "outputs": [
    {
     "data": {
      "text/plain": [
       "count    672.000000\n",
       "mean      23.926205\n",
       "std       12.244691\n",
       "min        0.000000\n",
       "25%       18.378937\n",
       "50%       25.091964\n",
       "75%       30.775008\n",
       "max      101.660156\n",
       "Name: True_tackle_pct, dtype: float64"
      ]
     },
     "execution_count": 9,
     "metadata": {},
     "output_type": "execute_result"
    }
   ],
   "source": [
    "df['True_tackle_pct'].describe()"
   ]
  },
  {
   "cell_type": "code",
   "execution_count": 10,
   "id": "523645c4-7ee3-473a-a020-5b7a80a5ce67",
   "metadata": {},
   "outputs": [
    {
     "data": {
      "text/plain": [
       "(705, 63)"
      ]
     },
     "execution_count": 10,
     "metadata": {},
     "output_type": "execute_result"
    }
   ],
   "source": [
    "mini_df = df[['player_name','Position', 'Nineties', 'xA', 'Key_pass',\n",
    "       'Comp_prog', 'Total_Cmp', 'Total_Att', 'Total_Cmp_pct',\n",
    "       'Total_Tot_Dist', 'Total_Prg_Dist',\n",
    "              'Short_Cmp', 'Short_Att',\n",
    "       'Short_Cmp_pct', 'Medium_Cmp', 'Medium_Att', 'Medium_Cmp_pct',\n",
    "       'Long_Cmp', 'Long_Att', 'Long_Cmp_pct', 'touches', 'touches_def_box',\n",
    "       'touches_def_3rd', 'touches_mid_3rd', 'touches_att_3rd',\n",
    "       'touches_att_box', 'touch_live', 'dribble_Succ', 'dribble_Att',\n",
    "       'dribble_Succ_pct',\n",
    "              'num_dribble_past', 'dribble_megs', 'carries',\n",
    "       'carries_dist', 'carries_prog_dist', 'carries_prog', 'carries_att_3rd',\n",
    "       'carries_att_box', 'miss_control', 'dispossed', 'recep_targ',\n",
    "       'recep_succ', 'recept_pct', 'Fouls_drawn', 'Offsides', 'Crosses',\n",
    "       'PK_won', 'Aerial_win_pct', \n",
    "              'Gls', 'Sh', 'SoT', 'SoT%', 'Sh/90',\n",
    "       'SoT/90', 'G/Sh', 'G/SoT', 'Dist', 'FK',\n",
    "              'PK', 'PKatt', 'xG', 'npxG',\n",
    "       'npxG/Sh', \n",
    "              \n",
    "              # cant use negatives\n",
    "              # 'G-xG',\n",
    "              # 'np:G-xG',\n",
    "              \n",
    "             \n",
    "             ]]\n",
    "\n",
    "mini_df.shape"
   ]
  },
  {
   "cell_type": "code",
   "execution_count": null,
   "id": "f33c8cbf-e259-4dec-8d58-bafbdaacb8c0",
   "metadata": {},
   "outputs": [],
   "source": []
  },
  {
   "cell_type": "code",
   "execution_count": null,
   "id": "9f8a5cb1-f87a-47db-8886-14fe1ed0bf6a",
   "metadata": {},
   "outputs": [],
   "source": []
  },
  {
   "cell_type": "code",
   "execution_count": 11,
   "id": "2e5a08f3-7709-4c6f-b262-c80d685b0be4",
   "metadata": {},
   "outputs": [],
   "source": [
    "test = df[[\n",
    "    \n",
    "    # 'Nineties', 'xA', 'Key_pass',\n",
    "    #    'Comp_prog', 'Total_Cmp', 'Total_Att', 'Total_Cmp_pct',\n",
    "    #    'Total_Tot_Dist', 'Total_Prg_Dist',\n",
    "    #           'Short_Cmp', 'Short_Att',\n",
    "    #    'Short_Cmp_pct', 'Medium_Cmp', 'Medium_Att', 'Medium_Cmp_pct',\n",
    "    #    'Long_Cmp', 'Long_Att', 'Long_Cmp_pct', 'touches', 'touches_def_box',\n",
    "    #    'touches_def_3rd', 'touches_mid_3rd', 'touches_att_3rd',\n",
    "    #    'touches_att_box', 'touch_live', 'dribble_Succ', 'dribble_Att',\n",
    "    #    'dribble_Succ_pct',\n",
    "    #           'num_dribble_past', 'dribble_megs', 'carries',\n",
    "    #    'carries_dist', 'carries_prog_dist', 'carries_prog', 'carries_att_3rd',\n",
    "    #    'carries_att_box', 'miss_control', 'dispossed', 'recep_targ',\n",
    "    #    'recep_succ', 'recept_pct', 'Fouls_drawn', 'Offsides', 'Crosses',\n",
    "    #    'PK_won', 'Aerial_win_pct', \n",
    "        \n",
    "           'PK_won', 'Aerial_win_pct', \n",
    "              'Gls',  'SoT', 'SoT%', 'Sh/90',\n",
    "       'SoT/90', 'G/Sh', 'G/SoT', 'Dist', 'FK',\n",
    "              'PK', 'PKatt', 'xG', 'npxG',\n",
    "       'npxG/Sh']]"
   ]
  },
  {
   "cell_type": "code",
   "execution_count": 12,
   "id": "dc875133-f267-4f81-b863-d4d00142850e",
   "metadata": {},
   "outputs": [
    {
     "data": {
      "text/plain": [
       "array([[ 0.5, -1. ,  1. ],\n",
       "       [ 1. ,  0. ,  0. ],\n",
       "       [ 0. ,  1. , -0.5]])"
      ]
     },
     "execution_count": 12,
     "metadata": {},
     "output_type": "execute_result"
    }
   ],
   "source": [
    ">>> from sklearn.preprocessing import MaxAbsScaler\n",
    ">>> X = [[ 1., -1.,  2.],\n",
    "...      [ 2.,  0.,  0.],\n",
    "...      [ 0.,  1., -1.]]\n",
    ">>> transformer = MaxAbsScaler().fit(X)\n",
    ">>> transformer\n",
    "MaxAbsScaler()\n",
    ">>> transformer.transform(X)\n",
    "# array([[ 0.5, -1. ,  1. ],\n",
    "#        [ 1. ,  0. ,  0. ],\n",
    "#        [ 0. ,  1. , -0.5]])"
   ]
  },
  {
   "cell_type": "code",
   "execution_count": 14,
   "id": "11bfc33b-bb22-45eb-8529-18ee7cb38bdc",
   "metadata": {},
   "outputs": [
    {
     "data": {
      "text/plain": [
       "array([[0.8, 0.2, 0.4, 0.4],\n",
       "       [0.1, 0.3, 0.9, 0.3],\n",
       "       [0.5, 0.7, 0.5, 0.1]])"
      ]
     },
     "execution_count": 14,
     "metadata": {},
     "output_type": "execute_result"
    }
   ],
   "source": [
    ">>> from sklearn.preprocessing import Normalizer\n",
    ">>> X = [[4, 1, 2, 2],\n",
    "...      [1, 3, 9, 3],\n",
    "...      [5, 7, 5, 1]]\n",
    ">>> transformer = Normalizer().fit(X)  # fit does nothing.\n",
    ">>> transformer\n",
    "Normalizer()\n",
    ">>> transformer.transform(X)\n",
    "# array([[0.8, 0.2, 0.4, 0.4],\n",
    "#        [0.1, 0.3, 0.9, 0.3],\n",
    "#        [0.5, 0.7, 0.5, 0.1]])"
   ]
  },
  {
   "cell_type": "code",
   "execution_count": 16,
   "id": "e462e20d-859b-4852-a14b-23eaeca1e540",
   "metadata": {},
   "outputs": [
    {
     "name": "stdout",
     "output_type": "stream",
     "text": [
      "6.378261580683327\n"
     ]
    }
   ],
   "source": [
    "\n",
    "X = mini_df  # reading the score data\n",
    "c = 6\n",
    "X_float = X.select_dtypes(float)\n",
    "# Create a MaxAbsScaler: scaler\n",
    "transformer = MaxAbsScaler().fit(test)\n",
    "\n",
    "\n",
    "scaled_X= transformer.transform(test)\n",
    "transformer = Normalizer().fit(scaled_X)\n",
    "normed_X= transformer.transform(scaled_X)\n",
    "# Create an NMF model: nmf\n",
    " \n",
    "    \n",
    "nmf = NMF(n_components=4 ,max_iter=1000,init='nndsvda', random_state=0)\n",
    "\n",
    "\n",
    "W = nmf.fit_transform(normed_X)\n",
    "H = nmf.components_\n",
    "err = nmf.reconstruction_err_\n",
    "print(err)"
   ]
  },
  {
   "cell_type": "code",
   "execution_count": 17,
   "id": "2c2690aa-57d5-42b0-9a82-fb5c23f7f5bb",
   "metadata": {},
   "outputs": [
    {
     "data": {
      "text/plain": [
       "(4, 16)"
      ]
     },
     "execution_count": 17,
     "metadata": {},
     "output_type": "execute_result"
    }
   ],
   "source": [
    "H.shape"
   ]
  },
  {
   "cell_type": "code",
   "execution_count": 18,
   "id": "a2699d99-9493-45e8-9b80-ea86a9522c83",
   "metadata": {},
   "outputs": [
    {
     "data": {
      "text/plain": [
       "(705, 4)"
      ]
     },
     "execution_count": 18,
     "metadata": {},
     "output_type": "execute_result"
    }
   ],
   "source": [
    "W.shape"
   ]
  },
  {
   "cell_type": "code",
   "execution_count": 19,
   "id": "6336b846-9b28-468b-8f65-3a568e74c9c8",
   "metadata": {},
   "outputs": [
    {
     "data": {
      "text/plain": [
       "6.378261580683327"
      ]
     },
     "execution_count": 19,
     "metadata": {},
     "output_type": "execute_result"
    }
   ],
   "source": [
    "err"
   ]
  },
  {
   "cell_type": "code",
   "execution_count": 20,
   "id": "83371858-02d4-4613-b72d-3ee6a58eb06c",
   "metadata": {},
   "outputs": [
    {
     "name": "stdout",
     "output_type": "stream",
     "text": [
      "(4, 16)\n",
      "Dist       2.177742\n",
      "Sh/90      0.730105\n",
      "npxG/Sh    0.591483\n",
      "npxG       0.402876\n",
      "xG         0.386791\n",
      "Name: 3, dtype: float64\n"
     ]
    }
   ],
   "source": [
    "# Create a DataFrame: components_df\n",
    "components_df = pd.DataFrame(nmf.components_,columns=test.columns)\n",
    "\n",
    "# Print the shape of the DataFrame\n",
    "print(components_df.shape)\n",
    "\n",
    "# Select row 3: component\n",
    "component = components_df.iloc[3]\n",
    "\n",
    "# Print result of nlargest\n",
    "print(component.nlargest())"
   ]
  },
  {
   "cell_type": "code",
   "execution_count": 22,
   "id": "10e12ea7-5a6e-4256-b099-c529d12b6b08",
   "metadata": {},
   "outputs": [
    {
     "data": {
      "text/html": [
       "<div>\n",
       "<style scoped>\n",
       "    .dataframe tbody tr th:only-of-type {\n",
       "        vertical-align: middle;\n",
       "    }\n",
       "\n",
       "    .dataframe tbody tr th {\n",
       "        vertical-align: top;\n",
       "    }\n",
       "\n",
       "    .dataframe thead th {\n",
       "        text-align: right;\n",
       "    }\n",
       "</style>\n",
       "<table border=\"1\" class=\"dataframe\">\n",
       "  <thead>\n",
       "    <tr style=\"text-align: right;\">\n",
       "      <th></th>\n",
       "      <th>PK_won</th>\n",
       "      <th>Aerial_win_pct</th>\n",
       "      <th>Gls</th>\n",
       "      <th>SoT</th>\n",
       "      <th>SoT%</th>\n",
       "      <th>Sh/90</th>\n",
       "      <th>SoT/90</th>\n",
       "      <th>G/Sh</th>\n",
       "      <th>G/SoT</th>\n",
       "      <th>Dist</th>\n",
       "      <th>FK</th>\n",
       "      <th>PK</th>\n",
       "      <th>PKatt</th>\n",
       "      <th>xG</th>\n",
       "      <th>npxG</th>\n",
       "      <th>npxG/Sh</th>\n",
       "    </tr>\n",
       "  </thead>\n",
       "  <tbody>\n",
       "    <tr>\n",
       "      <th>0</th>\n",
       "      <td>0.000000</td>\n",
       "      <td>6.017662</td>\n",
       "      <td>0.000000</td>\n",
       "      <td>0.000000</td>\n",
       "      <td>0.018549</td>\n",
       "      <td>0.000000</td>\n",
       "      <td>0.000000</td>\n",
       "      <td>0.000000</td>\n",
       "      <td>0.046089</td>\n",
       "      <td>0.082573</td>\n",
       "      <td>0.005230</td>\n",
       "      <td>0.000000</td>\n",
       "      <td>0.000000</td>\n",
       "      <td>0.015402</td>\n",
       "      <td>0.012179</td>\n",
       "      <td>0.000000</td>\n",
       "    </tr>\n",
       "    <tr>\n",
       "      <th>1</th>\n",
       "      <td>0.000000</td>\n",
       "      <td>0.000000</td>\n",
       "      <td>0.005532</td>\n",
       "      <td>0.576528</td>\n",
       "      <td>4.132607</td>\n",
       "      <td>0.000000</td>\n",
       "      <td>0.083692</td>\n",
       "      <td>0.076753</td>\n",
       "      <td>0.036676</td>\n",
       "      <td>0.099595</td>\n",
       "      <td>0.069893</td>\n",
       "      <td>0.000000</td>\n",
       "      <td>0.000000</td>\n",
       "      <td>0.103183</td>\n",
       "      <td>0.139459</td>\n",
       "      <td>0.052599</td>\n",
       "    </tr>\n",
       "    <tr>\n",
       "      <th>2</th>\n",
       "      <td>0.663884</td>\n",
       "      <td>0.050507</td>\n",
       "      <td>2.203446</td>\n",
       "      <td>1.062644</td>\n",
       "      <td>0.000000</td>\n",
       "      <td>0.105344</td>\n",
       "      <td>0.091378</td>\n",
       "      <td>0.152224</td>\n",
       "      <td>0.229151</td>\n",
       "      <td>0.000000</td>\n",
       "      <td>0.574311</td>\n",
       "      <td>0.301455</td>\n",
       "      <td>0.354876</td>\n",
       "      <td>1.765977</td>\n",
       "      <td>1.630711</td>\n",
       "      <td>0.139552</td>\n",
       "    </tr>\n",
       "    <tr>\n",
       "      <th>3</th>\n",
       "      <td>0.000000</td>\n",
       "      <td>0.000000</td>\n",
       "      <td>0.000000</td>\n",
       "      <td>0.169471</td>\n",
       "      <td>0.000000</td>\n",
       "      <td>0.730105</td>\n",
       "      <td>0.196494</td>\n",
       "      <td>0.035606</td>\n",
       "      <td>0.042650</td>\n",
       "      <td>2.177742</td>\n",
       "      <td>0.000000</td>\n",
       "      <td>0.000000</td>\n",
       "      <td>0.000000</td>\n",
       "      <td>0.386791</td>\n",
       "      <td>0.402876</td>\n",
       "      <td>0.591483</td>\n",
       "    </tr>\n",
       "  </tbody>\n",
       "</table>\n",
       "</div>"
      ],
      "text/plain": [
       "     PK_won  Aerial_win_pct       Gls       SoT      SoT%     Sh/90    SoT/90  \\\n",
       "0  0.000000        6.017662  0.000000  0.000000  0.018549  0.000000  0.000000   \n",
       "1  0.000000        0.000000  0.005532  0.576528  4.132607  0.000000  0.083692   \n",
       "2  0.663884        0.050507  2.203446  1.062644  0.000000  0.105344  0.091378   \n",
       "3  0.000000        0.000000  0.000000  0.169471  0.000000  0.730105  0.196494   \n",
       "\n",
       "       G/Sh     G/SoT      Dist        FK        PK     PKatt        xG  \\\n",
       "0  0.000000  0.046089  0.082573  0.005230  0.000000  0.000000  0.015402   \n",
       "1  0.076753  0.036676  0.099595  0.069893  0.000000  0.000000  0.103183   \n",
       "2  0.152224  0.229151  0.000000  0.574311  0.301455  0.354876  1.765977   \n",
       "3  0.035606  0.042650  2.177742  0.000000  0.000000  0.000000  0.386791   \n",
       "\n",
       "       npxG   npxG/Sh  \n",
       "0  0.012179  0.000000  \n",
       "1  0.139459  0.052599  \n",
       "2  1.630711  0.139552  \n",
       "3  0.402876  0.591483  "
      ]
     },
     "execution_count": 22,
     "metadata": {},
     "output_type": "execute_result"
    }
   ],
   "source": [
    "components_df"
   ]
  },
  {
   "cell_type": "code",
   "execution_count": 21,
   "id": "bcb6625a-5148-418e-b4e0-5bc4500c17bc",
   "metadata": {},
   "outputs": [
    {
     "name": "stdout",
     "output_type": "stream",
     "text": [
      "Aerial_win_pct    6.017662\n",
      "Dist              0.082573\n",
      "G/SoT             0.046089\n",
      "SoT%              0.018549\n",
      "xG                0.015402\n",
      "Name: 0, dtype: float64\n",
      "SoT%    4.132607\n",
      "SoT     0.576528\n",
      "npxG    0.139459\n",
      "xG      0.103183\n",
      "Dist    0.099595\n",
      "Name: 1, dtype: float64\n",
      "Gls       2.203446\n",
      "xG        1.765977\n",
      "npxG      1.630711\n",
      "SoT       1.062644\n",
      "PK_won    0.663884\n",
      "Name: 2, dtype: float64\n",
      "Dist       2.177742\n",
      "Sh/90      0.730105\n",
      "npxG/Sh    0.591483\n",
      "npxG       0.402876\n",
      "xG         0.386791\n",
      "Name: 3, dtype: float64\n"
     ]
    }
   ],
   "source": [
    "for i in range(len(components_df)):\n",
    "    component = components_df.iloc[i]\n",
    "    print(component.nlargest())"
   ]
  },
  {
   "cell_type": "code",
   "execution_count": 135,
   "id": "86ab7659-7e9f-4792-baab-beeb4df0824f",
   "metadata": {},
   "outputs": [
    {
     "data": {
      "text/html": [
       "<div>\n",
       "<style scoped>\n",
       "    .dataframe tbody tr th:only-of-type {\n",
       "        vertical-align: middle;\n",
       "    }\n",
       "\n",
       "    .dataframe tbody tr th {\n",
       "        vertical-align: top;\n",
       "    }\n",
       "\n",
       "    .dataframe thead th {\n",
       "        text-align: right;\n",
       "    }\n",
       "</style>\n",
       "<table border=\"1\" class=\"dataframe\">\n",
       "  <thead>\n",
       "    <tr style=\"text-align: right;\">\n",
       "      <th></th>\n",
       "      <th>PK_won</th>\n",
       "      <th>Aerial_win_pct</th>\n",
       "      <th>Gls</th>\n",
       "      <th>SoT</th>\n",
       "      <th>SoT%</th>\n",
       "      <th>Sh/90</th>\n",
       "      <th>SoT/90</th>\n",
       "      <th>G/Sh</th>\n",
       "      <th>G/SoT</th>\n",
       "      <th>Dist</th>\n",
       "      <th>FK</th>\n",
       "      <th>PK</th>\n",
       "      <th>PKatt</th>\n",
       "      <th>xG</th>\n",
       "      <th>npxG</th>\n",
       "      <th>npxG/Sh</th>\n",
       "    </tr>\n",
       "  </thead>\n",
       "  <tbody>\n",
       "    <tr>\n",
       "      <th>0</th>\n",
       "      <td>0.00000</td>\n",
       "      <td>0.000000</td>\n",
       "      <td>0.000000</td>\n",
       "      <td>0.102266</td>\n",
       "      <td>1.455660</td>\n",
       "      <td>0.000000</td>\n",
       "      <td>0.007368</td>\n",
       "      <td>0.050424</td>\n",
       "      <td>0.003588</td>\n",
       "      <td>0.033342</td>\n",
       "      <td>0.000873</td>\n",
       "      <td>0.000000</td>\n",
       "      <td>0.000000</td>\n",
       "      <td>0.000000</td>\n",
       "      <td>0.000000</td>\n",
       "      <td>0.046112</td>\n",
       "    </tr>\n",
       "    <tr>\n",
       "      <th>1</th>\n",
       "      <td>0.00000</td>\n",
       "      <td>0.000000</td>\n",
       "      <td>0.000000</td>\n",
       "      <td>0.059656</td>\n",
       "      <td>0.000000</td>\n",
       "      <td>0.312015</td>\n",
       "      <td>0.087929</td>\n",
       "      <td>0.023510</td>\n",
       "      <td>0.078036</td>\n",
       "      <td>0.984500</td>\n",
       "      <td>0.000000</td>\n",
       "      <td>0.000000</td>\n",
       "      <td>0.000000</td>\n",
       "      <td>0.146910</td>\n",
       "      <td>0.155241</td>\n",
       "      <td>0.271433</td>\n",
       "    </tr>\n",
       "    <tr>\n",
       "      <th>2</th>\n",
       "      <td>0.00000</td>\n",
       "      <td>1.711045</td>\n",
       "      <td>0.000000</td>\n",
       "      <td>0.000000</td>\n",
       "      <td>0.008206</td>\n",
       "      <td>0.000000</td>\n",
       "      <td>0.000000</td>\n",
       "      <td>0.000000</td>\n",
       "      <td>0.044578</td>\n",
       "      <td>0.067796</td>\n",
       "      <td>0.003869</td>\n",
       "      <td>0.000000</td>\n",
       "      <td>0.000000</td>\n",
       "      <td>0.001465</td>\n",
       "      <td>0.004542</td>\n",
       "      <td>0.000000</td>\n",
       "    </tr>\n",
       "    <tr>\n",
       "      <th>3</th>\n",
       "      <td>0.47562</td>\n",
       "      <td>0.078150</td>\n",
       "      <td>1.608191</td>\n",
       "      <td>0.976330</td>\n",
       "      <td>0.050898</td>\n",
       "      <td>0.099581</td>\n",
       "      <td>0.112710</td>\n",
       "      <td>0.067544</td>\n",
       "      <td>0.116809</td>\n",
       "      <td>0.000000</td>\n",
       "      <td>0.462872</td>\n",
       "      <td>0.214276</td>\n",
       "      <td>0.253318</td>\n",
       "      <td>1.388685</td>\n",
       "      <td>1.306416</td>\n",
       "      <td>0.069530</td>\n",
       "    </tr>\n",
       "  </tbody>\n",
       "</table>\n",
       "</div>"
      ],
      "text/plain": [
       "    PK_won  Aerial_win_pct       Gls       SoT      SoT%     Sh/90    SoT/90  \\\n",
       "0  0.00000        0.000000  0.000000  0.102266  1.455660  0.000000  0.007368   \n",
       "1  0.00000        0.000000  0.000000  0.059656  0.000000  0.312015  0.087929   \n",
       "2  0.00000        1.711045  0.000000  0.000000  0.008206  0.000000  0.000000   \n",
       "3  0.47562        0.078150  1.608191  0.976330  0.050898  0.099581  0.112710   \n",
       "\n",
       "       G/Sh     G/SoT      Dist        FK        PK     PKatt        xG  \\\n",
       "0  0.050424  0.003588  0.033342  0.000873  0.000000  0.000000  0.000000   \n",
       "1  0.023510  0.078036  0.984500  0.000000  0.000000  0.000000  0.146910   \n",
       "2  0.000000  0.044578  0.067796  0.003869  0.000000  0.000000  0.001465   \n",
       "3  0.067544  0.116809  0.000000  0.462872  0.214276  0.253318  1.388685   \n",
       "\n",
       "       npxG   npxG/Sh  \n",
       "0  0.000000  0.046112  \n",
       "1  0.155241  0.271433  \n",
       "2  0.004542  0.000000  \n",
       "3  1.306416  0.069530  "
      ]
     },
     "execution_count": 135,
     "metadata": {},
     "output_type": "execute_result"
    }
   ],
   "source": [
    "components_df"
   ]
  },
  {
   "cell_type": "code",
   "execution_count": 136,
   "id": "6b7bcb5d-af43-4970-942f-95d0672bed79",
   "metadata": {},
   "outputs": [
    {
     "data": {
      "text/plain": [
       "6.452761548384023"
      ]
     },
     "execution_count": 136,
     "metadata": {},
     "output_type": "execute_result"
    }
   ],
   "source": [
    "err"
   ]
  },
  {
   "cell_type": "markdown",
   "id": "6f827d49-500a-4720-b256-4320147885f8",
   "metadata": {},
   "source": [
    "# I have this normed before putting into nmf not after , lowers error but could be obscuring data"
   ]
  },
  {
   "cell_type": "code",
   "execution_count": 66,
   "id": "757b651a-8221-4e9d-bb79-d2ae986f5650",
   "metadata": {},
   "outputs": [
    {
     "name": "stdout",
     "output_type": "stream",
     "text": [
      "NMF(init='nndsvda', max_iter=100000, n_components=1, random_state=0)\n",
      "NMF(init='nndsvda', max_iter=100000, n_components=2, random_state=0)\n",
      "NMF(init='nndsvda', max_iter=100000, n_components=3, random_state=0)\n",
      "NMF(init='nndsvda', max_iter=100000, n_components=4, random_state=0)\n",
      "NMF(init='nndsvda', max_iter=100000, n_components=5, random_state=0)\n",
      "NMF(init='nndsvda', max_iter=100000, n_components=6, random_state=0)\n",
      "NMF(init='nndsvda', max_iter=100000, n_components=7, random_state=0)\n",
      "NMF(init='nndsvda', max_iter=100000, n_components=8, random_state=0)\n",
      "NMF(init='nndsvda', max_iter=100000, n_components=9, random_state=0)\n"
     ]
    }
   ],
   "source": [
    "\n",
    "errors = {}\n",
    "components_dict = {}\n",
    "for c in range(1,10):\n",
    "    X = mini_df  # reading the score data\n",
    "    \n",
    "    c = c\n",
    "    # Create a MaxAbsScaler: scaler\n",
    "    transformer = MaxAbsScaler().fit(test)\n",
    "\n",
    "\n",
    "    scaled_X= transformer.transform(test)\n",
    "    # Create an NMF model: nmf\n",
    "    # normed_X= transformer.transform(scaled_X)\n",
    "    nmf = NMF(n_components=c,max_iter=100000,init='nndsvda', random_state=0)\n",
    "    print(nmf)\n",
    "\n",
    "\n",
    "    W = nmf.fit_transform(scaled_X)\n",
    "    H = nmf.components_\n",
    "    err = nmf.reconstruction_err_\n",
    "    errors[c]=err\n",
    "    # Create a DataFrame: components_df\n",
    "    components_df = pd.DataFrame(nmf.components_,columns=test.columns)\n",
    "    # put data frame in dictionary to observe \n",
    "    components_dict[c]=components_df\n",
    "\n",
    "    \n"
   ]
  },
  {
   "cell_type": "markdown",
   "id": "3cf8c481-0f1b-4541-9e67-67249f0958c3",
   "metadata": {},
   "source": [
    "# wow the itterations over the nmf different components definity looks pretty good , could try to tune alpha later but for now looks decent, going to try all features to see what happens , then try just key features"
   ]
  },
  {
   "cell_type": "code",
   "execution_count": 67,
   "id": "7f060c88-f865-4333-8047-61bada18e38e",
   "metadata": {},
   "outputs": [
    {
     "name": "stdout",
     "output_type": "stream",
     "text": [
      "This is nmf with : 1  components\n",
      " error =  11.519325617981426\n",
      "Aerial_win_pct    3.041323\n",
      "SoT%              1.913908\n",
      "Gls               0.910899\n",
      "xG                0.767191\n",
      "npxG              0.724720\n",
      "Name: 0, dtype: float64\n",
      "\n",
      "\n",
      "This is nmf with : 2  components\n",
      " error =  8.556441661131474\n",
      "Aerial_win_pct    4.124167\n",
      "SoT%              0.878657\n",
      "Dist              0.315655\n",
      "G/SoT             0.017421\n",
      "npxG/Sh           0.014986\n",
      "Name: 0, dtype: float64\n",
      "SoT%    1.791255\n",
      "Gls     1.417969\n",
      "xG      1.138869\n",
      "npxG    1.065786\n",
      "SoT     1.005248\n",
      "Name: 1, dtype: float64\n",
      "\n",
      "\n",
      "This is nmf with : 3  components\n",
      " error =  7.3957419177184125\n",
      "Aerial_win_pct    4.572424\n",
      "SoT%              0.126216\n",
      "Dist              0.085527\n",
      "G/SoT             0.038048\n",
      "xG                0.034930\n",
      "Name: 0, dtype: float64\n",
      "Gls     1.787491\n",
      "xG      1.265746\n",
      "npxG    1.131989\n",
      "SoT     0.848700\n",
      "SoT%    0.640912\n",
      "Name: 1, dtype: float64\n",
      "SoT%       2.623333\n",
      "Dist       0.755502\n",
      "SoT        0.514048\n",
      "npxG/Sh    0.294693\n",
      "npxG       0.257047\n",
      "Name: 2, dtype: float64\n",
      "\n",
      "\n",
      "This is nmf with : 4  components\n",
      " error =  6.263223432321639\n",
      "Aerial_win_pct    5.035974\n",
      "Dist              0.199397\n",
      "xG                0.039039\n",
      "G/SoT             0.034837\n",
      "npxG              0.027856\n",
      "Name: 0, dtype: float64\n",
      "Gls     1.870251\n",
      "xG      1.302745\n",
      "npxG    1.158795\n",
      "SoT     0.874458\n",
      "SoT%    0.701037\n",
      "Name: 1, dtype: float64\n",
      "SoT%    3.329993\n",
      "SoT     0.525737\n",
      "npxG    0.192987\n",
      "xG      0.142685\n",
      "FK      0.124854\n",
      "Name: 2, dtype: float64\n",
      "Dist       1.622632\n",
      "Sh/90      0.923337\n",
      "npxG/Sh    0.668467\n",
      "SoT/90     0.507138\n",
      "npxG       0.330029\n",
      "Name: 3, dtype: float64\n",
      "\n",
      "\n",
      "This is nmf with : 5  components\n",
      " error =  5.4193089166868855\n",
      "Aerial_win_pct    5.353146\n",
      "Dist              0.185376\n",
      "xG                0.057297\n",
      "npxG              0.052025\n",
      "SoT%              0.023758\n",
      "Name: 0, dtype: float64\n",
      "Gls     1.937380\n",
      "xG      1.380488\n",
      "npxG    1.314825\n",
      "SoT     0.951146\n",
      "SoT%    0.625889\n",
      "Name: 1, dtype: float64\n",
      "SoT%    3.774495\n",
      "SoT     0.546718\n",
      "FK      0.221356\n",
      "npxG    0.123527\n",
      "Dist    0.113073\n",
      "Name: 2, dtype: float64\n",
      "Dist       1.853086\n",
      "Sh/90      1.002014\n",
      "npxG/Sh    0.696528\n",
      "SoT/90     0.505930\n",
      "G/Sh       0.247651\n",
      "Name: 3, dtype: float64\n",
      "PK_won    1.565126\n",
      "PK        0.575876\n",
      "PKatt     0.563533\n",
      "FK        0.553544\n",
      "Gls       0.485866\n",
      "Name: 4, dtype: float64\n",
      "\n",
      "\n",
      "This is nmf with : 6  components\n",
      " error =  4.650486601993271\n",
      "Aerial_win_pct    5.795231\n",
      "Dist              0.214387\n",
      "xG                0.078901\n",
      "npxG              0.071489\n",
      "SoT%              0.020532\n",
      "Name: 0, dtype: float64\n",
      "xG      1.729558\n",
      "Gls     1.630566\n",
      "npxG    1.625961\n",
      "SoT     1.077193\n",
      "FK      0.255556\n",
      "Name: 1, dtype: float64\n",
      "SoT%    4.185118\n",
      "SoT     0.585551\n",
      "FK      0.191657\n",
      "Dist    0.099328\n",
      "npxG    0.093821\n",
      "Name: 2, dtype: float64\n",
      "Dist       2.004040\n",
      "Sh/90      1.088673\n",
      "npxG/Sh    0.741758\n",
      "SoT/90     0.519259\n",
      "npxG       0.346212\n",
      "Name: 3, dtype: float64\n",
      "PK_won    2.040090\n",
      "PK        0.658184\n",
      "PKatt     0.624402\n",
      "Gls       0.567626\n",
      "SoT%      0.444973\n",
      "Name: 4, dtype: float64\n",
      "Gls       1.357035\n",
      "G/Sh      1.073439\n",
      "G/SoT     1.018991\n",
      "SoT%      0.610980\n",
      "SoT/90    0.222809\n",
      "Name: 5, dtype: float64\n",
      "\n",
      "\n",
      "This is nmf with : 7  components\n",
      " error =  3.876739707192627\n",
      "Aerial_win_pct    6.203754\n",
      "Dist              0.211221\n",
      "xG                0.089331\n",
      "npxG              0.080707\n",
      "SoT%              0.012478\n",
      "Name: 0, dtype: float64\n",
      "xG      1.765851\n",
      "npxG    1.674866\n",
      "Gls     1.655073\n",
      "SoT     1.143299\n",
      "SoT%    0.784189\n",
      "Name: 1, dtype: float64\n",
      "SoT%       3.997748\n",
      "SoT        0.538276\n",
      "Dist       0.127942\n",
      "npxG       0.082820\n",
      "npxG/Sh    0.064127\n",
      "Name: 2, dtype: float64\n",
      "Dist       2.111656\n",
      "Sh/90      1.151641\n",
      "npxG/Sh    0.781579\n",
      "SoT/90     0.546418\n",
      "npxG       0.361666\n",
      "Name: 3, dtype: float64\n",
      "PK_won    2.558790\n",
      "PK        0.719932\n",
      "PKatt     0.670531\n",
      "Gls       0.646356\n",
      "SoT%      0.447096\n",
      "Name: 4, dtype: float64\n",
      "Gls               1.424393\n",
      "G/Sh              1.133463\n",
      "G/SoT             1.077047\n",
      "SoT/90            0.231711\n",
      "Aerial_win_pct    0.138195\n",
      "Name: 5, dtype: float64\n",
      "FK       1.694095\n",
      "SoT      0.250969\n",
      "PKatt    0.211372\n",
      "Gls      0.198715\n",
      "PK       0.183415\n",
      "Name: 6, dtype: float64\n",
      "\n",
      "\n",
      "This is nmf with : 8  components\n",
      " error =  3.1141884624225757\n",
      "Aerial_win_pct    6.442159\n",
      "Dist              0.201702\n",
      "npxG              0.095285\n",
      "xG                0.092037\n",
      "SoT%              0.010214\n",
      "Name: 0, dtype: float64\n",
      "npxG    1.850890\n",
      "xG      1.836829\n",
      "Gls     1.454692\n",
      "SoT     1.231224\n",
      "SoT%    0.601317\n",
      "Name: 1, dtype: float64\n",
      "SoT%       4.306090\n",
      "SoT        0.510967\n",
      "Dist       0.159589\n",
      "npxG/Sh    0.041890\n",
      "PK_won     0.000000\n",
      "Name: 2, dtype: float64\n",
      "Dist       2.260302\n",
      "Sh/90      1.190014\n",
      "npxG/Sh    0.790439\n",
      "SoT/90     0.534501\n",
      "xG         0.266945\n",
      "Name: 3, dtype: float64\n",
      "PK_won    3.131105\n",
      "Gls       0.487624\n",
      "SoT%      0.397661\n",
      "npxG      0.182614\n",
      "xG        0.176896\n",
      "Name: 4, dtype: float64\n",
      "Gls       1.510223\n",
      "G/Sh      1.140645\n",
      "G/SoT     1.087761\n",
      "SoT/90    0.227528\n",
      "SoT%      0.167974\n",
      "Name: 5, dtype: float64\n",
      "FK      1.836863\n",
      "SoT     0.295311\n",
      "npxG    0.104697\n",
      "xG      0.104635\n",
      "Gls     0.084846\n",
      "Name: 6, dtype: float64\n",
      "PKatt    0.995182\n",
      "PK       0.980294\n",
      "Gls      0.786161\n",
      "xG       0.370714\n",
      "SoT%     0.305392\n",
      "Name: 7, dtype: float64\n",
      "\n",
      "\n",
      "This is nmf with : 9  components\n",
      " error =  2.347202184697552\n",
      "Aerial_win_pct    6.702503\n",
      "npxG              0.144323\n",
      "xG                0.141342\n",
      "npxG/Sh           0.030479\n",
      "G/SoT             0.022344\n",
      "Name: 0, dtype: float64\n",
      "Gls     2.026112\n",
      "xG      1.709337\n",
      "npxG    1.706177\n",
      "SoT     1.249912\n",
      "SoT%    1.040440\n",
      "Name: 1, dtype: float64\n",
      "SoT%       4.341129\n",
      "SoT        0.536435\n",
      "Dist       0.321874\n",
      "npxG/Sh    0.059268\n",
      "SoT/90     0.026557\n",
      "Name: 2, dtype: float64\n",
      "Dist       2.831614\n",
      "Sh/90      0.754028\n",
      "npxG/Sh    0.160631\n",
      "SoT        0.117501\n",
      "G/SoT      0.005091\n",
      "Name: 3, dtype: float64\n",
      "PK_won            3.426172\n",
      "SoT%              0.202538\n",
      "Gls               0.150464\n",
      "Aerial_win_pct    0.087430\n",
      "npxG              0.015200\n",
      "Name: 4, dtype: float64\n",
      "Gls        1.386167\n",
      "G/Sh       1.167044\n",
      "G/SoT      1.097722\n",
      "SoT/90     0.261637\n",
      "npxG/Sh    0.146135\n",
      "Name: 5, dtype: float64\n",
      "FK      1.931316\n",
      "SoT     0.272228\n",
      "SoT%    0.109961\n",
      "Dist    0.061489\n",
      "xG      0.032790\n",
      "Name: 6, dtype: float64\n",
      "PKatt             1.226532\n",
      "PK                1.215026\n",
      "Gls               0.628696\n",
      "xG                0.370829\n",
      "Aerial_win_pct    0.326630\n",
      "Name: 7, dtype: float64\n",
      "npxG/Sh    0.944787\n",
      "xG         0.854634\n",
      "npxG       0.852630\n",
      "SoT/90     0.844674\n",
      "Sh/90      0.824181\n",
      "Name: 8, dtype: float64\n",
      "\n",
      "\n"
     ]
    }
   ],
   "source": [
    "for i in components_dict:\n",
    "    print('This is nmf with :',i, ' components')\n",
    "    print(' error = ',errors[i])\n",
    "    for a in range(len(components_dict[i])):\n",
    "        component = components_dict[i].iloc[a]\n",
    "        print(component.nlargest())\n",
    "    print('\\n')"
   ]
  },
  {
   "cell_type": "code",
   "execution_count": 68,
   "id": "dc3a10d8-1385-4d8f-ab74-2ea1d5376a58",
   "metadata": {},
   "outputs": [
    {
     "data": {
      "text/plain": [
       "(9, 16)"
      ]
     },
     "execution_count": 68,
     "metadata": {},
     "output_type": "execute_result"
    }
   ],
   "source": [
    "H.shape"
   ]
  },
  {
   "cell_type": "code",
   "execution_count": 69,
   "id": "7bf67c2a-31ca-45b0-a983-b3c75cc64454",
   "metadata": {},
   "outputs": [
    {
     "data": {
      "text/plain": [
       "{1: 11.519325617981426,\n",
       " 2: 8.556441661131474,\n",
       " 3: 7.3957419177184125,\n",
       " 4: 6.263223432321639,\n",
       " 5: 5.4193089166868855,\n",
       " 6: 4.650486601993271,\n",
       " 7: 3.876739707192627,\n",
       " 8: 3.1141884624225757,\n",
       " 9: 2.347202184697552}"
      ]
     },
     "execution_count": 69,
     "metadata": {},
     "output_type": "execute_result"
    }
   ],
   "source": [
    "errors"
   ]
  },
  {
   "cell_type": "code",
   "execution_count": 76,
   "id": "f0771699-0a8a-42a0-bad8-c4bd94f7e251",
   "metadata": {},
   "outputs": [
    {
     "ename": "ValueError",
     "evalue": "could not convert string to float: 'Carles Gil'",
     "output_type": "error",
     "traceback": [
      "\u001b[0;31m---------------------------------------------------------------------------\u001b[0m",
      "\u001b[0;31mValueError\u001b[0m                                Traceback (most recent call last)",
      "\u001b[0;32m<ipython-input-76-f0266aaee13d>\u001b[0m in \u001b[0;36m<module>\u001b[0;34m\u001b[0m\n\u001b[1;32m     12\u001b[0m \u001b[0;34m\u001b[0m\u001b[0m\n\u001b[1;32m     13\u001b[0m \u001b[0;34m\u001b[0m\u001b[0m\n\u001b[0;32m---> 14\u001b[0;31m     \u001b[0mscaled_X\u001b[0m\u001b[0;34m=\u001b[0m \u001b[0mtransformer\u001b[0m\u001b[0;34m.\u001b[0m\u001b[0mtransform\u001b[0m\u001b[0;34m(\u001b[0m\u001b[0mX\u001b[0m\u001b[0;34m)\u001b[0m\u001b[0;34m\u001b[0m\u001b[0;34m\u001b[0m\u001b[0m\n\u001b[0m\u001b[1;32m     15\u001b[0m     \u001b[0;31m# Create an NMF model: nmf\u001b[0m\u001b[0;34m\u001b[0m\u001b[0;34m\u001b[0m\u001b[0;34m\u001b[0m\u001b[0m\n\u001b[1;32m     16\u001b[0m     \u001b[0;31m# normed_X= transformer.transform(scaled_X)\u001b[0m\u001b[0;34m\u001b[0m\u001b[0;34m\u001b[0m\u001b[0;34m\u001b[0m\u001b[0m\n",
      "\u001b[0;32m~/opt/anaconda3/lib/python3.8/site-packages/sklearn/preprocessing/_data.py\u001b[0m in \u001b[0;36mtransform\u001b[0;34m(self, X)\u001b[0m\n\u001b[1;32m   1102\u001b[0m         \"\"\"\n\u001b[1;32m   1103\u001b[0m         \u001b[0mcheck_is_fitted\u001b[0m\u001b[0;34m(\u001b[0m\u001b[0mself\u001b[0m\u001b[0;34m)\u001b[0m\u001b[0;34m\u001b[0m\u001b[0;34m\u001b[0m\u001b[0m\n\u001b[0;32m-> 1104\u001b[0;31m         X = self._validate_data(X, accept_sparse=('csr', 'csc'),\n\u001b[0m\u001b[1;32m   1105\u001b[0m                                 \u001b[0mcopy\u001b[0m\u001b[0;34m=\u001b[0m\u001b[0mself\u001b[0m\u001b[0;34m.\u001b[0m\u001b[0mcopy\u001b[0m\u001b[0;34m,\u001b[0m \u001b[0mreset\u001b[0m\u001b[0;34m=\u001b[0m\u001b[0;32mFalse\u001b[0m\u001b[0;34m,\u001b[0m\u001b[0;34m\u001b[0m\u001b[0;34m\u001b[0m\u001b[0m\n\u001b[1;32m   1106\u001b[0m                                 \u001b[0mestimator\u001b[0m\u001b[0;34m=\u001b[0m\u001b[0mself\u001b[0m\u001b[0;34m,\u001b[0m \u001b[0mdtype\u001b[0m\u001b[0;34m=\u001b[0m\u001b[0mFLOAT_DTYPES\u001b[0m\u001b[0;34m,\u001b[0m\u001b[0;34m\u001b[0m\u001b[0;34m\u001b[0m\u001b[0m\n",
      "\u001b[0;32m~/opt/anaconda3/lib/python3.8/site-packages/sklearn/base.py\u001b[0m in \u001b[0;36m_validate_data\u001b[0;34m(self, X, y, reset, validate_separately, **check_params)\u001b[0m\n\u001b[1;32m    419\u001b[0m             \u001b[0mout\u001b[0m \u001b[0;34m=\u001b[0m \u001b[0mX\u001b[0m\u001b[0;34m\u001b[0m\u001b[0;34m\u001b[0m\u001b[0m\n\u001b[1;32m    420\u001b[0m         \u001b[0;32melif\u001b[0m \u001b[0misinstance\u001b[0m\u001b[0;34m(\u001b[0m\u001b[0my\u001b[0m\u001b[0;34m,\u001b[0m \u001b[0mstr\u001b[0m\u001b[0;34m)\u001b[0m \u001b[0;32mand\u001b[0m \u001b[0my\u001b[0m \u001b[0;34m==\u001b[0m \u001b[0;34m'no_validation'\u001b[0m\u001b[0;34m:\u001b[0m\u001b[0;34m\u001b[0m\u001b[0;34m\u001b[0m\u001b[0m\n\u001b[0;32m--> 421\u001b[0;31m             \u001b[0mX\u001b[0m \u001b[0;34m=\u001b[0m \u001b[0mcheck_array\u001b[0m\u001b[0;34m(\u001b[0m\u001b[0mX\u001b[0m\u001b[0;34m,\u001b[0m \u001b[0;34m**\u001b[0m\u001b[0mcheck_params\u001b[0m\u001b[0;34m)\u001b[0m\u001b[0;34m\u001b[0m\u001b[0;34m\u001b[0m\u001b[0m\n\u001b[0m\u001b[1;32m    422\u001b[0m             \u001b[0mout\u001b[0m \u001b[0;34m=\u001b[0m \u001b[0mX\u001b[0m\u001b[0;34m\u001b[0m\u001b[0;34m\u001b[0m\u001b[0m\n\u001b[1;32m    423\u001b[0m         \u001b[0;32melse\u001b[0m\u001b[0;34m:\u001b[0m\u001b[0;34m\u001b[0m\u001b[0;34m\u001b[0m\u001b[0m\n",
      "\u001b[0;32m~/opt/anaconda3/lib/python3.8/site-packages/sklearn/utils/validation.py\u001b[0m in \u001b[0;36minner_f\u001b[0;34m(*args, **kwargs)\u001b[0m\n\u001b[1;32m     61\u001b[0m             \u001b[0mextra_args\u001b[0m \u001b[0;34m=\u001b[0m \u001b[0mlen\u001b[0m\u001b[0;34m(\u001b[0m\u001b[0margs\u001b[0m\u001b[0;34m)\u001b[0m \u001b[0;34m-\u001b[0m \u001b[0mlen\u001b[0m\u001b[0;34m(\u001b[0m\u001b[0mall_args\u001b[0m\u001b[0;34m)\u001b[0m\u001b[0;34m\u001b[0m\u001b[0;34m\u001b[0m\u001b[0m\n\u001b[1;32m     62\u001b[0m             \u001b[0;32mif\u001b[0m \u001b[0mextra_args\u001b[0m \u001b[0;34m<=\u001b[0m \u001b[0;36m0\u001b[0m\u001b[0;34m:\u001b[0m\u001b[0;34m\u001b[0m\u001b[0;34m\u001b[0m\u001b[0m\n\u001b[0;32m---> 63\u001b[0;31m                 \u001b[0;32mreturn\u001b[0m \u001b[0mf\u001b[0m\u001b[0;34m(\u001b[0m\u001b[0;34m*\u001b[0m\u001b[0margs\u001b[0m\u001b[0;34m,\u001b[0m \u001b[0;34m**\u001b[0m\u001b[0mkwargs\u001b[0m\u001b[0;34m)\u001b[0m\u001b[0;34m\u001b[0m\u001b[0;34m\u001b[0m\u001b[0m\n\u001b[0m\u001b[1;32m     64\u001b[0m \u001b[0;34m\u001b[0m\u001b[0m\n\u001b[1;32m     65\u001b[0m             \u001b[0;31m# extra_args > 0\u001b[0m\u001b[0;34m\u001b[0m\u001b[0;34m\u001b[0m\u001b[0;34m\u001b[0m\u001b[0m\n",
      "\u001b[0;32m~/opt/anaconda3/lib/python3.8/site-packages/sklearn/utils/validation.py\u001b[0m in \u001b[0;36mcheck_array\u001b[0;34m(array, accept_sparse, accept_large_sparse, dtype, order, copy, force_all_finite, ensure_2d, allow_nd, ensure_min_samples, ensure_min_features, estimator)\u001b[0m\n\u001b[1;32m    614\u001b[0m                     \u001b[0marray\u001b[0m \u001b[0;34m=\u001b[0m \u001b[0marray\u001b[0m\u001b[0;34m.\u001b[0m\u001b[0mastype\u001b[0m\u001b[0;34m(\u001b[0m\u001b[0mdtype\u001b[0m\u001b[0;34m,\u001b[0m \u001b[0mcasting\u001b[0m\u001b[0;34m=\u001b[0m\u001b[0;34m\"unsafe\"\u001b[0m\u001b[0;34m,\u001b[0m \u001b[0mcopy\u001b[0m\u001b[0;34m=\u001b[0m\u001b[0;32mFalse\u001b[0m\u001b[0;34m)\u001b[0m\u001b[0;34m\u001b[0m\u001b[0;34m\u001b[0m\u001b[0m\n\u001b[1;32m    615\u001b[0m                 \u001b[0;32melse\u001b[0m\u001b[0;34m:\u001b[0m\u001b[0;34m\u001b[0m\u001b[0;34m\u001b[0m\u001b[0m\n\u001b[0;32m--> 616\u001b[0;31m                     \u001b[0marray\u001b[0m \u001b[0;34m=\u001b[0m \u001b[0mnp\u001b[0m\u001b[0;34m.\u001b[0m\u001b[0masarray\u001b[0m\u001b[0;34m(\u001b[0m\u001b[0marray\u001b[0m\u001b[0;34m,\u001b[0m \u001b[0morder\u001b[0m\u001b[0;34m=\u001b[0m\u001b[0morder\u001b[0m\u001b[0;34m,\u001b[0m \u001b[0mdtype\u001b[0m\u001b[0;34m=\u001b[0m\u001b[0mdtype\u001b[0m\u001b[0;34m)\u001b[0m\u001b[0;34m\u001b[0m\u001b[0;34m\u001b[0m\u001b[0m\n\u001b[0m\u001b[1;32m    617\u001b[0m             \u001b[0;32mexcept\u001b[0m \u001b[0mComplexWarning\u001b[0m \u001b[0;32mas\u001b[0m \u001b[0mcomplex_warning\u001b[0m\u001b[0;34m:\u001b[0m\u001b[0;34m\u001b[0m\u001b[0;34m\u001b[0m\u001b[0m\n\u001b[1;32m    618\u001b[0m                 raise ValueError(\"Complex data not supported\\n\"\n",
      "\u001b[0;32m~/opt/anaconda3/lib/python3.8/site-packages/numpy/core/_asarray.py\u001b[0m in \u001b[0;36masarray\u001b[0;34m(a, dtype, order, like)\u001b[0m\n\u001b[1;32m    100\u001b[0m         \u001b[0;32mreturn\u001b[0m \u001b[0m_asarray_with_like\u001b[0m\u001b[0;34m(\u001b[0m\u001b[0ma\u001b[0m\u001b[0;34m,\u001b[0m \u001b[0mdtype\u001b[0m\u001b[0;34m=\u001b[0m\u001b[0mdtype\u001b[0m\u001b[0;34m,\u001b[0m \u001b[0morder\u001b[0m\u001b[0;34m=\u001b[0m\u001b[0morder\u001b[0m\u001b[0;34m,\u001b[0m \u001b[0mlike\u001b[0m\u001b[0;34m=\u001b[0m\u001b[0mlike\u001b[0m\u001b[0;34m)\u001b[0m\u001b[0;34m\u001b[0m\u001b[0;34m\u001b[0m\u001b[0m\n\u001b[1;32m    101\u001b[0m \u001b[0;34m\u001b[0m\u001b[0m\n\u001b[0;32m--> 102\u001b[0;31m     \u001b[0;32mreturn\u001b[0m \u001b[0marray\u001b[0m\u001b[0;34m(\u001b[0m\u001b[0ma\u001b[0m\u001b[0;34m,\u001b[0m \u001b[0mdtype\u001b[0m\u001b[0;34m,\u001b[0m \u001b[0mcopy\u001b[0m\u001b[0;34m=\u001b[0m\u001b[0;32mFalse\u001b[0m\u001b[0;34m,\u001b[0m \u001b[0morder\u001b[0m\u001b[0;34m=\u001b[0m\u001b[0morder\u001b[0m\u001b[0;34m)\u001b[0m\u001b[0;34m\u001b[0m\u001b[0;34m\u001b[0m\u001b[0m\n\u001b[0m\u001b[1;32m    103\u001b[0m \u001b[0;34m\u001b[0m\u001b[0m\n\u001b[1;32m    104\u001b[0m \u001b[0;34m\u001b[0m\u001b[0m\n",
      "\u001b[0;32m~/opt/anaconda3/lib/python3.8/site-packages/pandas/core/generic.py\u001b[0m in \u001b[0;36m__array__\u001b[0;34m(self, dtype)\u001b[0m\n\u001b[1;32m   1897\u001b[0m \u001b[0;34m\u001b[0m\u001b[0m\n\u001b[1;32m   1898\u001b[0m     \u001b[0;32mdef\u001b[0m \u001b[0m__array__\u001b[0m\u001b[0;34m(\u001b[0m\u001b[0mself\u001b[0m\u001b[0;34m,\u001b[0m \u001b[0mdtype\u001b[0m\u001b[0;34m=\u001b[0m\u001b[0;32mNone\u001b[0m\u001b[0;34m)\u001b[0m \u001b[0;34m->\u001b[0m \u001b[0mnp\u001b[0m\u001b[0;34m.\u001b[0m\u001b[0mndarray\u001b[0m\u001b[0;34m:\u001b[0m\u001b[0;34m\u001b[0m\u001b[0;34m\u001b[0m\u001b[0m\n\u001b[0;32m-> 1899\u001b[0;31m         \u001b[0;32mreturn\u001b[0m \u001b[0mnp\u001b[0m\u001b[0;34m.\u001b[0m\u001b[0masarray\u001b[0m\u001b[0;34m(\u001b[0m\u001b[0mself\u001b[0m\u001b[0;34m.\u001b[0m\u001b[0m_values\u001b[0m\u001b[0;34m,\u001b[0m \u001b[0mdtype\u001b[0m\u001b[0;34m=\u001b[0m\u001b[0mdtype\u001b[0m\u001b[0;34m)\u001b[0m\u001b[0;34m\u001b[0m\u001b[0;34m\u001b[0m\u001b[0m\n\u001b[0m\u001b[1;32m   1900\u001b[0m \u001b[0;34m\u001b[0m\u001b[0m\n\u001b[1;32m   1901\u001b[0m     def __array_wrap__(\n",
      "\u001b[0;32m~/opt/anaconda3/lib/python3.8/site-packages/numpy/core/_asarray.py\u001b[0m in \u001b[0;36masarray\u001b[0;34m(a, dtype, order, like)\u001b[0m\n\u001b[1;32m    100\u001b[0m         \u001b[0;32mreturn\u001b[0m \u001b[0m_asarray_with_like\u001b[0m\u001b[0;34m(\u001b[0m\u001b[0ma\u001b[0m\u001b[0;34m,\u001b[0m \u001b[0mdtype\u001b[0m\u001b[0;34m=\u001b[0m\u001b[0mdtype\u001b[0m\u001b[0;34m,\u001b[0m \u001b[0morder\u001b[0m\u001b[0;34m=\u001b[0m\u001b[0morder\u001b[0m\u001b[0;34m,\u001b[0m \u001b[0mlike\u001b[0m\u001b[0;34m=\u001b[0m\u001b[0mlike\u001b[0m\u001b[0;34m)\u001b[0m\u001b[0;34m\u001b[0m\u001b[0;34m\u001b[0m\u001b[0m\n\u001b[1;32m    101\u001b[0m \u001b[0;34m\u001b[0m\u001b[0m\n\u001b[0;32m--> 102\u001b[0;31m     \u001b[0;32mreturn\u001b[0m \u001b[0marray\u001b[0m\u001b[0;34m(\u001b[0m\u001b[0ma\u001b[0m\u001b[0;34m,\u001b[0m \u001b[0mdtype\u001b[0m\u001b[0;34m,\u001b[0m \u001b[0mcopy\u001b[0m\u001b[0;34m=\u001b[0m\u001b[0;32mFalse\u001b[0m\u001b[0;34m,\u001b[0m \u001b[0morder\u001b[0m\u001b[0;34m=\u001b[0m\u001b[0morder\u001b[0m\u001b[0;34m)\u001b[0m\u001b[0;34m\u001b[0m\u001b[0;34m\u001b[0m\u001b[0m\n\u001b[0m\u001b[1;32m    103\u001b[0m \u001b[0;34m\u001b[0m\u001b[0m\n\u001b[1;32m    104\u001b[0m \u001b[0;34m\u001b[0m\u001b[0m\n",
      "\u001b[0;31mValueError\u001b[0m: could not convert string to float: 'Carles Gil'"
     ]
    }
   ],
   "source": [
    "## on mini not test \n",
    "\n",
    "\n",
    "errors = {}\n",
    "components_dict = {}\n",
    "for c in range(1,10):\n",
    "    X = mini_df  # reading the score data\n",
    "    \n",
    "    c = c\n",
    "    # Create a MaxAbsScaler: scaler\n",
    "    transformer = MaxAbsScaler().fit(X.select_dtypes(float))\n",
    "\n",
    "\n",
    "    scaled_X= transformer.transform(X)\n",
    "    # Create an NMF model: nmf\n",
    "    # normed_X= transformer.transform(scaled_X)\n",
    "    nmf = NMF(n_components=c,max_iter=100000,init='nndsvda', random_state=0)\n",
    "    print(nmf)\n",
    "\n",
    "\n",
    "    W = nmf.fit_transform(scaled_X)\n",
    "    H = nmf.components_\n",
    "    err = nmf.reconstruction_err_\n",
    "    errors[c]=err\n",
    "    # Create a DataFrame: components_df\n",
    "    components_df = pd.DataFrame(nmf.components_,columns=test.columns)\n",
    "    # put data frame in dictionary to observe \n",
    "    components_dict[c]=components_df\n",
    "\n",
    "    \n"
   ]
  },
  {
   "cell_type": "code",
   "execution_count": 70,
   "id": "41aa1428-9b82-4c8f-9471-c7578cde7ee8",
   "metadata": {},
   "outputs": [
    {
     "name": "stdout",
     "output_type": "stream",
     "text": [
      "(9, 16)\n",
      "Dist       2.831614\n",
      "Sh/90      0.754028\n",
      "npxG/Sh    0.160631\n",
      "SoT        0.117501\n",
      "G/SoT      0.005091\n",
      "Name: 3, dtype: float64\n"
     ]
    }
   ],
   "source": [
    "# components_df = pd.DataFrame(nmf.components_,columns=mini_df.columns)\n",
    "\n",
    "# print(component_df.shape)\n",
    "        \n",
    "# Create a DataFrame: components_df\n",
    "components_df = pd.DataFrame(nmf.components_,columns=test.columns)\n",
    "\n",
    "# Print the shape of the DataFrame\n",
    "print(components_df.shape)\n",
    "\n",
    "# Select row 3: component\n",
    "component = components_df.iloc[3]\n",
    "\n",
    "# Print result of nlargest\n",
    "print(component.nlargest())"
   ]
  },
  {
   "cell_type": "code",
   "execution_count": 71,
   "id": "7039edca-fa76-4179-9e3f-30acec3ab85c",
   "metadata": {},
   "outputs": [
    {
     "name": "stdout",
     "output_type": "stream",
     "text": [
      "<class 'pandas.core.frame.DataFrame'>\n",
      "Index: 705 entries, Carles Gil to Kamron Habibullah\n",
      "Data columns (total 9 columns):\n",
      " #   Column  Non-Null Count  Dtype  \n",
      "---  ------  --------------  -----  \n",
      " 0   0       705 non-null    float64\n",
      " 1   1       705 non-null    float64\n",
      " 2   2       705 non-null    float64\n",
      " 3   3       705 non-null    float64\n",
      " 4   4       705 non-null    float64\n",
      " 5   5       705 non-null    float64\n",
      " 6   6       705 non-null    float64\n",
      " 7   7       705 non-null    float64\n",
      " 8   8       705 non-null    float64\n",
      "dtypes: float64(9)\n",
      "memory usage: 55.1+ KB\n"
     ]
    }
   ],
   "source": [
    "# transformer = Normalizer().fit(W)\n",
    "# normed_X= transformer.transform(W)\n",
    "normed_df = pd.DataFrame(W,index=df.player_name.values)\n",
    "normed_df.info()"
   ]
  },
  {
   "cell_type": "code",
   "execution_count": 72,
   "id": "1ca947dd-262f-4148-9269-c8b713128720",
   "metadata": {},
   "outputs": [],
   "source": [
    "## looks all wrong with normed first - need to adjust "
   ]
  },
  {
   "cell_type": "code",
   "execution_count": 73,
   "id": "7f45e419-7edc-406d-b5e4-4a72b0c80511",
   "metadata": {},
   "outputs": [
    {
     "data": {
      "text/plain": [
       "Dante Sealy            0.024404\n",
       "Yordy Reyna            0.024339\n",
       "Daniel Musovski        0.023490\n",
       "Daryl Dike             0.021739\n",
       "Sergio Santos Gomes    0.021702\n",
       "Javier Hernández       0.021446\n",
       "Jáder Obrian           0.020998\n",
       "Jordan Perruzza        0.020847\n",
       "Cristian Arango        0.020446\n",
       "Robert Castellanos     0.020362\n",
       "dtype: float64"
      ]
     },
     "execution_count": 73,
     "metadata": {},
     "output_type": "execute_result"
    }
   ],
   "source": [
    "jm = normed_df.loc['Jonathan Mensah']\n",
    "sims = normed_df.dot(jm)\n",
    "\n",
    "sims.nlargest(10)"
   ]
  },
  {
   "cell_type": "code",
   "execution_count": 63,
   "id": "9904ae40-d6b4-41bd-8dab-f0d9a1990fea",
   "metadata": {},
   "outputs": [
    {
     "data": {
      "text/plain": [
       "Abu Danladi          0.035413\n",
       "Dante Sealy          0.027083\n",
       "Jordan Perruzza      0.023360\n",
       "Tony Rocha           0.021676\n",
       "Jarosław Niezgoda    0.020125\n",
       "Adam Buksa           0.018459\n",
       "Miguel Berry         0.017891\n",
       "Anderson Julio       0.017783\n",
       "Javier Hernández     0.016787\n",
       "Christian Ramirez    0.016572\n",
       "dtype: float64"
      ]
     },
     "execution_count": 63,
     "metadata": {},
     "output_type": "execute_result"
    }
   ],
   "source": [
    "wz = normed_df.loc['Walker Zimmerman']\n",
    "sims = normed_df.dot(wz)\n",
    "\n",
    "sims.nlargest(10)"
   ]
  },
  {
   "cell_type": "code",
   "execution_count": 27,
   "id": "0eb0fb53-1432-4c50-894d-e4c44b6440b1",
   "metadata": {},
   "outputs": [
    {
     "data": {
      "text/plain": [
       "(705, 63)"
      ]
     },
     "execution_count": 27,
     "metadata": {},
     "output_type": "execute_result"
    }
   ],
   "source": [
    "mini_df.shape"
   ]
  },
  {
   "cell_type": "code",
   "execution_count": 56,
   "id": "78735e46-ce12-407f-9ddc-f2262009e4f9",
   "metadata": {},
   "outputs": [
    {
     "data": {
      "text/plain": [
       "(705, 103)"
      ]
     },
     "execution_count": 56,
     "metadata": {},
     "output_type": "execute_result"
    }
   ],
   "source": [
    "df_n = df.drop(columns= ['G-xG','np:G-xG'])\n",
    "df_n.shape"
   ]
  },
  {
   "cell_type": "code",
   "execution_count": 55,
   "id": "b27197a9-0bae-4e47-8dc1-06d875e86b77",
   "metadata": {},
   "outputs": [
    {
     "data": {
      "text/plain": [
       "array(['fb_id', 'player_name', 'Squad_from_op', 'Opposing_Poss',\n",
       "       'Opposing_Touches', 'Player', 'Nation', 'Position',\n",
       "       'Tackle_pct_won', 'Nineties', 'xA', 'Key_pass', 'Comp_prog',\n",
       "       'Total_Cmp', 'Total_Att', 'Total_Cmp_pct', 'Total_Tot_Dist',\n",
       "       'Total_Prg_Dist', 'Short_Cmp', 'Short_Att', 'Short_Cmp_pct',\n",
       "       'Medium_Cmp', 'Medium_Att', 'Medium_Cmp_pct', 'Long_Cmp',\n",
       "       'Long_Att', 'Long_Cmp_pct', 'touches', 'touches_def_box',\n",
       "       'touches_def_3rd', 'touches_mid_3rd', 'touches_att_3rd',\n",
       "       'touches_att_box', 'touch_live', 'dribble_Succ', 'dribble_Att',\n",
       "       'dribble_Succ_pct', 'num_dribble_past', 'dribble_megs', 'carries',\n",
       "       'carries_dist', 'carries_prog_dist', 'carries_prog',\n",
       "       'carries_att_3rd', 'carries_att_box', 'miss_control', 'dispossed',\n",
       "       'recep_targ', 'recep_succ', 'recept_pct', 'Fouls_drawn',\n",
       "       'Offsides', 'Crosses', 'PK_won', 'Aerial_win_pct', 'Gls', 'Sh',\n",
       "       'SoT', 'SoT%', 'Sh/90', 'SoT/90', 'G/Sh', 'G/SoT', 'Dist', 'FK',\n",
       "       'PK', 'PKatt', 'xG', 'npxG', 'npxG/Sh', 'G-xG', 'np:G-xG',\n",
       "       'Base Salary', 'pAdj_Total_tackles', 'pAdj_Tackles_Won',\n",
       "       'pAdj_Tackles_Def_3rd', 'pAdj_Tackles_Mid_3rd',\n",
       "       'pAdj_Tackles_Att_3rd', 'pAdj_Num_Dribblers_tackled',\n",
       "       'pAdj_Num_Dribbled_past', 'pAdj_total_pressing',\n",
       "       'pAdj_Won_ball_5_sec', 'pAdj_pres_Def_3rd', 'pAdj_pres_Mid_3rd',\n",
       "       'pAdj_pres_Att_3rd', 'pAdj_Blocks', 'pAdj_Blocked_shots',\n",
       "       'pAdj_Blocked_SOT', 'pAdj_Blocked_pass', 'pAdj_Interceptions',\n",
       "       'pAdj_Tackles_and_Ints', 'pAdj_Clearences', 'pAdj_Yellow_cards',\n",
       "       'pAdj_Red_cards', 'pAdj_Second_yellow', 'pAdj_Fouls',\n",
       "       'pAdj_def_interceptions', 'pAdj_from_mish_tackles_won',\n",
       "       'pAdj_PK_conceded', 'pAdj_OG', 'pAdj_Recoveries',\n",
       "       'pAdj_Aerial_Duels_lost', 'pAdj_Tackle_int_blocks',\n",
       "       'True_tackle_pct', 'lost_tackles'], dtype=object)"
      ]
     },
     "execution_count": 55,
     "metadata": {},
     "output_type": "execute_result"
    }
   ],
   "source": [
    "df.columns.values"
   ]
  },
  {
   "cell_type": "code",
   "execution_count": null,
   "id": "5b303513-5991-4109-9bb3-09f2f6f1bbf6",
   "metadata": {},
   "outputs": [],
   "source": []
  }
 ],
 "metadata": {
  "kernelspec": {
   "display_name": "PythonData",
   "language": "python",
   "name": "pythondata"
  },
  "language_info": {
   "codemirror_mode": {
    "name": "ipython",
    "version": 3
   },
   "file_extension": ".py",
   "mimetype": "text/x-python",
   "name": "python",
   "nbconvert_exporter": "python",
   "pygments_lexer": "ipython3",
   "version": "3.8.8"
  }
 },
 "nbformat": 4,
 "nbformat_minor": 5
}
