{
 "cells": [
  {
   "cell_type": "code",
   "execution_count": 1,
   "id": "2fde3d67-22d1-431b-bba3-7b002d82d3cf",
   "metadata": {},
   "outputs": [],
   "source": [
    "import pandas as pd\n",
    "import numpy as np\n",
    "import matplotlib.pyplot as plt"
   ]
  },
  {
   "cell_type": "code",
   "execution_count": 2,
   "id": "f93eb15a-7ac4-4bfa-be5f-21932383d576",
   "metadata": {},
   "outputs": [
    {
     "name": "stdout",
     "output_type": "stream",
     "text": [
      "<class 'pandas.core.frame.DataFrame'>\n",
      "RangeIndex: 705 entries, 0 to 704\n",
      "Columns: 106 entries, fb_id to pAdj_Tackle_int_blocks\n",
      "dtypes: float64(98), object(8)\n",
      "memory usage: 584.0+ KB\n"
     ]
    }
   ],
   "source": [
    "df = pd.read_csv('../data/final_per_90_and_pAdj.csv')\n",
    "df.info()"
   ]
  },
  {
   "cell_type": "code",
   "execution_count": 3,
   "id": "4699c086-8bd4-440f-bddd-389dcdf64a6b",
   "metadata": {},
   "outputs": [
    {
     "data": {
      "text/plain": [
       "array(['fb_id', 'player_name', 'Squad_from_op', 'Opposing_Poss',\n",
       "       'Opposing_Touches', 'Player', 'Nation', 'Position',\n",
       "       'Tackle_pct_won', 'Nineties', 'xA', 'Key_pass', 'Comp_prog',\n",
       "       'Total_Cmp', 'Total_Att', 'Total_Cmp_pct', 'Total_Tot_Dist',\n",
       "       'Total_Prg_Dist', 'Short_Cmp', 'Short_Att', 'Short_Cmp_pct',\n",
       "       'Medium_Cmp', 'Medium_Att', 'Medium_Cmp_pct', 'Long_Cmp',\n",
       "       'Long_Att', 'Long_Cmp_pct', 'touches', 'touches_def_box',\n",
       "       'touches_def_3rd', 'touches_mid_3rd', 'touches_att_3rd',\n",
       "       'touches_att_box', 'touch_live', 'dribble_Succ', 'dribble_Att',\n",
       "       'dribble_Succ_pct', 'num_dribble_past', 'dribble_megs', 'carries',\n",
       "       'carries_dist', 'carries_prog_dist', 'carries_prog',\n",
       "       'carries_att_3rd', 'carries_att_box', 'miss_control', 'dispossed',\n",
       "       'recep_targ', 'recep_succ', 'recept_pct', 'Fouls_drawn',\n",
       "       'Offsides', 'Crosses', 'PK_won', 'Aerial_win_pct', 'Gls', 'Sh',\n",
       "       'SoT', 'SoT%', 'Sh/90', 'SoT/90', 'G/Sh', 'G/SoT', 'Dist', 'FK',\n",
       "       'PK', 'PKatt', 'xG', 'npxG', 'npxG/Sh', 'G-xG', 'np:G-xG', 'Club',\n",
       "       'Base Salary', 'pAdj_Total_tackles', 'pAdj_Tackles_Won',\n",
       "       'pAdj_Tackles_Def_3rd', 'pAdj_Tackles_Mid_3rd',\n",
       "       'pAdj_Tackles_Att_3rd', 'pAdj_Num_Dribblers_tackled',\n",
       "       'pAdj_Num_Dribbled_past', 'pAdj_total_pressing',\n",
       "       'pAdj_Won_ball_5_sec', 'pAdj_pres_Def_3rd', 'pAdj_pres_Mid_3rd',\n",
       "       'pAdj_pres_Att_3rd', 'pAdj_Blocks', 'pAdj_Blocked_shots',\n",
       "       'pAdj_Blocked_SOT', 'pAdj_Blocked_pass', 'pAdj_Interceptions',\n",
       "       'pAdj_Tackles_and_Ints', 'pAdj_Clearences', 'pAdj_Yellow_cards',\n",
       "       'pAdj_Red_cards', 'pAdj_Second_yellow', 'pAdj_Fouls',\n",
       "       'pAdj_def_interceptions', 'pAdj_from_mish_tackles_won',\n",
       "       'pAdj_PK_conceded', 'pAdj_OG', 'pAdj_Recoveries',\n",
       "       'pAdj_Aerial_Duels_lost', 'lost_tackles', 'True_tackle_pct',\n",
       "       'pAdj_Tackle_int_blocks'], dtype=object)"
      ]
     },
     "execution_count": 3,
     "metadata": {},
     "output_type": "execute_result"
    }
   ],
   "source": [
    "df.columns.values"
   ]
  },
  {
   "cell_type": "code",
   "execution_count": 5,
   "id": "c0964929-9bad-4651-858f-7251e6e62807",
   "metadata": {},
   "outputs": [
    {
     "data": {
      "text/plain": [
       "count    705.000000\n",
       "mean      86.887021\n",
       "std        7.689691\n",
       "min       55.700000\n",
       "25%       82.500000\n",
       "50%       87.600000\n",
       "75%       92.150000\n",
       "max      100.000000\n",
       "Name: avg_short_long_pass_pct, dtype: float64"
      ]
     },
     "execution_count": 5,
     "metadata": {},
     "output_type": "execute_result"
    }
   ],
   "source": [
    "df['avg_short_long_pass_pct'] = (df['Short_Cmp_pct']+df['Medium_Cmp_pct'])/2\n",
    "df['avg_short_long_pass_pct'].describe()"
   ]
  },
  {
   "cell_type": "code",
   "execution_count": 7,
   "id": "9569a866-27e1-42b5-aaa2-e8032de6da63",
   "metadata": {},
   "outputs": [
    {
     "data": {
      "text/plain": [
       "count    705.000000\n",
       "mean       9.427816\n",
       "std        3.876573\n",
       "min        1.000000\n",
       "25%        6.689189\n",
       "50%        9.356223\n",
       "75%       11.854305\n",
       "max       24.960630\n",
       "Name: dribbles+deep_comp&crosses, dtype: float64"
      ]
     },
     "execution_count": 7,
     "metadata": {},
     "output_type": "execute_result"
    }
   ],
   "source": [
    "df['dribbles+deep_comp&crosses'] = df['carries_prog']+df['Long_Cmp']+df['Crosses']\n",
    "df['dribbles+deep_comp&crosses'].describe()"
   ]
  },
  {
   "cell_type": "code",
   "execution_count": 10,
   "id": "84efb070-d3b6-4be6-af02-c33dab437c66",
   "metadata": {},
   "outputs": [
    {
     "data": {
      "text/html": [
       "<div>\n",
       "<style scoped>\n",
       "    .dataframe tbody tr th:only-of-type {\n",
       "        vertical-align: middle;\n",
       "    }\n",
       "\n",
       "    .dataframe tbody tr th {\n",
       "        vertical-align: top;\n",
       "    }\n",
       "\n",
       "    .dataframe thead th {\n",
       "        text-align: right;\n",
       "    }\n",
       "</style>\n",
       "<table border=\"1\" class=\"dataframe\">\n",
       "  <thead>\n",
       "    <tr style=\"text-align: right;\">\n",
       "      <th></th>\n",
       "      <th>player_name</th>\n",
       "      <th>Nineties</th>\n",
       "      <th>Squad_from_op</th>\n",
       "      <th>dribbles+deep_comp&amp;crosses</th>\n",
       "      <th>ratio_long_balls</th>\n",
       "      <th>recept_pct</th>\n",
       "    </tr>\n",
       "  </thead>\n",
       "  <tbody>\n",
       "    <tr>\n",
       "      <th>0</th>\n",
       "      <td>Carles Gil</td>\n",
       "      <td>25.4</td>\n",
       "      <td>New England</td>\n",
       "      <td>24.960630</td>\n",
       "      <td>0.270222</td>\n",
       "      <td>85.1</td>\n",
       "    </tr>\n",
       "    <tr>\n",
       "      <th>59</th>\n",
       "      <td>Graham Zusi</td>\n",
       "      <td>23.6</td>\n",
       "      <td>Sporting KC</td>\n",
       "      <td>20.296610</td>\n",
       "      <td>0.237089</td>\n",
       "      <td>95.7</td>\n",
       "    </tr>\n",
       "    <tr>\n",
       "      <th>116</th>\n",
       "      <td>Sebastián Blanco</td>\n",
       "      <td>13.1</td>\n",
       "      <td>Portland Timbers</td>\n",
       "      <td>20.992366</td>\n",
       "      <td>0.239669</td>\n",
       "      <td>85.3</td>\n",
       "    </tr>\n",
       "    <tr>\n",
       "      <th>316</th>\n",
       "      <td>Andreu Fontàs</td>\n",
       "      <td>33.0</td>\n",
       "      <td>Sporting KC</td>\n",
       "      <td>22.636364</td>\n",
       "      <td>0.235146</td>\n",
       "      <td>98.9</td>\n",
       "    </tr>\n",
       "    <tr>\n",
       "      <th>327</th>\n",
       "      <td>Ilie Sánchez</td>\n",
       "      <td>27.9</td>\n",
       "      <td>Sporting KC</td>\n",
       "      <td>21.469534</td>\n",
       "      <td>0.283603</td>\n",
       "      <td>98.2</td>\n",
       "    </tr>\n",
       "    <tr>\n",
       "      <th>363</th>\n",
       "      <td>Jürgen Damm</td>\n",
       "      <td>1.8</td>\n",
       "      <td>Atlanta Utd</td>\n",
       "      <td>23.888889</td>\n",
       "      <td>0.255319</td>\n",
       "      <td>81.9</td>\n",
       "    </tr>\n",
       "    <tr>\n",
       "      <th>581</th>\n",
       "      <td>Gedion Zelalem</td>\n",
       "      <td>1.1</td>\n",
       "      <td>NYCFC</td>\n",
       "      <td>21.818182</td>\n",
       "      <td>0.194175</td>\n",
       "      <td>96.9</td>\n",
       "    </tr>\n",
       "    <tr>\n",
       "      <th>696</th>\n",
       "      <td>Ilsinho</td>\n",
       "      <td>0.9</td>\n",
       "      <td>Philadelphia</td>\n",
       "      <td>24.000000</td>\n",
       "      <td>0.034091</td>\n",
       "      <td>92.5</td>\n",
       "    </tr>\n",
       "  </tbody>\n",
       "</table>\n",
       "</div>"
      ],
      "text/plain": [
       "          player_name  Nineties     Squad_from_op  dribbles+deep_comp&crosses  \\\n",
       "0          Carles Gil      25.4       New England                   24.960630   \n",
       "59        Graham Zusi      23.6       Sporting KC                   20.296610   \n",
       "116  Sebastián Blanco      13.1  Portland Timbers                   20.992366   \n",
       "316     Andreu Fontàs      33.0       Sporting KC                   22.636364   \n",
       "327      Ilie Sánchez      27.9       Sporting KC                   21.469534   \n",
       "363       Jürgen Damm       1.8       Atlanta Utd                   23.888889   \n",
       "581    Gedion Zelalem       1.1             NYCFC                   21.818182   \n",
       "696           Ilsinho       0.9      Philadelphia                   24.000000   \n",
       "\n",
       "     ratio_long_balls  recept_pct  \n",
       "0            0.270222        85.1  \n",
       "59           0.237089        95.7  \n",
       "116          0.239669        85.3  \n",
       "316          0.235146        98.9  \n",
       "327          0.283603        98.2  \n",
       "363          0.255319        81.9  \n",
       "581          0.194175        96.9  \n",
       "696          0.034091        92.5  "
      ]
     },
     "execution_count": 10,
     "metadata": {},
     "output_type": "execute_result"
    }
   ],
   "source": [
    "df.loc[df['dribbles+deep_comp&crosses']>20][['player_name','Nineties', 'Squad_from_op','dribbles+deep_comp&crosses',\n",
    "                                                 'ratio_long_balls','recept_pct']]"
   ]
  },
  {
   "cell_type": "markdown",
   "id": "2b76005e-f87d-463c-92fa-8f18094da524",
   "metadata": {},
   "source": [
    "### max values not outliers but best players at the features"
   ]
  },
  {
   "cell_type": "code",
   "execution_count": null,
   "id": "5850d533-8ef3-4b87-95ce-8961d67fd229",
   "metadata": {},
   "outputs": [],
   "source": [
    "#3 create one feature from these \n",
    "\n",
    "'touches_mid_3rd', 'touches_att_3rd',\n",
    "       'touches_att_box', 'touch_live', 'dribble_Succ', 'dribble_Att',\n",
    "       'dribble_Succ_pct', 'num_dribble_past', 'dribble_megs', 'carries',\n",
    "       'carries_dist', 'carries_prog_dist', 'carries_prog',\n",
    "       'carries_att_3rd', 'carries_att_box'"
   ]
  },
  {
   "cell_type": "code",
   "execution_count": null,
   "id": "bf2d922c-43c1-4b81-8c08-f1b418cc3b0a",
   "metadata": {},
   "outputs": [],
   "source": [
    "'recept_pct'"
   ]
  },
  {
   "cell_type": "code",
   "execution_count": 6,
   "id": "94cf3486-83bb-4f04-a404-9274081a04cc",
   "metadata": {},
   "outputs": [
    {
     "data": {
      "text/plain": [
       "count    705.000000\n",
       "mean       0.196511\n",
       "std        0.132160\n",
       "min        0.011765\n",
       "25%        0.117253\n",
       "50%        0.163142\n",
       "75%        0.232308\n",
       "max        0.909091\n",
       "Name: ratio_long_balls, dtype: float64"
      ]
     },
     "execution_count": 6,
     "metadata": {},
     "output_type": "execute_result"
    }
   ],
   "source": [
    "df['ratio_long_balls']=df['Long_Att']/df['Total_Att']\n",
    "df['ratio_long_balls'].describe()"
   ]
  },
  {
   "cell_type": "code",
   "execution_count": null,
   "id": "9c9d1cc5-dc2a-45a3-9768-c77eea1c2d2d",
   "metadata": {},
   "outputs": [],
   "source": [
    "offensive = df[['player_name']]"
   ]
  },
  {
   "cell_type": "code",
   "execution_count": null,
   "id": "c1d7384a-c001-4db4-94ad-bc901e5fbe25",
   "metadata": {},
   "outputs": [],
   "source": []
  },
  {
   "cell_type": "code",
   "execution_count": 11,
   "id": "f725018f-a3d8-4ba7-a9b2-94f0a4d8e33b",
   "metadata": {},
   "outputs": [
    {
     "name": "stdout",
     "output_type": "stream",
     "text": [
      "'features to feature selected df to use later on' was not found in history, as a file, url, nor in the user namespace.\n"
     ]
    }
   ],
   "source": [
    "save new features to feature selected df to use later on"
   ]
  },
  {
   "cell_type": "code",
   "execution_count": null,
   "id": "7e7b03d8-9783-4f95-81d2-8f6ab7e1cdc3",
   "metadata": {},
   "outputs": [],
   "source": []
  }
 ],
 "metadata": {
  "kernelspec": {
   "display_name": "PythonData",
   "language": "python",
   "name": "pythondata"
  },
  "language_info": {
   "codemirror_mode": {
    "name": "ipython",
    "version": 3
   },
   "file_extension": ".py",
   "mimetype": "text/x-python",
   "name": "python",
   "nbconvert_exporter": "python",
   "pygments_lexer": "ipython3",
   "version": "3.8.8"
  }
 },
 "nbformat": 4,
 "nbformat_minor": 5
}
