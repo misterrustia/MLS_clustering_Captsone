{
 "cells": [
  {
   "cell_type": "markdown",
   "id": "3cfba066-f3c3-47c6-823d-c96d0c66e4c7",
   "metadata": {},
   "source": [
    "Try nmf with all non negative features with grid search of c \n"
   ]
  },
  {
   "cell_type": "markdown",
   "id": "6134ee91-1124-45c3-840d-2ddea2292ad4",
   "metadata": {},
   "source": [
    "# NMF Modeling for player recomendations\n",
    "\n",
    "non negative matrix factorization(NMF) is a feature reduction technique that decomposes a matrix into two smaller matricies that can be used to cluster features from the original matrix into topics as well as calculate the distance between samples in the original matrix to allow for recomendations between the closest samples to be created. I will be using NMF to generate player recomendations to find who has the cloest stats to  'Walker Zimmerman' and some of the other best players in the MLS "
   ]
  },
  {
   "cell_type": "code",
   "execution_count": 1,
   "id": "f5bf71c1-ddd5-4f00-823a-c80beee8d885",
   "metadata": {},
   "outputs": [],
   "source": [
    "## import packages and tools\n",
    "import pandas as pd\n",
    "import numpy as np\n",
    "import matplotlib.pyplot as plt\n",
    "from sklearn.decomposition import NMF \n",
    "from sklearn.preprocessing import Normalizer ,MaxAbsScaler\n",
    "from sklearn.pipeline import make_pipeline"
   ]
  },
  {
   "cell_type": "code",
   "execution_count": 2,
   "id": "e1e2e622-cd8f-411a-b9c6-4f320531348f",
   "metadata": {},
   "outputs": [],
   "source": [
    "## load data\n",
    "df = pd.read_csv('../data/final_per_90_and_pAdj.csv')"
   ]
  },
  {
   "cell_type": "code",
   "execution_count": 3,
   "id": "b0796d9a-6379-49c2-8ddd-e23119f65f7f",
   "metadata": {},
   "outputs": [
    {
     "data": {
      "text/plain": [
       "(705, 100)"
      ]
     },
     "execution_count": 3,
     "metadata": {},
     "output_type": "execute_result"
    }
   ],
   "source": [
    "## set index and drop negative and categotical columns \n",
    "X = df.set_index('player_name')\n",
    "\n",
    "X = X.drop(columns= ['Base Salary','Player', 'Club',\n",
    "                     'Nation', 'Position','fb_id', 'Squad_from_op','G-xG','np:G-xG'])\n",
    "X.shape"
   ]
  },
  {
   "cell_type": "code",
   "execution_count": 4,
   "id": "c7de25c2-1379-4f62-b51f-ce05f5005e2c",
   "metadata": {},
   "outputs": [
    {
     "data": {
      "text/plain": [
       "(541, 90)"
      ]
     },
     "execution_count": 4,
     "metadata": {},
     "output_type": "execute_result"
    }
   ],
   "source": [
    "## select key features to input into NMF \n",
    "X = X[[ 'Tackle_pct_won', 'Nineties', 'xA',\n",
    "       'Key_pass', 'Comp_prog', 'Total_Cmp', 'Total_Att', 'Total_Cmp_pct',\n",
    "       'Total_Tot_Dist', 'Total_Prg_Dist', 'Short_Cmp', 'Short_Att',\n",
    "       'Short_Cmp_pct', 'Medium_Cmp', 'Medium_Att', 'Medium_Cmp_pct',\n",
    "       'Long_Cmp', 'Long_Att', 'Long_Cmp_pct', 'touches', 'touches_def_box',\n",
    "       'touches_def_3rd', 'touches_mid_3rd', 'touches_att_3rd',\n",
    "       'touches_att_box', 'touch_live', 'dribble_Succ', 'dribble_Att',\n",
    "       'dribble_Succ_pct', 'num_dribble_past', 'dribble_megs', 'carries',\n",
    "       'carries_dist', 'carries_prog_dist', 'carries_prog', 'carries_att_3rd',\n",
    "       'carries_att_box', 'miss_control', 'dispossed', 'recep_targ',\n",
    "       'recep_succ', 'recept_pct', 'Fouls_drawn', 'Offsides', 'Crosses',\n",
    "       'PK_won', 'Aerial_win_pct', 'Gls', 'Sh', 'SoT', 'SoT%', 'Sh/90',\n",
    "       'SoT/90', 'G/Sh', 'G/SoT', 'Dist', 'FK', 'PK', 'PKatt', 'xG', 'npxG',\n",
    "       'npxG/Sh', 'pAdj_Total_tackles', 'pAdj_Tackles_Won',\n",
    "       'pAdj_Tackles_Def_3rd', 'pAdj_Tackles_Mid_3rd', 'pAdj_Tackles_Att_3rd',\n",
    "       'pAdj_Num_Dribblers_tackled', 'pAdj_Num_Dribbled_past', \n",
    "       'pAdj_Blocked_shots', 'pAdj_Blocked_SOT', 'pAdj_Blocked_pass',\n",
    "       'pAdj_Interceptions', 'pAdj_Tackles_and_Ints', 'pAdj_Clearences',\n",
    "       'pAdj_Yellow_cards', 'pAdj_Red_cards',\n",
    "       'pAdj_Fouls', 'pAdj_def_interceptions', \n",
    "       'pAdj_PK_conceded', 'pAdj_OG', 'pAdj_Recoveries',\n",
    "       'pAdj_Aerial_Duels_lost', 'lost_tackles', 'True_tackle_pct',\n",
    "       'pAdj_Tackle_int_blocks', 'avg_shrt+med_pass_pct', 'pct_long_balls',\n",
    "       'prog_carry+lng_comp+crosses', 'attacking_touches']]\n",
    "X = X.loc[(X['Nineties']>5)]\n",
    "X.shape"
   ]
  },
  {
   "cell_type": "markdown",
   "id": "a49e8dd9-aed5-4b55-a111-2fc4a43cce2b",
   "metadata": {},
   "source": [
    "# Overview -\n",
    "\n",
    "NMF or Non Negative Matrix Factorization is widley used for topic modeling and document clustering but there are many examples of NMF being used to cluster other kinds of datasets such as classifying Companies on extra finacial criteria.https://towardsdatascience.com/using-nmf-to-classify-companies-a77e176f276f .\n",
    "    I am going  to use NMF to classify my MLS 2021 data set by the \"topic\" or ,grouping of player stats,that I will call \"skill set group\". I will use the skill sets to classify players in the league and then use a normalized version of the decomposed matrix to identify players who are closest to Key players Identified in my EDA such and \"Nathan\" and \" \"Zimmerman\". At the end I should have all players classified by a key skill set and players closest to the target players identifed so show how francises could use NMF to I dentify players from around the globe that could fit into roles played by players in the MLS with wider data sets than I have access to at this time. \n",
    "\n",
    "# NMF matrix break down -\n",
    "With the player matrix X being of n players(rows) and f features(player stats) (n x f)\n",
    "and \n",
    "c = number of Skill set groups generated \n",
    "\n",
    "## Weight matrix - weights of each row for each skill set group or topic \n",
    " players times skil set matrix \n",
    "#W = n x c \n",
    "\n",
    "## Hidden layer matric - hidden layer of feature value for each skill set group\n",
    "player stat features times skill set group matrix\n",
    "H = F x c\n",
    "\n",
    "## Thus the matric multiplcation of W (weight)* H(hidden) approximates the original X player matrix\n",
    "\n",
    " W x H approximates X\n",
    "\n",
    "## The W weight matrix is than used to find players closest to the target player in question\n",
    "\n",
    "The distane between the topic values fo each player in the W matrix can be used to measure who is the most simular allowing for recomendations of players closest to the target player to be created.\n",
    "\n",
    "The skill set group that has the higest ranking for each player is used to classify or label groups of players who are simular in their player stats features. \n",
    "\n"
   ]
  },
  {
   "cell_type": "code",
   "execution_count": 11,
   "id": "9bcf6b3e-bc3f-406d-aa4e-4a1adf7c59b8",
   "metadata": {},
   "outputs": [],
   "source": [
    "# function to viz \n",
    "def display_features(H,W,feature_names, X_matrix ,no_top_features, no_top_players):\n",
    "    \"\"\" visualize skill get group and highest ranked players in group \"\"\"\n",
    "    \n",
    "    # iterate through topics in topic-term matrix, 'H' aka\n",
    "    # H is the hidden layer which is shape (F x C) feature times topic matrix\n",
    "    for topic_idx, topic in enumerate(H):\n",
    "        print(\"Topic %d:\" % (topic_idx))\n",
    "        print(\" \".join([ (feature_names[i] + \" (\" + str(topic[i].round(2)) + \")\")\n",
    "          for i in topic.argsort()[:-no_top_features - 1:-1]]))\n",
    "        top_player_indicies = np.argsort( W[:,topic_idx] )[::-1][0:no_top_players]\n",
    "        for p_index in top_player_indicies:\n",
    "            \n",
    "            print(p_index,\" \",X_matrix.index[p_index])\n"
   ]
  },
  {
   "cell_type": "code",
   "execution_count": 14,
   "id": "3e004fda-243c-406c-be22-d1b00a3cb692",
   "metadata": {},
   "outputs": [
    {
     "name": "stdout",
     "output_type": "stream",
     "text": [
      "NMF(alpha=0.1, init='nndsvda', l1_ratio=0.5, max_iter=100000, n_components=11,\n",
      "    random_state=42) error : 15.986014641229442 \n",
      "  W shape (541, 11) H shape  (11, 90)\n",
      "Topic 0:\n",
      "recept_pct (1.71) Short_Cmp_pct (1.67) avg_shrt+med_pass_pct (1.66) Medium_Cmp_pct (1.65)\n",
      "488   Brad Guzan\n",
      "518   Maxime Crépeau\n",
      "526   Zac MacMath\n",
      "530   David Ochoa\n",
      "428   J.T. Marcinkowski\n",
      "Topic 1:\n",
      "touches_att_box (1.8) SoT (1.55) npxG (1.54) pAdj_Yellow_cards (1.51)\n",
      "45   Valentín Castellanos\n",
      "192   Adam Buksa\n",
      "106   Ola Kamara\n",
      "147   Cristian Arango\n",
      "130   Patryk Klimala\n",
      "Topic 2:\n",
      "SoT% (2.29) G/SoT (1.46) npxG/Sh (0.99) G/Sh (0.75)\n",
      "459   Ralph Priso-Mbongue\n",
      "283   Paxten Aaronson\n",
      "505   Jalil Anibaba\n",
      "463   Tsubasa Endoh\n",
      "331   Miguel Berry\n",
      "Topic 3:\n",
      "touches_mid_3rd (1.43) recep_succ (1.42) carries (1.3) Total_Cmp (1.29)\n",
      "313   Andreu Fontàs\n",
      "0   Carles Gil\n",
      "95   Andrés Ricaurte\n",
      "108   Haris Medunjanin\n",
      "323   Ilie Sánchez\n",
      "Topic 4:\n",
      "Short_Cmp (1.42) Short_Att (1.39) touches (1.08) Total_Att (1.07)\n",
      "469   Oniel Fisher\n",
      "306   D.J. Taylor\n",
      "267   Tommy Thompson\n",
      "327   Emmanuel Más\n",
      "237   Justin Che\n",
      "Topic 5:\n",
      "Total_Cmp_pct (1.72) dribble_Succ_pct (1.65) Short_Cmp_pct (1.64) avg_shrt+med_pass_pct (1.63)\n",
      "499   Kamohelo Mokotjo\n",
      "455   Dom Dwyer\n",
      "458   Renzo Zambrano\n",
      "266   Bryce Duke\n",
      "408   Julián Carranza\n",
      "Topic 6:\n",
      "dribble_Succ (1.54) num_dribble_past (1.49) dribble_Att (1.44) dispossed (1.32)\n",
      "51   Yeferson Soteldo\n",
      "136   Brian Rodríguez\n",
      "2   Emanuel Reynoso\n",
      "298   Alexandru Mățan\n",
      "23   Ezequiel Barco\n",
      "Topic 7:\n",
      "Nineties (3.09) Total_Cmp_pct (2.03) Medium_Cmp_pct (1.97) avg_shrt+med_pass_pct (1.94)\n",
      "131   Brenner\n",
      "97   Darlington Nagbe\n",
      "29   Damir Kreilach\n",
      "87   Kacper Przybyłko\n",
      "3   Albert Rusnák\n",
      "Topic 8:\n",
      "Crosses (2.2) xA (1.39) touches_att_3rd (1.17) attacking_touches (1.09)\n",
      "1   Julian Gressel\n",
      "0   Carles Gil\n",
      "114   Maikel Chang\n",
      "8   Brooks Lennon\n",
      "4   Maximiliano Moralez\n",
      "Topic 9:\n",
      "pAdj_Clearences (1.68) pAdj_Blocked_shots (1.47) touches_def_3rd (1.45) Aerial_win_pct (1.25)\n",
      "426   Nathan Cardoso\n",
      "417   Daniel Steres\n",
      "442   Matt Hedges\n",
      "348   Alan Franco\n",
      "365   Rudy Camacho\n",
      "Topic 10:\n",
      "pAdj_Tackles_Mid_3rd (1.89) pAdj_Tackles_Won (1.64) pAdj_Total_tackles (1.61) pAdj_Num_Dribbled_past (1.4)\n",
      "462   Franco Ibarra\n",
      "409   Judson\n",
      "246   Eric Remedi\n",
      "245   Dru Yearwood\n",
      "426   Nathan Cardoso\n"
     ]
    }
   ],
   "source": [
    "\n",
    "c = 11\n",
    "# Create a MaxAbsScaler: scaler\n",
    "transformer = MaxAbsScaler().fit(X)\n",
    "\n",
    "# scale data\n",
    "scaled_X= transformer.transform(X)\n",
    "\n",
    "# Create an NMF model: nmf\n",
    "\n",
    "nmf = NMF(n_components=c,max_iter=100000,init='nndsvda',alpha=.1, l1_ratio=.5, random_state=42)\n",
    "\n",
    "W = nmf.fit_transform(scaled_X)\n",
    "H = nmf.components_\n",
    "err = nmf.reconstruction_err_\n",
    "\n",
    "print(nmf,'error :',err, '\\n', ' W shape',W.shape,'H shape ',H.shape)\n",
    "\n",
    "            \n",
    "feature_names = X.columns.values\n",
    "no_top_features = 4\n",
    "no_top_players = 5\n",
    "\n",
    "display_features(H,W,feature_names, X, no_top_features,no_top_players)"
   ]
  },
  {
   "cell_type": "code",
   "execution_count": 15,
   "id": "b4bd48ce-a07d-4204-99c3-de0b629303ca",
   "metadata": {},
   "outputs": [
    {
     "data": {
      "text/plain": [
       "count    541.000000\n",
       "mean       5.053604\n",
       "std        3.256175\n",
       "min        0.000000\n",
       "25%        3.000000\n",
       "50%        5.000000\n",
       "75%        9.000000\n",
       "max       10.000000\n",
       "Name: pred_topic_num, dtype: float64"
      ]
     },
     "execution_count": 15,
     "metadata": {},
     "output_type": "execute_result"
    }
   ],
   "source": [
    "def add_topics(X,W):\n",
    "    df_new = X.copy()\n",
    "    # Get the top predicted topic\n",
    "    predicted_topics = [np.argsort(each)[::-1][0] for each in W]\n",
    "    # Add to the df\n",
    "    df_new['pred_topic_num'] = predicted_topics\n",
    "    return df_new\n",
    "\n",
    "\n",
    "df_new = add_topics(X,W)\n",
    "df_new['pred_topic_num'].describe()"
   ]
  },
  {
   "cell_type": "code",
   "execution_count": 16,
   "id": "cd3e549f-38ca-4f0c-ad1b-ca141fcf43b5",
   "metadata": {},
   "outputs": [
    {
     "data": {
      "text/plain": [
       "9     106\n",
       "4      84\n",
       "1      78\n",
       "3      56\n",
       "6      50\n",
       "0      44\n",
       "10     42\n",
       "5      41\n",
       "8      18\n",
       "7      17\n",
       "2       5\n",
       "Name: pred_topic_num, dtype: int64"
      ]
     },
     "execution_count": 16,
     "metadata": {},
     "output_type": "execute_result"
    }
   ],
   "source": [
    "df_new['pred_topic_num'].value_counts()"
   ]
  },
  {
   "cell_type": "code",
   "execution_count": 17,
   "id": "1bb06961-0ba0-43ae-930c-1c41a1276b5a",
   "metadata": {},
   "outputs": [
    {
     "data": {
      "text/html": [
       "<div>\n",
       "<style scoped>\n",
       "    .dataframe tbody tr th:only-of-type {\n",
       "        vertical-align: middle;\n",
       "    }\n",
       "\n",
       "    .dataframe tbody tr th {\n",
       "        vertical-align: top;\n",
       "    }\n",
       "\n",
       "    .dataframe thead th {\n",
       "        text-align: right;\n",
       "    }\n",
       "</style>\n",
       "<table border=\"1\" class=\"dataframe\">\n",
       "  <thead>\n",
       "    <tr style=\"text-align: right;\">\n",
       "      <th></th>\n",
       "      <th>Tackle_pct_won</th>\n",
       "      <th>Nineties</th>\n",
       "      <th>xA</th>\n",
       "      <th>Key_pass</th>\n",
       "      <th>Comp_prog</th>\n",
       "      <th>Total_Cmp</th>\n",
       "      <th>Total_Att</th>\n",
       "      <th>Total_Cmp_pct</th>\n",
       "      <th>Total_Tot_Dist</th>\n",
       "      <th>Total_Prg_Dist</th>\n",
       "      <th>...</th>\n",
       "      <th>pAdj_Recoveries</th>\n",
       "      <th>pAdj_Aerial_Duels_lost</th>\n",
       "      <th>lost_tackles</th>\n",
       "      <th>True_tackle_pct</th>\n",
       "      <th>pAdj_Tackle_int_blocks</th>\n",
       "      <th>avg_shrt+med_pass_pct</th>\n",
       "      <th>pct_long_balls</th>\n",
       "      <th>prog_carry+lng_comp+crosses</th>\n",
       "      <th>attacking_touches</th>\n",
       "      <th>pred_topic_num</th>\n",
       "    </tr>\n",
       "    <tr>\n",
       "      <th>player_name</th>\n",
       "      <th></th>\n",
       "      <th></th>\n",
       "      <th></th>\n",
       "      <th></th>\n",
       "      <th></th>\n",
       "      <th></th>\n",
       "      <th></th>\n",
       "      <th></th>\n",
       "      <th></th>\n",
       "      <th></th>\n",
       "      <th></th>\n",
       "      <th></th>\n",
       "      <th></th>\n",
       "      <th></th>\n",
       "      <th></th>\n",
       "      <th></th>\n",
       "      <th></th>\n",
       "      <th></th>\n",
       "      <th></th>\n",
       "      <th></th>\n",
       "      <th></th>\n",
       "    </tr>\n",
       "  </thead>\n",
       "  <tbody>\n",
       "    <tr>\n",
       "      <th>Paxten Aaronson</th>\n",
       "      <td>33.3</td>\n",
       "      <td>6.6</td>\n",
       "      <td>0.196970</td>\n",
       "      <td>1.515152</td>\n",
       "      <td>2.575758</td>\n",
       "      <td>21.666667</td>\n",
       "      <td>29.393939</td>\n",
       "      <td>73.7</td>\n",
       "      <td>323.484848</td>\n",
       "      <td>93.181818</td>\n",
       "      <td>...</td>\n",
       "      <td>12.776700</td>\n",
       "      <td>1.252618</td>\n",
       "      <td>2.254712</td>\n",
       "      <td>43.902439</td>\n",
       "      <td>6.513612</td>\n",
       "      <td>77.7</td>\n",
       "      <td>6.701031</td>\n",
       "      <td>7.121212</td>\n",
       "      <td>31.818182</td>\n",
       "      <td>2</td>\n",
       "    </tr>\n",
       "    <tr>\n",
       "      <th>Indiana Vassilev</th>\n",
       "      <td>23.3</td>\n",
       "      <td>8.9</td>\n",
       "      <td>0.044944</td>\n",
       "      <td>0.674157</td>\n",
       "      <td>2.022472</td>\n",
       "      <td>23.258427</td>\n",
       "      <td>27.640449</td>\n",
       "      <td>84.1</td>\n",
       "      <td>378.764045</td>\n",
       "      <td>67.640449</td>\n",
       "      <td>...</td>\n",
       "      <td>7.424593</td>\n",
       "      <td>0.543263</td>\n",
       "      <td>0.362175</td>\n",
       "      <td>13.793103</td>\n",
       "      <td>1.991964</td>\n",
       "      <td>89.3</td>\n",
       "      <td>11.788618</td>\n",
       "      <td>6.404494</td>\n",
       "      <td>22.584270</td>\n",
       "      <td>2</td>\n",
       "    </tr>\n",
       "    <tr>\n",
       "      <th>Eddie Munjoma</th>\n",
       "      <td>25.7</td>\n",
       "      <td>5.2</td>\n",
       "      <td>0.076923</td>\n",
       "      <td>0.961538</td>\n",
       "      <td>3.653846</td>\n",
       "      <td>37.500000</td>\n",
       "      <td>48.461538</td>\n",
       "      <td>77.4</td>\n",
       "      <td>697.884615</td>\n",
       "      <td>206.153846</td>\n",
       "      <td>...</td>\n",
       "      <td>11.664252</td>\n",
       "      <td>2.268049</td>\n",
       "      <td>1.620035</td>\n",
       "      <td>38.709677</td>\n",
       "      <td>7.128154</td>\n",
       "      <td>84.1</td>\n",
       "      <td>19.047619</td>\n",
       "      <td>11.730769</td>\n",
       "      <td>19.423077</td>\n",
       "      <td>2</td>\n",
       "    </tr>\n",
       "    <tr>\n",
       "      <th>Ralph Priso-Mbongue</th>\n",
       "      <td>32.3</td>\n",
       "      <td>6.3</td>\n",
       "      <td>0.015873</td>\n",
       "      <td>0.317460</td>\n",
       "      <td>3.809524</td>\n",
       "      <td>42.380952</td>\n",
       "      <td>50.793651</td>\n",
       "      <td>83.4</td>\n",
       "      <td>726.031746</td>\n",
       "      <td>174.920635</td>\n",
       "      <td>...</td>\n",
       "      <td>11.981049</td>\n",
       "      <td>2.549159</td>\n",
       "      <td>1.784412</td>\n",
       "      <td>34.482759</td>\n",
       "      <td>10.706470</td>\n",
       "      <td>89.2</td>\n",
       "      <td>13.437500</td>\n",
       "      <td>7.777778</td>\n",
       "      <td>14.444444</td>\n",
       "      <td>2</td>\n",
       "    </tr>\n",
       "    <tr>\n",
       "      <th>Cameron Duke</th>\n",
       "      <td>24.5</td>\n",
       "      <td>7.4</td>\n",
       "      <td>0.081081</td>\n",
       "      <td>0.270270</td>\n",
       "      <td>0.540541</td>\n",
       "      <td>30.135135</td>\n",
       "      <td>34.054054</td>\n",
       "      <td>88.5</td>\n",
       "      <td>529.594595</td>\n",
       "      <td>63.783784</td>\n",
       "      <td>...</td>\n",
       "      <td>12.392545</td>\n",
       "      <td>1.402930</td>\n",
       "      <td>1.402930</td>\n",
       "      <td>32.500000</td>\n",
       "      <td>6.547005</td>\n",
       "      <td>90.6</td>\n",
       "      <td>11.507937</td>\n",
       "      <td>8.108108</td>\n",
       "      <td>24.189189</td>\n",
       "      <td>2</td>\n",
       "    </tr>\n",
       "  </tbody>\n",
       "</table>\n",
       "<p>5 rows × 91 columns</p>\n",
       "</div>"
      ],
      "text/plain": [
       "                     Tackle_pct_won  Nineties        xA  Key_pass  Comp_prog  \\\n",
       "player_name                                                                    \n",
       "Paxten Aaronson                33.3       6.6  0.196970  1.515152   2.575758   \n",
       "Indiana Vassilev               23.3       8.9  0.044944  0.674157   2.022472   \n",
       "Eddie Munjoma                  25.7       5.2  0.076923  0.961538   3.653846   \n",
       "Ralph Priso-Mbongue            32.3       6.3  0.015873  0.317460   3.809524   \n",
       "Cameron Duke                   24.5       7.4  0.081081  0.270270   0.540541   \n",
       "\n",
       "                     Total_Cmp  Total_Att  Total_Cmp_pct  Total_Tot_Dist  \\\n",
       "player_name                                                                \n",
       "Paxten Aaronson      21.666667  29.393939           73.7      323.484848   \n",
       "Indiana Vassilev     23.258427  27.640449           84.1      378.764045   \n",
       "Eddie Munjoma        37.500000  48.461538           77.4      697.884615   \n",
       "Ralph Priso-Mbongue  42.380952  50.793651           83.4      726.031746   \n",
       "Cameron Duke         30.135135  34.054054           88.5      529.594595   \n",
       "\n",
       "                     Total_Prg_Dist  ...  pAdj_Recoveries  \\\n",
       "player_name                          ...                    \n",
       "Paxten Aaronson           93.181818  ...        12.776700   \n",
       "Indiana Vassilev          67.640449  ...         7.424593   \n",
       "Eddie Munjoma            206.153846  ...        11.664252   \n",
       "Ralph Priso-Mbongue      174.920635  ...        11.981049   \n",
       "Cameron Duke              63.783784  ...        12.392545   \n",
       "\n",
       "                     pAdj_Aerial_Duels_lost  lost_tackles  True_tackle_pct  \\\n",
       "player_name                                                                  \n",
       "Paxten Aaronson                    1.252618      2.254712        43.902439   \n",
       "Indiana Vassilev                   0.543263      0.362175        13.793103   \n",
       "Eddie Munjoma                      2.268049      1.620035        38.709677   \n",
       "Ralph Priso-Mbongue                2.549159      1.784412        34.482759   \n",
       "Cameron Duke                       1.402930      1.402930        32.500000   \n",
       "\n",
       "                     pAdj_Tackle_int_blocks  avg_shrt+med_pass_pct  \\\n",
       "player_name                                                          \n",
       "Paxten Aaronson                    6.513612                   77.7   \n",
       "Indiana Vassilev                   1.991964                   89.3   \n",
       "Eddie Munjoma                      7.128154                   84.1   \n",
       "Ralph Priso-Mbongue               10.706470                   89.2   \n",
       "Cameron Duke                       6.547005                   90.6   \n",
       "\n",
       "                     pct_long_balls  prog_carry+lng_comp+crosses  \\\n",
       "player_name                                                        \n",
       "Paxten Aaronson            6.701031                     7.121212   \n",
       "Indiana Vassilev          11.788618                     6.404494   \n",
       "Eddie Munjoma             19.047619                    11.730769   \n",
       "Ralph Priso-Mbongue       13.437500                     7.777778   \n",
       "Cameron Duke              11.507937                     8.108108   \n",
       "\n",
       "                     attacking_touches  pred_topic_num  \n",
       "player_name                                             \n",
       "Paxten Aaronson              31.818182               2  \n",
       "Indiana Vassilev             22.584270               2  \n",
       "Eddie Munjoma                19.423077               2  \n",
       "Ralph Priso-Mbongue          14.444444               2  \n",
       "Cameron Duke                 24.189189               2  \n",
       "\n",
       "[5 rows x 91 columns]"
      ]
     },
     "execution_count": 17,
     "metadata": {},
     "output_type": "execute_result"
    }
   ],
   "source": [
    "df_new[df_new['pred_topic_num']==2]"
   ]
  },
  {
   "cell_type": "code",
   "execution_count": 18,
   "id": "a369f817-d93b-4fd7-8cf0-063bfb48d9a9",
   "metadata": {},
   "outputs": [
    {
     "name": "stdout",
     "output_type": "stream",
     "text": [
      "<class 'pandas.core.frame.DataFrame'>\n",
      "Index: 541 entries, Carles Gil to Oriol Rosell\n",
      "Data columns (total 11 columns):\n",
      " #   Column  Non-Null Count  Dtype  \n",
      "---  ------  --------------  -----  \n",
      " 0   0       541 non-null    float64\n",
      " 1   1       541 non-null    float64\n",
      " 2   2       541 non-null    float64\n",
      " 3   3       541 non-null    float64\n",
      " 4   4       541 non-null    float64\n",
      " 5   5       541 non-null    float64\n",
      " 6   6       541 non-null    float64\n",
      " 7   7       541 non-null    float64\n",
      " 8   8       541 non-null    float64\n",
      " 9   9       541 non-null    float64\n",
      " 10  10      541 non-null    float64\n",
      "dtypes: float64(11)\n",
      "memory usage: 50.7+ KB\n"
     ]
    }
   ],
   "source": [
    "transformer = Normalizer().fit(W)\n",
    "normed_X= transformer.transform(W)\n",
    "# can add back club and salary here \n",
    "normed_df = pd.DataFrame(normed_X,index=X.index.values)\n",
    "normed_df.info()"
   ]
  },
  {
   "cell_type": "code",
   "execution_count": 23,
   "id": "609ad97a-74e5-4909-b527-959db665295f",
   "metadata": {},
   "outputs": [
    {
     "data": {
      "text/plain": [
       "Albert Rusnák           1.000000\n",
       "Diego Fagúndez          0.925886\n",
       "Javier Eduardo López    0.922795\n",
       "Yimmi Chará             0.916332\n",
       "Djordje Mihailovic      0.914978\n",
       "Cole Bassett            0.906067\n",
       "Nani                    0.896653\n",
       "Randall Leal            0.896131\n",
       "Hany Mukhtar            0.890344\n",
       "Maximiliano Moralez     0.881918\n",
       "dtype: float64"
      ]
     },
     "execution_count": 23,
     "metadata": {},
     "output_type": "execute_result"
    }
   ],
   "source": [
    "jm = normed_df.loc['Albert Rusnák']\n",
    "sims = normed_df.dot(jm)\n",
    "\n",
    "sims.nlargest(10)"
   ]
  },
  {
   "cell_type": "markdown",
   "id": "2d92c8f8-f61b-44ac-9c1f-1c58ece2283d",
   "metadata": {},
   "source": [
    "Having another creative attacking midfielder in Diego Fagundez as the closest player to Abert Rusnak helps validats the skill set groups created. "
   ]
  },
  {
   "cell_type": "markdown",
   "id": "00b4129e-1d26-4a1d-807a-ac251849c4e0",
   "metadata": {},
   "source": [
    "# looking for coherent groups of features inside of components to pick c  "
   ]
  },
  {
   "cell_type": "code",
   "execution_count": 20,
   "id": "532c111f-5537-421d-93b6-8afc812ddcc9",
   "metadata": {},
   "outputs": [
    {
     "data": {
      "text/plain": [
       "Tommy Thompson     1.000000\n",
       "Julian Araujo      0.952665\n",
       "Zorhan Bassong     0.945047\n",
       "Justin Che         0.944947\n",
       "Donny Toia         0.942724\n",
       "Marco Farfan       0.942453\n",
       "Oniel Fisher       0.937562\n",
       "D.J. Taylor        0.937515\n",
       "Niko Hämäläinen    0.934689\n",
       "Emmanuel Más       0.929926\n",
       "dtype: float64"
      ]
     },
     "execution_count": 20,
     "metadata": {},
     "output_type": "execute_result"
    }
   ],
   "source": [
    "tt = normed_df.loc['Tommy Thompson']\n",
    "sims = normed_df.dot(tt)\n",
    "\n",
    "sims.nlargest(10)"
   ]
  },
  {
   "cell_type": "code",
   "execution_count": 21,
   "id": "beaf7704-6a82-442b-b9a1-b18ef816a6e6",
   "metadata": {},
   "outputs": [
    {
     "data": {
      "text/plain": [
       "Walker Zimmerman     1.000000\n",
       "Bill Tuiloma         0.978428\n",
       "Tanner Beason        0.977045\n",
       "Jonathan Mensah      0.974217\n",
       "Ranko Veselinović    0.972588\n",
       "Jack Maher           0.958475\n",
       "Robin Jansson        0.955465\n",
       "Nkosi Burgess        0.954752\n",
       "Andy Rose            0.954397\n",
       "Antonio Carlos       0.953612\n",
       "dtype: float64"
      ]
     },
     "execution_count": 21,
     "metadata": {},
     "output_type": "execute_result"
    }
   ],
   "source": [
    "wz = normed_df.loc['Walker Zimmerman']\n",
    "sims = normed_df.dot(wz)\n",
    "\n",
    "sims.nlargest(10)"
   ]
  },
  {
   "cell_type": "code",
   "execution_count": 40,
   "id": "210c5d74-7c8d-4b92-8096-390474d0b6ff",
   "metadata": {},
   "outputs": [
    {
     "data": {
      "text/plain": [
       "Jonathan Mensah      1.000000\n",
       "Antonio Carlos       0.996214\n",
       "Rudy Camacho         0.994820\n",
       "Andy Rose            0.993489\n",
       "Larrys Mabiala       0.993116\n",
       "Julio Cascante       0.993039\n",
       "Josh Williams        0.989379\n",
       "Nkosi Burgess        0.988423\n",
       "Matt Hedges          0.986246\n",
       "Ranko Veselinović    0.984544\n",
       "dtype: float64"
      ]
     },
     "execution_count": 40,
     "metadata": {},
     "output_type": "execute_result"
    }
   ],
   "source": [
    "jm = normed_df.loc['Jonathan Mensah']\n",
    "sims = normed_df.dot(jm)\n",
    "\n",
    "sims.nlargest(10)"
   ]
  },
  {
   "cell_type": "code",
   "execution_count": 22,
   "id": "de7acfb8-3915-4805-b003-4c1aa824880b",
   "metadata": {},
   "outputs": [
    {
     "data": {
      "text/plain": [
       "Nathan Cardoso          1.000000\n",
       "Andrés Reyes            0.960560\n",
       "Donovan Pines           0.930676\n",
       "Alan Franco             0.924164\n",
       "Johan Kappelhof         0.916571\n",
       "Rodrigo Schlegel        0.912953\n",
       "Yeimar Gómez Andrade    0.909612\n",
       "Amro Tarek              0.898251\n",
       "Nick Hagglund           0.894553\n",
       "Mamadou Fall            0.893209\n",
       "dtype: float64"
      ]
     },
     "execution_count": 22,
     "metadata": {},
     "output_type": "execute_result"
    }
   ],
   "source": [
    "jm = normed_df.loc['Nathan Cardoso']\n",
    "sims = normed_df.dot(jm)\n",
    "\n",
    "sims.nlargest(10)"
   ]
  },
  {
   "cell_type": "code",
   "execution_count": null,
   "id": "2f1ac11c-9d1f-4286-bd19-8a27e5eb2687",
   "metadata": {},
   "outputs": [],
   "source": []
  }
 ],
 "metadata": {
  "kernelspec": {
   "display_name": "PythonData",
   "language": "python",
   "name": "pythondata"
  },
  "language_info": {
   "codemirror_mode": {
    "name": "ipython",
    "version": 3
   },
   "file_extension": ".py",
   "mimetype": "text/x-python",
   "name": "python",
   "nbconvert_exporter": "python",
   "pygments_lexer": "ipython3",
   "version": "3.8.8"
  }
 },
 "nbformat": 4,
 "nbformat_minor": 5
}
