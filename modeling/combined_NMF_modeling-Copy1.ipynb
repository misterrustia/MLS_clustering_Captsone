{
 "cells": [
  {
   "cell_type": "code",
   "execution_count": 1,
   "id": "852a3710-aa32-4d97-83ce-fe244348a2e7",
   "metadata": {},
   "outputs": [],
   "source": [
    "import pandas as pd\n",
    "\n",
    "\n",
    "import matplotlib.pyplot as plt\n",
    "from sklearn.decomposition import NMF \n",
    "from sklearn.preprocessing import Normalizer ,MaxAbsScaler\n",
    "from sklearn.pipeline import make_pipeline"
   ]
  },
  {
   "cell_type": "code",
   "execution_count": null,
   "id": "c1632b62-0102-46e4-b119-13142f69a2a9",
   "metadata": {},
   "outputs": [],
   "source": [
    "## load data set\n",
    "\n",
    "## select features ( add pca? )\n",
    "\n",
    "## "
   ]
  },
  {
   "cell_type": "code",
   "execution_count": 2,
   "id": "7918cf19-f78d-428b-be83-0c6a1107c4cd",
   "metadata": {},
   "outputs": [],
   "source": [
    "df = pd.read_csv('../data/final_per_90_and_pAdj.csv')"
   ]
  },
  {
   "cell_type": "code",
   "execution_count": 3,
   "id": "833885a8-ffba-4e04-b832-314279007325",
   "metadata": {},
   "outputs": [
    {
     "data": {
      "text/html": [
       "<div>\n",
       "<style scoped>\n",
       "    .dataframe tbody tr th:only-of-type {\n",
       "        vertical-align: middle;\n",
       "    }\n",
       "\n",
       "    .dataframe tbody tr th {\n",
       "        vertical-align: top;\n",
       "    }\n",
       "\n",
       "    .dataframe thead th {\n",
       "        text-align: right;\n",
       "    }\n",
       "</style>\n",
       "<table border=\"1\" class=\"dataframe\">\n",
       "  <thead>\n",
       "    <tr style=\"text-align: right;\">\n",
       "      <th></th>\n",
       "      <th>count</th>\n",
       "      <th>%</th>\n",
       "    </tr>\n",
       "  </thead>\n",
       "  <tbody>\n",
       "    <tr>\n",
       "      <th>Base Salary</th>\n",
       "      <td>184.0</td>\n",
       "      <td>26.099291</td>\n",
       "    </tr>\n",
       "    <tr>\n",
       "      <th>Club</th>\n",
       "      <td>184.0</td>\n",
       "      <td>26.099291</td>\n",
       "    </tr>\n",
       "    <tr>\n",
       "      <th>fb_id</th>\n",
       "      <td>0.0</td>\n",
       "      <td>0.000000</td>\n",
       "    </tr>\n",
       "    <tr>\n",
       "      <th>npxG/Sh</th>\n",
       "      <td>0.0</td>\n",
       "      <td>0.000000</td>\n",
       "    </tr>\n",
       "    <tr>\n",
       "      <th>pAdj_Num_Dribbled_past</th>\n",
       "      <td>0.0</td>\n",
       "      <td>0.000000</td>\n",
       "    </tr>\n",
       "    <tr>\n",
       "      <th>pAdj_Num_Dribblers_tackled</th>\n",
       "      <td>0.0</td>\n",
       "      <td>0.000000</td>\n",
       "    </tr>\n",
       "    <tr>\n",
       "      <th>pAdj_Tackles_Att_3rd</th>\n",
       "      <td>0.0</td>\n",
       "      <td>0.000000</td>\n",
       "    </tr>\n",
       "    <tr>\n",
       "      <th>pAdj_Tackles_Mid_3rd</th>\n",
       "      <td>0.0</td>\n",
       "      <td>0.000000</td>\n",
       "    </tr>\n",
       "    <tr>\n",
       "      <th>pAdj_Tackles_Def_3rd</th>\n",
       "      <td>0.0</td>\n",
       "      <td>0.000000</td>\n",
       "    </tr>\n",
       "    <tr>\n",
       "      <th>pAdj_Tackles_Won</th>\n",
       "      <td>0.0</td>\n",
       "      <td>0.000000</td>\n",
       "    </tr>\n",
       "  </tbody>\n",
       "</table>\n",
       "</div>"
      ],
      "text/plain": [
       "                            count          %\n",
       "Base Salary                 184.0  26.099291\n",
       "Club                        184.0  26.099291\n",
       "fb_id                         0.0   0.000000\n",
       "npxG/Sh                       0.0   0.000000\n",
       "pAdj_Num_Dribbled_past        0.0   0.000000\n",
       "pAdj_Num_Dribblers_tackled    0.0   0.000000\n",
       "pAdj_Tackles_Att_3rd          0.0   0.000000\n",
       "pAdj_Tackles_Mid_3rd          0.0   0.000000\n",
       "pAdj_Tackles_Def_3rd          0.0   0.000000\n",
       "pAdj_Tackles_Won              0.0   0.000000"
      ]
     },
     "execution_count": 3,
     "metadata": {},
     "output_type": "execute_result"
    }
   ],
   "source": [
    "\n",
    "\n",
    "missing = [df.isnull().sum(),100*df.isnull().mean()]\n",
    "\n",
    "m = pd.DataFrame(missing)\n",
    "m = m.T\n",
    "m.columns=['count', '%']\n",
    "m = m.sort_values(by='count',ascending=False)\n",
    "m.head(10)\n",
    "\n"
   ]
  },
  {
   "cell_type": "code",
   "execution_count": 5,
   "id": "b4163294-1903-4631-9d12-d9c0667c913a",
   "metadata": {},
   "outputs": [],
   "source": [
    "# ## dont need club for NMF \n",
    "\n",
    "df.drop(columns=['Unnamed: 0_y', 'First Name', 'Last Name', 'name', '_merge','Club','Guaranteed Compensation'],inplace=True)"
   ]
  },
  {
   "cell_type": "code",
   "execution_count": 6,
   "id": "7d0ad187-f55e-4958-a3bd-10be76ed47fc",
   "metadata": {},
   "outputs": [
    {
     "data": {
      "text/plain": [
       "(705, 81)"
      ]
     },
     "execution_count": 6,
     "metadata": {},
     "output_type": "execute_result"
    }
   ],
   "source": [
    "df.shape"
   ]
  },
  {
   "cell_type": "code",
   "execution_count": 50,
   "id": "96a53ec5-e466-41a7-a28a-9070efe20f49",
   "metadata": {},
   "outputs": [
    {
     "data": {
      "text/plain": [
       "Index(['fb_id', 'player_name', 'Squad_from_op', 'Opposing_Poss',\n",
       "       'Opposing_Touches', 'Nation', 'Position', 'Nineties', 'xA', 'Key_pass',\n",
       "       'Comp_prog', 'Total_Cmp', 'Total_Att', 'Total_Cmp_pct',\n",
       "       'Total_Tot_Dist', 'Total_Prg_Dist', 'Short_Cmp', 'Short_Att',\n",
       "       'Short_Cmp_pct', 'Medium_Cmp', 'Medium_Att', 'Medium_Cmp_pct',\n",
       "       'Long_Cmp', 'Long_Att', 'Long_Cmp_pct', 'touches', 'touches_def_box',\n",
       "       'touches_def_3rd', 'touches_mid_3rd', 'touches_att_3rd',\n",
       "       'touches_att_box', 'touch_live', 'dribble_Succ', 'dribble_Att',\n",
       "       'dribble_Succ_pct', 'num_dribble_past', 'dribble_megs', 'carries',\n",
       "       'carries_dist', 'carries_prog_dist', 'carries_prog', 'carries_att_3rd',\n",
       "       'carries_att_box', 'miss_control', 'dispossed', 'recep_targ',\n",
       "       'recep_succ', 'recept_pct', 'Fouls_drawn', 'Offsides', 'Crosses',\n",
       "       'PK_won', 'Aerial_win_pct', 'Gls', 'Sh', 'SoT', 'SoT%', 'Sh/90',\n",
       "       'SoT/90', 'G/Sh', 'G/SoT', 'Dist', 'FK', 'PK', 'PKatt', 'xG', 'npxG',\n",
       "       'npxG/Sh', 'G-xG', 'np:G-xG', 'Base Salary', 'pAdj_Yellow_cards',\n",
       "       'pAdj_Red_cards', 'pAdj_Second_yellow', 'pAdj_Fouls',\n",
       "       'pAdj_def_interceptions', 'pAdj_from_mish_tackles_won',\n",
       "       'pAdj_PK_conceded', 'pAdj_OG', 'pAdj_Recoveries',\n",
       "       'pAdj_Aerial_Duels_lost'],\n",
       "      dtype='object')"
      ]
     },
     "execution_count": 50,
     "metadata": {},
     "output_type": "execute_result"
    }
   ],
   "source": [
    "df.columns"
   ]
  },
  {
   "cell_type": "code",
   "execution_count": 7,
   "id": "24a3c65b-487a-499d-8ed7-0058d6d87d95",
   "metadata": {},
   "outputs": [
    {
     "data": {
      "text/plain": [
       "301            NaN\n",
       "483    $850,000.00\n",
       "18     $550,000.00\n",
       "359     $85,000.00\n",
       "542    $132,000.00\n",
       "Name: Base Salary, dtype: object"
      ]
     },
     "execution_count": 7,
     "metadata": {},
     "output_type": "execute_result"
    }
   ],
   "source": [
    "df['Base Salary'].sample(5)"
   ]
  },
  {
   "cell_type": "code",
   "execution_count": 8,
   "id": "8b7818a3-b930-40df-a90a-1997fb8b5974",
   "metadata": {},
   "outputs": [
    {
     "data": {
      "text/html": [
       "<div>\n",
       "<style scoped>\n",
       "    .dataframe tbody tr th:only-of-type {\n",
       "        vertical-align: middle;\n",
       "    }\n",
       "\n",
       "    .dataframe tbody tr th {\n",
       "        vertical-align: top;\n",
       "    }\n",
       "\n",
       "    .dataframe thead th {\n",
       "        text-align: right;\n",
       "    }\n",
       "</style>\n",
       "<table border=\"1\" class=\"dataframe\">\n",
       "  <thead>\n",
       "    <tr style=\"text-align: right;\">\n",
       "      <th></th>\n",
       "      <th>G/SoT</th>\n",
       "      <th>SoT%</th>\n",
       "      <th>npxG/Sh</th>\n",
       "      <th>Dist</th>\n",
       "    </tr>\n",
       "  </thead>\n",
       "  <tbody>\n",
       "    <tr>\n",
       "      <th>count</th>\n",
       "      <td>705.000000</td>\n",
       "      <td>705.000000</td>\n",
       "      <td>705.000000</td>\n",
       "      <td>705.000000</td>\n",
       "    </tr>\n",
       "    <tr>\n",
       "      <th>mean</th>\n",
       "      <td>0.020120</td>\n",
       "      <td>25.385532</td>\n",
       "      <td>0.011484</td>\n",
       "      <td>2.001495</td>\n",
       "    </tr>\n",
       "    <tr>\n",
       "      <th>std</th>\n",
       "      <td>0.068339</td>\n",
       "      <td>20.853021</td>\n",
       "      <td>0.027141</td>\n",
       "      <td>3.326683</td>\n",
       "    </tr>\n",
       "    <tr>\n",
       "      <th>min</th>\n",
       "      <td>0.000000</td>\n",
       "      <td>0.000000</td>\n",
       "      <td>0.000000</td>\n",
       "      <td>0.000000</td>\n",
       "    </tr>\n",
       "    <tr>\n",
       "      <th>25%</th>\n",
       "      <td>0.000000</td>\n",
       "      <td>0.000000</td>\n",
       "      <td>0.002101</td>\n",
       "      <td>0.531148</td>\n",
       "    </tr>\n",
       "    <tr>\n",
       "      <th>50%</th>\n",
       "      <td>0.000000</td>\n",
       "      <td>25.900000</td>\n",
       "      <td>0.004380</td>\n",
       "      <td>0.930233</td>\n",
       "    </tr>\n",
       "    <tr>\n",
       "      <th>75%</th>\n",
       "      <td>0.019403</td>\n",
       "      <td>37.800000</td>\n",
       "      <td>0.010000</td>\n",
       "      <td>1.896226</td>\n",
       "    </tr>\n",
       "    <tr>\n",
       "      <th>max</th>\n",
       "      <td>1.000000</td>\n",
       "      <td>100.000000</td>\n",
       "      <td>0.400000</td>\n",
       "      <td>26.727273</td>\n",
       "    </tr>\n",
       "  </tbody>\n",
       "</table>\n",
       "</div>"
      ],
      "text/plain": [
       "            G/SoT        SoT%     npxG/Sh        Dist\n",
       "count  705.000000  705.000000  705.000000  705.000000\n",
       "mean     0.020120   25.385532    0.011484    2.001495\n",
       "std      0.068339   20.853021    0.027141    3.326683\n",
       "min      0.000000    0.000000    0.000000    0.000000\n",
       "25%      0.000000    0.000000    0.002101    0.531148\n",
       "50%      0.000000   25.900000    0.004380    0.930233\n",
       "75%      0.019403   37.800000    0.010000    1.896226\n",
       "max      1.000000  100.000000    0.400000   26.727273"
      ]
     },
     "execution_count": 8,
     "metadata": {},
     "output_type": "execute_result"
    }
   ],
   "source": [
    "df[['G/SoT','SoT%','npxG/Sh','Dist']].describe()"
   ]
  },
  {
   "cell_type": "code",
   "execution_count": 9,
   "id": "066f90bd-446b-4056-84d7-6f2d2b6889ce",
   "metadata": {},
   "outputs": [],
   "source": [
    "cols = ['G/Sh','G/SoT','SoT%','npxG/Sh','Dist','Base Salary']"
   ]
  },
  {
   "cell_type": "code",
   "execution_count": 12,
   "id": "a89ae6b8-fb97-449b-833a-ffa759878c4f",
   "metadata": {},
   "outputs": [
    {
     "name": "stdout",
     "output_type": "stream",
     "text": [
      "<class 'pandas.core.frame.DataFrame'>\n",
      "RangeIndex: 705 entries, 0 to 704\n",
      "Data columns (total 1 columns):\n",
      " #   Column       Non-Null Count  Dtype  \n",
      "---  ------       --------------  -----  \n",
      " 0   Base Salary  521 non-null    float64\n",
      "dtypes: float64(1)\n",
      "memory usage: 5.6 KB\n"
     ]
    },
    {
     "name": "stderr",
     "output_type": "stream",
     "text": [
      "<ipython-input-12-fb7bb4a299a8>:1: FutureWarning: The default value of regex will change from True to False in a future version. In addition, single character regular expressions will*not* be treated as literal strings when regex=True.\n",
      "  df['Base Salary'] = df['Base Salary'].str.replace('$','')\n"
     ]
    }
   ],
   "source": [
    "df['Base Salary'] = df['Base Salary'].str.replace('$','')\n",
    "df['Base Salary'] = df['Base Salary'].str.replace(',','')\n",
    "df['Base Salary'] = pd.to_numeric(df['Base Salary'])\n",
    "df[['Base Salary']].info()"
   ]
  },
  {
   "cell_type": "code",
   "execution_count": 13,
   "id": "20ed3dd1-a3b2-4465-a8e8-7b4602ecf48c",
   "metadata": {},
   "outputs": [
    {
     "data": {
      "text/html": [
       "<div>\n",
       "<style scoped>\n",
       "    .dataframe tbody tr th:only-of-type {\n",
       "        vertical-align: middle;\n",
       "    }\n",
       "\n",
       "    .dataframe tbody tr th {\n",
       "        vertical-align: top;\n",
       "    }\n",
       "\n",
       "    .dataframe thead th {\n",
       "        text-align: right;\n",
       "    }\n",
       "</style>\n",
       "<table border=\"1\" class=\"dataframe\">\n",
       "  <thead>\n",
       "    <tr style=\"text-align: right;\">\n",
       "      <th></th>\n",
       "      <th>G/Sh</th>\n",
       "      <th>G/SoT</th>\n",
       "      <th>SoT%</th>\n",
       "      <th>npxG/Sh</th>\n",
       "      <th>Dist</th>\n",
       "      <th>Base Salary</th>\n",
       "    </tr>\n",
       "  </thead>\n",
       "  <tbody>\n",
       "    <tr>\n",
       "      <th>count</th>\n",
       "      <td>705.000000</td>\n",
       "      <td>705.000000</td>\n",
       "      <td>705.000000</td>\n",
       "      <td>705.000000</td>\n",
       "      <td>705.000000</td>\n",
       "      <td>5.210000e+02</td>\n",
       "    </tr>\n",
       "    <tr>\n",
       "      <th>mean</th>\n",
       "      <td>0.008304</td>\n",
       "      <td>0.020120</td>\n",
       "      <td>25.385532</td>\n",
       "      <td>0.011484</td>\n",
       "      <td>2.001495</td>\n",
       "      <td>3.810648e+05</td>\n",
       "    </tr>\n",
       "    <tr>\n",
       "      <th>std</th>\n",
       "      <td>0.036223</td>\n",
       "      <td>0.068339</td>\n",
       "      <td>20.853021</td>\n",
       "      <td>0.027141</td>\n",
       "      <td>3.326683</td>\n",
       "      <td>4.857485e+05</td>\n",
       "    </tr>\n",
       "    <tr>\n",
       "      <th>min</th>\n",
       "      <td>0.000000</td>\n",
       "      <td>0.000000</td>\n",
       "      <td>0.000000</td>\n",
       "      <td>0.000000</td>\n",
       "      <td>0.000000</td>\n",
       "      <td>6.354700e+04</td>\n",
       "    </tr>\n",
       "    <tr>\n",
       "      <th>25%</th>\n",
       "      <td>0.000000</td>\n",
       "      <td>0.000000</td>\n",
       "      <td>0.000000</td>\n",
       "      <td>0.002101</td>\n",
       "      <td>0.531148</td>\n",
       "      <td>9.000000e+04</td>\n",
       "    </tr>\n",
       "    <tr>\n",
       "      <th>50%</th>\n",
       "      <td>0.000000</td>\n",
       "      <td>0.000000</td>\n",
       "      <td>25.900000</td>\n",
       "      <td>0.004380</td>\n",
       "      <td>0.930233</td>\n",
       "      <td>2.000000e+05</td>\n",
       "    </tr>\n",
       "    <tr>\n",
       "      <th>75%</th>\n",
       "      <td>0.006400</td>\n",
       "      <td>0.019403</td>\n",
       "      <td>37.800000</td>\n",
       "      <td>0.010000</td>\n",
       "      <td>1.896226</td>\n",
       "      <td>4.500000e+05</td>\n",
       "    </tr>\n",
       "    <tr>\n",
       "      <th>max</th>\n",
       "      <td>0.500000</td>\n",
       "      <td>1.000000</td>\n",
       "      <td>100.000000</td>\n",
       "      <td>0.400000</td>\n",
       "      <td>26.727273</td>\n",
       "      <td>4.500000e+06</td>\n",
       "    </tr>\n",
       "  </tbody>\n",
       "</table>\n",
       "</div>"
      ],
      "text/plain": [
       "             G/Sh       G/SoT        SoT%     npxG/Sh        Dist  \\\n",
       "count  705.000000  705.000000  705.000000  705.000000  705.000000   \n",
       "mean     0.008304    0.020120   25.385532    0.011484    2.001495   \n",
       "std      0.036223    0.068339   20.853021    0.027141    3.326683   \n",
       "min      0.000000    0.000000    0.000000    0.000000    0.000000   \n",
       "25%      0.000000    0.000000    0.000000    0.002101    0.531148   \n",
       "50%      0.000000    0.000000   25.900000    0.004380    0.930233   \n",
       "75%      0.006400    0.019403   37.800000    0.010000    1.896226   \n",
       "max      0.500000    1.000000  100.000000    0.400000   26.727273   \n",
       "\n",
       "        Base Salary  \n",
       "count  5.210000e+02  \n",
       "mean   3.810648e+05  \n",
       "std    4.857485e+05  \n",
       "min    6.354700e+04  \n",
       "25%    9.000000e+04  \n",
       "50%    2.000000e+05  \n",
       "75%    4.500000e+05  \n",
       "max    4.500000e+06  "
      ]
     },
     "execution_count": 13,
     "metadata": {},
     "output_type": "execute_result"
    }
   ],
   "source": [
    "\n",
    "df[['G/Sh','G/SoT','SoT%','npxG/Sh','Dist','Base Salary']].describe()"
   ]
  },
  {
   "cell_type": "code",
   "execution_count": 14,
   "id": "562edd9e-dfbb-43b6-9f26-c61aad31e26d",
   "metadata": {},
   "outputs": [
    {
     "name": "stdout",
     "output_type": "stream",
     "text": [
      "0.008304270671090887\n",
      "0.020119637475845394\n",
      "25.385531914893622\n",
      "0.01148350000870386\n",
      "2.001494829359731\n",
      "381064.81381957774\n"
     ]
    },
    {
     "data": {
      "text/html": [
       "<div>\n",
       "<style scoped>\n",
       "    .dataframe tbody tr th:only-of-type {\n",
       "        vertical-align: middle;\n",
       "    }\n",
       "\n",
       "    .dataframe tbody tr th {\n",
       "        vertical-align: top;\n",
       "    }\n",
       "\n",
       "    .dataframe thead th {\n",
       "        text-align: right;\n",
       "    }\n",
       "</style>\n",
       "<table border=\"1\" class=\"dataframe\">\n",
       "  <thead>\n",
       "    <tr style=\"text-align: right;\">\n",
       "      <th></th>\n",
       "      <th>count</th>\n",
       "      <th>%</th>\n",
       "    </tr>\n",
       "  </thead>\n",
       "  <tbody>\n",
       "    <tr>\n",
       "      <th>Club</th>\n",
       "      <td>184.0</td>\n",
       "      <td>26.099291</td>\n",
       "    </tr>\n",
       "    <tr>\n",
       "      <th>fb_id</th>\n",
       "      <td>0.0</td>\n",
       "      <td>0.000000</td>\n",
       "    </tr>\n",
       "    <tr>\n",
       "      <th>npxG/Sh</th>\n",
       "      <td>0.0</td>\n",
       "      <td>0.000000</td>\n",
       "    </tr>\n",
       "    <tr>\n",
       "      <th>pAdj_Num_Dribbled_past</th>\n",
       "      <td>0.0</td>\n",
       "      <td>0.000000</td>\n",
       "    </tr>\n",
       "    <tr>\n",
       "      <th>pAdj_Num_Dribblers_tackled</th>\n",
       "      <td>0.0</td>\n",
       "      <td>0.000000</td>\n",
       "    </tr>\n",
       "  </tbody>\n",
       "</table>\n",
       "</div>"
      ],
      "text/plain": [
       "                            count          %\n",
       "Club                        184.0  26.099291\n",
       "fb_id                         0.0   0.000000\n",
       "npxG/Sh                       0.0   0.000000\n",
       "pAdj_Num_Dribbled_past        0.0   0.000000\n",
       "pAdj_Num_Dribblers_tackled    0.0   0.000000"
      ]
     },
     "execution_count": 14,
     "metadata": {},
     "output_type": "execute_result"
    }
   ],
   "source": [
    "for col in cols:\n",
    "    print(df[col].mean())\n",
    "    df[col] = df[col].fillna(df[col].mean())\n",
    "\n",
    "missing = [df.isnull().sum(),100*df.isnull().mean()]\n",
    "m = pd.DataFrame(missing)\n",
    "m = m.T\n",
    "m.columns=['count', '%']\n",
    "m = m.sort_values(by='count',ascending=False)\n",
    "m.head()"
   ]
  },
  {
   "cell_type": "code",
   "execution_count": 15,
   "id": "90436b6c-771a-43d4-8034-acfaf728433f",
   "metadata": {},
   "outputs": [
    {
     "name": "stdout",
     "output_type": "stream",
     "text": [
      "<class 'pandas.core.frame.DataFrame'>\n",
      "RangeIndex: 705 entries, 0 to 704\n",
      "Columns: 110 entries, fb_id to attacking_touches\n",
      "dtypes: float64(102), int64(1), object(7)\n",
      "memory usage: 606.0+ KB\n"
     ]
    }
   ],
   "source": [
    "df.info()"
   ]
  },
  {
   "cell_type": "code",
   "execution_count": 16,
   "id": "d507e901-9f8b-41e6-9178-fcbdc8162ab0",
   "metadata": {},
   "outputs": [
    {
     "data": {
      "text/plain": [
       "(227, 34)"
      ]
     },
     "execution_count": 16,
     "metadata": {},
     "output_type": "execute_result"
    }
   ],
   "source": [
    "defs = df.loc[df['Position']=='DF']\n",
    "\n",
    "mini = defs[['player_name', 'Squad_from_op', 'Opposing_Poss',\n",
    "       'Opposing_Touches', 'Nation', 'Position', 'Nineties', 'xA', 'Key_pass',\n",
    "       'Comp_prog', 'Total_Cmp', 'Total_Att', 'Total_Cmp_pct',\n",
    "       'Total_Tot_Dist', 'Total_Prg_Dist', 'Short_Cmp', 'Short_Att',\n",
    "       'Short_Cmp_pct', 'Medium_Cmp', 'Medium_Att', 'Medium_Cmp_pct',\n",
    "       'Long_Cmp', 'Long_Att', 'Long_Cmp_pct', 'touches', 'touches_def_box',\n",
    "       'touches_def_3rd', 'touches_mid_3rd', 'touches_att_3rd',\n",
    "       'touches_att_box', 'touch_live', 'dribble_Succ', 'dribble_Att',\n",
    "       'dribble_Succ_pct']]\n",
    "mini.shape"
   ]
  },
  {
   "cell_type": "code",
   "execution_count": 17,
   "id": "3f4b99f5-dad3-447c-8ce5-ea49c32e9e0f",
   "metadata": {},
   "outputs": [
    {
     "data": {
      "text/plain": [
       "(705, 30)"
      ]
     },
     "execution_count": 17,
     "metadata": {},
     "output_type": "execute_result"
    }
   ],
   "source": [
    "mini_df = df[['player_name','Position', 'Nineties', 'xA', 'Key_pass',\n",
    "       'Comp_prog', 'Total_Cmp', 'Total_Att', 'Total_Cmp_pct',\n",
    "       'Total_Tot_Dist', 'Total_Prg_Dist',\n",
    "              'Short_Cmp', 'Short_Att',\n",
    "       'Short_Cmp_pct', 'Medium_Cmp', 'Medium_Att', 'Medium_Cmp_pct',\n",
    "       'Long_Cmp', 'Long_Att', 'Long_Cmp_pct', 'touches', 'touches_def_box',\n",
    "       'touches_def_3rd', 'touches_mid_3rd', 'touches_att_3rd',\n",
    "       'touches_att_box', 'touch_live', 'dribble_Succ', 'dribble_Att',\n",
    "       'dribble_Succ_pct']]\n",
    "\n",
    "mini_df.shape"
   ]
  },
  {
   "cell_type": "code",
   "execution_count": 18,
   "id": "23e391a6-439c-49bd-b054-a6158c3918e7",
   "metadata": {},
   "outputs": [
    {
     "data": {
      "text/plain": [
       "(705, 74)"
      ]
     },
     "execution_count": 18,
     "metadata": {},
     "output_type": "execute_result"
    }
   ],
   "source": [
    "mini_df = df[['player_name','Position', 'Nineties', 'xA', 'Key_pass',\n",
    "       'Comp_prog', 'Total_Cmp', 'Total_Att', 'Total_Cmp_pct',\n",
    "       'Total_Tot_Dist', 'Total_Prg_Dist',\n",
    "              'Short_Cmp', 'Short_Att',\n",
    "       'Short_Cmp_pct', 'Medium_Cmp', 'Medium_Att', 'Medium_Cmp_pct',\n",
    "       'Long_Cmp', 'Long_Att', 'Long_Cmp_pct', 'touches', 'touches_def_box',\n",
    "       'touches_def_3rd', 'touches_mid_3rd', 'touches_att_3rd',\n",
    "       'touches_att_box', 'touch_live', 'dribble_Succ', 'dribble_Att',\n",
    "       'dribble_Succ_pct',\n",
    "              'num_dribble_past', 'dribble_megs', 'carries',\n",
    "       'carries_dist', 'carries_prog_dist', 'carries_prog', 'carries_att_3rd',\n",
    "       'carries_att_box', 'miss_control', 'dispossed', 'recep_targ',\n",
    "       'recep_succ', 'recept_pct', 'Fouls_drawn', 'Offsides', 'Crosses',\n",
    "       'PK_won', 'Aerial_win_pct', \n",
    "              'Gls', 'Sh', 'SoT', 'SoT%', 'Sh/90',\n",
    "       'SoT/90', 'G/Sh', 'G/SoT', 'Dist', 'FK',\n",
    "              'PK', 'PKatt', 'xG', 'npxG',\n",
    "       'npxG/Sh', \n",
    "              \n",
    "              # cant use negatives\n",
    "              # 'G-xG',\n",
    "              # 'np:G-xG',\n",
    "              \n",
    "              'Base Salary', \n",
    "              'pAdj_Yellow_cards',\n",
    "       'pAdj_Red_cards', 'pAdj_Second_yellow', 'pAdj_Fouls',\n",
    "       'pAdj_def_interceptions', 'pAdj_from_mish_tackles_won',\n",
    "       'pAdj_PK_conceded', 'pAdj_OG', 'pAdj_Recoveries',\n",
    "       'pAdj_Aerial_Duels_lost'\n",
    "             ]]\n",
    "\n",
    "mini_df.shape"
   ]
  },
  {
   "cell_type": "code",
   "execution_count": 19,
   "id": "4829f29c-4c4c-47a3-ba84-b0739c4392dc",
   "metadata": {},
   "outputs": [],
   "source": [
    "# Create a MaxAbsScaler: scaler\n",
    "scaler = MaxAbsScaler()\n",
    "\n",
    "# Create an NMF model: nmf\n",
    "nmf = NMF(5,max_iter=1000,init='nndsvda')\n",
    "\n",
    "# Create a Normalizer: normalizer\n",
    "normalizer = Normalizer()\n",
    "\n",
    "# Create a pipeline: pipeline\n",
    "pipeline = make_pipeline(scaler,nmf,normalizer)\n",
    "\n",
    "# Apply fit_transform to playesr: norm_features\n",
    "norm_features = pipeline.fit_transform(mini_df.select_dtypes(float))"
   ]
  },
  {
   "cell_type": "code",
   "execution_count": 20,
   "id": "1d478b19-b32a-4684-8491-578eb37392b1",
   "metadata": {},
   "outputs": [
    {
     "name": "stdout",
     "output_type": "stream",
     "text": [
      "<class 'pandas.core.frame.DataFrame'>\n",
      "Index: 705 entries, Carles Gil to Kamron Habibullah\n",
      "Data columns (total 5 columns):\n",
      " #   Column  Non-Null Count  Dtype  \n",
      "---  ------  --------------  -----  \n",
      " 0   0       705 non-null    float64\n",
      " 1   1       705 non-null    float64\n",
      " 2   2       705 non-null    float64\n",
      " 3   3       705 non-null    float64\n",
      " 4   4       705 non-null    float64\n",
      "dtypes: float64(5)\n",
      "memory usage: 33.0+ KB\n"
     ]
    }
   ],
   "source": [
    "normed_df = pd.DataFrame(norm_features,index=mini_df.player_name.values)\n",
    "normed_df.info()"
   ]
  },
  {
   "cell_type": "code",
   "execution_count": 35,
   "id": "235019b4-e993-4307-bf76-98e6f438c429",
   "metadata": {},
   "outputs": [
    {
     "data": {
      "text/html": [
       "<div>\n",
       "<style scoped>\n",
       "    .dataframe tbody tr th:only-of-type {\n",
       "        vertical-align: middle;\n",
       "    }\n",
       "\n",
       "    .dataframe tbody tr th {\n",
       "        vertical-align: top;\n",
       "    }\n",
       "\n",
       "    .dataframe thead th {\n",
       "        text-align: right;\n",
       "    }\n",
       "</style>\n",
       "<table border=\"1\" class=\"dataframe\">\n",
       "  <thead>\n",
       "    <tr style=\"text-align: right;\">\n",
       "      <th></th>\n",
       "      <th>0</th>\n",
       "      <th>1</th>\n",
       "      <th>2</th>\n",
       "      <th>3</th>\n",
       "      <th>4</th>\n",
       "    </tr>\n",
       "  </thead>\n",
       "  <tbody>\n",
       "    <tr>\n",
       "      <th>Carles Gil</th>\n",
       "      <td>0.075549</td>\n",
       "      <td>0.020884</td>\n",
       "      <td>0.125625</td>\n",
       "      <td>0.432183</td>\n",
       "      <td>0.889546</td>\n",
       "    </tr>\n",
       "    <tr>\n",
       "      <th>Julian Gressel</th>\n",
       "      <td>0.246671</td>\n",
       "      <td>0.084765</td>\n",
       "      <td>0.323295</td>\n",
       "      <td>0.685445</td>\n",
       "      <td>0.598009</td>\n",
       "    </tr>\n",
       "    <tr>\n",
       "      <th>Emanuel Reynoso</th>\n",
       "      <td>0.032036</td>\n",
       "      <td>0.093817</td>\n",
       "      <td>0.000000</td>\n",
       "      <td>0.333145</td>\n",
       "      <td>0.937649</td>\n",
       "    </tr>\n",
       "    <tr>\n",
       "      <th>Albert Rusnák</th>\n",
       "      <td>0.157205</td>\n",
       "      <td>0.300049</td>\n",
       "      <td>0.383995</td>\n",
       "      <td>0.648706</td>\n",
       "      <td>0.563014</td>\n",
       "    </tr>\n",
       "    <tr>\n",
       "      <th>Maximiliano Moralez</th>\n",
       "      <td>0.258402</td>\n",
       "      <td>0.285628</td>\n",
       "      <td>0.000000</td>\n",
       "      <td>0.581197</td>\n",
       "      <td>0.716837</td>\n",
       "    </tr>\n",
       "    <tr>\n",
       "      <th>Luciano Acosta</th>\n",
       "      <td>0.092497</td>\n",
       "      <td>0.203486</td>\n",
       "      <td>0.000000</td>\n",
       "      <td>0.428638</td>\n",
       "      <td>0.875390</td>\n",
       "    </tr>\n",
       "    <tr>\n",
       "      <th>Lucas Zelarayán</th>\n",
       "      <td>0.000000</td>\n",
       "      <td>0.235707</td>\n",
       "      <td>0.116278</td>\n",
       "      <td>0.415811</td>\n",
       "      <td>0.870645</td>\n",
       "    </tr>\n",
       "    <tr>\n",
       "      <th>Djordje Mihailovic</th>\n",
       "      <td>0.096870</td>\n",
       "      <td>0.284737</td>\n",
       "      <td>0.164157</td>\n",
       "      <td>0.533324</td>\n",
       "      <td>0.773407</td>\n",
       "    </tr>\n",
       "    <tr>\n",
       "      <th>Brooks Lennon</th>\n",
       "      <td>0.307630</td>\n",
       "      <td>0.116314</td>\n",
       "      <td>0.472667</td>\n",
       "      <td>0.598545</td>\n",
       "      <td>0.556924</td>\n",
       "    </tr>\n",
       "    <tr>\n",
       "      <th>Álvaro Medrán</th>\n",
       "      <td>0.301139</td>\n",
       "      <td>0.012017</td>\n",
       "      <td>0.098961</td>\n",
       "      <td>0.495387</td>\n",
       "      <td>0.808684</td>\n",
       "    </tr>\n",
       "    <tr>\n",
       "      <th>João Paulo Mior</th>\n",
       "      <td>0.438756</td>\n",
       "      <td>0.000000</td>\n",
       "      <td>0.286334</td>\n",
       "      <td>0.637512</td>\n",
       "      <td>0.564876</td>\n",
       "    </tr>\n",
       "    <tr>\n",
       "      <th>Marcelino Moreno</th>\n",
       "      <td>0.092959</td>\n",
       "      <td>0.242085</td>\n",
       "      <td>0.000000</td>\n",
       "      <td>0.419584</td>\n",
       "      <td>0.869887</td>\n",
       "    </tr>\n",
       "    <tr>\n",
       "      <th>Hany Mukhtar</th>\n",
       "      <td>0.037505</td>\n",
       "      <td>0.573432</td>\n",
       "      <td>0.029466</td>\n",
       "      <td>0.498977</td>\n",
       "      <td>0.648014</td>\n",
       "    </tr>\n",
       "    <tr>\n",
       "      <th>Jack Price</th>\n",
       "      <td>0.449546</td>\n",
       "      <td>0.000000</td>\n",
       "      <td>0.530027</td>\n",
       "      <td>0.667232</td>\n",
       "      <td>0.267921</td>\n",
       "    </tr>\n",
       "    <tr>\n",
       "      <th>Yimmi Chará</th>\n",
       "      <td>0.218765</td>\n",
       "      <td>0.361610</td>\n",
       "      <td>0.187764</td>\n",
       "      <td>0.529377</td>\n",
       "      <td>0.711256</td>\n",
       "    </tr>\n",
       "  </tbody>\n",
       "</table>\n",
       "</div>"
      ],
      "text/plain": [
       "                            0         1         2         3         4\n",
       "Carles Gil           0.075549  0.020884  0.125625  0.432183  0.889546\n",
       "Julian Gressel       0.246671  0.084765  0.323295  0.685445  0.598009\n",
       "Emanuel Reynoso      0.032036  0.093817  0.000000  0.333145  0.937649\n",
       "Albert Rusnák        0.157205  0.300049  0.383995  0.648706  0.563014\n",
       "Maximiliano Moralez  0.258402  0.285628  0.000000  0.581197  0.716837\n",
       "Luciano Acosta       0.092497  0.203486  0.000000  0.428638  0.875390\n",
       "Lucas Zelarayán      0.000000  0.235707  0.116278  0.415811  0.870645\n",
       "Djordje Mihailovic   0.096870  0.284737  0.164157  0.533324  0.773407\n",
       "Brooks Lennon        0.307630  0.116314  0.472667  0.598545  0.556924\n",
       "Álvaro Medrán        0.301139  0.012017  0.098961  0.495387  0.808684\n",
       "João Paulo Mior      0.438756  0.000000  0.286334  0.637512  0.564876\n",
       "Marcelino Moreno     0.092959  0.242085  0.000000  0.419584  0.869887\n",
       "Hany Mukhtar         0.037505  0.573432  0.029466  0.498977  0.648014\n",
       "Jack Price           0.449546  0.000000  0.530027  0.667232  0.267921\n",
       "Yimmi Chará          0.218765  0.361610  0.187764  0.529377  0.711256"
      ]
     },
     "execution_count": 35,
     "metadata": {},
     "output_type": "execute_result"
    }
   ],
   "source": [
    "normed_df[:15]"
   ]
  },
  {
   "cell_type": "code",
   "execution_count": 21,
   "id": "7d10daad-fc3c-4102-a669-e81d09f002a3",
   "metadata": {},
   "outputs": [
    {
     "data": {
      "text/plain": [
       "Tommy Thompson      1.000000\n",
       "Emmanuel Más        0.995630\n",
       "Jack McGlynn        0.994367\n",
       "Joseph Rosales      0.983674\n",
       "Luciano Abecasis    0.982108\n",
       "Tanner Tessmann     0.981522\n",
       "Ján Greguš          0.980744\n",
       "Sami Guediri        0.980248\n",
       "Mo Adams            0.979486\n",
       "Carlos Harvey       0.977544\n",
       "dtype: float64"
      ]
     },
     "execution_count": 21,
     "metadata": {},
     "output_type": "execute_result"
    }
   ],
   "source": [
    "tt = normed_df.loc['Tommy Thompson']\n",
    "sims = normed_df.dot(tt)\n",
    "\n",
    "sims.nlargest(10)"
   ]
  },
  {
   "cell_type": "code",
   "execution_count": 22,
   "id": "7c62ba70-d7ba-40ad-9c98-5f8d4b824628",
   "metadata": {},
   "outputs": [
    {
     "data": {
      "text/plain": [
       "Tanner Beason           1.000000\n",
       "Henry Kessler           0.999545\n",
       "Yeimar Gómez Andrade    0.998445\n",
       "Alexander Callens       0.998010\n",
       "Antonio Carlos          0.997466\n",
       "Sean Nealis             0.996985\n",
       "Gustavo Vallecilla      0.996695\n",
       "Lalas Abubakar          0.996387\n",
       "Jonathan Mensah         0.995553\n",
       "Julio Cascante          0.994954\n",
       "dtype: float64"
      ]
     },
     "execution_count": 22,
     "metadata": {},
     "output_type": "execute_result"
    }
   ],
   "source": [
    "# using all players\n",
    "tb = normed_df.loc['Tanner Beason']\n",
    "sims = normed_df.dot(tb)\n",
    "\n",
    "sims.nlargest(10)"
   ]
  },
  {
   "cell_type": "code",
   "execution_count": 92,
   "id": "0a3828b6-b019-4f38-a19a-879cc879d2eb",
   "metadata": {},
   "outputs": [
    {
     "data": {
      "text/html": [
       "<div>\n",
       "<style scoped>\n",
       "    .dataframe tbody tr th:only-of-type {\n",
       "        vertical-align: middle;\n",
       "    }\n",
       "\n",
       "    .dataframe tbody tr th {\n",
       "        vertical-align: top;\n",
       "    }\n",
       "\n",
       "    .dataframe thead th {\n",
       "        text-align: right;\n",
       "    }\n",
       "</style>\n",
       "<table border=\"1\" class=\"dataframe\">\n",
       "  <thead>\n",
       "    <tr style=\"text-align: right;\">\n",
       "      <th></th>\n",
       "      <th>fb_id</th>\n",
       "      <th>player_name</th>\n",
       "      <th>Squad_from_op</th>\n",
       "      <th>Opposing_Poss</th>\n",
       "      <th>Opposing_Touches</th>\n",
       "      <th>Nation</th>\n",
       "      <th>Position</th>\n",
       "      <th>Nineties</th>\n",
       "      <th>xA</th>\n",
       "      <th>Key_pass</th>\n",
       "      <th>...</th>\n",
       "      <th>pAdj_Yellow_cards</th>\n",
       "      <th>pAdj_Red_cards</th>\n",
       "      <th>pAdj_Second_yellow</th>\n",
       "      <th>pAdj_Fouls</th>\n",
       "      <th>pAdj_def_interceptions</th>\n",
       "      <th>pAdj_from_mish_tackles_won</th>\n",
       "      <th>pAdj_PK_conceded</th>\n",
       "      <th>pAdj_OG</th>\n",
       "      <th>pAdj_Recoveries</th>\n",
       "      <th>pAdj_Aerial_Duels_lost</th>\n",
       "    </tr>\n",
       "  </thead>\n",
       "  <tbody>\n",
       "    <tr>\n",
       "      <th>184</th>\n",
       "      <td>da0bb55a</td>\n",
       "      <td>Paul Marie</td>\n",
       "      <td>San Jose</td>\n",
       "      <td>47.4</td>\n",
       "      <td>548.264706</td>\n",
       "      <td>fr FRA</td>\n",
       "      <td>DF</td>\n",
       "      <td>11.1</td>\n",
       "      <td>0.090090</td>\n",
       "      <td>1.531532</td>\n",
       "      <td>...</td>\n",
       "      <td>5.258195</td>\n",
       "      <td>0.000000</td>\n",
       "      <td>0.0</td>\n",
       "      <td>3.286372</td>\n",
       "      <td>3.450691</td>\n",
       "      <td>2.793416</td>\n",
       "      <td>0.0</td>\n",
       "      <td>0.000000</td>\n",
       "      <td>15.610267</td>\n",
       "      <td>2.957735</td>\n",
       "    </tr>\n",
       "    <tr>\n",
       "      <th>226</th>\n",
       "      <td>9b3ab988</td>\n",
       "      <td>Marcos López</td>\n",
       "      <td>San Jose</td>\n",
       "      <td>47.4</td>\n",
       "      <td>548.264706</td>\n",
       "      <td>pe PER</td>\n",
       "      <td>DF</td>\n",
       "      <td>15.7</td>\n",
       "      <td>0.076433</td>\n",
       "      <td>0.828025</td>\n",
       "      <td>...</td>\n",
       "      <td>3.485229</td>\n",
       "      <td>0.000000</td>\n",
       "      <td>0.0</td>\n",
       "      <td>3.020532</td>\n",
       "      <td>5.924889</td>\n",
       "      <td>1.394092</td>\n",
       "      <td>0.0</td>\n",
       "      <td>0.000000</td>\n",
       "      <td>11.849778</td>\n",
       "      <td>2.555835</td>\n",
       "    </tr>\n",
       "    <tr>\n",
       "      <th>257</th>\n",
       "      <td>6c510f2d</td>\n",
       "      <td>Luciano Abecasis</td>\n",
       "      <td>San Jose</td>\n",
       "      <td>47.4</td>\n",
       "      <td>548.264706</td>\n",
       "      <td>ar ARG</td>\n",
       "      <td>DF</td>\n",
       "      <td>13.7</td>\n",
       "      <td>0.116788</td>\n",
       "      <td>0.802920</td>\n",
       "      <td>...</td>\n",
       "      <td>3.727753</td>\n",
       "      <td>0.000000</td>\n",
       "      <td>0.0</td>\n",
       "      <td>4.792826</td>\n",
       "      <td>4.127156</td>\n",
       "      <td>3.594619</td>\n",
       "      <td>0.0</td>\n",
       "      <td>0.000000</td>\n",
       "      <td>16.242354</td>\n",
       "      <td>2.662681</td>\n",
       "    </tr>\n",
       "    <tr>\n",
       "      <th>269</th>\n",
       "      <td>5f6c69d8</td>\n",
       "      <td>Tommy Thompson</td>\n",
       "      <td>San Jose</td>\n",
       "      <td>47.4</td>\n",
       "      <td>548.264706</td>\n",
       "      <td>us USA</td>\n",
       "      <td>DF</td>\n",
       "      <td>8.3</td>\n",
       "      <td>0.132530</td>\n",
       "      <td>1.204819</td>\n",
       "      <td>...</td>\n",
       "      <td>4.834530</td>\n",
       "      <td>0.000000</td>\n",
       "      <td>0.0</td>\n",
       "      <td>1.318508</td>\n",
       "      <td>5.493785</td>\n",
       "      <td>2.856768</td>\n",
       "      <td>0.0</td>\n",
       "      <td>0.000000</td>\n",
       "      <td>14.503591</td>\n",
       "      <td>1.758011</td>\n",
       "    </tr>\n",
       "    <tr>\n",
       "      <th>415</th>\n",
       "      <td>e97787d9</td>\n",
       "      <td>Oswaldo Alanís</td>\n",
       "      <td>San Jose</td>\n",
       "      <td>47.4</td>\n",
       "      <td>548.264706</td>\n",
       "      <td>mx MEX</td>\n",
       "      <td>DF</td>\n",
       "      <td>22.7</td>\n",
       "      <td>0.008811</td>\n",
       "      <td>0.176211</td>\n",
       "      <td>...</td>\n",
       "      <td>0.241049</td>\n",
       "      <td>0.000000</td>\n",
       "      <td>0.0</td>\n",
       "      <td>1.205244</td>\n",
       "      <td>4.499579</td>\n",
       "      <td>1.526643</td>\n",
       "      <td>0.0</td>\n",
       "      <td>0.000000</td>\n",
       "      <td>13.338038</td>\n",
       "      <td>3.294335</td>\n",
       "    </tr>\n",
       "    <tr>\n",
       "      <th>455</th>\n",
       "      <td>d4438745</td>\n",
       "      <td>Nathan Cardoso</td>\n",
       "      <td>San Jose</td>\n",
       "      <td>47.4</td>\n",
       "      <td>548.264706</td>\n",
       "      <td>br BRA</td>\n",
       "      <td>DF</td>\n",
       "      <td>19.2</td>\n",
       "      <td>0.020833</td>\n",
       "      <td>0.156250</td>\n",
       "      <td>...</td>\n",
       "      <td>0.189993</td>\n",
       "      <td>0.094997</td>\n",
       "      <td>0.0</td>\n",
       "      <td>4.084858</td>\n",
       "      <td>8.359709</td>\n",
       "      <td>6.174785</td>\n",
       "      <td>0.0</td>\n",
       "      <td>0.000000</td>\n",
       "      <td>15.294467</td>\n",
       "      <td>6.364778</td>\n",
       "    </tr>\n",
       "    <tr>\n",
       "      <th>548</th>\n",
       "      <td>3f1b018e</td>\n",
       "      <td>Tanner Beason</td>\n",
       "      <td>San Jose</td>\n",
       "      <td>47.4</td>\n",
       "      <td>548.264706</td>\n",
       "      <td>us USA</td>\n",
       "      <td>DF</td>\n",
       "      <td>21.4</td>\n",
       "      <td>0.009346</td>\n",
       "      <td>0.046729</td>\n",
       "      <td>...</td>\n",
       "      <td>0.340923</td>\n",
       "      <td>0.000000</td>\n",
       "      <td>0.0</td>\n",
       "      <td>1.022768</td>\n",
       "      <td>3.409227</td>\n",
       "      <td>0.937537</td>\n",
       "      <td>0.0</td>\n",
       "      <td>0.085231</td>\n",
       "      <td>12.614140</td>\n",
       "      <td>6.051378</td>\n",
       "    </tr>\n",
       "  </tbody>\n",
       "</table>\n",
       "<p>7 rows × 81 columns</p>\n",
       "</div>"
      ],
      "text/plain": [
       "        fb_id       player_name Squad_from_op  Opposing_Poss  \\\n",
       "184  da0bb55a        Paul Marie      San Jose           47.4   \n",
       "226  9b3ab988      Marcos López      San Jose           47.4   \n",
       "257  6c510f2d  Luciano Abecasis      San Jose           47.4   \n",
       "269  5f6c69d8    Tommy Thompson      San Jose           47.4   \n",
       "415  e97787d9    Oswaldo Alanís      San Jose           47.4   \n",
       "455  d4438745    Nathan Cardoso      San Jose           47.4   \n",
       "548  3f1b018e     Tanner Beason      San Jose           47.4   \n",
       "\n",
       "     Opposing_Touches  Nation Position  Nineties        xA  Key_pass  ...  \\\n",
       "184        548.264706  fr FRA       DF      11.1  0.090090  1.531532  ...   \n",
       "226        548.264706  pe PER       DF      15.7  0.076433  0.828025  ...   \n",
       "257        548.264706  ar ARG       DF      13.7  0.116788  0.802920  ...   \n",
       "269        548.264706  us USA       DF       8.3  0.132530  1.204819  ...   \n",
       "415        548.264706  mx MEX       DF      22.7  0.008811  0.176211  ...   \n",
       "455        548.264706  br BRA       DF      19.2  0.020833  0.156250  ...   \n",
       "548        548.264706  us USA       DF      21.4  0.009346  0.046729  ...   \n",
       "\n",
       "     pAdj_Yellow_cards  pAdj_Red_cards  pAdj_Second_yellow  pAdj_Fouls  \\\n",
       "184           5.258195        0.000000                 0.0    3.286372   \n",
       "226           3.485229        0.000000                 0.0    3.020532   \n",
       "257           3.727753        0.000000                 0.0    4.792826   \n",
       "269           4.834530        0.000000                 0.0    1.318508   \n",
       "415           0.241049        0.000000                 0.0    1.205244   \n",
       "455           0.189993        0.094997                 0.0    4.084858   \n",
       "548           0.340923        0.000000                 0.0    1.022768   \n",
       "\n",
       "     pAdj_def_interceptions  pAdj_from_mish_tackles_won  pAdj_PK_conceded  \\\n",
       "184                3.450691                    2.793416               0.0   \n",
       "226                5.924889                    1.394092               0.0   \n",
       "257                4.127156                    3.594619               0.0   \n",
       "269                5.493785                    2.856768               0.0   \n",
       "415                4.499579                    1.526643               0.0   \n",
       "455                8.359709                    6.174785               0.0   \n",
       "548                3.409227                    0.937537               0.0   \n",
       "\n",
       "      pAdj_OG  pAdj_Recoveries  pAdj_Aerial_Duels_lost  \n",
       "184  0.000000        15.610267                2.957735  \n",
       "226  0.000000        11.849778                2.555835  \n",
       "257  0.000000        16.242354                2.662681  \n",
       "269  0.000000        14.503591                1.758011  \n",
       "415  0.000000        13.338038                3.294335  \n",
       "455  0.000000        15.294467                6.364778  \n",
       "548  0.085231        12.614140                6.051378  \n",
       "\n",
       "[7 rows x 81 columns]"
      ]
     },
     "execution_count": 92,
     "metadata": {},
     "output_type": "execute_result"
    }
   ],
   "source": [
    "defs.loc[defs['Squad_from_op']=='San Jose']"
   ]
  },
  {
   "cell_type": "code",
   "execution_count": 117,
   "id": "233acf35-eaed-4b1d-bf07-2c0ae5fd2985",
   "metadata": {},
   "outputs": [],
   "source": [
    "#I need to look at what features are in each category to figure out what to set p too, other hyperparamters \n",
    "#need to be tuned "
   ]
  },
  {
   "cell_type": "markdown",
   "id": "f9b1f611-5048-49d1-b04b-867705507dee",
   "metadata": {},
   "source": [
    "## def features only below "
   ]
  },
  {
   "cell_type": "code",
   "execution_count": 23,
   "id": "04539e11-13a9-4cbf-99a5-42465d35f783",
   "metadata": {},
   "outputs": [
    {
     "data": {
      "text/plain": [
       "(705, 13)"
      ]
     },
     "execution_count": 23,
     "metadata": {},
     "output_type": "execute_result"
    }
   ],
   "source": [
    "mini_df = df[[\n",
    "    'player_name',\n",
    "    # 'Position', \n",
    "    'Nineties', \n",
    "    # 'xA', 'Key_pass',\n",
    "    #    'Comp_prog', 'Total_Cmp', 'Total_Att', 'Total_Cmp_pct',\n",
    "    #    'Total_Tot_Dist', 'Total_Prg_Dist',\n",
    "    #           'Short_Cmp', 'Short_Att',\n",
    "    #    'Short_Cmp_pct', 'Medium_Cmp', 'Medium_Att', 'Medium_Cmp_pct',\n",
    "    #    'Long_Cmp', 'Long_Att', 'Long_Cmp_pct', 'touches', 'touches_def_box',\n",
    "    #    'touches_def_3rd', 'touches_mid_3rd', 'touches_att_3rd',\n",
    "    #    'touches_att_box', 'touch_live', 'dribble_Succ', 'dribble_Att',\n",
    "    #    'dribble_Succ_pct',\n",
    "    #           'num_dribble_past', 'dribble_megs', 'carries',\n",
    "    #    'carries_dist', 'carries_prog_dist', 'carries_prog', 'carries_att_3rd',\n",
    "    #    'carries_att_box', 'miss_control', 'dispossed', 'recep_targ',\n",
    "    #    'recep_succ', 'recept_pct', 'Fouls_drawn', 'Offsides', 'Crosses',\n",
    "    #    'PK_won', 'Aerial_win_pct', \n",
    "    #           'Gls', 'Sh', 'SoT', 'SoT%', 'Sh/90',\n",
    "    #    'SoT/90', 'G/Sh', 'G/SoT', 'Dist', 'FK',\n",
    "    #           'PK', 'PKatt', 'xG', 'npxG',\n",
    "    #    'npxG/Sh', \n",
    "              \n",
    "              # cant use negatives\n",
    "              # 'G-xG',\n",
    "              # 'np:G-xG',\n",
    "              \n",
    "              'Base Salary', \n",
    "              'pAdj_Yellow_cards',\n",
    "       'pAdj_Red_cards', 'pAdj_Second_yellow', 'pAdj_Fouls',\n",
    "       'pAdj_def_interceptions', 'pAdj_from_mish_tackles_won',\n",
    "       'pAdj_PK_conceded', 'pAdj_OG', 'pAdj_Recoveries',\n",
    "       'pAdj_Aerial_Duels_lost'\n",
    "             ]]\n",
    "\n",
    "mini_df.shape"
   ]
  },
  {
   "cell_type": "code",
   "execution_count": 26,
   "id": "91422f58-bce6-4b10-b1f3-9634f2526187",
   "metadata": {},
   "outputs": [],
   "source": [
    "\n",
    "\n",
    "# Create a MaxAbsScaler: scaler\n",
    "scaler = MaxAbsScaler()\n",
    "\n",
    "# Create an NMF model: nmf\n",
    "nmf = NMF(3,max_iter=1000,init='nndsvda')\n",
    "\n",
    "# Create a Normalizer: normalizer\n",
    "normalizer = Normalizer()\n",
    "\n",
    "# Create a pipeline: pipeline\n",
    "pipeline = make_pipeline(scaler,nmf,normalizer)\n",
    "\n",
    "# Apply fit_transform to playesr: norm_features\n",
    "norm_features = pipeline.fit_transform(mini_df.select_dtypes(float))"
   ]
  },
  {
   "cell_type": "code",
   "execution_count": 27,
   "id": "e302f027-81cf-4876-8240-b861ad708b1e",
   "metadata": {},
   "outputs": [
    {
     "name": "stdout",
     "output_type": "stream",
     "text": [
      "<class 'pandas.core.frame.DataFrame'>\n",
      "Index: 705 entries, Carles Gil to Kamron Habibullah\n",
      "Data columns (total 3 columns):\n",
      " #   Column  Non-Null Count  Dtype  \n",
      "---  ------  --------------  -----  \n",
      " 0   0       705 non-null    float64\n",
      " 1   1       705 non-null    float64\n",
      " 2   2       705 non-null    float64\n",
      "dtypes: float64(3)\n",
      "memory usage: 22.0+ KB\n"
     ]
    }
   ],
   "source": [
    "normed_df = pd.DataFrame(norm_features,index=mini_df.player_name.values)\n",
    "normed_df.info()"
   ]
  },
  {
   "cell_type": "code",
   "execution_count": 28,
   "id": "e164478c-50f7-4b58-8720-9054d5b686f9",
   "metadata": {},
   "outputs": [
    {
     "data": {
      "text/plain": [
       "Tommy Thompson      1.000000\n",
       "Boniek García       0.999545\n",
       "Emmanuel Más        0.998706\n",
       "Frankie Amaya       0.997824\n",
       "Kamohelo Mokotjo    0.997527\n",
       "Federico Navarro    0.997034\n",
       "José Bizama         0.996843\n",
       "Amro Tarek          0.996454\n",
       "Wyatt Omsberg       0.996129\n",
       "Drew Moor           0.993839\n",
       "dtype: float64"
      ]
     },
     "execution_count": 28,
     "metadata": {},
     "output_type": "execute_result"
    }
   ],
   "source": [
    "tt = normed_df.loc['Tommy Thompson']\n",
    "sims = normed_df.dot(tt)\n",
    "\n",
    "sims.nlargest(10)"
   ]
  },
  {
   "cell_type": "code",
   "execution_count": 29,
   "id": "6e832dd3-d7f0-451d-8afb-7468c8f1a181",
   "metadata": {},
   "outputs": [
    {
     "data": {
      "text/plain": [
       "Tanner Beason                1.000000\n",
       "Antonio Carlos               0.999995\n",
       "Matt Besler                  0.999979\n",
       "José Antonio Martínez Gil    0.999954\n",
       "Leandro González Pirez       0.999874\n",
       "Larrys Mabiala               0.999865\n",
       "Yeimar Gómez Andrade         0.999771\n",
       "Sean Davis                   0.999747\n",
       "Bill Tuiloma                 0.999667\n",
       "Oswaldo Alanís               0.999594\n",
       "dtype: float64"
      ]
     },
     "execution_count": 29,
     "metadata": {},
     "output_type": "execute_result"
    }
   ],
   "source": [
    "# using all players\n",
    "tb = normed_df.loc['Tanner Beason']\n",
    "sims = normed_df.dot(tb)\n",
    "\n",
    "sims.nlargest(10)"
   ]
  },
  {
   "cell_type": "code",
   "execution_count": 56,
   "id": "55682d39-cc15-4e67-93c9-dfc85e768e28",
   "metadata": {},
   "outputs": [
    {
     "data": {
      "text/plain": [
       "Sean Nealis           1.000000\n",
       "Dayne St. Clair       0.999954\n",
       "Nick Hagglund         0.999581\n",
       "Jorge Figal           0.999486\n",
       "Rónald Matarrita      0.999455\n",
       "Gustavo Vallecilla    0.999424\n",
       "Joel Waterman         0.999371\n",
       "John Tolkin           0.999302\n",
       "Marcelo Silva         0.999276\n",
       "Tom Edwards           0.999275\n",
       "dtype: float64"
      ]
     },
     "execution_count": 56,
     "metadata": {},
     "output_type": "execute_result"
    }
   ],
   "source": [
    "tb = normed_df.loc['Sean Nealis']\n",
    "sims = normed_df.dot(tb)\n",
    "\n",
    "sims.nlargest(10)"
   ]
  },
  {
   "cell_type": "markdown",
   "id": "86a4aa48-a1f5-4bf1-bfd6-114b20a0a08d",
   "metadata": {},
   "source": [
    "### chaing p give totally different solutions, need to feature engineer and select to more detail to choose which ones are offensive and defenvie or whole , look at what p is to see if joined features make sense or not. "
   ]
  },
  {
   "cell_type": "code",
   "execution_count": 30,
   "id": "8a337d6c-0368-4975-9e83-04995c1c1c3e",
   "metadata": {},
   "outputs": [
    {
     "ename": "SyntaxError",
     "evalue": "unexpected character after line continuation character (<ipython-input-30-5e19b76103d8>, line 1)",
     "output_type": "error",
     "traceback": [
      "\u001b[0;36m  File \u001b[0;32m\"<ipython-input-30-5e19b76103d8>\"\u001b[0;36m, line \u001b[0;32m1\u001b[0m\n\u001b[0;31m    def display_topics(model, feature_names, num_top_words,\\ topic_names=None):\u001b[0m\n\u001b[0m                                                                               ^\u001b[0m\n\u001b[0;31mSyntaxError\u001b[0m\u001b[0;31m:\u001b[0m unexpected character after line continuation character\n"
     ]
    }
   ],
   "source": [
    "def display_topics(model, feature_names, num_top_words,\\ topic_names=None):\n",
    "'''Given an NMF model, feature_names, and number of top words, print topic number and its top feature names, up to specified number of top words.'''\n",
    "    # iterate through topics in topic-term matrix, 'H' aka\n",
    "    # model.components_\n",
    "    for ix, topic in enumerate(model.components_):\n",
    "        #print topic, topic number, and top words\n",
    "        if not topic_names or not topic_names[ix]:\n",
    "            print(\"\\nTopic \", ix)\n",
    "        else:\n",
    "            print(\"\\nTopic: '\",topic_names[ix],\"'\")\n",
    "        print(\", \".join([feature_names[i] \\\n",
    "             for i in topic.argsort()[:-num_top_words - 1:-1]]))"
   ]
  },
  {
   "cell_type": "code",
   "execution_count": null,
   "id": "83e35f95-1dda-4c24-b1a1-ba9c0fe51a76",
   "metadata": {},
   "outputs": [],
   "source": [
    "nmf_model = NMF(8)\n",
    "doc_topic = nmf_model.fit_transform(data_dtm_noun)\n",
    "display_topics(nmf_model, tv_noun.get_feature_names(), 5)"
   ]
  }
 ],
 "metadata": {
  "kernelspec": {
   "display_name": "PythonData",
   "language": "python",
   "name": "pythondata"
  },
  "language_info": {
   "codemirror_mode": {
    "name": "ipython",
    "version": 3
   },
   "file_extension": ".py",
   "mimetype": "text/x-python",
   "name": "python",
   "nbconvert_exporter": "python",
   "pygments_lexer": "ipython3",
   "version": "3.8.8"
  }
 },
 "nbformat": 4,
 "nbformat_minor": 5
}
