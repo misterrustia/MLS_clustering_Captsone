{
 "cells": [
  {
   "cell_type": "code",
   "execution_count": 1,
   "id": "8441f901-8801-4831-95e9-2e83b049aee0",
   "metadata": {},
   "outputs": [],
   "source": [
    "import pandas as pd\n",
    "\n",
    "\n",
    "import matplotlib.pyplot as plt\n",
    "from sklearn.decomposition import NMF \n",
    "from sklearn.preprocessing import Normalizer ,MaxAbsScaler\n",
    "from sklearn.pipeline import make_pipeline"
   ]
  },
  {
   "cell_type": "code",
   "execution_count": 2,
   "id": "3ae08d6d-2129-4776-9778-fda8eaa456e0",
   "metadata": {},
   "outputs": [],
   "source": [
    "df = pd.read_csv('../data/final_per_90_and_pAdj.csv')"
   ]
  },
  {
   "cell_type": "code",
   "execution_count": 3,
   "id": "3450359e-d3b2-448b-a061-e6fa0165fbaf",
   "metadata": {},
   "outputs": [
    {
     "ename": "KeyError",
     "evalue": "\"['Unnamed: 0_y' 'First Name' 'Last Name' 'name' '_merge'\\n 'Guaranteed Compensation'] not found in axis\"",
     "output_type": "error",
     "traceback": [
      "\u001b[0;31m---------------------------------------------------------------------------\u001b[0m",
      "\u001b[0;31mKeyError\u001b[0m                                  Traceback (most recent call last)",
      "\u001b[0;32m<ipython-input-3-397b1bab81d7>\u001b[0m in \u001b[0;36m<module>\u001b[0;34m\u001b[0m\n\u001b[1;32m      1\u001b[0m \u001b[0;31m# ## dont need club for NMF\u001b[0m\u001b[0;34m\u001b[0m\u001b[0;34m\u001b[0m\u001b[0;34m\u001b[0m\u001b[0m\n\u001b[1;32m      2\u001b[0m \u001b[0;34m\u001b[0m\u001b[0m\n\u001b[0;32m----> 3\u001b[0;31m \u001b[0mdf\u001b[0m\u001b[0;34m.\u001b[0m\u001b[0mdrop\u001b[0m\u001b[0;34m(\u001b[0m\u001b[0mcolumns\u001b[0m\u001b[0;34m=\u001b[0m\u001b[0;34m[\u001b[0m\u001b[0;34m'Unnamed: 0_y'\u001b[0m\u001b[0;34m,\u001b[0m \u001b[0;34m'First Name'\u001b[0m\u001b[0;34m,\u001b[0m \u001b[0;34m'Last Name'\u001b[0m\u001b[0;34m,\u001b[0m \u001b[0;34m'name'\u001b[0m\u001b[0;34m,\u001b[0m \u001b[0;34m'_merge'\u001b[0m\u001b[0;34m,\u001b[0m\u001b[0;34m'Club'\u001b[0m\u001b[0;34m,\u001b[0m\u001b[0;34m'Guaranteed Compensation'\u001b[0m\u001b[0;34m]\u001b[0m\u001b[0;34m,\u001b[0m\u001b[0minplace\u001b[0m\u001b[0;34m=\u001b[0m\u001b[0;32mTrue\u001b[0m\u001b[0;34m)\u001b[0m\u001b[0;34m\u001b[0m\u001b[0;34m\u001b[0m\u001b[0m\n\u001b[0m",
      "\u001b[0;32m~/opt/anaconda3/lib/python3.8/site-packages/pandas/core/frame.py\u001b[0m in \u001b[0;36mdrop\u001b[0;34m(self, labels, axis, index, columns, level, inplace, errors)\u001b[0m\n\u001b[1;32m   4306\u001b[0m                 \u001b[0mweight\u001b[0m  \u001b[0;36m1.0\u001b[0m     \u001b[0;36m0.8\u001b[0m\u001b[0;34m\u001b[0m\u001b[0;34m\u001b[0m\u001b[0m\n\u001b[1;32m   4307\u001b[0m         \"\"\"\n\u001b[0;32m-> 4308\u001b[0;31m         return super().drop(\n\u001b[0m\u001b[1;32m   4309\u001b[0m             \u001b[0mlabels\u001b[0m\u001b[0;34m=\u001b[0m\u001b[0mlabels\u001b[0m\u001b[0;34m,\u001b[0m\u001b[0;34m\u001b[0m\u001b[0;34m\u001b[0m\u001b[0m\n\u001b[1;32m   4310\u001b[0m             \u001b[0maxis\u001b[0m\u001b[0;34m=\u001b[0m\u001b[0maxis\u001b[0m\u001b[0;34m,\u001b[0m\u001b[0;34m\u001b[0m\u001b[0;34m\u001b[0m\u001b[0m\n",
      "\u001b[0;32m~/opt/anaconda3/lib/python3.8/site-packages/pandas/core/generic.py\u001b[0m in \u001b[0;36mdrop\u001b[0;34m(self, labels, axis, index, columns, level, inplace, errors)\u001b[0m\n\u001b[1;32m   4151\u001b[0m         \u001b[0;32mfor\u001b[0m \u001b[0maxis\u001b[0m\u001b[0;34m,\u001b[0m \u001b[0mlabels\u001b[0m \u001b[0;32min\u001b[0m \u001b[0maxes\u001b[0m\u001b[0;34m.\u001b[0m\u001b[0mitems\u001b[0m\u001b[0;34m(\u001b[0m\u001b[0;34m)\u001b[0m\u001b[0;34m:\u001b[0m\u001b[0;34m\u001b[0m\u001b[0;34m\u001b[0m\u001b[0m\n\u001b[1;32m   4152\u001b[0m             \u001b[0;32mif\u001b[0m \u001b[0mlabels\u001b[0m \u001b[0;32mis\u001b[0m \u001b[0;32mnot\u001b[0m \u001b[0;32mNone\u001b[0m\u001b[0;34m:\u001b[0m\u001b[0;34m\u001b[0m\u001b[0;34m\u001b[0m\u001b[0m\n\u001b[0;32m-> 4153\u001b[0;31m                 \u001b[0mobj\u001b[0m \u001b[0;34m=\u001b[0m \u001b[0mobj\u001b[0m\u001b[0;34m.\u001b[0m\u001b[0m_drop_axis\u001b[0m\u001b[0;34m(\u001b[0m\u001b[0mlabels\u001b[0m\u001b[0;34m,\u001b[0m \u001b[0maxis\u001b[0m\u001b[0;34m,\u001b[0m \u001b[0mlevel\u001b[0m\u001b[0;34m=\u001b[0m\u001b[0mlevel\u001b[0m\u001b[0;34m,\u001b[0m \u001b[0merrors\u001b[0m\u001b[0;34m=\u001b[0m\u001b[0merrors\u001b[0m\u001b[0;34m)\u001b[0m\u001b[0;34m\u001b[0m\u001b[0;34m\u001b[0m\u001b[0m\n\u001b[0m\u001b[1;32m   4154\u001b[0m \u001b[0;34m\u001b[0m\u001b[0m\n\u001b[1;32m   4155\u001b[0m         \u001b[0;32mif\u001b[0m \u001b[0minplace\u001b[0m\u001b[0;34m:\u001b[0m\u001b[0;34m\u001b[0m\u001b[0;34m\u001b[0m\u001b[0m\n",
      "\u001b[0;32m~/opt/anaconda3/lib/python3.8/site-packages/pandas/core/generic.py\u001b[0m in \u001b[0;36m_drop_axis\u001b[0;34m(self, labels, axis, level, errors)\u001b[0m\n\u001b[1;32m   4186\u001b[0m                 \u001b[0mnew_axis\u001b[0m \u001b[0;34m=\u001b[0m \u001b[0maxis\u001b[0m\u001b[0;34m.\u001b[0m\u001b[0mdrop\u001b[0m\u001b[0;34m(\u001b[0m\u001b[0mlabels\u001b[0m\u001b[0;34m,\u001b[0m \u001b[0mlevel\u001b[0m\u001b[0;34m=\u001b[0m\u001b[0mlevel\u001b[0m\u001b[0;34m,\u001b[0m \u001b[0merrors\u001b[0m\u001b[0;34m=\u001b[0m\u001b[0merrors\u001b[0m\u001b[0;34m)\u001b[0m\u001b[0;34m\u001b[0m\u001b[0;34m\u001b[0m\u001b[0m\n\u001b[1;32m   4187\u001b[0m             \u001b[0;32melse\u001b[0m\u001b[0;34m:\u001b[0m\u001b[0;34m\u001b[0m\u001b[0;34m\u001b[0m\u001b[0m\n\u001b[0;32m-> 4188\u001b[0;31m                 \u001b[0mnew_axis\u001b[0m \u001b[0;34m=\u001b[0m \u001b[0maxis\u001b[0m\u001b[0;34m.\u001b[0m\u001b[0mdrop\u001b[0m\u001b[0;34m(\u001b[0m\u001b[0mlabels\u001b[0m\u001b[0;34m,\u001b[0m \u001b[0merrors\u001b[0m\u001b[0;34m=\u001b[0m\u001b[0merrors\u001b[0m\u001b[0;34m)\u001b[0m\u001b[0;34m\u001b[0m\u001b[0;34m\u001b[0m\u001b[0m\n\u001b[0m\u001b[1;32m   4189\u001b[0m             \u001b[0mresult\u001b[0m \u001b[0;34m=\u001b[0m \u001b[0mself\u001b[0m\u001b[0;34m.\u001b[0m\u001b[0mreindex\u001b[0m\u001b[0;34m(\u001b[0m\u001b[0;34m**\u001b[0m\u001b[0;34m{\u001b[0m\u001b[0maxis_name\u001b[0m\u001b[0;34m:\u001b[0m \u001b[0mnew_axis\u001b[0m\u001b[0;34m}\u001b[0m\u001b[0;34m)\u001b[0m\u001b[0;34m\u001b[0m\u001b[0;34m\u001b[0m\u001b[0m\n\u001b[1;32m   4190\u001b[0m \u001b[0;34m\u001b[0m\u001b[0m\n",
      "\u001b[0;32m~/opt/anaconda3/lib/python3.8/site-packages/pandas/core/indexes/base.py\u001b[0m in \u001b[0;36mdrop\u001b[0;34m(self, labels, errors)\u001b[0m\n\u001b[1;32m   5589\u001b[0m         \u001b[0;32mif\u001b[0m \u001b[0mmask\u001b[0m\u001b[0;34m.\u001b[0m\u001b[0many\u001b[0m\u001b[0;34m(\u001b[0m\u001b[0;34m)\u001b[0m\u001b[0;34m:\u001b[0m\u001b[0;34m\u001b[0m\u001b[0;34m\u001b[0m\u001b[0m\n\u001b[1;32m   5590\u001b[0m             \u001b[0;32mif\u001b[0m \u001b[0merrors\u001b[0m \u001b[0;34m!=\u001b[0m \u001b[0;34m\"ignore\"\u001b[0m\u001b[0;34m:\u001b[0m\u001b[0;34m\u001b[0m\u001b[0;34m\u001b[0m\u001b[0m\n\u001b[0;32m-> 5591\u001b[0;31m                 \u001b[0;32mraise\u001b[0m \u001b[0mKeyError\u001b[0m\u001b[0;34m(\u001b[0m\u001b[0;34mf\"{labels[mask]} not found in axis\"\u001b[0m\u001b[0;34m)\u001b[0m\u001b[0;34m\u001b[0m\u001b[0;34m\u001b[0m\u001b[0m\n\u001b[0m\u001b[1;32m   5592\u001b[0m             \u001b[0mindexer\u001b[0m \u001b[0;34m=\u001b[0m \u001b[0mindexer\u001b[0m\u001b[0;34m[\u001b[0m\u001b[0;34m~\u001b[0m\u001b[0mmask\u001b[0m\u001b[0;34m]\u001b[0m\u001b[0;34m\u001b[0m\u001b[0;34m\u001b[0m\u001b[0m\n\u001b[1;32m   5593\u001b[0m         \u001b[0;32mreturn\u001b[0m \u001b[0mself\u001b[0m\u001b[0;34m.\u001b[0m\u001b[0mdelete\u001b[0m\u001b[0;34m(\u001b[0m\u001b[0mindexer\u001b[0m\u001b[0;34m)\u001b[0m\u001b[0;34m\u001b[0m\u001b[0;34m\u001b[0m\u001b[0m\n",
      "\u001b[0;31mKeyError\u001b[0m: \"['Unnamed: 0_y' 'First Name' 'Last Name' 'name' '_merge'\\n 'Guaranteed Compensation'] not found in axis\""
     ]
    }
   ],
   "source": [
    "# ## dont need club for NMF \n",
    "\n",
    "df.drop(columns=['Unnamed: 0_y', 'First Name', 'Last Name', 'name', '_merge','Club','Guaranteed Compensation'],inplace=True)"
   ]
  },
  {
   "cell_type": "code",
   "execution_count": null,
   "id": "628f43bc-b282-41b1-b8c1-af8c9cba228f",
   "metadata": {},
   "outputs": [],
   "source": [
    "cols = ['G/Sh','G/SoT','SoT%','npxG/Sh','Dist','Base Salary']\n",
    "for col in cols:\n",
    "    print(df[col].mean())\n",
    "    df[col] = df[col].fillna(df[col].mean())\n",
    "\n",
    "missing = [df.isnull().sum(),100*df.isnull().mean()]\n",
    "m = pd.DataFrame(missing)\n",
    "m = m.T\n",
    "m.columns=['count', '%']\n",
    "m = m.sort_values(by='count',ascending=False)\n",
    "m.head()"
   ]
  },
  {
   "cell_type": "code",
   "execution_count": 7,
   "id": "523645c4-7ee3-473a-a020-5b7a80a5ce67",
   "metadata": {},
   "outputs": [
    {
     "data": {
      "text/plain": [
       "(705, 63)"
      ]
     },
     "execution_count": 7,
     "metadata": {},
     "output_type": "execute_result"
    }
   ],
   "source": [
    "mini_df = df[['player_name','Position', 'Nineties', 'xA', 'Key_pass',\n",
    "       'Comp_prog', 'Total_Cmp', 'Total_Att', 'Total_Cmp_pct',\n",
    "       'Total_Tot_Dist', 'Total_Prg_Dist',\n",
    "              'Short_Cmp', 'Short_Att',\n",
    "       'Short_Cmp_pct', 'Medium_Cmp', 'Medium_Att', 'Medium_Cmp_pct',\n",
    "       'Long_Cmp', 'Long_Att', 'Long_Cmp_pct', 'touches', 'touches_def_box',\n",
    "       'touches_def_3rd', 'touches_mid_3rd', 'touches_att_3rd',\n",
    "       'touches_att_box', 'touch_live', 'dribble_Succ', 'dribble_Att',\n",
    "       'dribble_Succ_pct',\n",
    "              'num_dribble_past', 'dribble_megs', 'carries',\n",
    "       'carries_dist', 'carries_prog_dist', 'carries_prog', 'carries_att_3rd',\n",
    "       'carries_att_box', 'miss_control', 'dispossed', 'recep_targ',\n",
    "       'recep_succ', 'recept_pct', 'Fouls_drawn', 'Offsides', 'Crosses',\n",
    "       'PK_won', 'Aerial_win_pct', \n",
    "              'Gls', 'Sh', 'SoT', 'SoT%', 'Sh/90',\n",
    "       'SoT/90', 'G/Sh', 'G/SoT', 'Dist', 'FK',\n",
    "              'PK', 'PKatt', 'xG', 'npxG',\n",
    "       'npxG/Sh', \n",
    "              \n",
    "              # cant use negatives\n",
    "              # 'G-xG',\n",
    "              # 'np:G-xG',\n",
    "              \n",
    "             \n",
    "             ]]\n",
    "\n",
    "mini_df.shape"
   ]
  },
  {
   "cell_type": "code",
   "execution_count": null,
   "id": "f33c8cbf-e259-4dec-8d58-bafbdaacb8c0",
   "metadata": {},
   "outputs": [],
   "source": []
  },
  {
   "cell_type": "code",
   "execution_count": null,
   "id": "9f8a5cb1-f87a-47db-8886-14fe1ed0bf6a",
   "metadata": {},
   "outputs": [],
   "source": []
  },
  {
   "cell_type": "code",
   "execution_count": 4,
   "id": "2e5a08f3-7709-4c6f-b262-c80d685b0be4",
   "metadata": {},
   "outputs": [],
   "source": [
    "test = df[[\n",
    "    \n",
    "    # 'Nineties', 'xA', 'Key_pass',\n",
    "    #    'Comp_prog', 'Total_Cmp', 'Total_Att', 'Total_Cmp_pct',\n",
    "    #    'Total_Tot_Dist', 'Total_Prg_Dist',\n",
    "    #           'Short_Cmp', 'Short_Att',\n",
    "    #    'Short_Cmp_pct', 'Medium_Cmp', 'Medium_Att', 'Medium_Cmp_pct',\n",
    "    #    'Long_Cmp', 'Long_Att', 'Long_Cmp_pct', 'touches', 'touches_def_box',\n",
    "    #    'touches_def_3rd', 'touches_mid_3rd', 'touches_att_3rd',\n",
    "    #    'touches_att_box', 'touch_live', 'dribble_Succ', 'dribble_Att',\n",
    "    #    'dribble_Succ_pct',\n",
    "    #           'num_dribble_past', 'dribble_megs', 'carries',\n",
    "    #    'carries_dist', 'carries_prog_dist', 'carries_prog', 'carries_att_3rd',\n",
    "    #    'carries_att_box', 'miss_control', 'dispossed', 'recep_targ',\n",
    "    #    'recep_succ', 'recept_pct', 'Fouls_drawn', 'Offsides', 'Crosses',\n",
    "    #    'PK_won', 'Aerial_win_pct', \n",
    "        \n",
    "           'PK_won', 'Aerial_win_pct', \n",
    "              'Gls',  'SoT', 'SoT%', 'Sh/90',\n",
    "       'SoT/90', 'G/Sh', 'G/SoT', 'Dist', 'FK',\n",
    "              'PK', 'PKatt', 'xG', 'npxG',\n",
    "       'npxG/Sh']]"
   ]
  },
  {
   "cell_type": "code",
   "execution_count": 5,
   "id": "dc875133-f267-4f81-b863-d4d00142850e",
   "metadata": {},
   "outputs": [
    {
     "data": {
      "text/plain": [
       "array([[ 0.5, -1. ,  1. ],\n",
       "       [ 1. ,  0. ,  0. ],\n",
       "       [ 0. ,  1. , -0.5]])"
      ]
     },
     "execution_count": 5,
     "metadata": {},
     "output_type": "execute_result"
    }
   ],
   "source": [
    ">>> from sklearn.preprocessing import MaxAbsScaler\n",
    ">>> X = [[ 1., -1.,  2.],\n",
    "...      [ 2.,  0.,  0.],\n",
    "...      [ 0.,  1., -1.]]\n",
    ">>> transformer = MaxAbsScaler().fit(X)\n",
    ">>> transformer\n",
    "MaxAbsScaler()\n",
    ">>> transformer.transform(X)\n",
    "# array([[ 0.5, -1. ,  1. ],\n",
    "#        [ 1. ,  0. ,  0. ],\n",
    "#        [ 0. ,  1. , -0.5]])"
   ]
  },
  {
   "cell_type": "code",
   "execution_count": null,
   "id": "11bfc33b-bb22-45eb-8529-18ee7cb38bdc",
   "metadata": {},
   "outputs": [],
   "source": [
    ">>> from sklearn.preprocessing import Normalizer\n",
    ">>> X = [[4, 1, 2, 2],\n",
    "...      [1, 3, 9, 3],\n",
    "...      [5, 7, 5, 1]]\n",
    ">>> transformer = Normalizer().fit(X)  # fit does nothing.\n",
    ">>> transformer\n",
    "Normalizer()\n",
    ">>> transformer.transform(X)\n",
    "array([[0.8, 0.2, 0.4, 0.4],\n",
    "       [0.1, 0.3, 0.9, 0.3],\n",
    "       [0.5, 0.7, 0.5, 0.1]])"
   ]
  },
  {
   "cell_type": "code",
   "execution_count": 9,
   "id": "e462e20d-859b-4852-a14b-23eaeca1e540",
   "metadata": {},
   "outputs": [
    {
     "name": "stdout",
     "output_type": "stream",
     "text": [
      "6.263223432321639\n"
     ]
    }
   ],
   "source": [
    "\n",
    "X = mini_df  # reading the score data\n",
    "c = 6\n",
    "X_float = X.select_dtypes(float)\n",
    "# Create a MaxAbsScaler: scaler\n",
    "transformer = MaxAbsScaler().fit(test)\n",
    "\n",
    "\n",
    "scaled_X= transformer.transform(test)\n",
    "\n",
    "## dont double this \n",
    "# transformer = Normalizer().fit(scaled_X)\n",
    "\n",
    "# normed_X= transformer.transform(scaled_X)\n",
    "# Create an NMF model: nmf\n",
    " \n",
    "    \n",
    "nmf = NMF(n_components=4 ,max_iter=1000,init='nndsvda', random_state=0)\n",
    "\n",
    "\n",
    "W = nmf.fit_transform(scaled_X)\n",
    "H = nmf.components_\n",
    "err = nmf.reconstruction_err_\n",
    "print(err)"
   ]
  },
  {
   "cell_type": "code",
   "execution_count": 10,
   "id": "2c2690aa-57d5-42b0-9a82-fb5c23f7f5bb",
   "metadata": {},
   "outputs": [
    {
     "data": {
      "text/plain": [
       "(4, 16)"
      ]
     },
     "execution_count": 10,
     "metadata": {},
     "output_type": "execute_result"
    }
   ],
   "source": [
    "H.shape"
   ]
  },
  {
   "cell_type": "code",
   "execution_count": 11,
   "id": "a2699d99-9493-45e8-9b80-ea86a9522c83",
   "metadata": {},
   "outputs": [
    {
     "data": {
      "text/plain": [
       "(705, 4)"
      ]
     },
     "execution_count": 11,
     "metadata": {},
     "output_type": "execute_result"
    }
   ],
   "source": [
    "W.shape"
   ]
  },
  {
   "cell_type": "code",
   "execution_count": 12,
   "id": "6336b846-9b28-468b-8f65-3a568e74c9c8",
   "metadata": {},
   "outputs": [
    {
     "data": {
      "text/plain": [
       "6.263223432321639"
      ]
     },
     "execution_count": 12,
     "metadata": {},
     "output_type": "execute_result"
    }
   ],
   "source": [
    "err"
   ]
  },
  {
   "cell_type": "code",
   "execution_count": 13,
   "id": "83371858-02d4-4613-b72d-3ee6a58eb06c",
   "metadata": {},
   "outputs": [
    {
     "name": "stdout",
     "output_type": "stream",
     "text": [
      "(4, 16)\n",
      "Dist       1.622632\n",
      "Sh/90      0.923337\n",
      "npxG/Sh    0.668467\n",
      "SoT/90     0.507138\n",
      "npxG       0.330029\n",
      "Name: 3, dtype: float64\n"
     ]
    }
   ],
   "source": [
    "# Create a DataFrame: components_df\n",
    "components_df = pd.DataFrame(nmf.components_,columns=test.columns)\n",
    "\n",
    "# Print the shape of the DataFrame\n",
    "print(components_df.shape)\n",
    "\n",
    "# Select row 3: component\n",
    "component = components_df.iloc[3]\n",
    "\n",
    "# Print result of nlargest\n",
    "print(component.nlargest())"
   ]
  },
  {
   "cell_type": "code",
   "execution_count": 14,
   "id": "bbd3ee91-8d66-4f79-b5c0-226f78fddf4b",
   "metadata": {},
   "outputs": [
    {
     "data": {
      "text/html": [
       "<div>\n",
       "<style scoped>\n",
       "    .dataframe tbody tr th:only-of-type {\n",
       "        vertical-align: middle;\n",
       "    }\n",
       "\n",
       "    .dataframe tbody tr th {\n",
       "        vertical-align: top;\n",
       "    }\n",
       "\n",
       "    .dataframe thead th {\n",
       "        text-align: right;\n",
       "    }\n",
       "</style>\n",
       "<table border=\"1\" class=\"dataframe\">\n",
       "  <thead>\n",
       "    <tr style=\"text-align: right;\">\n",
       "      <th></th>\n",
       "      <th>PK_won</th>\n",
       "      <th>Aerial_win_pct</th>\n",
       "      <th>Gls</th>\n",
       "      <th>SoT</th>\n",
       "      <th>SoT%</th>\n",
       "      <th>Sh/90</th>\n",
       "      <th>SoT/90</th>\n",
       "      <th>G/Sh</th>\n",
       "      <th>G/SoT</th>\n",
       "      <th>Dist</th>\n",
       "      <th>FK</th>\n",
       "      <th>PK</th>\n",
       "      <th>PKatt</th>\n",
       "      <th>xG</th>\n",
       "      <th>npxG</th>\n",
       "      <th>npxG/Sh</th>\n",
       "    </tr>\n",
       "  </thead>\n",
       "  <tbody>\n",
       "    <tr>\n",
       "      <th>0</th>\n",
       "      <td>0.000000</td>\n",
       "      <td>5.035974</td>\n",
       "      <td>0.000000</td>\n",
       "      <td>0.000000</td>\n",
       "      <td>0.024896</td>\n",
       "      <td>0.000000</td>\n",
       "      <td>0.000000</td>\n",
       "      <td>0.000000</td>\n",
       "      <td>0.034837</td>\n",
       "      <td>0.199397</td>\n",
       "      <td>0.000000</td>\n",
       "      <td>0.000000</td>\n",
       "      <td>0.000000</td>\n",
       "      <td>0.039039</td>\n",
       "      <td>0.027856</td>\n",
       "      <td>0.000000</td>\n",
       "    </tr>\n",
       "    <tr>\n",
       "      <th>1</th>\n",
       "      <td>0.648656</td>\n",
       "      <td>0.020319</td>\n",
       "      <td>1.870251</td>\n",
       "      <td>0.874458</td>\n",
       "      <td>0.701037</td>\n",
       "      <td>0.052063</td>\n",
       "      <td>0.130138</td>\n",
       "      <td>0.220977</td>\n",
       "      <td>0.232868</td>\n",
       "      <td>0.000000</td>\n",
       "      <td>0.356572</td>\n",
       "      <td>0.377747</td>\n",
       "      <td>0.406359</td>\n",
       "      <td>1.302745</td>\n",
       "      <td>1.158795</td>\n",
       "      <td>0.092903</td>\n",
       "    </tr>\n",
       "    <tr>\n",
       "      <th>2</th>\n",
       "      <td>0.000000</td>\n",
       "      <td>0.000000</td>\n",
       "      <td>0.074376</td>\n",
       "      <td>0.525737</td>\n",
       "      <td>3.329993</td>\n",
       "      <td>0.000000</td>\n",
       "      <td>0.045472</td>\n",
       "      <td>0.018958</td>\n",
       "      <td>0.000000</td>\n",
       "      <td>0.063142</td>\n",
       "      <td>0.124854</td>\n",
       "      <td>0.000000</td>\n",
       "      <td>0.000000</td>\n",
       "      <td>0.142685</td>\n",
       "      <td>0.192987</td>\n",
       "      <td>0.083029</td>\n",
       "    </tr>\n",
       "    <tr>\n",
       "      <th>3</th>\n",
       "      <td>0.000000</td>\n",
       "      <td>0.000000</td>\n",
       "      <td>0.000000</td>\n",
       "      <td>0.265207</td>\n",
       "      <td>0.000000</td>\n",
       "      <td>0.923337</td>\n",
       "      <td>0.507138</td>\n",
       "      <td>0.284601</td>\n",
       "      <td>0.243379</td>\n",
       "      <td>1.622632</td>\n",
       "      <td>0.000000</td>\n",
       "      <td>0.000000</td>\n",
       "      <td>0.000000</td>\n",
       "      <td>0.294962</td>\n",
       "      <td>0.330029</td>\n",
       "      <td>0.668467</td>\n",
       "    </tr>\n",
       "  </tbody>\n",
       "</table>\n",
       "</div>"
      ],
      "text/plain": [
       "     PK_won  Aerial_win_pct       Gls       SoT      SoT%     Sh/90    SoT/90  \\\n",
       "0  0.000000        5.035974  0.000000  0.000000  0.024896  0.000000  0.000000   \n",
       "1  0.648656        0.020319  1.870251  0.874458  0.701037  0.052063  0.130138   \n",
       "2  0.000000        0.000000  0.074376  0.525737  3.329993  0.000000  0.045472   \n",
       "3  0.000000        0.000000  0.000000  0.265207  0.000000  0.923337  0.507138   \n",
       "\n",
       "       G/Sh     G/SoT      Dist        FK        PK     PKatt        xG  \\\n",
       "0  0.000000  0.034837  0.199397  0.000000  0.000000  0.000000  0.039039   \n",
       "1  0.220977  0.232868  0.000000  0.356572  0.377747  0.406359  1.302745   \n",
       "2  0.018958  0.000000  0.063142  0.124854  0.000000  0.000000  0.142685   \n",
       "3  0.284601  0.243379  1.622632  0.000000  0.000000  0.000000  0.294962   \n",
       "\n",
       "       npxG   npxG/Sh  \n",
       "0  0.027856  0.000000  \n",
       "1  1.158795  0.092903  \n",
       "2  0.192987  0.083029  \n",
       "3  0.330029  0.668467  "
      ]
     },
     "execution_count": 14,
     "metadata": {},
     "output_type": "execute_result"
    }
   ],
   "source": [
    "components_df"
   ]
  },
  {
   "cell_type": "code",
   "execution_count": 15,
   "id": "bcb6625a-5148-418e-b4e0-5bc4500c17bc",
   "metadata": {},
   "outputs": [
    {
     "name": "stdout",
     "output_type": "stream",
     "text": [
      "Aerial_win_pct    5.035974\n",
      "Dist              0.199397\n",
      "xG                0.039039\n",
      "G/SoT             0.034837\n",
      "npxG              0.027856\n",
      "Name: 0, dtype: float64\n",
      "Gls     1.870251\n",
      "xG      1.302745\n",
      "npxG    1.158795\n",
      "SoT     0.874458\n",
      "SoT%    0.701037\n",
      "Name: 1, dtype: float64\n",
      "SoT%    3.329993\n",
      "SoT     0.525737\n",
      "npxG    0.192987\n",
      "xG      0.142685\n",
      "FK      0.124854\n",
      "Name: 2, dtype: float64\n",
      "Dist       1.622632\n",
      "Sh/90      0.923337\n",
      "npxG/Sh    0.668467\n",
      "SoT/90     0.507138\n",
      "npxG       0.330029\n",
      "Name: 3, dtype: float64\n"
     ]
    }
   ],
   "source": [
    "for i in range(len(components_df)):\n",
    "    component = components_df.iloc[i]\n",
    "    print(component.nlargest())"
   ]
  },
  {
   "cell_type": "code",
   "execution_count": 135,
   "id": "86ab7659-7e9f-4792-baab-beeb4df0824f",
   "metadata": {},
   "outputs": [
    {
     "data": {
      "text/html": [
       "<div>\n",
       "<style scoped>\n",
       "    .dataframe tbody tr th:only-of-type {\n",
       "        vertical-align: middle;\n",
       "    }\n",
       "\n",
       "    .dataframe tbody tr th {\n",
       "        vertical-align: top;\n",
       "    }\n",
       "\n",
       "    .dataframe thead th {\n",
       "        text-align: right;\n",
       "    }\n",
       "</style>\n",
       "<table border=\"1\" class=\"dataframe\">\n",
       "  <thead>\n",
       "    <tr style=\"text-align: right;\">\n",
       "      <th></th>\n",
       "      <th>PK_won</th>\n",
       "      <th>Aerial_win_pct</th>\n",
       "      <th>Gls</th>\n",
       "      <th>SoT</th>\n",
       "      <th>SoT%</th>\n",
       "      <th>Sh/90</th>\n",
       "      <th>SoT/90</th>\n",
       "      <th>G/Sh</th>\n",
       "      <th>G/SoT</th>\n",
       "      <th>Dist</th>\n",
       "      <th>FK</th>\n",
       "      <th>PK</th>\n",
       "      <th>PKatt</th>\n",
       "      <th>xG</th>\n",
       "      <th>npxG</th>\n",
       "      <th>npxG/Sh</th>\n",
       "    </tr>\n",
       "  </thead>\n",
       "  <tbody>\n",
       "    <tr>\n",
       "      <th>0</th>\n",
       "      <td>0.00000</td>\n",
       "      <td>0.000000</td>\n",
       "      <td>0.000000</td>\n",
       "      <td>0.102266</td>\n",
       "      <td>1.455660</td>\n",
       "      <td>0.000000</td>\n",
       "      <td>0.007368</td>\n",
       "      <td>0.050424</td>\n",
       "      <td>0.003588</td>\n",
       "      <td>0.033342</td>\n",
       "      <td>0.000873</td>\n",
       "      <td>0.000000</td>\n",
       "      <td>0.000000</td>\n",
       "      <td>0.000000</td>\n",
       "      <td>0.000000</td>\n",
       "      <td>0.046112</td>\n",
       "    </tr>\n",
       "    <tr>\n",
       "      <th>1</th>\n",
       "      <td>0.00000</td>\n",
       "      <td>0.000000</td>\n",
       "      <td>0.000000</td>\n",
       "      <td>0.059656</td>\n",
       "      <td>0.000000</td>\n",
       "      <td>0.312015</td>\n",
       "      <td>0.087929</td>\n",
       "      <td>0.023510</td>\n",
       "      <td>0.078036</td>\n",
       "      <td>0.984500</td>\n",
       "      <td>0.000000</td>\n",
       "      <td>0.000000</td>\n",
       "      <td>0.000000</td>\n",
       "      <td>0.146910</td>\n",
       "      <td>0.155241</td>\n",
       "      <td>0.271433</td>\n",
       "    </tr>\n",
       "    <tr>\n",
       "      <th>2</th>\n",
       "      <td>0.00000</td>\n",
       "      <td>1.711045</td>\n",
       "      <td>0.000000</td>\n",
       "      <td>0.000000</td>\n",
       "      <td>0.008206</td>\n",
       "      <td>0.000000</td>\n",
       "      <td>0.000000</td>\n",
       "      <td>0.000000</td>\n",
       "      <td>0.044578</td>\n",
       "      <td>0.067796</td>\n",
       "      <td>0.003869</td>\n",
       "      <td>0.000000</td>\n",
       "      <td>0.000000</td>\n",
       "      <td>0.001465</td>\n",
       "      <td>0.004542</td>\n",
       "      <td>0.000000</td>\n",
       "    </tr>\n",
       "    <tr>\n",
       "      <th>3</th>\n",
       "      <td>0.47562</td>\n",
       "      <td>0.078150</td>\n",
       "      <td>1.608191</td>\n",
       "      <td>0.976330</td>\n",
       "      <td>0.050898</td>\n",
       "      <td>0.099581</td>\n",
       "      <td>0.112710</td>\n",
       "      <td>0.067544</td>\n",
       "      <td>0.116809</td>\n",
       "      <td>0.000000</td>\n",
       "      <td>0.462872</td>\n",
       "      <td>0.214276</td>\n",
       "      <td>0.253318</td>\n",
       "      <td>1.388685</td>\n",
       "      <td>1.306416</td>\n",
       "      <td>0.069530</td>\n",
       "    </tr>\n",
       "  </tbody>\n",
       "</table>\n",
       "</div>"
      ],
      "text/plain": [
       "    PK_won  Aerial_win_pct       Gls       SoT      SoT%     Sh/90    SoT/90  \\\n",
       "0  0.00000        0.000000  0.000000  0.102266  1.455660  0.000000  0.007368   \n",
       "1  0.00000        0.000000  0.000000  0.059656  0.000000  0.312015  0.087929   \n",
       "2  0.00000        1.711045  0.000000  0.000000  0.008206  0.000000  0.000000   \n",
       "3  0.47562        0.078150  1.608191  0.976330  0.050898  0.099581  0.112710   \n",
       "\n",
       "       G/Sh     G/SoT      Dist        FK        PK     PKatt        xG  \\\n",
       "0  0.050424  0.003588  0.033342  0.000873  0.000000  0.000000  0.000000   \n",
       "1  0.023510  0.078036  0.984500  0.000000  0.000000  0.000000  0.146910   \n",
       "2  0.000000  0.044578  0.067796  0.003869  0.000000  0.000000  0.001465   \n",
       "3  0.067544  0.116809  0.000000  0.462872  0.214276  0.253318  1.388685   \n",
       "\n",
       "       npxG   npxG/Sh  \n",
       "0  0.000000  0.046112  \n",
       "1  0.155241  0.271433  \n",
       "2  0.004542  0.000000  \n",
       "3  1.306416  0.069530  "
      ]
     },
     "execution_count": 135,
     "metadata": {},
     "output_type": "execute_result"
    }
   ],
   "source": [
    "components_df"
   ]
  },
  {
   "cell_type": "code",
   "execution_count": 136,
   "id": "6b7bcb5d-af43-4970-942f-95d0672bed79",
   "metadata": {},
   "outputs": [
    {
     "data": {
      "text/plain": [
       "6.452761548384023"
      ]
     },
     "execution_count": 136,
     "metadata": {},
     "output_type": "execute_result"
    }
   ],
   "source": [
    "err"
   ]
  },
  {
   "cell_type": "code",
   "execution_count": 137,
   "id": "96f25c9c-ca06-42cf-8293-52482c7d497b",
   "metadata": {},
   "outputs": [
    {
     "data": {
      "text/plain": [
       "array([[0.00000000e+00, 0.00000000e+00, 0.00000000e+00, 1.02266427e-01,\n",
       "        1.45566011e+00, 0.00000000e+00, 7.36785867e-03, 5.04242562e-02,\n",
       "        3.58815291e-03, 3.33416634e-02, 8.72678844e-04, 0.00000000e+00,\n",
       "        0.00000000e+00, 0.00000000e+00, 0.00000000e+00, 4.61123925e-02],\n",
       "       [0.00000000e+00, 0.00000000e+00, 0.00000000e+00, 5.96563546e-02,\n",
       "        0.00000000e+00, 3.12014574e-01, 8.79286350e-02, 2.35099933e-02,\n",
       "        7.80359491e-02, 9.84499562e-01, 0.00000000e+00, 0.00000000e+00,\n",
       "        0.00000000e+00, 1.46910263e-01, 1.55241299e-01, 2.71433181e-01],\n",
       "       [0.00000000e+00, 1.71104543e+00, 0.00000000e+00, 0.00000000e+00,\n",
       "        8.20601497e-03, 0.00000000e+00, 0.00000000e+00, 0.00000000e+00,\n",
       "        4.45784649e-02, 6.77959291e-02, 3.86899204e-03, 0.00000000e+00,\n",
       "        0.00000000e+00, 1.46507110e-03, 4.54226925e-03, 0.00000000e+00],\n",
       "       [4.75619547e-01, 7.81499248e-02, 1.60819123e+00, 9.76329578e-01,\n",
       "        5.08982986e-02, 9.95814009e-02, 1.12710302e-01, 6.75440827e-02,\n",
       "        1.16809350e-01, 0.00000000e+00, 4.62872358e-01, 2.14275792e-01,\n",
       "        2.53317894e-01, 1.38868507e+00, 1.30641644e+00, 6.95299691e-02]])"
      ]
     },
     "execution_count": 137,
     "metadata": {},
     "output_type": "execute_result"
    }
   ],
   "source": [
    "H"
   ]
  },
  {
   "cell_type": "code",
   "execution_count": 17,
   "id": "757b651a-8221-4e9d-bb79-d2ae986f5650",
   "metadata": {},
   "outputs": [
    {
     "name": "stdout",
     "output_type": "stream",
     "text": [
      "NMF(init='nndsvda', max_iter=100000, n_components=1, random_state=0)\n",
      "NMF(init='nndsvda', max_iter=100000, n_components=2, random_state=0)\n",
      "NMF(init='nndsvda', max_iter=100000, n_components=3, random_state=0)\n",
      "NMF(init='nndsvda', max_iter=100000, n_components=4, random_state=0)\n",
      "NMF(init='nndsvda', max_iter=100000, n_components=5, random_state=0)\n",
      "NMF(init='nndsvda', max_iter=100000, n_components=6, random_state=0)\n",
      "NMF(init='nndsvda', max_iter=100000, n_components=7, random_state=0)\n",
      "NMF(init='nndsvda', max_iter=100000, n_components=8, random_state=0)\n",
      "NMF(init='nndsvda', max_iter=100000, n_components=9, random_state=0)\n"
     ]
    }
   ],
   "source": [
    "\n",
    "errors = {}\n",
    "for c in range(1,10):\n",
    "    X = mini_df  # reading the score data\n",
    "    \n",
    "    c = c\n",
    "    # Create a MaxAbsScaler: scaler\n",
    "    transformer = MaxAbsScaler().fit(test)\n",
    "\n",
    "\n",
    "    scaled_X= transformer.transform(test)\n",
    "    # Create an NMF model: nmf\n",
    "#     normed_X= transformer.transform(scaled_X)\n",
    "    nmf = NMF(n_components=c,max_iter=100000,init='nndsvda', random_state=0)\n",
    "    print(nmf)\n",
    "\n",
    "\n",
    "    W = nmf.fit_transform(scaled_X)\n",
    "    H = nmf.components_\n",
    "    err = nmf.reconstruction_err_\n",
    "    errors[c]=err\n",
    "\n",
    "    \n"
   ]
  },
  {
   "cell_type": "code",
   "execution_count": 18,
   "id": "7bf67c2a-31ca-45b0-a983-b3c75cc64454",
   "metadata": {},
   "outputs": [
    {
     "data": {
      "text/plain": [
       "{1: 11.519325617981426,\n",
       " 2: 8.556441661131474,\n",
       " 3: 7.3957419177184125,\n",
       " 4: 6.263223432321639,\n",
       " 5: 5.4193089166868855,\n",
       " 6: 4.650486601993271,\n",
       " 7: 3.876739707192627,\n",
       " 8: 3.1141884624225757,\n",
       " 9: 2.347202184697552}"
      ]
     },
     "execution_count": 18,
     "metadata": {},
     "output_type": "execute_result"
    }
   ],
   "source": [
    "errors"
   ]
  },
  {
   "cell_type": "code",
   "execution_count": null,
   "id": "0eb0fb53-1432-4c50-894d-e4c44b6440b1",
   "metadata": {},
   "outputs": [],
   "source": []
  },
  {
   "cell_type": "code",
   "execution_count": null,
   "id": "b27197a9-0bae-4e47-8dc1-06d875e86b77",
   "metadata": {},
   "outputs": [],
   "source": []
  }
 ],
 "metadata": {
  "kernelspec": {
   "display_name": "PythonData",
   "language": "python",
   "name": "pythondata"
  },
  "language_info": {
   "codemirror_mode": {
    "name": "ipython",
    "version": 3
   },
   "file_extension": ".py",
   "mimetype": "text/x-python",
   "name": "python",
   "nbconvert_exporter": "python",
   "pygments_lexer": "ipython3",
   "version": "3.8.8"
  }
 },
 "nbformat": 4,
 "nbformat_minor": 5
}
