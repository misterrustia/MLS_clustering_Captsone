{
 "cells": [
  {
   "cell_type": "code",
   "execution_count": 1,
   "id": "2d2eb6c2-df36-4c99-9b5b-6522d9e01288",
   "metadata": {},
   "outputs": [],
   "source": [
    "import pandas as pd\n",
    "import numpy as np\n",
    "import matplotlib.pyplot as plt\n",
    "from scipy.cluster.hierarchy import linkage, dendrogram"
   ]
  },
  {
   "cell_type": "code",
   "execution_count": 2,
   "id": "aedd190a-086d-473e-ad36-b566f06c89ba",
   "metadata": {},
   "outputs": [
    {
     "name": "stdout",
     "output_type": "stream",
     "text": [
      "<class 'pandas.core.frame.DataFrame'>\n",
      "RangeIndex: 705 entries, 0 to 704\n",
      "Columns: 106 entries, fb_id to pAdj_Tackle_int_blocks\n",
      "dtypes: float64(98), object(8)\n",
      "memory usage: 584.0+ KB\n"
     ]
    }
   ],
   "source": [
    "df = pd.read_csv('../data/final_per_90_and_pAdj.csv')\n",
    "df.info()"
   ]
  },
  {
   "cell_type": "markdown",
   "id": "490277dc-a70c-4d66-bcbd-717f179c121a",
   "metadata": {},
   "source": [
    "## next steps, filter data frame to players from pca, select features to be put in dendogram. \n"
   ]
  },
  {
   "cell_type": "code",
   "execution_count": 5,
   "id": "a5c3d878-ded1-416a-944c-0e1619987ded",
   "metadata": {},
   "outputs": [
    {
     "data": {
      "text/plain": [
       "array(['fb_id', 'player_name', 'Squad_from_op', 'Opposing_Poss',\n",
       "       'Opposing_Touches', 'Player', 'Nation', 'Position',\n",
       "       'Tackle_pct_won', 'Nineties', 'xA', 'Key_pass', 'Comp_prog',\n",
       "       'Total_Cmp', 'Total_Att', 'Total_Cmp_pct', 'Total_Tot_Dist',\n",
       "       'Total_Prg_Dist', 'Short_Cmp', 'Short_Att', 'Short_Cmp_pct',\n",
       "       'Medium_Cmp', 'Medium_Att', 'Medium_Cmp_pct', 'Long_Cmp',\n",
       "       'Long_Att', 'Long_Cmp_pct', 'touches', 'touches_def_box',\n",
       "       'touches_def_3rd', 'touches_mid_3rd', 'touches_att_3rd',\n",
       "       'touches_att_box', 'touch_live', 'dribble_Succ', 'dribble_Att',\n",
       "       'dribble_Succ_pct', 'num_dribble_past', 'dribble_megs', 'carries',\n",
       "       'carries_dist', 'carries_prog_dist', 'carries_prog',\n",
       "       'carries_att_3rd', 'carries_att_box', 'miss_control', 'dispossed',\n",
       "       'recep_targ', 'recep_succ', 'recept_pct', 'Fouls_drawn',\n",
       "       'Offsides', 'Crosses', 'PK_won', 'Aerial_win_pct', 'Gls', 'Sh',\n",
       "       'SoT', 'SoT%', 'Sh/90', 'SoT/90', 'G/Sh', 'G/SoT', 'Dist', 'FK',\n",
       "       'PK', 'PKatt', 'xG', 'npxG', 'npxG/Sh', 'G-xG', 'np:G-xG', 'Club',\n",
       "       'Base Salary', 'pAdj_Total_tackles', 'pAdj_Tackles_Won',\n",
       "       'pAdj_Tackles_Def_3rd', 'pAdj_Tackles_Mid_3rd',\n",
       "       'pAdj_Tackles_Att_3rd', 'pAdj_Num_Dribblers_tackled',\n",
       "       'pAdj_Num_Dribbled_past', 'pAdj_total_pressing',\n",
       "       'pAdj_Won_ball_5_sec', 'pAdj_pres_Def_3rd', 'pAdj_pres_Mid_3rd',\n",
       "       'pAdj_pres_Att_3rd', 'pAdj_Blocks', 'pAdj_Blocked_shots',\n",
       "       'pAdj_Blocked_SOT', 'pAdj_Blocked_pass', 'pAdj_Interceptions',\n",
       "       'pAdj_Tackles_and_Ints', 'pAdj_Clearences', 'pAdj_Yellow_cards',\n",
       "       'pAdj_Red_cards', 'pAdj_Second_yellow', 'pAdj_Fouls',\n",
       "       'pAdj_def_interceptions', 'pAdj_from_mish_tackles_won',\n",
       "       'pAdj_PK_conceded', 'pAdj_OG', 'pAdj_Recoveries',\n",
       "       'pAdj_Aerial_Duels_lost', 'lost_tackles', 'True_tackle_pct',\n",
       "       'pAdj_Tackle_int_blocks'], dtype=object)"
      ]
     },
     "execution_count": 5,
     "metadata": {},
     "output_type": "execute_result"
    }
   ],
   "source": [
    "df.columns.values"
   ]
  },
  {
   "cell_type": "markdown",
   "id": "282bf670-095e-436b-9bd7-54ba20855b11",
   "metadata": {},
   "source": [
    "## create dendrogram only on key features"
   ]
  },
  {
   "cell_type": "code",
   "execution_count": null,
   "id": "7fb2ebcb-6ded-4620-a033-ef25cd053503",
   "metadata": {},
   "outputs": [],
   "source": [
    "[ 'player_name', 'Squad_from_op',  'Position',\n",
    "        'Nineties', 'xA', 'Key_pass', 'Comp_prog',\n",
    "       'Total_Cmp', 'Total_Att', 'Total_Cmp_pct', 'Total_Tot_Dist',\n",
    "       'Total_Prg_Dist', 'Short_Cmp', 'Short_Att', 'Short_Cmp_pct',\n",
    "       'Medium_Cmp', 'Medium_Att', 'Medium_Cmp_pct', 'Long_Cmp',\n",
    "       'Long_Att', 'Long_Cmp_pct', 'touches', 'touches_def_box',\n",
    "       'touches_def_3rd', 'touches_mid_3rd', 'touches_att_3rd',\n",
    "       'touches_att_box', 'touch_live', 'dribble_Succ', 'dribble_Att',\n",
    "       'dribble_Succ_pct', 'num_dribble_past', 'dribble_megs', 'carries',\n",
    "       'carries_dist', 'carries_prog_dist', 'carries_prog',\n",
    "       'carries_att_3rd', 'carries_att_box', 'miss_control', 'dispossed',\n",
    "       'recep_targ', 'recep_succ', 'recept_pct', 'Fouls_drawn',\n",
    "       'Offsides', 'Crosses', 'PK_won', 'Aerial_win_pct', 'Gls', 'Sh',\n",
    "       'SoT', 'SoT%', 'Sh/90', 'SoT/90', 'G/Sh', 'G/SoT', 'Dist', 'FK',\n",
    "       'PK', 'PKatt', 'xG', 'npxG', 'npxG/Sh', 'G-xG', 'np:G-xG', 'Club',\n",
    "       'Base Salary', 'pAdj_Total_tackles', 'pAdj_Tackles_Won',\n",
    "       'pAdj_Tackles_Def_3rd', 'pAdj_Tackles_Mid_3rd',\n",
    "       'pAdj_Tackles_Att_3rd', 'pAdj_Num_Dribblers_tackled',\n",
    "       'pAdj_Num_Dribbled_past', 'pAdj_total_pressing',\n",
    "       'pAdj_Won_ball_5_sec', 'pAdj_pres_Def_3rd', 'pAdj_pres_Mid_3rd',\n",
    "       'pAdj_pres_Att_3rd', 'pAdj_Blocks', 'pAdj_Blocked_shots',\n",
    "       'pAdj_Blocked_SOT', 'pAdj_Blocked_pass', 'pAdj_Interceptions',\n",
    "       'pAdj_Tackles_and_Ints', 'pAdj_Clearences', 'pAdj_Yellow_cards',\n",
    "       'pAdj_Red_cards', 'pAdj_Second_yellow', 'pAdj_Fouls',\n",
    "       'pAdj_def_interceptions', 'pAdj_from_mish_tackles_won',\n",
    "       'pAdj_PK_conceded', 'pAdj_OG', 'pAdj_Recoveries',\n",
    "       'pAdj_Aerial_Duels_lost', 'lost_tackles', 'True_tackle_pct',\n",
    "       'pAdj_Tackle_int_blocks']"
   ]
  },
  {
   "cell_type": "code",
   "execution_count": null,
   "id": "a05ca43e-287e-4a97-ba95-8b8304d96547",
   "metadata": {},
   "outputs": [],
   "source": [
    "# offensive stats\n",
    "\n",
    "Passes attempted\n",
    "Short Pass Ratio; the % of passes played short\n",
    "Cross Ratio; the % of crosses in total passes played\n",
    "Dribbles\n",
    "Touches in box\n",
    "Forward Pass Ratio; the % of passes played forward\n",
    "Length of short/medium pass\n",
    "xA, or Expected Assists; the likeliness of a shot-assist ending up as a goal\n",
    "Smart Passes; as defined by Wyscout, a smart pass is ‘for significative pass or smart pass in general. Something more than a simple pass, not so easy to be done. There has to be some idea in the pass, something creative, when the player is cutting the lines and winning some advantage for his teammates with this pass, leading them in good position to attack. The pass should be between 2–3 opposite players.’\n",
    "Final Third to Forward Pass ratio; the % of forward passes played to the final third"
   ]
  },
  {
   "cell_type": "code",
   "execution_count": 13,
   "id": "74c3498d-2fe9-449e-bbdc-cdd79af19ef2",
   "metadata": {},
   "outputs": [],
   "source": [
    "mini = df[[\n",
    "#     'player_name', \n",
    "           'pAdj_Tackles_and_Ints', \n",
    "       'pAdj_def_interceptions', \n",
    "    'pAdj_from_mish_tackles_won',\n",
    "    \n",
    "    'pAdj_Recoveries', \n",
    "#     'True_tackle_pct',\n",
    "    'pAdj_Tackle_int_blocks'\n",
    "]]"
   ]
  },
  {
   "cell_type": "code",
   "execution_count": 10,
   "id": "606ae772-851e-4921-a3b1-5dcf9db35195",
   "metadata": {},
   "outputs": [
    {
     "data": {
      "image/png": "[encoded data removed]",
      "text/plain": [
       "<Figure size 432x288 with 4 Axes>"
      ]
     },
     "metadata": {
      "needs_background": "light"
     },
     "output_type": "display_data"
    }
   ],
   "source": [
    "#  df[[\n",
    "# #      'player_name', \n",
    "#            'pAdj_Tackles_and_Ints', \n",
    "#        'pAdj_def_interceptions', \n",
    "#     'pAdj_from_mish_tackles_won',\n",
    "    \n",
    "#     'pAdj_Recoveries', \n",
    "#     'True_tackle_pct',\n",
    "# #     'pAdj_Tackle_int_blocks'\n",
    "# ]].hist()\n",
    "\n",
    "mini =  df[[\n",
    "'xA', 'Key_pass', 'Comp_prog',\n",
    "       'Total_Cmp',\n",
    "]].hist()\n",
    "\n",
    "\n",
    "mini =  df[[\n",
    "'xA', 'Key_pass', 'Comp_prog',\n",
    "       'Total_Cmp',\n",
    "]]\n",
    "mini = mini.iloc[:20]"
   ]
  },
  {
   "cell_type": "code",
   "execution_count": 20,
   "id": "c89d9539-0be7-40ec-975f-6ce0670af4a3",
   "metadata": {},
   "outputs": [],
   "source": [
    " mini = df.iloc[:20][[\n",
    "#      'player_name', \n",
    "           'pAdj_Tackles_and_Ints', \n",
    "       'pAdj_def_interceptions', \n",
    "    'pAdj_from_mish_tackles_won',\n",
    "    \n",
    "    'pAdj_Recoveries', \n",
    "    'True_tackle_pct',\n",
    "#     'pAdj_Tackle_int_blocks'\n",
    "]]"
   ]
  },
  {
   "cell_type": "code",
   "execution_count": 24,
   "id": "616ad4c1-aa80-427f-ad38-e843fa8dccb0",
   "metadata": {},
   "outputs": [
    {
     "data": {
      "text/plain": [
       "array(['Carles Gil', 'Julian Gressel', 'Emanuel Reynoso', 'Albert Rusnák',\n",
       "       'Maximiliano Moralez', 'Luciano Acosta', 'Lucas Zelarayán',\n",
       "       'Djordje Mihailovic', 'Brooks Lennon', 'Álvaro Medrán',\n",
       "       'João Paulo Mior', 'Marcelino Moreno', 'Hany Mukhtar',\n",
       "       'Jack Price', 'Yimmi Chará', 'Gustavo Bou', 'Lewis Morgan',\n",
       "       'Mauricio Pereyra', 'Jesus Ferreira', 'Víctor Vázquez'],\n",
       "      dtype=object)"
      ]
     },
     "execution_count": 24,
     "metadata": {},
     "output_type": "execute_result"
    }
   ],
   "source": [
    "labels=df['player_name'][:20].values\n",
    "labels"
   ]
  },
  {
   "cell_type": "code",
   "execution_count": 25,
   "id": "b4f01581-6d98-497b-9a9d-82114e7b3b36",
   "metadata": {},
   "outputs": [
    {
     "data": {
      "image/png": "[encoded data removed]",
      "text/plain": [
       "<Figure size 432x288 with 1 Axes>"
      ]
     },
     "metadata": {
      "needs_background": "light"
     },
     "output_type": "display_data"
    }
   ],
   "source": [
    "# Perform the necessary imports\n",
    "import matplotlib.pyplot as plt\n",
    "from scipy.cluster.hierarchy import linkage, dendrogram\n",
    "\n",
    "# Calculate the linkage: mergings\n",
    "mergings = linkage(mini, method='single')\n",
    "\n",
    "# Plot the dendrogram\n",
    "dendrogram(mergings,\n",
    "           labels=df['player_name'][:20].values,\n",
    "            leaf_rotation=90, leaf_font_size=6)\n",
    "plt.show()"
   ]
  },
  {
   "cell_type": "code",
   "execution_count": null,
   "id": "005c1ee0-2eb4-4df1-9562-719239ac68cd",
   "metadata": {},
   "outputs": [],
   "source": []
  }
 ],
 "metadata": {
  "kernelspec": {
   "display_name": "PythonData",
   "language": "python",
   "name": "pythondata"
  },
  "language_info": {
   "codemirror_mode": {
    "name": "ipython",
    "version": 3
   },
   "file_extension": ".py",
   "mimetype": "text/x-python",
   "name": "python",
   "nbconvert_exporter": "python",
   "pygments_lexer": "ipython3",
   "version": "3.8.8"
  }
 },
 "nbformat": 4,
 "nbformat_minor": 5
}
