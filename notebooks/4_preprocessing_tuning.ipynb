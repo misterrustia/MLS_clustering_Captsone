{
 "cells": [
  {
   "cell_type": "markdown",
   "id": "6134ee91-1124-45c3-840d-2ddea2292ad4",
   "metadata": {},
   "source": [
    "# NMF Preprocessing for player recomendations\n",
    "\n",
    "## Overview - \n",
    "\n",
    "## 1 - NMF model explanation\n",
    "\n",
    "## 2 - NMF hyperparamter tuning\n",
    "\n",
    "### 2.1 tuning max_iter \n",
    "\n",
    "### 2.2 tuning number of skill set groups \"c\"\n",
    "\n",
    "## 3 - Model output \n",
    "\n",
    "### 3.1 Label Weight matrix skill set groups\n",
    "\n",
    "### 3.2 Create ranking data from from skill set values\n",
    "\n",
    "### 3.3 Save output and model \n"
   ]
  },
  {
   "cell_type": "code",
   "execution_count": 12,
   "id": "f5bf71c1-ddd5-4f00-823a-c80beee8d885",
   "metadata": {},
   "outputs": [],
   "source": [
    "## import packages and tools\n",
    "import pandas as pd\n",
    "import numpy as np\n",
    "import matplotlib.pyplot as plt\n",
    "from sklearn.decomposition import NMF \n",
    "from sklearn.preprocessing import Normalizer ,MaxAbsScaler\n",
    "from sklearn.pipeline import make_pipeline\n",
    "from utils import save_file"
   ]
  },
  {
   "cell_type": "code",
   "execution_count": null,
   "id": "7f7b2223-70b3-4e19-8c24-bbcff80fc25c",
   "metadata": {},
   "outputs": [],
   "source": []
  },
  {
   "cell_type": "raw",
   "id": "979c9126-16fc-471e-9b2e-eabd53d67f5f",
   "metadata": {},
   "source": []
  },
  {
   "cell_type": "code",
   "execution_count": 45,
   "id": "e1e2e622-cd8f-411a-b9c6-4f320531348f",
   "metadata": {},
   "outputs": [],
   "source": [
    "## load data\n",
    "df = pd.read_csv('../data/final_per_90_and_pAdj.csv')"
   ]
  },
  {
   "cell_type": "code",
   "execution_count": 48,
   "id": "cdeafb7f-565d-4239-bf0c-cfbd4b42ed8a",
   "metadata": {},
   "outputs": [
    {
     "data": {
      "text/plain": [
       "array(['fb_id', 'player_name', 'Squad_from_op', 'Opposing_Poss',\n",
       "       'Opposing_Touches', 'Player', 'Nation', 'Position',\n",
       "       'Tackle_pct_won', 'Nineties', 'xA', 'Key_pass', 'Comp_prog',\n",
       "       'Total_Cmp', 'Total_Att', 'Total_Cmp_pct', 'Total_Tot_Dist',\n",
       "       'Total_Prg_Dist', 'Short_Cmp', 'Short_Att', 'Short_Cmp_pct',\n",
       "       'Medium_Cmp', 'Medium_Att', 'Medium_Cmp_pct', 'Long_Cmp',\n",
       "       'Long_Att', 'Long_Cmp_pct', 'touches', 'touches_def_box',\n",
       "       'touches_def_3rd', 'touches_mid_3rd', 'touches_att_3rd',\n",
       "       'touches_att_box', 'touch_live', 'dribble_Succ', 'dribble_Att',\n",
       "       'dribble_Succ_pct', 'num_dribble_past', 'dribble_megs', 'carries',\n",
       "       'carries_dist', 'carries_prog_dist', 'carries_prog',\n",
       "       'carries_att_3rd', 'carries_att_box', 'miss_control', 'dispossed',\n",
       "       'recep_targ', 'recep_succ', 'recept_pct', 'Fouls_drawn',\n",
       "       'Offsides', 'Crosses', 'PK_won', 'Aerial_win_pct', 'Gls', 'Sh',\n",
       "       'SoT', 'SoT%', 'Sh/90', 'SoT/90', 'G/Sh', 'G/SoT', 'Dist', 'FK',\n",
       "       'PK', 'PKatt', 'xG', 'npxG', 'npxG/Sh', 'G-xG', 'np:G-xG', 'Club',\n",
       "       'Base Salary', 'pAdj_Total_tackles', 'pAdj_Tackles_Won',\n",
       "       'pAdj_Tackles_Def_3rd', 'pAdj_Tackles_Mid_3rd',\n",
       "       'pAdj_Tackles_Att_3rd', 'pAdj_Num_Dribblers_tackled',\n",
       "       'pAdj_Num_Dribbled_past', 'pAdj_total_pressing',\n",
       "       'pAdj_Won_ball_5_sec', 'pAdj_pres_Def_3rd', 'pAdj_pres_Mid_3rd',\n",
       "       'pAdj_pres_Att_3rd', 'pAdj_Blocks', 'pAdj_Blocked_shots',\n",
       "       'pAdj_Blocked_SOT', 'pAdj_Blocked_pass', 'pAdj_Interceptions',\n",
       "       'pAdj_Tackles_and_Ints', 'pAdj_Clearences', 'pAdj_Yellow_cards',\n",
       "       'pAdj_Red_cards', 'pAdj_Second_yellow', 'pAdj_Fouls',\n",
       "       'pAdj_def_interceptions', 'pAdj_from_mish_tackles_won',\n",
       "       'pAdj_PK_conceded', 'pAdj_OG', 'pAdj_Recoveries',\n",
       "       'pAdj_Aerial_Duels_lost', 'lost_tackles', 'True_tackle_pct',\n",
       "       'pAdj_Tackle_int_blocks', 'avg_shrt+med_pass_pct',\n",
       "       'pct_long_balls', 'prog_carry+lng_comp+crosses',\n",
       "       'attacking_touches'], dtype=object)"
      ]
     },
     "execution_count": 48,
     "metadata": {},
     "output_type": "execute_result"
    }
   ],
   "source": [
    "df.columns.values"
   ]
  },
  {
   "cell_type": "code",
   "execution_count": 49,
   "id": "8e285120-374e-4d57-b779-c6e298961e23",
   "metadata": {},
   "outputs": [
    {
     "data": {
      "text/plain": [
       "array([49.1, 54. , 49.9, 46.5, 51. , 48.3, 47.1, 42.6, 50.2, 51.4, 53.5,\n",
       "       51.7, 55.1, 53.8, 48.9, 45.7, 46. , 51.8, 47.4, 45. , 51.9, 53.9,\n",
       "       50.6, 54.9])"
      ]
     },
     "execution_count": 49,
     "metadata": {},
     "output_type": "execute_result"
    }
   ],
   "source": [
    "df['Opposing_Poss'].unique()"
   ]
  },
  {
   "cell_type": "code",
   "execution_count": 78,
   "id": "b0796d9a-6379-49c2-8ddd-e23119f65f7f",
   "metadata": {},
   "outputs": [
    {
     "data": {
      "text/plain": [
       "(705, 100)"
      ]
     },
     "execution_count": 78,
     "metadata": {},
     "output_type": "execute_result"
    }
   ],
   "source": [
    "## set index and drop negative and categotical columns \n",
    "X = df.set_index('player_name')\n",
    "\n",
    "# remove categorical and features with negative values\n",
    "X = X.drop(columns= ['Base Salary','Player', 'Club',\n",
    "                     'Nation', 'Position','fb_id', 'Squad_from_op','G-xG','np:G-xG'])\n",
    "X.shape"
   ]
  },
  {
   "cell_type": "code",
   "execution_count": 79,
   "id": "c7de25c2-1379-4f62-b51f-ce05f5005e2c",
   "metadata": {},
   "outputs": [
    {
     "data": {
      "text/plain": [
       "(541, 85)"
      ]
     },
     "execution_count": 79,
     "metadata": {},
     "output_type": "execute_result"
    }
   ],
   "source": [
    "## select key features to input into NMF \n",
    "X = X[[ 'Nineties', 'xA',\n",
    "       'Key_pass', 'Comp_prog', 'Total_Cmp', 'Total_Att', 'Total_Cmp_pct',\n",
    "       'Total_Tot_Dist', 'Total_Prg_Dist', 'Short_Cmp', 'Short_Att',\n",
    "        'Medium_Cmp', 'Medium_Att', \n",
    "       'Long_Cmp', 'Long_Att', 'Long_Cmp_pct', 'touches', 'touches_def_box',\n",
    "       'touches_def_3rd', 'touches_mid_3rd', 'touches_att_3rd',\n",
    "       'touches_att_box', 'touch_live', 'dribble_Succ', 'dribble_Att',\n",
    "       'dribble_Succ_pct', 'num_dribble_past', 'dribble_megs', 'carries',\n",
    "       'carries_dist', 'carries_prog_dist', 'carries_prog', 'carries_att_3rd',\n",
    "       'carries_att_box', 'miss_control', 'dispossed', 'recep_targ',\n",
    "       'recep_succ', 'recept_pct', 'Fouls_drawn', 'Offsides', 'Crosses',\n",
    "       'PK_won', 'Aerial_win_pct', 'Gls', 'Sh', 'SoT', 'SoT%', 'Sh/90',\n",
    "       'SoT/90', 'G/Sh', 'G/SoT', 'Dist', 'FK', 'PK', 'PKatt', 'xG', 'npxG',\n",
    "       'npxG/Sh', 'pAdj_Total_tackles', 'pAdj_Tackles_Won',\n",
    "       'pAdj_Tackles_Def_3rd', 'pAdj_Tackles_Mid_3rd', 'pAdj_Tackles_Att_3rd',\n",
    "       'pAdj_Num_Dribblers_tackled', 'pAdj_Num_Dribbled_past', \n",
    "       'pAdj_Blocked_shots', 'pAdj_Blocked_SOT', 'Tackle_pct_won','pAdj_Blocked_pass',\n",
    "       'pAdj_Interceptions', 'pAdj_Tackles_and_Ints', 'pAdj_Clearences',\n",
    "      'pAdj_Red_cards','pAdj_Fouls', 'pAdj_def_interceptions', 'pAdj_Recoveries',\n",
    "       'pAdj_Aerial_Duels_lost', 'lost_tackles', 'True_tackle_pct',\n",
    "       'pAdj_Tackle_int_blocks', 'avg_shrt+med_pass_pct', 'pct_long_balls',\n",
    "       'prog_carry+lng_comp+crosses', 'attacking_touches']]\n",
    "# work with players who have played at least 5 games \n",
    "X = X.loc[(X['Nineties']>5)]\n",
    "X.shape"
   ]
  },
  {
   "cell_type": "code",
   "execution_count": 80,
   "id": "d1d36c6d-4768-4a48-af9d-5ebcc37210e5",
   "metadata": {},
   "outputs": [],
   "source": [
    "X.to_csv('../data/NMF_X.csv')"
   ]
  },
  {
   "cell_type": "markdown",
   "id": "a49e8dd9-aed5-4b55-a111-2fc4a43cce2b",
   "metadata": {},
   "source": [
    "# 1 - NMF model explanation - Non Negative Matrix Factorization \n",
    "\n",
    "NMF or Non Negative Matrix Factorization is widely used for topic modeling and document clustering but there are many examples of NMF being used to cluster other kinds of datasets such as classifying Companies on extra financial criteria.https://towardsdatascience.com/using-nmf-to-classify-companies-a77e176f276f . I am going to use NMF to classify my MLS 2021 data set by the \"topic\" or ,grouping of player stats,that I will call \"skill set group\". I will use the skill sets to classify players in the league and then use a normalized version of the decomposed matrix to identify players who are closest to Key players Identified in my EDA . At the end I should have all players classified by a key skill set group. Players closest to the target players identified show how franchises could use NMF to Identify other players that fit into roles played by players in the MLS. \n",
    "\n",
    "# X matrix - Original player matrix\n",
    "With the player matrix X being of n players(rows) and f features(player stats) (n x f)\n",
    "\n",
    "\n",
    "## Weight matrix - weights of each row for each skill set group or topic \n",
    "c = number of Skill Set Groups that will be generated by NMF \n",
    "This matrix has rows filled by players  with the skill set features generated  by the NMF algorithm as the columns give you the weight matrix. \n",
    "W = n x c \n",
    "\n",
    "## Hidden layer matrix - hidden layer of feature values for each skill set group\n",
    "This matrix has rows of players features with  skill set groups as the columns. \n",
    "H = f x c\n",
    "\n",
    "## The matrix multiplication of W (weight)* H(hidden) approximates the original X player matrix\n",
    "\n",
    "The two matixies W and H when multiplied togeather approximates the original X matrix. This allows player data to be observed in a lower dimensional space by comparing player skill set values in the weight matrix.  \n",
    "\n",
    "## The W weight matrix is used to find players closest to the target player in question\n",
    "\n",
    "The distance between the topic values of each player in the W matrix can be used to measure who is the most simular allowing for recommendations of players closest to the target player to be created.\n",
    "\n",
    "The skill set group that has the highest ranking for each player is used to classify or label groups of players who are Rows filled by players  with the skill set features generated  by the NMF algorithm as the columns gives you the weight matrix,  W = n x c.similar in their player stats features. \n",
    "\n"
   ]
  },
  {
   "cell_type": "code",
   "execution_count": 81,
   "id": "9bcf6b3e-bc3f-406d-aa4e-4a1adf7c59b8",
   "metadata": {},
   "outputs": [],
   "source": [
    "# function to viz skill groups and players most associated with skill group\n",
    "\n",
    "def display_features(H,W,feature_names, X_matrix ,no_top_features, no_top_players):\n",
    "    \"\"\" visualize skill get group and highest ranked players in group \"\"\"\n",
    "    topics = {}\n",
    "    # iterate through topics in topic-term matrix, 'H' aka\n",
    "    # H is the hidden layer which is shape (F x C) feature times topic matrix\n",
    "    for topic_idx, topic in enumerate(H):\n",
    "        print(\"Topic %d:\" % (topic_idx))\n",
    "        print(\" \".join([ (feature_names[i] + \" (\" + str(topic[i].round(2)) + \")\")\n",
    "          for i in topic.argsort()[:-no_top_features - 1:-1]]))\n",
    "        \n",
    "        # add features to topics dictionary for later assesment. \n",
    "        \n",
    "        topics[topic_idx] = [ (feature_names[i] + \" (\" + str(topic[i].round(2)) + \")\") \n",
    "                             for i in topic.argsort()[:-(no_top_features+3) - 1:-1]]\n",
    "        \n",
    "        top_player_indicies = np.argsort( W[:,topic_idx] )[::-1][0:no_top_players]\n",
    "        for p_index in top_player_indicies:\n",
    "            \n",
    "            print(p_index,\" \",X_matrix.index[p_index])\n",
    "    \n",
    "    return topics \n",
    "\n",
    "\n",
    "def add_skill_group(X,W):\n",
    "    \"\"\" add skill group to player feature to use for classification\"\"\"\n",
    "    df_new = X.copy()\n",
    "    # Get the top predicted topic and add to df copy \n",
    "    df_new['pred_topic_num']= [np.argsort(each)[::-1][0] for each in W]\n",
    "  \n",
    "    return df_new"
   ]
  },
  {
   "cell_type": "markdown",
   "id": "1843bbaa-3f47-497b-aaa8-9194943f2b59",
   "metadata": {},
   "source": [
    "## 2 - NMF hyperparamter tuning\n",
    "\n",
    "### 2.1 tuning of max_iter parameter to allow for model convergance "
   ]
  },
  {
   "cell_type": "code",
   "execution_count": 82,
   "id": "f018f17e-0007-4451-9a72-fa8bdafc1cca",
   "metadata": {},
   "outputs": [
    {
     "name": "stderr",
     "output_type": "stream",
     "text": [
      "/Users/robertrustia/opt/anaconda3/lib/python3.8/site-packages/sklearn/decomposition/_nmf.py:1090: ConvergenceWarning: Maximum number of iterations 100 reached. Increase it to improve convergence.\n",
      "  warnings.warn(\"Maximum number of iterations %d reached. Increase it to\"\n",
      "/Users/robertrustia/opt/anaconda3/lib/python3.8/site-packages/sklearn/decomposition/_nmf.py:1090: ConvergenceWarning: Maximum number of iterations 200 reached. Increase it to improve convergence.\n",
      "  warnings.warn(\"Maximum number of iterations %d reached. Increase it to\"\n",
      "/Users/robertrustia/opt/anaconda3/lib/python3.8/site-packages/sklearn/decomposition/_nmf.py:1090: ConvergenceWarning: Maximum number of iterations 300 reached. Increase it to improve convergence.\n",
      "  warnings.warn(\"Maximum number of iterations %d reached. Increase it to\"\n"
     ]
    },
    {
     "name": "stdout",
     "output_type": "stream",
     "text": [
      "NMF(init='nndsvda', max_iter=100, n_components=11, random_state=42) error : 15.267031395899144 \n",
      "  W shape (541, 11) H shape  (11, 85)\n",
      "NMF(init='nndsvda', n_components=11, random_state=42) error : 15.241489440260304 \n",
      "  W shape (541, 11) H shape  (11, 85)\n",
      "NMF(init='nndsvda', max_iter=300, n_components=11, random_state=42) error : 15.237397443966058 \n",
      "  W shape (541, 11) H shape  (11, 85)\n",
      "NMF(init='nndsvda', max_iter=400, n_components=11, random_state=42) error : 15.2373182856613 \n",
      "  W shape (541, 11) H shape  (11, 85)\n",
      "NMF(init='nndsvda', max_iter=500, n_components=11, random_state=42) error : 15.2373182856613 \n",
      "  W shape (541, 11) H shape  (11, 85)\n",
      "NMF(init='nndsvda', max_iter=600, n_components=11, random_state=42) error : 15.2373182856613 \n",
      "  W shape (541, 11) H shape  (11, 85)\n",
      "NMF(init='nndsvda', max_iter=700, n_components=11, random_state=42) error : 15.2373182856613 \n",
      "  W shape (541, 11) H shape  (11, 85)\n",
      "NMF(init='nndsvda', max_iter=800, n_components=11, random_state=42) error : 15.2373182856613 \n",
      "  W shape (541, 11) H shape  (11, 85)\n",
      "NMF(init='nndsvda', max_iter=900, n_components=11, random_state=42) error : 15.2373182856613 \n",
      "  W shape (541, 11) H shape  (11, 85)\n"
     ]
    }
   ],
   "source": [
    "# try increasing number of max_iter to allow for model convergance\n",
    "for test in np.arange(100,1000,100):\n",
    "    c = 11\n",
    "    # Create a MaxAbsScaler: scaler\n",
    "    transformer = MaxAbsScaler().fit(X)\n",
    "\n",
    "    # scale data\n",
    "    scaled_X= transformer.transform(X)\n",
    "\n",
    "    # Create an NMF model: nmf\n",
    "\n",
    "    nmf = NMF(n_components=c,max_iter=test,init='nndsvda',  random_state=42)\n",
    "\n",
    "    W = nmf.fit_transform(scaled_X)\n",
    "    H = nmf.components_\n",
    "    err = nmf.reconstruction_err_\n",
    "\n",
    "    print(nmf,'error :',err, '\\n', ' W shape',W.shape,'H shape ',H.shape)           \n",
    "\n",
    "\n",
    "# topics = display_features(H,W,feature_names, X, no_top_features,no_top_players)"
   ]
  },
  {
   "cell_type": "markdown",
   "id": "79ca4341-94a4-4c36-af2c-e22e28ca4f2c",
   "metadata": {},
   "source": [
    "### max_iter tuning \n",
    "- more than 300 iterations required to converge the model. Will increase to 500 iterations. "
   ]
  },
  {
   "cell_type": "markdown",
   "id": "d46c7d85-3be5-4981-a496-4698d29e7755",
   "metadata": {},
   "source": [
    "## 2.2 tuning number of skill set groups \"c\"\n",
    "\n",
    "### 2.2.1 Inital NMF attempt with c = 11 skill group topics "
   ]
  },
  {
   "cell_type": "code",
   "execution_count": 83,
   "id": "3e004fda-243c-406c-be22-d1b00a3cb692",
   "metadata": {},
   "outputs": [
    {
     "name": "stdout",
     "output_type": "stream",
     "text": [
      "NMF(init='nndsvda', max_iter=600, n_components=11, random_state=42) error : 15.2373182856613 \n",
      "  W shape (541, 11) H shape  (11, 85)\n",
      "Topic 0:\n",
      "recept_pct (12.25) avg_shrt+med_pass_pct (11.91) touches_def_box (10.31) pct_long_balls (10.06)\n",
      "526   Zac MacMath\n",
      "488   Brad Guzan\n",
      "518   Maxime Crépeau\n",
      "Topic 1:\n",
      "touches_att_box (4.97) npxG (4.36) SoT (4.34) xG (4.22)\n",
      "192   Adam Buksa\n",
      "45   Valentín Castellanos\n",
      "106   Ola Kamara\n",
      "Topic 2:\n",
      "pAdj_Tackles_Mid_3rd (3.56) pAdj_Total_tackles (3.18) pAdj_Tackles_Won (3.17) pAdj_Tackles_and_Ints (2.65)\n",
      "409   Judson\n",
      "462   Franco Ibarra\n",
      "246   Eric Remedi\n",
      "Topic 3:\n",
      "xA (1.93) Key_pass (1.74) Comp_prog (1.53) Long_Att (1.48)\n",
      "2   Emanuel Reynoso\n",
      "0   Carles Gil\n",
      "6   Lucas Zelarayán\n",
      "Topic 4:\n",
      "pAdj_Clearences (2.18) pAdj_Blocked_shots (1.8) Aerial_win_pct (1.49) touches_def_3rd (1.45)\n",
      "426   Nathan Cardoso\n",
      "392   Jon Bell\n",
      "388   Wyatt Omsberg\n",
      "Topic 5:\n",
      "Total_Cmp_pct (1.1) Short_Cmp (1.08) Short_Att (1.07) avg_shrt+med_pass_pct (1.04)\n",
      "266   Bryce Duke\n",
      "499   Kamohelo Mokotjo\n",
      "540   Oriol Rosell\n",
      "Topic 6:\n",
      "dribble_Succ (1.28) num_dribble_past (1.24) dribble_Att (1.2) dispossed (1.18)\n",
      "51   Yeferson Soteldo\n",
      "2   Emanuel Reynoso\n",
      "136   Brian Rodríguez\n",
      "Topic 7:\n",
      "Nineties (2.03) dribble_Succ_pct (1.59) avg_shrt+med_pass_pct (0.99) Total_Cmp_pct (0.99)\n",
      "97   Darlington Nagbe\n",
      "33   Sean Davis\n",
      "452   Anton Walkes\n",
      "Topic 8:\n",
      "Crosses (0.99) touches_att_3rd (0.62) attacking_touches (0.6) Short_Att (0.52)\n",
      "114   Maikel Chang\n",
      "339   Mustafa Kizza\n",
      "77   Ruan\n",
      "Topic 9:\n",
      "dribble_Succ_pct (1.74) Dist (1.08) SoT% (1.05) npxG/Sh (1.03)\n",
      "459   Ralph Priso-Mbongue\n",
      "360   Eddie Munjoma\n",
      "336   Kevin Molino\n",
      "Topic 10:\n",
      "carries_dist (0.7) recep_succ (0.68) carries_prog_dist (0.66) touches_mid_3rd (0.63)\n",
      "313   Andreu Fontàs\n",
      "323   Ilie Sánchez\n",
      "100   Alexander Ring\n"
     ]
    }
   ],
   "source": [
    "\n",
    "c = 11\n",
    "# Create a MaxAbsScaler: scaler\n",
    "transformer = MaxAbsScaler().fit(X)\n",
    "\n",
    "# scale data\n",
    "scaled_X= transformer.transform(X)\n",
    "\n",
    "# Create an NMF model: nmf\n",
    "\n",
    "nmf = NMF(n_components=c,max_iter=600,init='nndsvda', random_state=42)\n",
    "\n",
    "W = nmf.fit_transform(scaled_X)\n",
    "H = nmf.components_\n",
    "err = nmf.reconstruction_err_\n",
    "\n",
    "print(nmf,'error :',err, '\\n', ' W shape',W.shape,'H shape ',H.shape)\n",
    "\n",
    "            \n",
    "feature_names = X.columns.values\n",
    "no_top_features = 4\n",
    "no_top_players = 3\n",
    "\n",
    "topics = display_features(H,W,feature_names, X, no_top_features,no_top_players)"
   ]
  },
  {
   "cell_type": "code",
   "execution_count": 84,
   "id": "b4bd48ce-a07d-4204-99c3-de0b629303ca",
   "metadata": {},
   "outputs": [
    {
     "data": {
      "text/plain": [
       "10    121\n",
       "8     120\n",
       "7     109\n",
       "5      64\n",
       "6      52\n",
       "4      33\n",
       "9      33\n",
       "0       8\n",
       "3       1\n",
       "Name: pred_topic_num, dtype: int64"
      ]
     },
     "execution_count": 84,
     "metadata": {},
     "output_type": "execute_result"
    }
   ],
   "source": [
    "# check groups \n",
    "df_new = add_skill_group(X,W)\n",
    "df_new['pred_topic_num'].value_counts()"
   ]
  },
  {
   "cell_type": "markdown",
   "id": "fdf0c6b9-8805-42f9-9bdb-5f3b3aab0fe3",
   "metadata": {},
   "source": [
    "### 2.2.1 Tuning Insight \n",
    "- 11 skill groups lead to only 9 clusters shown above. I will reduce c to be able to have more balanced clusters. \n",
    "- The highest rated players for each skill set are related in playing style showing that the associations between players built out by NMF look promising "
   ]
  },
  {
   "cell_type": "markdown",
   "id": "3bc83cc1-859d-4af3-a4a2-036d66789c44",
   "metadata": {},
   "source": [
    "## 2.2.2 - Attemping c('skill groups') = 9 to look for balanced groups.  "
   ]
  },
  {
   "cell_type": "code",
   "execution_count": 87,
   "id": "0cc7e452-32b6-496a-bd59-e0c33a038520",
   "metadata": {},
   "outputs": [
    {
     "name": "stdout",
     "output_type": "stream",
     "text": [
      "NMF(init='nndsvda', l1_ratio=0.05, max_iter=1000, n_components=9,\n",
      "    random_state=42) error : 16.097065673959523 \n",
      "  W shape (541, 9) H shape  (9, 85)\n",
      "7    99\n",
      "8    98\n",
      "5    87\n",
      "6    79\n",
      "4    70\n",
      "3    48\n",
      "2    40\n",
      "0    18\n",
      "1     2\n",
      "Name: pred_topic_num, dtype: int64\n",
      "Topic 0:\n",
      "recept_pct (9.36) avg_shrt+med_pass_pct (8.98) pct_long_balls (8.19) touches_def_box (7.97)\n",
      "488   Brad Guzan\n",
      "518   Maxime Crépeau\n",
      "526   Zac MacMath\n",
      "530   David Ochoa\n",
      "428   J.T. Marcinkowski\n",
      "Topic 1:\n",
      "dribble_Succ (2.71) num_dribble_past (2.63) dribble_Att (2.52) dispossed (2.31)\n",
      "51   Yeferson Soteldo\n",
      "2   Emanuel Reynoso\n",
      "136   Brian Rodríguez\n",
      "6   Lucas Zelarayán\n",
      "0   Carles Gil\n",
      "Topic 2:\n",
      "pAdj_Clearences (2.37) pAdj_Blocked_shots (2.05) touches_def_3rd (1.81) pAdj_def_interceptions (1.49)\n",
      "426   Nathan Cardoso\n",
      "348   Alan Franco\n",
      "417   Daniel Steres\n",
      "365   Rudy Camacho\n",
      "422   Francisco Calvo\n",
      "Topic 3:\n",
      "Total_Cmp_pct (1.71) avg_shrt+med_pass_pct (1.66) recept_pct (1.44) Long_Cmp_pct (1.28)\n",
      "499   Kamohelo Mokotjo\n",
      "459   Ralph Priso-Mbongue\n",
      "358   Emerson Hyndman\n",
      "336   Kevin Molino\n",
      "405   José Mauri\n",
      "Topic 4:\n",
      "Nineties (2.1) Total_Cmp_pct (1.69) avg_shrt+med_pass_pct (1.62) dribble_Succ_pct (1.45)\n",
      "97   Darlington Nagbe\n",
      "29   Damir Kreilach\n",
      "131   Brenner\n",
      "156   Júnior Urso\n",
      "134   Wil Trapp\n",
      "Topic 5:\n",
      "pAdj_Tackles_Mid_3rd (1.1) pAdj_Total_tackles (0.97) pAdj_Tackles_Won (0.97) pAdj_Tackles_and_Ints (0.84)\n",
      "409   Judson\n",
      "462   Franco Ibarra\n",
      "246   Eric Remedi\n",
      "245   Dru Yearwood\n",
      "432   Jacori Hayes\n",
      "Topic 6:\n",
      "touches_att_box (1.37) SoT (1.3) npxG (1.23) xG (1.19)\n",
      "192   Adam Buksa\n",
      "45   Valentín Castellanos\n",
      "106   Ola Kamara\n",
      "147   Cristian Arango\n",
      "315   Jhonder Cádiz\n",
      "Topic 7:\n",
      "touches_mid_3rd (0.87) recep_succ (0.84) Total_Cmp (0.76) Total_Att (0.76)\n",
      "351   Sebastian Berhalter\n",
      "313   Andreu Fontàs\n",
      "95   Andrés Ricaurte\n",
      "90   Michael Bradley\n",
      "30   Eduard Atuesta\n",
      "Topic 8:\n",
      "Crosses (1.07) touches_att_3rd (0.7) attacking_touches (0.65) Short_Att (0.54)\n",
      "1   Julian Gressel\n",
      "114   Maikel Chang\n",
      "339   Mustafa Kizza\n",
      "8   Brooks Lennon\n",
      "49   Guðmundur Þórarinsson\n"
     ]
    }
   ],
   "source": [
    "c = 9\n",
    "\n",
    "nmf = NMF(n_components=c,max_iter=1000,init='nndsvda', l1_ratio=.05, random_state=42)\n",
    "\n",
    "W = nmf.fit_transform(scaled_X)\n",
    "H = nmf.components_\n",
    "err = nmf.reconstruction_err_\n",
    "\n",
    "print(nmf,'error :',err, '\\n', ' W shape',W.shape,'H shape ',H.shape)\n",
    "df_new = add_skill_group(X,W)\n",
    "print(df_new['pred_topic_num'].value_counts())\n",
    "            \n",
    "feature_names = X.columns.values\n",
    "no_top_features = 4\n",
    "no_top_players = 5\n",
    "\n",
    "topics = display_features(H,W,feature_names, X, no_top_features,no_top_players)"
   ]
  },
  {
   "cell_type": "markdown",
   "id": "2f74445a-2b23-4c77-ad0a-02cc069a6c55",
   "metadata": {},
   "source": [
    "## 3 - Model output \n",
    "\n",
    "### 3.1 Label Weight matrix skill set groups\n",
    "- use top features in each skill set group to create skill set names."
   ]
  },
  {
   "cell_type": "code",
   "execution_count": 88,
   "id": "6003f321-01db-4c85-8979-feab0e4a1868",
   "metadata": {},
   "outputs": [
    {
     "data": {
      "text/html": [
       "<div>\n",
       "<style scoped>\n",
       "    .dataframe tbody tr th:only-of-type {\n",
       "        vertical-align: middle;\n",
       "    }\n",
       "\n",
       "    .dataframe tbody tr th {\n",
       "        vertical-align: top;\n",
       "    }\n",
       "\n",
       "    .dataframe thead th {\n",
       "        text-align: right;\n",
       "    }\n",
       "</style>\n",
       "<table border=\"1\" class=\"dataframe\">\n",
       "  <thead>\n",
       "    <tr style=\"text-align: right;\">\n",
       "      <th></th>\n",
       "      <th>Defensive passing</th>\n",
       "      <th>Dribbling</th>\n",
       "      <th>Defensive actions</th>\n",
       "      <th>Short passing</th>\n",
       "      <th>Playing time</th>\n",
       "      <th>Tackling</th>\n",
       "      <th>Attacking play</th>\n",
       "      <th>Passing volume</th>\n",
       "      <th>Progressive passing</th>\n",
       "    </tr>\n",
       "  </thead>\n",
       "  <tbody>\n",
       "    <tr>\n",
       "      <th>0</th>\n",
       "      <td>recept_pct (9.36)</td>\n",
       "      <td>dribble_Succ (2.71)</td>\n",
       "      <td>pAdj_Clearences (2.37)</td>\n",
       "      <td>Total_Cmp_pct (1.71)</td>\n",
       "      <td>Nineties (2.1)</td>\n",
       "      <td>pAdj_Tackles_Mid_3rd (1.1)</td>\n",
       "      <td>touches_att_box (1.37)</td>\n",
       "      <td>touches_mid_3rd (0.87)</td>\n",
       "      <td>Crosses (1.07)</td>\n",
       "    </tr>\n",
       "    <tr>\n",
       "      <th>1</th>\n",
       "      <td>avg_shrt+med_pass_pct (8.98)</td>\n",
       "      <td>num_dribble_past (2.63)</td>\n",
       "      <td>pAdj_Blocked_shots (2.05)</td>\n",
       "      <td>avg_shrt+med_pass_pct (1.66)</td>\n",
       "      <td>Total_Cmp_pct (1.69)</td>\n",
       "      <td>pAdj_Total_tackles (0.97)</td>\n",
       "      <td>SoT (1.3)</td>\n",
       "      <td>recep_succ (0.84)</td>\n",
       "      <td>touches_att_3rd (0.7)</td>\n",
       "    </tr>\n",
       "    <tr>\n",
       "      <th>2</th>\n",
       "      <td>pct_long_balls (8.19)</td>\n",
       "      <td>dribble_Att (2.52)</td>\n",
       "      <td>touches_def_3rd (1.81)</td>\n",
       "      <td>recept_pct (1.44)</td>\n",
       "      <td>avg_shrt+med_pass_pct (1.62)</td>\n",
       "      <td>pAdj_Tackles_Won (0.97)</td>\n",
       "      <td>npxG (1.23)</td>\n",
       "      <td>Total_Cmp (0.76)</td>\n",
       "      <td>attacking_touches (0.65)</td>\n",
       "    </tr>\n",
       "    <tr>\n",
       "      <th>3</th>\n",
       "      <td>touches_def_box (7.97)</td>\n",
       "      <td>dispossed (2.31)</td>\n",
       "      <td>pAdj_def_interceptions (1.49)</td>\n",
       "      <td>Long_Cmp_pct (1.28)</td>\n",
       "      <td>dribble_Succ_pct (1.45)</td>\n",
       "      <td>pAdj_Tackles_and_Ints (0.84)</td>\n",
       "      <td>xG (1.19)</td>\n",
       "      <td>Total_Att (0.76)</td>\n",
       "      <td>Short_Att (0.54)</td>\n",
       "    </tr>\n",
       "    <tr>\n",
       "      <th>4</th>\n",
       "      <td>Long_Att (7.87)</td>\n",
       "      <td>carries_prog (1.95)</td>\n",
       "      <td>pAdj_Interceptions (1.48)</td>\n",
       "      <td>dribble_Succ_pct (1.26)</td>\n",
       "      <td>Long_Cmp_pct (1.39)</td>\n",
       "      <td>pAdj_Num_Dribbled_past (0.82)</td>\n",
       "      <td>Sh (1.18)</td>\n",
       "      <td>carries (0.75)</td>\n",
       "      <td>xA (0.52)</td>\n",
       "    </tr>\n",
       "    <tr>\n",
       "      <th>5</th>\n",
       "      <td>Total_Prg_Dist (7.76)</td>\n",
       "      <td>attacking_touches (1.84)</td>\n",
       "      <td>Aerial_win_pct (1.39)</td>\n",
       "      <td>Dist (1.16)</td>\n",
       "      <td>recept_pct (1.39)</td>\n",
       "      <td>pAdj_Num_Dribblers_tackled (0.81)</td>\n",
       "      <td>Offsides (1.03)</td>\n",
       "      <td>recep_targ (0.73)</td>\n",
       "      <td>recept_pct (0.51)</td>\n",
       "    </tr>\n",
       "    <tr>\n",
       "      <th>6</th>\n",
       "      <td>touches_def_3rd (7.18)</td>\n",
       "      <td>dribble_megs (1.83)</td>\n",
       "      <td>pAdj_Tackle_int_blocks (1.39)</td>\n",
       "      <td>Short_Att (0.87)</td>\n",
       "      <td>Short_Att (0.7)</td>\n",
       "      <td>pAdj_Tackle_int_blocks (0.76)</td>\n",
       "      <td>Gls (1.02)</td>\n",
       "      <td>Total_Tot_Dist (0.72)</td>\n",
       "      <td>pAdj_Blocked_pass (0.5)</td>\n",
       "    </tr>\n",
       "  </tbody>\n",
       "</table>\n",
       "</div>"
      ],
      "text/plain": [
       "              Defensive passing                 Dribbling  \\\n",
       "0             recept_pct (9.36)       dribble_Succ (2.71)   \n",
       "1  avg_shrt+med_pass_pct (8.98)   num_dribble_past (2.63)   \n",
       "2         pct_long_balls (8.19)        dribble_Att (2.52)   \n",
       "3        touches_def_box (7.97)          dispossed (2.31)   \n",
       "4               Long_Att (7.87)       carries_prog (1.95)   \n",
       "5         Total_Prg_Dist (7.76)  attacking_touches (1.84)   \n",
       "6        touches_def_3rd (7.18)       dribble_megs (1.83)   \n",
       "\n",
       "               Defensive actions                 Short passing  \\\n",
       "0         pAdj_Clearences (2.37)          Total_Cmp_pct (1.71)   \n",
       "1      pAdj_Blocked_shots (2.05)  avg_shrt+med_pass_pct (1.66)   \n",
       "2         touches_def_3rd (1.81)             recept_pct (1.44)   \n",
       "3  pAdj_def_interceptions (1.49)           Long_Cmp_pct (1.28)   \n",
       "4      pAdj_Interceptions (1.48)       dribble_Succ_pct (1.26)   \n",
       "5          Aerial_win_pct (1.39)                   Dist (1.16)   \n",
       "6  pAdj_Tackle_int_blocks (1.39)              Short_Att (0.87)   \n",
       "\n",
       "                   Playing time                           Tackling  \\\n",
       "0                Nineties (2.1)         pAdj_Tackles_Mid_3rd (1.1)   \n",
       "1          Total_Cmp_pct (1.69)          pAdj_Total_tackles (0.97)   \n",
       "2  avg_shrt+med_pass_pct (1.62)            pAdj_Tackles_Won (0.97)   \n",
       "3       dribble_Succ_pct (1.45)       pAdj_Tackles_and_Ints (0.84)   \n",
       "4           Long_Cmp_pct (1.39)      pAdj_Num_Dribbled_past (0.82)   \n",
       "5             recept_pct (1.39)  pAdj_Num_Dribblers_tackled (0.81)   \n",
       "6               Short_Att (0.7)      pAdj_Tackle_int_blocks (0.76)   \n",
       "\n",
       "           Attacking play          Passing volume       Progressive passing  \n",
       "0  touches_att_box (1.37)  touches_mid_3rd (0.87)            Crosses (1.07)  \n",
       "1               SoT (1.3)       recep_succ (0.84)     touches_att_3rd (0.7)  \n",
       "2             npxG (1.23)        Total_Cmp (0.76)  attacking_touches (0.65)  \n",
       "3               xG (1.19)        Total_Att (0.76)          Short_Att (0.54)  \n",
       "4               Sh (1.18)          carries (0.75)                 xA (0.52)  \n",
       "5         Offsides (1.03)       recep_targ (0.73)         recept_pct (0.51)  \n",
       "6              Gls (1.02)   Total_Tot_Dist (0.72)   pAdj_Blocked_pass (0.5)  "
      ]
     },
     "execution_count": 88,
     "metadata": {},
     "output_type": "execute_result"
    }
   ],
   "source": [
    "skill_sets = pd.DataFrame(topics )\n",
    "columns =['Defensive passing','Dribbling','Defensive actions','Short passing','Playing time','Tackling','Attacking play','Passing volume','Progressive passing']\n",
    "skill_sets.columns = columns\n",
    "skill_sets"
   ]
  },
  {
   "cell_type": "markdown",
   "id": "d6612b6d-715f-4a63-9943-709fe14d718a",
   "metadata": {},
   "source": [
    "### 3.2 Create ranking data from from skill set values"
   ]
  },
  {
   "cell_type": "code",
   "execution_count": 89,
   "id": "ec5b2d24-be0b-4150-a126-c3b2dd6d0d2a",
   "metadata": {},
   "outputs": [
    {
     "data": {
      "text/html": [
       "<div>\n",
       "<style scoped>\n",
       "    .dataframe tbody tr th:only-of-type {\n",
       "        vertical-align: middle;\n",
       "    }\n",
       "\n",
       "    .dataframe tbody tr th {\n",
       "        vertical-align: top;\n",
       "    }\n",
       "\n",
       "    .dataframe thead th {\n",
       "        text-align: right;\n",
       "    }\n",
       "</style>\n",
       "<table border=\"1\" class=\"dataframe\">\n",
       "  <thead>\n",
       "    <tr style=\"text-align: right;\">\n",
       "      <th></th>\n",
       "      <th>Defensive passing</th>\n",
       "      <th>Dribbling</th>\n",
       "      <th>Defensive actions</th>\n",
       "      <th>Short passing</th>\n",
       "      <th>Playing time</th>\n",
       "      <th>Tackling</th>\n",
       "      <th>Attacking play</th>\n",
       "      <th>Passing volume</th>\n",
       "      <th>Progressive passing</th>\n",
       "    </tr>\n",
       "    <tr>\n",
       "      <th>player_name</th>\n",
       "      <th></th>\n",
       "      <th></th>\n",
       "      <th></th>\n",
       "      <th></th>\n",
       "      <th></th>\n",
       "      <th></th>\n",
       "      <th></th>\n",
       "      <th></th>\n",
       "      <th></th>\n",
       "    </tr>\n",
       "  </thead>\n",
       "  <tbody>\n",
       "    <tr>\n",
       "      <th>Carles Gil</th>\n",
       "      <td>0.013093</td>\n",
       "      <td>0.224208</td>\n",
       "      <td>0.000000</td>\n",
       "      <td>0.0</td>\n",
       "      <td>0.172804</td>\n",
       "      <td>0.000000</td>\n",
       "      <td>0.084986</td>\n",
       "      <td>0.580714</td>\n",
       "      <td>0.495527</td>\n",
       "    </tr>\n",
       "    <tr>\n",
       "      <th>Julian Gressel</th>\n",
       "      <td>0.025680</td>\n",
       "      <td>0.032906</td>\n",
       "      <td>0.041975</td>\n",
       "      <td>0.0</td>\n",
       "      <td>0.118464</td>\n",
       "      <td>0.103169</td>\n",
       "      <td>0.112529</td>\n",
       "      <td>0.208273</td>\n",
       "      <td>0.720363</td>\n",
       "    </tr>\n",
       "    <tr>\n",
       "      <th>Emanuel Reynoso</th>\n",
       "      <td>0.002525</td>\n",
       "      <td>0.300686</td>\n",
       "      <td>0.000000</td>\n",
       "      <td>0.0</td>\n",
       "      <td>0.212611</td>\n",
       "      <td>0.280021</td>\n",
       "      <td>0.123508</td>\n",
       "      <td>0.548108</td>\n",
       "      <td>0.200960</td>\n",
       "    </tr>\n",
       "    <tr>\n",
       "      <th>Albert Rusnák</th>\n",
       "      <td>0.014430</td>\n",
       "      <td>0.078649</td>\n",
       "      <td>0.000000</td>\n",
       "      <td>0.0</td>\n",
       "      <td>0.324585</td>\n",
       "      <td>0.000000</td>\n",
       "      <td>0.178034</td>\n",
       "      <td>0.359962</td>\n",
       "      <td>0.276517</td>\n",
       "    </tr>\n",
       "    <tr>\n",
       "      <th>Maximiliano Moralez</th>\n",
       "      <td>0.009740</td>\n",
       "      <td>0.058921</td>\n",
       "      <td>0.000000</td>\n",
       "      <td>0.0</td>\n",
       "      <td>0.229654</td>\n",
       "      <td>0.189513</td>\n",
       "      <td>0.244651</td>\n",
       "      <td>0.536516</td>\n",
       "      <td>0.398020</td>\n",
       "    </tr>\n",
       "  </tbody>\n",
       "</table>\n",
       "</div>"
      ],
      "text/plain": [
       "                     Defensive passing  Dribbling  Defensive actions  \\\n",
       "player_name                                                            \n",
       "Carles Gil                    0.013093   0.224208           0.000000   \n",
       "Julian Gressel                0.025680   0.032906           0.041975   \n",
       "Emanuel Reynoso               0.002525   0.300686           0.000000   \n",
       "Albert Rusnák                 0.014430   0.078649           0.000000   \n",
       "Maximiliano Moralez           0.009740   0.058921           0.000000   \n",
       "\n",
       "                     Short passing  Playing time  Tackling  Attacking play  \\\n",
       "player_name                                                                  \n",
       "Carles Gil                     0.0      0.172804  0.000000        0.084986   \n",
       "Julian Gressel                 0.0      0.118464  0.103169        0.112529   \n",
       "Emanuel Reynoso                0.0      0.212611  0.280021        0.123508   \n",
       "Albert Rusnák                  0.0      0.324585  0.000000        0.178034   \n",
       "Maximiliano Moralez            0.0      0.229654  0.189513        0.244651   \n",
       "\n",
       "                     Passing volume  Progressive passing  \n",
       "player_name                                               \n",
       "Carles Gil                 0.580714             0.495527  \n",
       "Julian Gressel             0.208273             0.720363  \n",
       "Emanuel Reynoso            0.548108             0.200960  \n",
       "Albert Rusnák              0.359962             0.276517  \n",
       "Maximiliano Moralez        0.536516             0.398020  "
      ]
     },
     "execution_count": 89,
     "metadata": {},
     "output_type": "execute_result"
    }
   ],
   "source": [
    "dfw= pd.DataFrame(W,columns=columns,index = X.index)\n",
    "dfw.head()"
   ]
  },
  {
   "cell_type": "markdown",
   "id": "c88a9938-5d2f-4692-bda8-16756ad63721",
   "metadata": {},
   "source": [
    "### Use skill Set group values to create ranks to use for clustering and comparisons"
   ]
  },
  {
   "cell_type": "code",
   "execution_count": 90,
   "id": "08672bf6-40fc-425f-92fc-3b680bbe1d45",
   "metadata": {},
   "outputs": [
    {
     "data": {
      "text/html": [
       "<div>\n",
       "<style scoped>\n",
       "    .dataframe tbody tr th:only-of-type {\n",
       "        vertical-align: middle;\n",
       "    }\n",
       "\n",
       "    .dataframe tbody tr th {\n",
       "        vertical-align: top;\n",
       "    }\n",
       "\n",
       "    .dataframe thead th {\n",
       "        text-align: right;\n",
       "    }\n",
       "</style>\n",
       "<table border=\"1\" class=\"dataframe\">\n",
       "  <thead>\n",
       "    <tr style=\"text-align: right;\">\n",
       "      <th></th>\n",
       "      <th>Defensive actions</th>\n",
       "      <th>Defensive actions rank</th>\n",
       "    </tr>\n",
       "    <tr>\n",
       "      <th>player_name</th>\n",
       "      <th></th>\n",
       "      <th></th>\n",
       "    </tr>\n",
       "  </thead>\n",
       "  <tbody>\n",
       "    <tr>\n",
       "      <th>Nathan Cardoso</th>\n",
       "      <td>0.355321</td>\n",
       "      <td>1.000000</td>\n",
       "    </tr>\n",
       "    <tr>\n",
       "      <th>Alan Franco</th>\n",
       "      <td>0.315812</td>\n",
       "      <td>0.998152</td>\n",
       "    </tr>\n",
       "    <tr>\n",
       "      <th>Daniel Steres</th>\n",
       "      <td>0.308983</td>\n",
       "      <td>0.996303</td>\n",
       "    </tr>\n",
       "    <tr>\n",
       "      <th>Rudy Camacho</th>\n",
       "      <td>0.305769</td>\n",
       "      <td>0.994455</td>\n",
       "    </tr>\n",
       "    <tr>\n",
       "      <th>Francisco Calvo</th>\n",
       "      <td>0.301305</td>\n",
       "      <td>0.992606</td>\n",
       "    </tr>\n",
       "  </tbody>\n",
       "</table>\n",
       "</div>"
      ],
      "text/plain": [
       "                 Defensive actions  Defensive actions rank\n",
       "player_name                                               \n",
       "Nathan Cardoso            0.355321                1.000000\n",
       "Alan Franco               0.315812                0.998152\n",
       "Daniel Steres             0.308983                0.996303\n",
       "Rudy Camacho              0.305769                0.994455\n",
       "Francisco Calvo           0.301305                0.992606"
      ]
     },
     "execution_count": 90,
     "metadata": {},
     "output_type": "execute_result"
    }
   ],
   "source": [
    "for col in dfw.columns.values:\n",
    "    title = col +' rank'\n",
    "    dfw[title] = dfw[col].rank(pct=True,na_option = 'bottom',ascending=True)\n",
    "dfw[['Defensive actions','Defensive actions rank']].nlargest(5,columns='Defensive actions rank')"
   ]
  },
  {
   "cell_type": "markdown",
   "id": "2d5b79ab-fa6a-4759-988c-8de99f5591c5",
   "metadata": {},
   "source": [
    "### Defensive action rank insight \n",
    "- SJE new defenive signing Francisco Calvo comes up in top 5 rank with Nathan Cordoso for the defensive actions skill set group"
   ]
  },
  {
   "cell_type": "markdown",
   "id": "503e4d75-265f-49f4-af45-4ea05d48edeb",
   "metadata": {},
   "source": [
    "## 3.3 Saving dataframes and models \n",
    "- save rank matrix\n",
    "- save normalized Weight matrix for cosine simularity\n",
    "- save pickled nmf model "
   ]
  },
  {
   "cell_type": "code",
   "execution_count": 93,
   "id": "f5f7ba18-e1bb-46cb-8695-8c85c12592b7",
   "metadata": {},
   "outputs": [],
   "source": [
    "# save dfw for modeling and coparison\n",
    "\n",
    "dfw.to_csv('../data/W_ranks.csv', encoding='utf-8', index=False)\n",
    "skill_sets.to_csv('../data/skill_sets.csv', encoding='utf-8', index=False)"
   ]
  },
  {
   "cell_type": "code",
   "execution_count": 92,
   "id": "29adb40b-bf1d-4a2c-a06c-1d884defb536",
   "metadata": {},
   "outputs": [],
   "source": [
    "# save normalized W matrix for calculating cosine simularity between players\n",
    "\n",
    "transformer = Normalizer().fit(W)\n",
    "normed_W= transformer.transform(W)\n",
    "# can add back club and salary here \n",
    "normed_W = pd.DataFrame(normed_W,index=X.index.values, columns=columns)\n",
    "\n",
    "normed_W.to_csv('../data/normed_W.csv',encoding='utf-8')"
   ]
  },
  {
   "cell_type": "code",
   "execution_count": 15,
   "id": "cfb5e6f3-c857-4618-8872-b126e201d65d",
   "metadata": {},
   "outputs": [
    {
     "name": "stdout",
     "output_type": "stream",
     "text": [
      "A file already exists with this name.\n",
      "\n"
     ]
    },
    {
     "name": "stdin",
     "output_type": "stream",
     "text": [
      "Do you want to overwrite? (Y/N) Y\n"
     ]
    },
    {
     "name": "stdout",
     "output_type": "stream",
     "text": [
      "Writing file.  \"../models/nmf.pkl\"\n"
     ]
    }
   ],
   "source": [
    "## save nmf model for later use\n",
    "            \n",
    "save_file(data= nmf, fname='nmf.pkl',dname='../models/')"
   ]
  }
 ],
 "metadata": {
  "kernelspec": {
   "display_name": "PythonData",
   "language": "python",
   "name": "pythondata"
  },
  "language_info": {
   "codemirror_mode": {
    "name": "ipython",
    "version": 3
   },
   "file_extension": ".py",
   "mimetype": "text/x-python",
   "name": "python",
   "nbconvert_exporter": "python",
   "pygments_lexer": "ipython3",
   "version": "3.8.8"
  }
 },
 "nbformat": 4,
 "nbformat_minor": 5
}
