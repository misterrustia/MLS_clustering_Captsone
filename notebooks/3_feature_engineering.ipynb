{
 "cells": [
  {
   "cell_type": "markdown",
   "metadata": {
    "id": "97-haYCcF_yo"
   },
   "source": [
    "# Feature Engineering \n",
    "\n",
    "## - Objectives - \n",
    "### 1 - Scale cumulative season long stats to be able to compare players.\n",
    "\n",
    "#### 1.1 - Convert player season data to per 90 stats to adjust for different amounts of games played per player.\n",
    "\n",
    "#### 1.2 - Create possesion adjusted stats for defensive KPIs to better represent defenders stat accurance.\n",
    "\n",
    "#### 1.3 - Clean up positional feature to be used to filter data set\n",
    "\n",
    "### 2 - Engineer specfic defensive features from p90 and pAdj scaled features to allow for better comparisons between defenders. \n",
    "\n",
    "#### 2.1 True Tackle Win percent feature generation. \n",
    "\n",
    "#### 2.2 create descriptive defender specific features that will be used in modeling."
   ]
  },
  {
   "cell_type": "code",
   "execution_count": 1,
   "metadata": {
    "colab": {
     "base_uri": "https://localhost:8080/"
    },
    "id": "CpmA6XFtv4Nd",
    "outputId": "ff1ad994-4cbf-4178-eddc-0587873a2c0f"
   },
   "outputs": [],
   "source": [
    "# make necessary imports \n",
    "import pandas as pd\n",
    "import matplotlib.pyplot as plt\n"
   ]
  },
  {
   "cell_type": "code",
   "execution_count": 4,
   "metadata": {
    "colab": {
     "base_uri": "https://localhost:8080/"
    },
    "id": "Pux4IYZy_srX",
    "outputId": "cd2fbffe-4e37-47c9-c049-3b8e5d72962c"
   },
   "outputs": [
    {
     "data": {
      "text/plain": [
       "(705, 103)"
      ]
     },
     "execution_count": 4,
     "metadata": {},
     "output_type": "execute_result"
    }
   ],
   "source": [
    "## load data and remove unneeded columns \n",
    "path = \"../data/all_salary_stats.csv\"\n",
    "df= pd.read_csv(path)\n",
    "df.drop(columns=['Position(s)','Unnamed: 0','Unnamed: 0.1','First Name', 'Last Name', 'name', '_merge','Guaranteed Compensation'],inplace=True)\n",
    "df.shape"
   ]
  },
  {
   "cell_type": "code",
   "execution_count": 5,
   "metadata": {},
   "outputs": [
    {
     "data": {
      "text/html": [
       "<div>\n",
       "<style scoped>\n",
       "    .dataframe tbody tr th:only-of-type {\n",
       "        vertical-align: middle;\n",
       "    }\n",
       "\n",
       "    .dataframe tbody tr th {\n",
       "        vertical-align: top;\n",
       "    }\n",
       "\n",
       "    .dataframe thead th {\n",
       "        text-align: right;\n",
       "    }\n",
       "</style>\n",
       "<table border=\"1\" class=\"dataframe\">\n",
       "  <thead>\n",
       "    <tr style=\"text-align: right;\">\n",
       "      <th></th>\n",
       "      <th>player_name</th>\n",
       "      <th>Nineties</th>\n",
       "      <th>Total_tackles</th>\n",
       "      <th>Blocks</th>\n",
       "      <th>Tackles_Won</th>\n",
       "      <th>Key_pass</th>\n",
       "      <th>Total_Cmp</th>\n",
       "      <th>Total_Att</th>\n",
       "    </tr>\n",
       "  </thead>\n",
       "  <tbody>\n",
       "    <tr>\n",
       "      <th>376</th>\n",
       "      <td>Walker Zimmerman</td>\n",
       "      <td>22.7</td>\n",
       "      <td>27</td>\n",
       "      <td>29</td>\n",
       "      <td>15</td>\n",
       "      <td>5</td>\n",
       "      <td>855</td>\n",
       "      <td>1016</td>\n",
       "    </tr>\n",
       "  </tbody>\n",
       "</table>\n",
       "</div>"
      ],
      "text/plain": [
       "          player_name  Nineties  Total_tackles  Blocks  Tackles_Won  Key_pass  \\\n",
       "376  Walker Zimmerman      22.7             27      29           15         5   \n",
       "\n",
       "     Total_Cmp  Total_Att  \n",
       "376        855       1016  "
      ]
     },
     "execution_count": 5,
     "metadata": {},
     "output_type": "execute_result"
    }
   ],
   "source": [
    "# observe target player inital features \n",
    "df[df['player_name']=='Walker Zimmerman'][['player_name','Nineties','Total_tackles','Blocks','Tackles_Won','Key_pass','Total_Cmp','Total_Att']]\n"
   ]
  },
  {
   "cell_type": "markdown",
   "metadata": {
    "id": "OZ8YwaPPX4NG",
    "tags": []
   },
   "source": [
    "## 1- Scale cumulative season long stats to be able to compare players.\n",
    "### 1.1 - Adjust season stats to per ninety stats for accurate stat comparison."
   ]
  },
  {
   "cell_type": "code",
   "execution_count": 6,
   "metadata": {
    "id": "VrzhdYk4G3ie"
   },
   "outputs": [],
   "source": [
    "## create list of columns to be adjusted to per 90 stats\n",
    "cols =  [\n",
    "    # def stats\n",
    "    'Total_tackles', 'Tackles_Won', 'Tackles_Def_3rd',\n",
    "       'Tackles_Mid_3rd', 'Tackles_Att_3rd', 'Num_Dribblers_tackled',\n",
    "       'Num_Dribbled_past', 'total_pressing', 'Won_ball_5_sec', \n",
    "       # 'Tackle_pct_won',- pct not scaled \n",
    "    'pres_Def_3rd', 'pres_Mid_3rd', 'pres_Att_3rd',\n",
    "       'Blocks', 'Blocked_shots', 'Blocked_SOT', 'Blocked_pass',\n",
    "       'Interceptions', 'Tackles_and_Ints', 'Clearences',\n",
    "    # passing stats\n",
    "'xA','Key_pass','Comp_prog','Total_Cmp','Total_Att','Total_Tot_Dist','Total_Prg_Dist','Short_Cmp','Short_Att','Medium_Cmp','Medium_Att','Long_Cmp','Long_Att',\n",
    "'touches','touches_def_box','touches_def_3rd','touches_mid_3rd','touches_att_3rd','touches_att_box','touch_live',\n",
    "    # attacking stats\n",
    "    'dribble_Succ','dribble_Att','num_dribble_past','dribble_megs','carries','carries_dist','carries_prog_dist','carries_prog','carries_att_3rd','carries_att_box','miss_control','dispossed','recep_targ',\n",
    "'recep_succ','Yellow_cards','Red_cards','Second_yellow','Fouls','Fouls_drawn','Offsides','Crosses','def_interceptions',\n",
    "    # mish stats \n",
    "    'from_mish_tackles_won','PK_won','PK_conceded','OG',\n",
    "'Recoveries','Aerial_Duels_lost','Gls','Sh','SoT','Sh/90','SoT/90','G/Sh','G/SoT','Dist','FK','PK','PKatt', 'xG','npxG','npxG/Sh','G-xG','np:G-xG'\n",
    "]"
   ]
  },
  {
   "cell_type": "code",
   "execution_count": 5,
   "metadata": {},
   "outputs": [
    {
     "data": {
      "text/html": [
       "<div>\n",
       "<style scoped>\n",
       "    .dataframe tbody tr th:only-of-type {\n",
       "        vertical-align: middle;\n",
       "    }\n",
       "\n",
       "    .dataframe tbody tr th {\n",
       "        vertical-align: top;\n",
       "    }\n",
       "\n",
       "    .dataframe thead th {\n",
       "        text-align: right;\n",
       "    }\n",
       "</style>\n",
       "<table border=\"1\" class=\"dataframe\">\n",
       "  <thead>\n",
       "    <tr style=\"text-align: right;\">\n",
       "      <th></th>\n",
       "      <th>player_name</th>\n",
       "      <th>Nineties</th>\n",
       "      <th>Total_tackles</th>\n",
       "      <th>Total_tackles</th>\n",
       "      <th>Tackles_Won</th>\n",
       "      <th>Key_pass</th>\n",
       "      <th>Total_Cmp</th>\n",
       "      <th>Total_Att</th>\n",
       "    </tr>\n",
       "  </thead>\n",
       "  <tbody>\n",
       "    <tr>\n",
       "      <th>376</th>\n",
       "      <td>Walker Zimmerman</td>\n",
       "      <td>22.7</td>\n",
       "      <td>1.189427</td>\n",
       "      <td>1.189427</td>\n",
       "      <td>0.660793</td>\n",
       "      <td>0.220264</td>\n",
       "      <td>37.665198</td>\n",
       "      <td>44.757709</td>\n",
       "    </tr>\n",
       "  </tbody>\n",
       "</table>\n",
       "</div>"
      ],
      "text/plain": [
       "          player_name  Nineties  Total_tackles  Total_tackles  Tackles_Won  \\\n",
       "376  Walker Zimmerman      22.7       1.189427       1.189427     0.660793   \n",
       "\n",
       "     Key_pass  Total_Cmp  Total_Att  \n",
       "376  0.220264  37.665198  44.757709  "
      ]
     },
     "execution_count": 5,
     "metadata": {},
     "output_type": "execute_result"
    }
   ],
   "source": [
    "def per_90(cols,df):\n",
    "    # create list of games played values and map anything less than 1 to one \n",
    "    games=[i if i >1 else 1 for i in df['Nineties'] ]\n",
    "    # use new list to do calc so not dividing by value less than 1 \n",
    "    for col in cols:\n",
    "        df[col] = df[col]/games\n",
    "    return df\n",
    "\n",
    "df =  per_90(cols,df)\n",
    "df[df['player_name']=='Walker Zimmerman'][['player_name','Nineties','Total_tackles','Total_tackles','Tackles_Won','Key_pass','Total_Cmp','Total_Att']]\n"
   ]
  },
  {
   "cell_type": "code",
   "execution_count": 6,
   "metadata": {},
   "outputs": [
    {
     "data": {
      "text/html": [
       "<div>\n",
       "<style scoped>\n",
       "    .dataframe tbody tr th:only-of-type {\n",
       "        vertical-align: middle;\n",
       "    }\n",
       "\n",
       "    .dataframe tbody tr th {\n",
       "        vertical-align: top;\n",
       "    }\n",
       "\n",
       "    .dataframe thead th {\n",
       "        text-align: right;\n",
       "    }\n",
       "</style>\n",
       "<table border=\"1\" class=\"dataframe\">\n",
       "  <thead>\n",
       "    <tr style=\"text-align: right;\">\n",
       "      <th></th>\n",
       "      <th>player_name</th>\n",
       "      <th>Squad_from_op</th>\n",
       "      <th>Long_Att</th>\n",
       "      <th>Long_Cmp</th>\n",
       "      <th>Long_Cmp_pct</th>\n",
       "      <th>Nation</th>\n",
       "      <th>Position</th>\n",
       "      <th>Nineties</th>\n",
       "      <th>xA</th>\n",
       "      <th>Key_pass</th>\n",
       "    </tr>\n",
       "  </thead>\n",
       "  <tbody>\n",
       "    <tr>\n",
       "      <th>605</th>\n",
       "      <td>Jason Pendant</td>\n",
       "      <td>NY Red Bulls</td>\n",
       "      <td>4.0</td>\n",
       "      <td>3.0</td>\n",
       "      <td>75.0</td>\n",
       "      <td>fr FRA</td>\n",
       "      <td>DF</td>\n",
       "      <td>0.1</td>\n",
       "      <td>0.0</td>\n",
       "      <td>0.0</td>\n",
       "    </tr>\n",
       "  </tbody>\n",
       "</table>\n",
       "</div>"
      ],
      "text/plain": [
       "       player_name Squad_from_op  Long_Att  Long_Cmp  Long_Cmp_pct  Nation  \\\n",
       "605  Jason Pendant  NY Red Bulls       4.0       3.0          75.0  fr FRA   \n",
       "\n",
       "    Position  Nineties   xA  Key_pass  \n",
       "605       DF       0.1  0.0       0.0  "
      ]
     },
     "execution_count": 6,
     "metadata": {},
     "output_type": "execute_result"
    }
   ],
   "source": [
    "## check players who played less than 1 game no not have increased features\n",
    "df.loc[(df['Nineties']==0.1) | (df['player_name']=='Jordan Harvey') ][['player_name', 'Squad_from_op','Long_Att','Long_Cmp','Long_Cmp_pct', 'Nation', 'Position', 'Nineties','xA', 'Key_pass']].head(1)"
   ]
  },
  {
   "cell_type": "markdown",
   "metadata": {
    "id": "huFi1B_GXQj4"
   },
   "source": [
    "## 1.2 - Create possesion adjusted metrics ie \" pAdj \" to better represent defenders stat accurance.\n",
    "\n",
    "- using per 1000 opponent touches as scale to create pAdj stat \n",
    "- ex: tackles per 1000 opponent touches instead of just tackles per 90 "
   ]
  },
  {
   "cell_type": "code",
   "execution_count": 7,
   "metadata": {
    "id": "4WhAL7jJJXRw"
   },
   "outputs": [],
   "source": [
    "   # defensive stats to be adjusted by possesion \n",
    "    \n",
    "def_cols=[\n",
    "        'Total_tackles', 'Tackles_Won', 'Tackles_Def_3rd',\n",
    "       'Tackles_Mid_3rd', 'Tackles_Att_3rd', 'Num_Dribblers_tackled',\n",
    "       'Num_Dribbled_past', 'total_pressing', 'Won_ball_5_sec',\n",
    "       #'Tackle_pct_won', - pct not adjusted\n",
    "    'pres_Def_3rd', 'pres_Mid_3rd', 'pres_Att_3rd',\n",
    "       'Blocks', 'Blocked_shots', 'Blocked_SOT', 'Blocked_pass',\n",
    "       'Interceptions', 'Tackles_and_Ints', 'Clearences',\n",
    "    \n",
    "      # defensive stats to be adjusted by possesion \n",
    "    'Yellow_cards','Red_cards','Second_yellow','Fouls','def_interceptions',\n",
    "    'from_mish_tackles_won','PK_conceded','OG','Recoveries','Aerial_Duels_lost']"
   ]
  },
  {
   "cell_type": "code",
   "execution_count": 8,
   "metadata": {
    "id": "y-BheqGLJh9_"
   },
   "outputs": [
    {
     "data": {
      "text/html": [
       "<div>\n",
       "<style scoped>\n",
       "    .dataframe tbody tr th:only-of-type {\n",
       "        vertical-align: middle;\n",
       "    }\n",
       "\n",
       "    .dataframe tbody tr th {\n",
       "        vertical-align: top;\n",
       "    }\n",
       "\n",
       "    .dataframe thead th {\n",
       "        text-align: right;\n",
       "    }\n",
       "</style>\n",
       "<table border=\"1\" class=\"dataframe\">\n",
       "  <thead>\n",
       "    <tr style=\"text-align: right;\">\n",
       "      <th></th>\n",
       "      <th>player_name</th>\n",
       "      <th>pAdj_def_interceptions</th>\n",
       "      <th>pAdj_from_mish_tackles_won</th>\n",
       "      <th>pAdj_Total_tackles</th>\n",
       "      <th>pAdj_Tackles_Won</th>\n",
       "      <th>pAdj_Recoveries</th>\n",
       "      <th>pAdj_Aerial_Duels_lost</th>\n",
       "    </tr>\n",
       "  </thead>\n",
       "  <tbody>\n",
       "    <tr>\n",
       "      <th>376</th>\n",
       "      <td>Walker Zimmerman</td>\n",
       "      <td>3.477266</td>\n",
       "      <td>1.04318</td>\n",
       "      <td>1.877723</td>\n",
       "      <td>1.04318</td>\n",
       "      <td>12.448611</td>\n",
       "      <td>7.789075</td>\n",
       "    </tr>\n",
       "  </tbody>\n",
       "</table>\n",
       "</div>"
      ],
      "text/plain": [
       "          player_name  pAdj_def_interceptions  pAdj_from_mish_tackles_won  \\\n",
       "376  Walker Zimmerman                3.477266                     1.04318   \n",
       "\n",
       "     pAdj_Total_tackles  pAdj_Tackles_Won  pAdj_Recoveries  \\\n",
       "376            1.877723           1.04318        12.448611   \n",
       "\n",
       "     pAdj_Aerial_Duels_lost  \n",
       "376                7.789075  "
      ]
     },
     "execution_count": 8,
     "metadata": {},
     "output_type": "execute_result"
    }
   ],
   "source": [
    "def pAdj(df,cols):\n",
    "  \"\"\" create possesion adjusted defensive stats and remove orignial\"\"\"\n",
    "  for col in cols:\n",
    "    label = 'pAdj_'+col\n",
    "    # each team played 34 games so to get opposing touches per 90 divide by 34\n",
    "    df[label] = (df[col]/(df['Opposing_Touches']/34)) * 1000\n",
    "    df.drop(columns=[col],inplace=True)\n",
    "  \n",
    "  return df\n",
    "\n",
    "df=pAdj(df,def_cols)\n",
    "df['Opposing_Touches'].describe()\n",
    "df[df['player_name']=='Walker Zimmerman'][[ 'player_name','pAdj_def_interceptions','pAdj_from_mish_tackles_won', 'pAdj_Total_tackles', 'pAdj_Tackles_Won','pAdj_Recoveries','pAdj_Aerial_Duels_lost']].head()\n",
    "\n"
   ]
  },
  {
   "cell_type": "code",
   "execution_count": 9,
   "metadata": {},
   "outputs": [
    {
     "name": "stdout",
     "output_type": "stream",
     "text": [
      "8.50255076522957\n"
     ]
    },
    {
     "data": {
      "text/html": [
       "<div>\n",
       "<style scoped>\n",
       "    .dataframe tbody tr th:only-of-type {\n",
       "        vertical-align: middle;\n",
       "    }\n",
       "\n",
       "    .dataframe tbody tr th {\n",
       "        vertical-align: top;\n",
       "    }\n",
       "\n",
       "    .dataframe thead th {\n",
       "        text-align: right;\n",
       "    }\n",
       "</style>\n",
       "<table border=\"1\" class=\"dataframe\">\n",
       "  <thead>\n",
       "    <tr style=\"text-align: right;\">\n",
       "      <th></th>\n",
       "      <th>player_name</th>\n",
       "      <th>pAdj_def_interceptions</th>\n",
       "      <th>pAdj_Tackles_Won</th>\n",
       "      <th>Key_pass</th>\n",
       "      <th>Squad_from_op</th>\n",
       "      <th>Nineties</th>\n",
       "    </tr>\n",
       "  </thead>\n",
       "  <tbody>\n",
       "    <tr>\n",
       "      <th>455</th>\n",
       "      <td>Nathan Cardoso</td>\n",
       "      <td>8.359709</td>\n",
       "      <td>6.174785</td>\n",
       "      <td>0.15625</td>\n",
       "      <td>San Jose</td>\n",
       "      <td>19.2</td>\n",
       "    </tr>\n",
       "    <tr>\n",
       "      <th>613</th>\n",
       "      <td>Alejandro Fuenmayor</td>\n",
       "      <td>8.015465</td>\n",
       "      <td>0.534364</td>\n",
       "      <td>0.00000</td>\n",
       "      <td>Houston Dynamo</td>\n",
       "      <td>3.0</td>\n",
       "    </tr>\n",
       "    <tr>\n",
       "      <th>691</th>\n",
       "      <td>Youba Diarra</td>\n",
       "      <td>8.502551</td>\n",
       "      <td>3.643950</td>\n",
       "      <td>0.00000</td>\n",
       "      <td>NY Red Bulls</td>\n",
       "      <td>1.4</td>\n",
       "    </tr>\n",
       "  </tbody>\n",
       "</table>\n",
       "</div>"
      ],
      "text/plain": [
       "             player_name  pAdj_def_interceptions  pAdj_Tackles_Won  Key_pass  \\\n",
       "455       Nathan Cardoso                8.359709          6.174785   0.15625   \n",
       "613  Alejandro Fuenmayor                8.015465          0.534364   0.00000   \n",
       "691         Youba Diarra                8.502551          3.643950   0.00000   \n",
       "\n",
       "      Squad_from_op  Nineties  \n",
       "455        San Jose      19.2  \n",
       "613  Houston Dynamo       3.0  \n",
       "691    NY Red Bulls       1.4  "
      ]
     },
     "execution_count": 9,
     "metadata": {},
     "output_type": "execute_result"
    }
   ],
   "source": [
    "## observe players with highest defensive interceptions\n",
    "print(max(df['pAdj_def_interceptions']))\n",
    "df.loc[df['pAdj_def_interceptions']>8][['player_name','pAdj_def_interceptions', 'pAdj_Tackles_Won','Key_pass', 'Squad_from_op','Nineties']]"
   ]
  },
  {
   "cell_type": "markdown",
   "metadata": {},
   "source": [
    "### 1.3 - Clean up positional feature to be used to filter data set"
   ]
  },
  {
   "cell_type": "code",
   "execution_count": 10,
   "metadata": {},
   "outputs": [],
   "source": [
    "## deal with positional abiguity in raw data and map to three field positions \n",
    "\n",
    "for i in df['Position'].unique():\n",
    "  if i in ['FWMF','MFFW','MFDF','DFMF']:\n",
    "    df['Position'] = df['Position'].str.replace(i,'MF')\n",
    "\n",
    "  if i in ['FWDF', 'DFFW']:\n",
    "    df['Position'] = df['Position'].str.replace(i,'FW')\n"
   ]
  },
  {
   "cell_type": "code",
   "execution_count": 11,
   "metadata": {},
   "outputs": [
    {
     "name": "stdout",
     "output_type": "stream",
     "text": [
      "<class 'pandas.core.frame.DataFrame'>\n",
      "RangeIndex: 705 entries, 0 to 704\n",
      "Data columns (total 1 columns):\n",
      " #   Column       Non-Null Count  Dtype  \n",
      "---  ------       --------------  -----  \n",
      " 0   Base Salary  521 non-null    float64\n",
      "dtypes: float64(1)\n",
      "memory usage: 5.6 KB\n"
     ]
    },
    {
     "name": "stderr",
     "output_type": "stream",
     "text": [
      "<ipython-input-11-e8151a3300eb>:3: FutureWarning: The default value of regex will change from True to False in a future version. In addition, single character regular expressions will*not* be treated as literal strings when regex=True.\n",
      "  df['Base Salary'] = df['Base Salary'].str.replace('$','')\n"
     ]
    }
   ],
   "source": [
    "## clean base salary to float value\n",
    "\n",
    "df['Base Salary'] = df['Base Salary'].str.replace('$','')\n",
    "df['Base Salary'] = df['Base Salary'].str.replace(',','')\n",
    "df['Base Salary'] = pd.to_numeric(df['Base Salary'])\n",
    "df[['Base Salary']].info()"
   ]
  },
  {
   "cell_type": "markdown",
   "metadata": {},
   "source": [
    "## 2- Engineer specfic defensive features from p90 and pAdj scaled features to allow for better comparisons between defenders. \n",
    "\n",
    "### 2.1 True Tackle Win percent feature generation. \n",
    "\n",
    "### 2.2 create descriptive defender specific features that will be used in modeling."
   ]
  },
  {
   "cell_type": "markdown",
   "metadata": {},
   "source": [
    "## 2.1 Create true tackle win pct feature to beter measure player tackle percentage \n",
    " - Usual tackl win % is measured by - tackl won/ (tackle won +tackle lost)\n",
    " \n",
    " - The Athletic(https://theathletic.com/author/tifo-football/) calculates True tackle win % to better represent players defensive actions. Their equation is (total tackles / total tackles +challanges lost + fouls when attempting a tackle)\n",
    " \n",
    " - With the fb_ref features my true tackle win % will be calculated by  (total tackles / total tackles + lost tackles+ number dribbled past +fouls)"
   ]
  },
  {
   "cell_type": "code",
   "execution_count": 12,
   "metadata": {},
   "outputs": [
    {
     "name": "stdout",
     "output_type": "stream",
     "text": [
      "0\n"
     ]
    },
    {
     "data": {
      "image/png": "[encoded data removed]",
      "text/plain": [
       "<Figure size 432x288 with 2 Axes>"
      ]
     },
     "metadata": {
      "needs_background": "light"
     },
     "output_type": "display_data"
    }
   ],
   "source": [
    "df['lost_tackles'] = df['pAdj_Total_tackles'] - df['pAdj_Tackles_Won']\n",
    "\n",
    "# calculation for true tackle\n",
    "df['True_tackle_pct'] = (df['pAdj_Total_tackles']/(df['pAdj_Total_tackles']+df['lost_tackles']+\n",
    "                                                   df['pAdj_Num_Dribbled_past']+df['pAdj_Fouls']) *100)\n",
    "\n",
    "# deal with edge cases that dont give percent keep original tackle pct\n",
    "df.loc[df['True_tackle_pct'].isnull(),'True_tackle_pct'] = df['Tackle_pct_won']\n",
    "df.loc[df['True_tackle_pct']==0,'True_tackle_pct'] = df['Tackle_pct_won']\n",
    "# check if all edge cases delt with\n",
    "print(df['True_tackle_pct'].isnull().sum())\n",
    "#check distribution of new feature\n",
    "df.loc[df['Position']=='DF'][['Tackle_pct_won','True_tackle_pct']].hist(bins=30)\n",
    "plt.tight_layout()\n",
    "plt.show()"
   ]
  },
  {
   "cell_type": "markdown",
   "metadata": {},
   "source": [
    "### Insight-  True tackle pct for defenders has moved the median and the mode towards the right while also creating a wider curve than the original tackle pct. "
   ]
  },
  {
   "cell_type": "markdown",
   "metadata": {},
   "source": [
    "### 2.2 Create descriptive defender specific features that will be used in modeling."
   ]
  },
  {
   "cell_type": "code",
   "execution_count": 13,
   "metadata": {},
   "outputs": [
    {
     "data": {
      "text/html": [
       "<div>\n",
       "<style scoped>\n",
       "    .dataframe tbody tr th:only-of-type {\n",
       "        vertical-align: middle;\n",
       "    }\n",
       "\n",
       "    .dataframe tbody tr th {\n",
       "        vertical-align: top;\n",
       "    }\n",
       "\n",
       "    .dataframe thead th {\n",
       "        text-align: right;\n",
       "    }\n",
       "</style>\n",
       "<table border=\"1\" class=\"dataframe\">\n",
       "  <thead>\n",
       "    <tr style=\"text-align: right;\">\n",
       "      <th></th>\n",
       "      <th>pAdj_Tackle_int_blocks</th>\n",
       "      <th>avg_shrt+med_pass_pct</th>\n",
       "      <th>pct_long_balls</th>\n",
       "      <th>prog_carry+lng_comp+crosses</th>\n",
       "      <th>attacking_touches</th>\n",
       "    </tr>\n",
       "  </thead>\n",
       "  <tbody>\n",
       "    <tr>\n",
       "      <th>count</th>\n",
       "      <td>227.000000</td>\n",
       "      <td>227.000000</td>\n",
       "      <td>227.000000</td>\n",
       "      <td>227.000000</td>\n",
       "      <td>227.000000</td>\n",
       "    </tr>\n",
       "    <tr>\n",
       "      <th>mean</th>\n",
       "      <td>8.023239</td>\n",
       "      <td>88.849559</td>\n",
       "      <td>20.075834</td>\n",
       "      <td>10.324587</td>\n",
       "      <td>12.870451</td>\n",
       "    </tr>\n",
       "    <tr>\n",
       "      <th>std</th>\n",
       "      <td>2.648393</td>\n",
       "      <td>4.687214</td>\n",
       "      <td>6.946924</td>\n",
       "      <td>3.302164</td>\n",
       "      <td>9.953301</td>\n",
       "    </tr>\n",
       "    <tr>\n",
       "      <th>min</th>\n",
       "      <td>0.000000</td>\n",
       "      <td>66.300000</td>\n",
       "      <td>4.864865</td>\n",
       "      <td>1.000000</td>\n",
       "      <td>0.000000</td>\n",
       "    </tr>\n",
       "    <tr>\n",
       "      <th>25%</th>\n",
       "      <td>6.858791</td>\n",
       "      <td>85.975000</td>\n",
       "      <td>14.534469</td>\n",
       "      <td>8.133214</td>\n",
       "      <td>3.910742</td>\n",
       "    </tr>\n",
       "    <tr>\n",
       "      <th>50%</th>\n",
       "      <td>7.844741</td>\n",
       "      <td>89.200000</td>\n",
       "      <td>19.695757</td>\n",
       "      <td>10.598291</td>\n",
       "      <td>9.190283</td>\n",
       "    </tr>\n",
       "    <tr>\n",
       "      <th>75%</th>\n",
       "      <td>9.558449</td>\n",
       "      <td>92.500000</td>\n",
       "      <td>25.083286</td>\n",
       "      <td>12.593765</td>\n",
       "      <td>21.456015</td>\n",
       "    </tr>\n",
       "    <tr>\n",
       "      <th>max</th>\n",
       "      <td>21.104904</td>\n",
       "      <td>100.000000</td>\n",
       "      <td>43.854749</td>\n",
       "      <td>22.636364</td>\n",
       "      <td>38.461538</td>\n",
       "    </tr>\n",
       "  </tbody>\n",
       "</table>\n",
       "</div>"
      ],
      "text/plain": [
       "       pAdj_Tackle_int_blocks  avg_shrt+med_pass_pct  pct_long_balls  \\\n",
       "count              227.000000             227.000000      227.000000   \n",
       "mean                 8.023239              88.849559       20.075834   \n",
       "std                  2.648393               4.687214        6.946924   \n",
       "min                  0.000000              66.300000        4.864865   \n",
       "25%                  6.858791              85.975000       14.534469   \n",
       "50%                  7.844741              89.200000       19.695757   \n",
       "75%                  9.558449              92.500000       25.083286   \n",
       "max                 21.104904             100.000000       43.854749   \n",
       "\n",
       "       prog_carry+lng_comp+crosses  attacking_touches  \n",
       "count                   227.000000         227.000000  \n",
       "mean                     10.324587          12.870451  \n",
       "std                       3.302164           9.953301  \n",
       "min                       1.000000           0.000000  \n",
       "25%                       8.133214           3.910742  \n",
       "50%                      10.598291           9.190283  \n",
       "75%                      12.593765          21.456015  \n",
       "max                      22.636364          38.461538  "
      ]
     },
     "execution_count": 13,
     "metadata": {},
     "output_type": "execute_result"
    }
   ],
   "source": [
    "## create tackle int blocks from pAdj stats  \n",
    "df['pAdj_Tackle_int_blocks'] = df['pAdj_Tackles_Won']+df['pAdj_def_interceptions']+df['pAdj_Blocks']\n",
    "\n",
    "# consolidate short and medium passing percentage\n",
    "df['avg_shrt+med_pass_pct'] = (df['Short_Cmp_pct']+df['Medium_Cmp_pct'])/2\n",
    "\n",
    "## get ratio of long balls for players to have a feel about who passes at distance the most \n",
    "df['pct_long_balls']=(df['Long_Att']/df['Total_Att']) *100\n",
    "\n",
    "## who effecivly moves the ball up the field on the dribble or through the air \n",
    "df['prog_carry+lng_comp+crosses'] = df['carries_prog']+df['Long_Cmp']+df['Crosses']\n",
    "\n",
    "# put all of the attack minded touch features into one \n",
    "df['attacking_touches']= df['touches_att_3rd']+df['touches_att_box']+ df['num_dribble_past'] +df['carries_att_3rd']+df['carries_att_box']\n",
    "\n",
    "\n",
    "df.loc[(df['Position']=='DF')][['pAdj_Tackle_int_blocks','avg_shrt+med_pass_pct','pct_long_balls','prog_carry+lng_comp+crosses','attacking_touches']].describe()"
   ]
  },
  {
   "cell_type": "code",
   "execution_count": 14,
   "metadata": {},
   "outputs": [
    {
     "data": {
      "image/png": "[encoded data removed]",
      "text/plain": [
       "<Figure size 432x288 with 4 Axes>"
      ]
     },
     "metadata": {
      "needs_background": "light"
     },
     "output_type": "display_data"
    }
   ],
   "source": [
    "df.loc[(df['Position']=='DF')][['avg_shrt+med_pass_pct','pct_long_balls','prog_carry+lng_comp+crosses','attacking_touches']].hist(bins=20)\n",
    "plt.tight_layout()\n",
    "plt.show()"
   ]
  },
  {
   "cell_type": "code",
   "execution_count": 15,
   "metadata": {
    "colab": {
     "base_uri": "https://localhost:8080/"
    },
    "id": "K9jH0I_gKWqF",
    "outputId": "52e35c73-9f8f-486b-88ec-00d75614e1d1"
   },
   "outputs": [],
   "source": [
    "# save df with adjusted features for further steps\n",
    "\n",
    "df.to_csv('../data/final_per_90_and_pAdj.csv', encoding='utf-8', index=False)\n",
    "\n"
   ]
  },
  {
   "cell_type": "code",
   "execution_count": null,
   "metadata": {},
   "outputs": [],
   "source": []
  }
 ],
 "metadata": {
  "colab": {
   "collapsed_sections": [],
   "name": "Player_exploratory_data_analysis.ipynb",
   "provenance": []
  },
  "kernelspec": {
   "display_name": "PythonData",
   "language": "python",
   "name": "pythondata"
  },
  "language_info": {
   "codemirror_mode": {
    "name": "ipython",
    "version": 3
   },
   "file_extension": ".py",
   "mimetype": "text/x-python",
   "name": "python",
   "nbconvert_exporter": "python",
   "pygments_lexer": "ipython3",
   "version": "3.8.8"
  }
 },
 "nbformat": 4,
 "nbformat_minor": 4
}
